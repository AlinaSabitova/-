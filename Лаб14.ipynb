{
  "nbformat": 4,
  "nbformat_minor": 0,
  "metadata": {
    "colab": {
      "provenance": [],
      "authorship_tag": "ABX9TyOnMoaDWZ8Oj5l9mp3pcn3v",
      "include_colab_link": true
    },
    "kernelspec": {
      "name": "python3",
      "display_name": "Python 3"
    },
    "language_info": {
      "name": "python"
    }
  },
  "cells": [
    {
      "cell_type": "markdown",
      "metadata": {
        "id": "view-in-github",
        "colab_type": "text"
      },
      "source": [
        "<a href=\"https://colab.research.google.com/github/AlinaSabitova/Lectures/blob/main/%D0%9B%D0%B0%D0%B114.ipynb\" target=\"_parent\"><img src=\"https://colab.research.google.com/assets/colab-badge.svg\" alt=\"Open In Colab\"/></a>"
      ]
    },
    {
      "cell_type": "code",
      "execution_count": 2,
      "metadata": {
        "id": "XgHvbk-jVHyB"
      },
      "outputs": [],
      "source": [
        "class BlockChain(object):\n",
        "\n",
        "  def _init__(self):\n",
        "    self. chain = []\n",
        "\n",
        "  def new_block(self):\n",
        "    pass\n",
        "    # Генерирует новый блок и добавляет его в цепь\n",
        "\n",
        "  @staticmethod\n",
        "  def hash(block):\n",
        "    # Hashes a Block\n",
        "    pass\n",
        "\n",
        "  def last_block(self) :\n",
        "    # Получает последний блок в цепи\n",
        "    pass"
      ]
    },
    {
      "cell_type": "code",
      "source": [
        "class Blockchain:\n",
        "  def __init__(self):\n",
        "    self.chain = []\n",
        "    self.pending_transactions = []\n",
        "  def new_block(self):\n",
        "    # 『eHepupyeT HoBhi onok w AobasnneT ero B uenb\n",
        "    pass\n",
        "  @staticmethod\n",
        "  def hash(block):\n",
        "  # Хэширует блок\n",
        "    pass\n",
        "  def last_block(self):\n",
        "# Возвращает последний блок в цепочке\n",
        "    pass\n",
        "  def new_transaction(self, sender, recipient, amount):\n",
        "# Добавляет новую транзакцию в список охидающих транзакций\n",
        "    self. pending._transactions.append({\n",
        "      \"recipient\": recipient,\n",
        "      \"sender\": sender,\n",
        "      \"amount\": amount,\n",
        "    })"
      ],
      "metadata": {
        "id": "FAKJPejdWS-z"
      },
      "execution_count": 3,
      "outputs": []
    },
    {
      "cell_type": "code",
      "source": [
        "import json\n",
        "from datetime import datetime\n",
        "from hashlib import sha256\n",
        "\n",
        "class Blockchain:\n",
        "  def __init__(self) :\n",
        "    self. chain = []\n",
        "    self.pending_transactions - []\n",
        "# Создание блока генезиса\n",
        "    print (\"Creating genesis block\")\n",
        "    self. new_block()\n",
        "\n",
        "  def last_block(self):\n",
        "# Возвращает последний блок в цепочке (если есть блоки)\n",
        "    return self.chain[-1] if self.chain else None\n",
        "\n",
        "  def new_block(self, previous_hash=None):\n",
        "    block = {\n",
        "      'index': len(self.chain),\n",
        "      'timestamp': datetime.utcnow().isoformat(),\n",
        "      'transactions': self.pending_transactions,\n",
        "      'previous_hash': previous_hash,\n",
        "    }\n",
        "    # Возвращает хэш этого нового блока и добавляет его в блок\n",
        "    block_hash = self. hash(block)\n",
        "    block[\"hash\"] = block_hash\n",
        "    # Сбрасывает список незавершенных транзакций\n",
        "    self.pending_transactions = []\n",
        "    self.pending_transactions = []\n",
        "    # Добавляет блок в цепочку\n",
        "    self.chain.append(block)\n",
        "    print (f\"Created block {block['index']}\")\n",
        "    return block\n",
        "\n",
        "  @staticmethod\n",
        "  def hash(block):\n",
        "    # Гарантирует, что словарь отсортирован, иначе у нас будут несогласованные хэши\n",
        "    block_string = json.dumps(block, sort_keys=True). encode()\n",
        "    return sha256(block_string).hexdigest()"
      ],
      "metadata": {
        "id": "Pt3sQPlEXNlW"
      },
      "execution_count": 4,
      "outputs": []
    },
    {
      "cell_type": "code",
      "source": [
        "import json\n",
        "\n",
        "from datetime import datetime\n",
        "from hashlib import sha256\n",
        "class Blockchain(object):\n",
        "  def __init__(self) :\n",
        "    self.chain = []\n",
        "    self.pending_transactions = []\n",
        "# Create the genesis block\n",
        "    print(\"C reating genesis block\")\n",
        "    self.new_block ()\n",
        "  def new_block(self, previous_hash=None):\n",
        "    block = {\n",
        "      'index' : len(self.chain ),\n",
        "      'timestamp' : datetime.utcnow().isoformat(),\n",
        "      'transactions' : self.pending_transactions,\n",
        "      'previous_hash' : previous_hash,\n",
        "    }\n",
        "# Возвращает хэш этого нового блока и добавьте его в блок\n",
        "    block_hash = self.hash(block )\n",
        "    block[\"hash\"] = block_hash\n",
        "# Сброс списка незавершенных транзакций\n",
        "    self.pending_transactions = []\n",
        "# Добавление блока в цепочку\n",
        "    self.chain.append(block)\n",
        "    print(f\"C reated block {block['index'] }\" )\n",
        "    return block\n",
        "  @staticmethod\n",
        "  def hash(block):\n",
        "# Мы гарантируем, что словарь отсортирован, иначе у нас будут несогласованные хэши\n",
        "    block_string = json.dumps(block, sort_keys=True).encode ()\n",
        "    return sha256(block_string). hexdigest()\n",
        "  def last_block(self):\n",
        "# Возвращает последний блок в цепочке (если есть блоки)\n",
        "    return self.chain[-1] if self.chain else None"
      ],
      "metadata": {
        "id": "n9BxwYFGZEQp"
      },
      "execution_count": 6,
      "outputs": []
    }
  ]
}