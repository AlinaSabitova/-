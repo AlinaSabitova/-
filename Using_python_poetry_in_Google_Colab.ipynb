{
  "nbformat": 4,
  "nbformat_minor": 0,
  "metadata": {
    "colab": {
      "provenance": [],
      "collapsed_sections": [
        "E0fVeGsLm2UE"
      ],
      "toc_visible": true,
      "include_colab_link": true
    },
    "kernelspec": {
      "name": "python3",
      "display_name": "Python 3"
    },
    "language_info": {
      "name": "python"
    }
  },
  "cells": [
    {
      "cell_type": "markdown",
      "metadata": {
        "id": "view-in-github",
        "colab_type": "text"
      },
      "source": [
        "<a href=\"https://colab.research.google.com/github/AlinaSabitova/Lectures/blob/main/Using_python_poetry_in_Google_Colab.ipynb\" target=\"_parent\"><img src=\"https://colab.research.google.com/assets/colab-badge.svg\" alt=\"Open In Colab\"/></a>"
      ]
    },
    {
      "cell_type": "markdown",
      "source": [
        "# Using `poetry` in Colab\n"
      ],
      "metadata": {
        "id": "bQOhcC-dmuFv"
      }
    },
    {
      "cell_type": "code",
      "execution_count": 1,
      "metadata": {
        "colab": {
          "base_uri": "https://localhost:8080/"
        },
        "id": "vHNnaVgjLTi2",
        "outputId": "23271be9-6867-42da-cd1c-b5fc9572c0d0"
      },
      "outputs": [
        {
          "output_type": "stream",
          "name": "stdout",
          "text": [
            "Mounted at /content/gdrive\n"
          ]
        }
      ],
      "source": [
        "from google.colab import drive\n",
        "drive.mount(\"/content/gdrive\")"
      ]
    },
    {
      "cell_type": "markdown",
      "source": [
        "## 1. Creating your own poetry project\n",
        "---\n",
        "\n"
      ],
      "metadata": {
        "id": "qJcjPHZGFAh4"
      }
    },
    {
      "cell_type": "markdown",
      "source": [
        "### 1.1 Create the test directory on Drive"
      ],
      "metadata": {
        "id": "E0fVeGsLm2UE"
      }
    },
    {
      "cell_type": "code",
      "source": [
        "# Move in your Drive\n",
        "%cd /content/gdrive/MyDrive/"
      ],
      "metadata": {
        "id": "gpS82OFKLzt4",
        "colab": {
          "base_uri": "https://localhost:8080/"
        },
        "outputId": "6bcbdd30-7882-41b5-d027-61d608af0701"
      },
      "execution_count": 2,
      "outputs": [
        {
          "output_type": "stream",
          "name": "stdout",
          "text": [
            "/content/gdrive/MyDrive\n"
          ]
        }
      ]
    },
    {
      "cell_type": "code",
      "source": [
        "# Create and move in the new project directory\n",
        "!rm -rf test-poetry\n",
        "!mkdir test-poetry\n",
        "%cd test-poetry"
      ],
      "metadata": {
        "colab": {
          "base_uri": "https://localhost:8080/"
        },
        "id": "ac_gJaM0lX1H",
        "outputId": "3e755713-7bdb-4073-e57e-02a9fbf98036"
      },
      "execution_count": 3,
      "outputs": [
        {
          "output_type": "stream",
          "name": "stdout",
          "text": [
            "/content/gdrive/MyDrive/test-poetry\n"
          ]
        }
      ]
    },
    {
      "cell_type": "markdown",
      "source": [
        "### 1.2 Install `poetry`"
      ],
      "metadata": {
        "id": "Vuh83_ltGnN4"
      }
    },
    {
      "cell_type": "code",
      "source": [
        "# Install poetry from pip\n",
        "!pip install poetry"
      ],
      "metadata": {
        "id": "mxxpyUXEGmRe",
        "outputId": "010ab2e9-b20b-47fc-a114-db2768bd9850",
        "colab": {
          "base_uri": "https://localhost:8080/"
        }
      },
      "execution_count": 4,
      "outputs": [
        {
          "output_type": "stream",
          "name": "stdout",
          "text": [
            "Collecting poetry\n",
            "  Downloading poetry-1.8.3-py3-none-any.whl (249 kB)\n",
            "\u001b[2K     \u001b[90m━━━━━━━━━━━━━━━━━━━━━━━━━━━━━━━━━━━━━━━━\u001b[0m \u001b[32m249.9/249.9 kB\u001b[0m \u001b[31m5.3 MB/s\u001b[0m eta \u001b[36m0:00:00\u001b[0m\n",
            "\u001b[?25hRequirement already satisfied: build<2.0.0,>=1.0.3 in /usr/local/lib/python3.10/dist-packages (from poetry) (1.2.1)\n",
            "Requirement already satisfied: cachecontrol[filecache]<0.15.0,>=0.14.0 in /usr/local/lib/python3.10/dist-packages (from poetry) (0.14.0)\n",
            "Collecting cleo<3.0.0,>=2.1.0 (from poetry)\n",
            "  Downloading cleo-2.1.0-py3-none-any.whl (78 kB)\n",
            "\u001b[2K     \u001b[90m━━━━━━━━━━━━━━━━━━━━━━━━━━━━━━━━━━━━━━━━\u001b[0m \u001b[32m78.7/78.7 kB\u001b[0m \u001b[31m5.4 MB/s\u001b[0m eta \u001b[36m0:00:00\u001b[0m\n",
            "\u001b[?25hCollecting crashtest<0.5.0,>=0.4.1 (from poetry)\n",
            "  Downloading crashtest-0.4.1-py3-none-any.whl (7.6 kB)\n",
            "Collecting dulwich<0.22.0,>=0.21.2 (from poetry)\n",
            "  Downloading dulwich-0.21.7-cp310-cp310-manylinux_2_17_x86_64.manylinux2014_x86_64.whl (514 kB)\n",
            "\u001b[2K     \u001b[90m━━━━━━━━━━━━━━━━━━━━━━━━━━━━━━━━━━━━━━━━\u001b[0m \u001b[32m514.7/514.7 kB\u001b[0m \u001b[31m8.9 MB/s\u001b[0m eta \u001b[36m0:00:00\u001b[0m\n",
            "\u001b[?25hRequirement already satisfied: fastjsonschema<3.0.0,>=2.18.0 in /usr/local/lib/python3.10/dist-packages (from poetry) (2.19.1)\n",
            "Collecting installer<0.8.0,>=0.7.0 (from poetry)\n",
            "  Downloading installer-0.7.0-py3-none-any.whl (453 kB)\n",
            "\u001b[2K     \u001b[90m━━━━━━━━━━━━━━━━━━━━━━━━━━━━━━━━━━━━━━━━\u001b[0m \u001b[32m453.8/453.8 kB\u001b[0m \u001b[31m10.3 MB/s\u001b[0m eta \u001b[36m0:00:00\u001b[0m\n",
            "\u001b[?25hCollecting keyring<25.0.0,>=24.0.0 (from poetry)\n",
            "  Downloading keyring-24.3.1-py3-none-any.whl (38 kB)\n",
            "Requirement already satisfied: packaging>=23.1 in /usr/local/lib/python3.10/dist-packages (from poetry) (24.1)\n",
            "Requirement already satisfied: pexpect<5.0.0,>=4.7.0 in /usr/local/lib/python3.10/dist-packages (from poetry) (4.9.0)\n",
            "Collecting pkginfo<2.0,>=1.10 (from poetry)\n",
            "  Downloading pkginfo-1.11.1-py3-none-any.whl (31 kB)\n",
            "Requirement already satisfied: platformdirs<5,>=3.0.0 in /usr/local/lib/python3.10/dist-packages (from poetry) (4.2.2)\n",
            "Collecting poetry-core==1.9.0 (from poetry)\n",
            "  Downloading poetry_core-1.9.0-py3-none-any.whl (309 kB)\n",
            "\u001b[2K     \u001b[90m━━━━━━━━━━━━━━━━━━━━━━━━━━━━━━━━━━━━━━━━\u001b[0m \u001b[32m309.5/309.5 kB\u001b[0m \u001b[31m13.6 MB/s\u001b[0m eta \u001b[36m0:00:00\u001b[0m\n",
            "\u001b[?25hCollecting poetry-plugin-export<2.0.0,>=1.6.0 (from poetry)\n",
            "  Downloading poetry_plugin_export-1.8.0-py3-none-any.whl (10 kB)\n",
            "Requirement already satisfied: pyproject-hooks<2.0.0,>=1.0.0 in /usr/local/lib/python3.10/dist-packages (from poetry) (1.1.0)\n",
            "Requirement already satisfied: requests<3.0,>=2.26 in /usr/local/lib/python3.10/dist-packages (from poetry) (2.31.0)\n",
            "Collecting requests-toolbelt<2.0.0,>=1.0.0 (from poetry)\n",
            "  Downloading requests_toolbelt-1.0.0-py2.py3-none-any.whl (54 kB)\n",
            "\u001b[2K     \u001b[90m━━━━━━━━━━━━━━━━━━━━━━━━━━━━━━━━━━━━━━━━\u001b[0m \u001b[32m54.5/54.5 kB\u001b[0m \u001b[31m6.5 MB/s\u001b[0m eta \u001b[36m0:00:00\u001b[0m\n",
            "\u001b[?25hRequirement already satisfied: shellingham<2.0,>=1.5 in /usr/local/lib/python3.10/dist-packages (from poetry) (1.5.4)\n",
            "Requirement already satisfied: tomli<3.0.0,>=2.0.1 in /usr/local/lib/python3.10/dist-packages (from poetry) (2.0.1)\n",
            "Collecting tomlkit<1.0.0,>=0.11.4 (from poetry)\n",
            "  Downloading tomlkit-0.12.5-py3-none-any.whl (37 kB)\n",
            "Collecting trove-classifiers>=2022.5.19 (from poetry)\n",
            "  Downloading trove_classifiers-2024.5.22-py3-none-any.whl (13 kB)\n",
            "Collecting virtualenv<21.0.0,>=20.23.0 (from poetry)\n",
            "  Downloading virtualenv-20.26.2-py3-none-any.whl (3.9 MB)\n",
            "\u001b[2K     \u001b[90m━━━━━━━━━━━━━━━━━━━━━━━━━━━━━━━━━━━━━━━━\u001b[0m \u001b[32m3.9/3.9 MB\u001b[0m \u001b[31m22.5 MB/s\u001b[0m eta \u001b[36m0:00:00\u001b[0m\n",
            "\u001b[?25hRequirement already satisfied: msgpack<2.0.0,>=0.5.2 in /usr/local/lib/python3.10/dist-packages (from cachecontrol[filecache]<0.15.0,>=0.14.0->poetry) (1.0.8)\n",
            "Requirement already satisfied: filelock>=3.8.0 in /usr/local/lib/python3.10/dist-packages (from cachecontrol[filecache]<0.15.0,>=0.14.0->poetry) (3.14.0)\n",
            "Collecting rapidfuzz<4.0.0,>=3.0.0 (from cleo<3.0.0,>=2.1.0->poetry)\n",
            "  Downloading rapidfuzz-3.9.3-cp310-cp310-manylinux_2_17_x86_64.manylinux2014_x86_64.whl (3.4 MB)\n",
            "\u001b[2K     \u001b[90m━━━━━━━━━━━━━━━━━━━━━━━━━━━━━━━━━━━━━━━━\u001b[0m \u001b[32m3.4/3.4 MB\u001b[0m \u001b[31m36.1 MB/s\u001b[0m eta \u001b[36m0:00:00\u001b[0m\n",
            "\u001b[?25hRequirement already satisfied: urllib3>=1.25 in /usr/local/lib/python3.10/dist-packages (from dulwich<0.22.0,>=0.21.2->poetry) (2.0.7)\n",
            "Collecting jaraco.classes (from keyring<25.0.0,>=24.0.0->poetry)\n",
            "  Downloading jaraco.classes-3.4.0-py3-none-any.whl (6.8 kB)\n",
            "Requirement already satisfied: importlib-metadata>=4.11.4 in /usr/local/lib/python3.10/dist-packages (from keyring<25.0.0,>=24.0.0->poetry) (7.1.0)\n",
            "Requirement already satisfied: SecretStorage>=3.2 in /usr/lib/python3/dist-packages (from keyring<25.0.0,>=24.0.0->poetry) (3.3.1)\n",
            "Requirement already satisfied: jeepney>=0.4.2 in /usr/lib/python3/dist-packages (from keyring<25.0.0,>=24.0.0->poetry) (0.7.1)\n",
            "Requirement already satisfied: ptyprocess>=0.5 in /usr/local/lib/python3.10/dist-packages (from pexpect<5.0.0,>=4.7.0->poetry) (0.7.0)\n",
            "Requirement already satisfied: charset-normalizer<4,>=2 in /usr/local/lib/python3.10/dist-packages (from requests<3.0,>=2.26->poetry) (3.3.2)\n",
            "Requirement already satisfied: idna<4,>=2.5 in /usr/local/lib/python3.10/dist-packages (from requests<3.0,>=2.26->poetry) (3.7)\n",
            "Requirement already satisfied: certifi>=2017.4.17 in /usr/local/lib/python3.10/dist-packages (from requests<3.0,>=2.26->poetry) (2024.6.2)\n",
            "Collecting distlib<1,>=0.3.7 (from virtualenv<21.0.0,>=20.23.0->poetry)\n",
            "  Downloading distlib-0.3.8-py2.py3-none-any.whl (468 kB)\n",
            "\u001b[2K     \u001b[90m━━━━━━━━━━━━━━━━━━━━━━━━━━━━━━━━━━━━━━━━\u001b[0m \u001b[32m468.9/468.9 kB\u001b[0m \u001b[31m33.8 MB/s\u001b[0m eta \u001b[36m0:00:00\u001b[0m\n",
            "\u001b[?25hRequirement already satisfied: zipp>=0.5 in /usr/local/lib/python3.10/dist-packages (from importlib-metadata>=4.11.4->keyring<25.0.0,>=24.0.0->poetry) (3.19.2)\n",
            "Requirement already satisfied: more-itertools in /usr/local/lib/python3.10/dist-packages (from jaraco.classes->keyring<25.0.0,>=24.0.0->poetry) (10.1.0)\n",
            "Installing collected packages: trove-classifiers, distlib, virtualenv, tomlkit, rapidfuzz, poetry-core, pkginfo, jaraco.classes, installer, dulwich, crashtest, requests-toolbelt, keyring, cleo, poetry-plugin-export, poetry\n",
            "  Attempting uninstall: keyring\n",
            "    Found existing installation: keyring 23.5.0\n",
            "    Uninstalling keyring-23.5.0:\n",
            "      Successfully uninstalled keyring-23.5.0\n",
            "Successfully installed cleo-2.1.0 crashtest-0.4.1 distlib-0.3.8 dulwich-0.21.7 installer-0.7.0 jaraco.classes-3.4.0 keyring-24.3.1 pkginfo-1.11.1 poetry-1.8.3 poetry-core-1.9.0 poetry-plugin-export-1.8.0 rapidfuzz-3.9.3 requests-toolbelt-1.0.0 tomlkit-0.12.5 trove-classifiers-2024.5.22 virtualenv-20.26.2\n"
          ]
        }
      ]
    },
    {
      "cell_type": "markdown",
      "source": [
        "If you want poetry not to create the virtual environment in the project folder, then run this command `!poetry config virtualenvs.in-project false`, otherwise, run this command `!poetry config virtualenvs.in-project true`.\n",
        "\n",
        "In this tutorial, we will install the packages permanently in Colab, and for convenience, we will create the virtual environment in the project folder.\n",
        "\n"
      ],
      "metadata": {
        "id": "9zx6RYc6XgSR"
      }
    },
    {
      "cell_type": "code",
      "source": [
        "# Configure poetry to create virtual environments in the project folder\n",
        "!poetry config virtualenvs.in-project true"
      ],
      "metadata": {
        "id": "3sNSIT0eKHIY"
      },
      "execution_count": 5,
      "outputs": []
    },
    {
      "cell_type": "markdown",
      "source": [
        "Since it is a new project, we need to initialize it with `poetry`. Run `poetry init` and do not specify any dependencies. We will do it later."
      ],
      "metadata": {
        "id": "5qYT3jyCC90M"
      }
    },
    {
      "cell_type": "code",
      "source": [
        "# Create the pyproject.toml file\n",
        "!poetry init"
      ],
      "metadata": {
        "id": "rDHrabJ3M-Gk",
        "colab": {
          "base_uri": "https://localhost:8080/"
        },
        "outputId": "b3f96170-d3bb-41bf-9e55-667924f9c943"
      },
      "execution_count": 8,
      "outputs": [
        {
          "output_type": "stream",
          "name": "stdout",
          "text": [
            "\n",
            "This command will guide you through creating your \u001b[34mpyproject.toml\u001b[39m config.\n",
            "\n",
            "\u001b[36mPackage name [\u001b[39m\u001b[32mtest-poetry\u001b[39m\u001b[36m]: \u001b[39m my_project\n",
            "\u001b[36mVersion [\u001b[39m\u001b[32m0.1.0\u001b[39m\u001b[36m]: \u001b[39m \n",
            "\u001b[36mDescription []: \u001b[39m \n",
            "\u001b[36mAuthor [\u001b[39m\u001b[32mNone\u001b[39m\u001b[36m, n to skip]: \u001b[39m Alina\n",
            "\u001b[36mLicense []: \u001b[39m \n",
            "\u001b[36mCompatible Python versions [\u001b[39m\u001b[32m^3.10\u001b[39m\u001b[36m]: \u001b[39m \n",
            "\n",
            "\u001b[36mWould you like to define your main dependencies interactively? (yes/no)\u001b[39m [\u001b[32myes\u001b[39m] no\n",
            "\u001b[36mWould you like to define your development dependencies interactively? (yes/no)\u001b[39m [\u001b[32myes\u001b[39m] no\n",
            "\u001b[34mGenerated file\u001b[39m\n",
            "\n",
            "[tool.poetry]\n",
            "name = \"my-project\"\n",
            "version = \"0.1.0\"\n",
            "description = \"\"\n",
            "authors = [\"Alina\"]\n",
            "readme = \"README.md\"\n",
            "\n",
            "[tool.poetry.dependencies]\n",
            "python = \"^3.10\"\n",
            "\n",
            "\n",
            "[build-system]\n",
            "requires = [\"poetry-core\"]\n",
            "build-backend = \"poetry.core.masonry.api\"\n",
            "\n",
            "\n",
            "\u001b[36mDo you confirm generation? (yes/no)\u001b[39m [\u001b[32myes\u001b[39m] yes\n"
          ]
        }
      ]
    },
    {
      "cell_type": "markdown",
      "source": [
        "*pyproject.toml* is created."
      ],
      "metadata": {
        "id": "TJIki3oDDpNU"
      }
    },
    {
      "cell_type": "markdown",
      "source": [
        "### 1.3 Add a new package <a name=\"add-new-package\"></a>\n",
        "\n",
        "Suppose you want to add a new package, for example `torch`.\n",
        "\n",
        "According to poetry's documentation, to install a new package, we need to run `poetry add <package>`. Running this command with modify *pyproject.toml* automatically with the new dependency. However, this only works on your local computer.\n",
        "\n",
        "On Colab, we need add the new dependency by hand in *pyproject.toml*. Still, to know which version of the dependency to install, we run `poetry add <package>`:"
      ],
      "metadata": {
        "id": "ADDCaj1FCnRe"
      }
    },
    {
      "cell_type": "code",
      "source": [
        "!poetry add torch"
      ],
      "metadata": {
        "colab": {
          "base_uri": "https://localhost:8080/"
        },
        "id": "Cf_eYBWEhwP5",
        "outputId": "ec6aef3d-59cd-452a-a75d-d809fe8a5c6a"
      },
      "execution_count": 9,
      "outputs": [
        {
          "output_type": "stream",
          "name": "stdout",
          "text": [
            "Creating virtualenv \u001b[36mmy-project\u001b[39m in /content/gdrive/MyDrive/test-poetry/.venv\n",
            "Using version \u001b[39;1m^2.3.1\u001b[39;22m for \u001b[36mtorch\u001b[39m\n",
            "\n",
            "\u001b[34mUpdating dependencies\u001b[39m\n",
            "\u001b[2K\u001b[34mResolving dependencies...\u001b[39m \u001b[39;2m(1.4s)\u001b[39;22m\n",
            "\n",
            "\u001b[39;1mPackage operations\u001b[39;22m: \u001b[34m22\u001b[39m installs, \u001b[34m0\u001b[39m updates, \u001b[34m0\u001b[39m removals\n",
            "\n",
            "  \u001b[34;1m-\u001b[39;22m \u001b[39mInstalling \u001b[39m\u001b[36mnvidia-nvjitlink-cu12\u001b[39m\u001b[39m (\u001b[39m\u001b[39;1m12.5.40\u001b[39;22m\u001b[39m)\u001b[39m: \u001b[34mPending...\u001b[39m\n",
            "\u001b[1A\u001b[0J  \u001b[34;1m-\u001b[39;22m \u001b[39mInstalling \u001b[39m\u001b[36mnvidia-nvjitlink-cu12\u001b[39m\u001b[39m (\u001b[39m\u001b[39;1m12.5.40\u001b[39;22m\u001b[39m)\u001b[39m: \u001b[34mDownloading...\u001b[39m \u001b[39;1m0%\u001b[39;22m\n",
            "\u001b[1A\u001b[0J  \u001b[34;1m-\u001b[39;22m \u001b[39mInstalling \u001b[39m\u001b[36mnvidia-nvjitlink-cu12\u001b[39m\u001b[39m (\u001b[39m\u001b[39;1m12.5.40\u001b[39;22m\u001b[39m)\u001b[39m: \u001b[34mDownloading...\u001b[39m \u001b[39;1m10%\u001b[39;22m\n",
            "\u001b[1A\u001b[0J  \u001b[34;1m-\u001b[39;22m \u001b[39mInstalling \u001b[39m\u001b[36mnvidia-nvjitlink-cu12\u001b[39m\u001b[39m (\u001b[39m\u001b[39;1m12.5.40\u001b[39;22m\u001b[39m)\u001b[39m: \u001b[34mDownloading...\u001b[39m \u001b[39;1m30%\u001b[39;22m\n",
            "\u001b[1A\u001b[0J  \u001b[34;1m-\u001b[39;22m \u001b[39mInstalling \u001b[39m\u001b[36mnvidia-nvjitlink-cu12\u001b[39m\u001b[39m (\u001b[39m\u001b[39;1m12.5.40\u001b[39;22m\u001b[39m)\u001b[39m: \u001b[34mDownloading...\u001b[39m \u001b[39;1m60%\u001b[39;22m\n",
            "\u001b[1A\u001b[0J  \u001b[34;1m-\u001b[39;22m \u001b[39mInstalling \u001b[39m\u001b[36mnvidia-nvjitlink-cu12\u001b[39m\u001b[39m (\u001b[39m\u001b[39;1m12.5.40\u001b[39;22m\u001b[39m)\u001b[39m: \u001b[34mDownloading...\u001b[39m \u001b[39;1m100%\u001b[39;22m\n",
            "\u001b[1A\u001b[0J  \u001b[34;1m-\u001b[39;22m \u001b[39mInstalling \u001b[39m\u001b[36mnvidia-nvjitlink-cu12\u001b[39m\u001b[39m (\u001b[39m\u001b[39;1m12.5.40\u001b[39;22m\u001b[39m)\u001b[39m: \u001b[34mInstalling...\u001b[39m\n",
            "\u001b[1A\u001b[0J  \u001b[32;1m-\u001b[39;22m \u001b[39mInstalling \u001b[39m\u001b[36mnvidia-nvjitlink-cu12\u001b[39m\u001b[39m (\u001b[39m\u001b[32m12.5.40\u001b[39m\u001b[39m)\u001b[39m\n",
            "  \u001b[34;1m-\u001b[39;22m \u001b[39mInstalling \u001b[39m\u001b[36mfilelock\u001b[39m\u001b[39m (\u001b[39m\u001b[39;1m3.15.1\u001b[39;22m\u001b[39m)\u001b[39m: \u001b[34mPending...\u001b[39m\n",
            "  \u001b[34;1m-\u001b[39;22m \u001b[39mInstalling \u001b[39m\u001b[36mmarkupsafe\u001b[39m\u001b[39m (\u001b[39m\u001b[39;1m2.1.5\u001b[39;22m\u001b[39m)\u001b[39m: \u001b[34mPending...\u001b[39m\n",
            "  \u001b[34;1m-\u001b[39;22m \u001b[39mInstalling \u001b[39m\u001b[36mmpmath\u001b[39m\u001b[39m (\u001b[39m\u001b[39;1m1.3.0\u001b[39;22m\u001b[39m)\u001b[39m: \u001b[34mPending...\u001b[39m\n",
            "\u001b[3A\u001b[0J  \u001b[34;1m-\u001b[39;22m \u001b[39mInstalling \u001b[39m\u001b[36mmarkupsafe\u001b[39m\u001b[39m (\u001b[39m\u001b[39;1m2.1.5\u001b[39;22m\u001b[39m)\u001b[39m: \u001b[34mPending...\u001b[39m\n",
            "  \u001b[34;1m-\u001b[39;22m \u001b[39mInstalling \u001b[39m\u001b[36mmpmath\u001b[39m\u001b[39m (\u001b[39m\u001b[39;1m1.3.0\u001b[39;22m\u001b[39m)\u001b[39m: \u001b[34mPending...\u001b[39m\n",
            "\u001b[2A\u001b[0J  \u001b[34;1m-\u001b[39;22m \u001b[39mInstalling \u001b[39m\u001b[36mfilelock\u001b[39m\u001b[39m (\u001b[39m\u001b[39;1m3.15.1\u001b[39;22m\u001b[39m)\u001b[39m: \u001b[34mDownloading...\u001b[39m \u001b[39;1m0%\u001b[39;22m\n",
            "  \u001b[34;1m-\u001b[39;22m \u001b[39mInstalling \u001b[39m\u001b[36mmarkupsafe\u001b[39m\u001b[39m (\u001b[39m\u001b[39;1m2.1.5\u001b[39;22m\u001b[39m)\u001b[39m: \u001b[34mPending...\u001b[39m\n",
            "  \u001b[34;1m-\u001b[39;22m \u001b[39mInstalling \u001b[39m\u001b[36mmpmath\u001b[39m\u001b[39m (\u001b[39m\u001b[39;1m1.3.0\u001b[39;22m\u001b[39m)\u001b[39m: \u001b[34mPending...\u001b[39m\n",
            "  \u001b[34;1m-\u001b[39;22m \u001b[39mInstalling \u001b[39m\u001b[36mnvidia-cublas-cu12\u001b[39m\u001b[39m (\u001b[39m\u001b[39;1m12.1.3.1\u001b[39;22m\u001b[39m)\u001b[39m: \u001b[34mPending...\u001b[39m\n",
            "  \u001b[34;1m-\u001b[39;22m \u001b[39mInstalling \u001b[39m\u001b[36mnvidia-cusparse-cu12\u001b[39m\u001b[39m (\u001b[39m\u001b[39;1m12.1.0.106\u001b[39;22m\u001b[39m)\u001b[39m: \u001b[34mPending...\u001b[39m\n",
            "\u001b[5A\u001b[0J  \u001b[34;1m-\u001b[39;22m \u001b[39mInstalling \u001b[39m\u001b[36mmarkupsafe\u001b[39m\u001b[39m (\u001b[39m\u001b[39;1m2.1.5\u001b[39;22m\u001b[39m)\u001b[39m: \u001b[34mPending...\u001b[39m\n",
            "  \u001b[34;1m-\u001b[39;22m \u001b[39mInstalling \u001b[39m\u001b[36mmpmath\u001b[39m\u001b[39m (\u001b[39m\u001b[39;1m1.3.0\u001b[39;22m\u001b[39m)\u001b[39m: \u001b[34mPending...\u001b[39m\n",
            "  \u001b[34;1m-\u001b[39;22m \u001b[39mInstalling \u001b[39m\u001b[36mnvidia-cublas-cu12\u001b[39m\u001b[39m (\u001b[39m\u001b[39;1m12.1.3.1\u001b[39;22m\u001b[39m)\u001b[39m: \u001b[34mPending...\u001b[39m\n",
            "  \u001b[34;1m-\u001b[39;22m \u001b[39mInstalling \u001b[39m\u001b[36mnvidia-cusparse-cu12\u001b[39m\u001b[39m (\u001b[39m\u001b[39;1m12.1.0.106\u001b[39;22m\u001b[39m)\u001b[39m: \u001b[34mPending...\u001b[39m\n",
            "\u001b[4A\u001b[0J  \u001b[34;1m-\u001b[39;22m \u001b[39mInstalling \u001b[39m\u001b[36mfilelock\u001b[39m\u001b[39m (\u001b[39m\u001b[39;1m3.15.1\u001b[39;22m\u001b[39m)\u001b[39m: \u001b[34mDownloading...\u001b[39m \u001b[39;1m100%\u001b[39;22m\n",
            "  \u001b[34;1m-\u001b[39;22m \u001b[39mInstalling \u001b[39m\u001b[36mmarkupsafe\u001b[39m\u001b[39m (\u001b[39m\u001b[39;1m2.1.5\u001b[39;22m\u001b[39m)\u001b[39m: \u001b[34mPending...\u001b[39m\n",
            "  \u001b[34;1m-\u001b[39;22m \u001b[39mInstalling \u001b[39m\u001b[36mmpmath\u001b[39m\u001b[39m (\u001b[39m\u001b[39;1m1.3.0\u001b[39;22m\u001b[39m)\u001b[39m: \u001b[34mPending...\u001b[39m\n",
            "  \u001b[34;1m-\u001b[39;22m \u001b[39mInstalling \u001b[39m\u001b[36mnvidia-cublas-cu12\u001b[39m\u001b[39m (\u001b[39m\u001b[39;1m12.1.3.1\u001b[39;22m\u001b[39m)\u001b[39m: \u001b[34mPending...\u001b[39m\n",
            "  \u001b[34;1m-\u001b[39;22m \u001b[39mInstalling \u001b[39m\u001b[36mnvidia-cusparse-cu12\u001b[39m\u001b[39m (\u001b[39m\u001b[39;1m12.1.0.106\u001b[39;22m\u001b[39m)\u001b[39m: \u001b[34mPending...\u001b[39m\n",
            "\u001b[5A\u001b[0J  \u001b[34;1m-\u001b[39;22m \u001b[39mInstalling \u001b[39m\u001b[36mmarkupsafe\u001b[39m\u001b[39m (\u001b[39m\u001b[39;1m2.1.5\u001b[39;22m\u001b[39m)\u001b[39m: \u001b[34mPending...\u001b[39m\n",
            "  \u001b[34;1m-\u001b[39;22m \u001b[39mInstalling \u001b[39m\u001b[36mmpmath\u001b[39m\u001b[39m (\u001b[39m\u001b[39;1m1.3.0\u001b[39;22m\u001b[39m)\u001b[39m: \u001b[34mPending...\u001b[39m\n",
            "  \u001b[34;1m-\u001b[39;22m \u001b[39mInstalling \u001b[39m\u001b[36mnvidia-cublas-cu12\u001b[39m\u001b[39m (\u001b[39m\u001b[39;1m12.1.3.1\u001b[39;22m\u001b[39m)\u001b[39m: \u001b[34mPending...\u001b[39m\n",
            "  \u001b[34;1m-\u001b[39;22m \u001b[39mInstalling \u001b[39m\u001b[36mnvidia-cusparse-cu12\u001b[39m\u001b[39m (\u001b[39m\u001b[39;1m12.1.0.106\u001b[39;22m\u001b[39m)\u001b[39m: \u001b[34mPending...\u001b[39m\n",
            "\u001b[4A\u001b[0J  \u001b[34;1m-\u001b[39;22m \u001b[39mInstalling \u001b[39m\u001b[36mfilelock\u001b[39m\u001b[39m (\u001b[39m\u001b[39;1m3.15.1\u001b[39;22m\u001b[39m)\u001b[39m: \u001b[34mInstalling...\u001b[39m\n",
            "  \u001b[34;1m-\u001b[39;22m \u001b[39mInstalling \u001b[39m\u001b[36mmarkupsafe\u001b[39m\u001b[39m (\u001b[39m\u001b[39;1m2.1.5\u001b[39;22m\u001b[39m)\u001b[39m: \u001b[34mPending...\u001b[39m\n",
            "  \u001b[34;1m-\u001b[39;22m \u001b[39mInstalling \u001b[39m\u001b[36mmpmath\u001b[39m\u001b[39m (\u001b[39m\u001b[39;1m1.3.0\u001b[39;22m\u001b[39m)\u001b[39m: \u001b[34mPending...\u001b[39m\n",
            "  \u001b[34;1m-\u001b[39;22m \u001b[39mInstalling \u001b[39m\u001b[36mnvidia-cublas-cu12\u001b[39m\u001b[39m (\u001b[39m\u001b[39;1m12.1.3.1\u001b[39;22m\u001b[39m)\u001b[39m: \u001b[34mPending...\u001b[39m\n",
            "  \u001b[34;1m-\u001b[39;22m \u001b[39mInstalling \u001b[39m\u001b[36mnvidia-cusparse-cu12\u001b[39m\u001b[39m (\u001b[39m\u001b[39;1m12.1.0.106\u001b[39;22m\u001b[39m)\u001b[39m: \u001b[34mPending...\u001b[39m\n",
            "\u001b[2A\u001b[0J  \u001b[34;1m-\u001b[39;22m \u001b[39mInstalling \u001b[39m\u001b[36mnvidia-cusparse-cu12\u001b[39m\u001b[39m (\u001b[39m\u001b[39;1m12.1.0.106\u001b[39;22m\u001b[39m)\u001b[39m: \u001b[34mPending...\u001b[39m\n",
            "\u001b[1A\u001b[0J  \u001b[34;1m-\u001b[39;22m \u001b[39mInstalling \u001b[39m\u001b[36mnvidia-cublas-cu12\u001b[39m\u001b[39m (\u001b[39m\u001b[39;1m12.1.3.1\u001b[39;22m\u001b[39m)\u001b[39m: \u001b[34mDownloading...\u001b[39m \u001b[39;1m0%\u001b[39;22m\n",
            "  \u001b[34;1m-\u001b[39;22m \u001b[39mInstalling \u001b[39m\u001b[36mnvidia-cusparse-cu12\u001b[39m\u001b[39m (\u001b[39m\u001b[39;1m12.1.0.106\u001b[39;22m\u001b[39m)\u001b[39m: \u001b[34mPending...\u001b[39m\n",
            "\u001b[3A\u001b[0J  \u001b[34;1m-\u001b[39;22m \u001b[39mInstalling \u001b[39m\u001b[36mnvidia-cublas-cu12\u001b[39m\u001b[39m (\u001b[39m\u001b[39;1m12.1.3.1\u001b[39;22m\u001b[39m)\u001b[39m: \u001b[34mDownloading...\u001b[39m \u001b[39;1m0%\u001b[39;22m\n",
            "  \u001b[34;1m-\u001b[39;22m \u001b[39mInstalling \u001b[39m\u001b[36mnvidia-cusparse-cu12\u001b[39m\u001b[39m (\u001b[39m\u001b[39;1m12.1.0.106\u001b[39;22m\u001b[39m)\u001b[39m: \u001b[34mPending...\u001b[39m\n",
            "\u001b[2A\u001b[0J  \u001b[34;1m-\u001b[39;22m \u001b[39mInstalling \u001b[39m\u001b[36mmpmath\u001b[39m\u001b[39m (\u001b[39m\u001b[39;1m1.3.0\u001b[39;22m\u001b[39m)\u001b[39m: \u001b[34mDownloading...\u001b[39m \u001b[39;1m0%\u001b[39;22m\n",
            "  \u001b[34;1m-\u001b[39;22m \u001b[39mInstalling \u001b[39m\u001b[36mnvidia-cublas-cu12\u001b[39m\u001b[39m (\u001b[39m\u001b[39;1m12.1.3.1\u001b[39;22m\u001b[39m)\u001b[39m: \u001b[34mDownloading...\u001b[39m \u001b[39;1m0%\u001b[39;22m\n",
            "  \u001b[34;1m-\u001b[39;22m \u001b[39mInstalling \u001b[39m\u001b[36mnvidia-cusparse-cu12\u001b[39m\u001b[39m (\u001b[39m\u001b[39;1m12.1.0.106\u001b[39;22m\u001b[39m)\u001b[39m: \u001b[34mPending...\u001b[39m\n",
            "\u001b[4A\u001b[0J  \u001b[34;1m-\u001b[39;22m \u001b[39mInstalling \u001b[39m\u001b[36mmpmath\u001b[39m\u001b[39m (\u001b[39m\u001b[39;1m1.3.0\u001b[39;22m\u001b[39m)\u001b[39m: \u001b[34mDownloading...\u001b[39m \u001b[39;1m0%\u001b[39;22m\n",
            "  \u001b[34;1m-\u001b[39;22m \u001b[39mInstalling \u001b[39m\u001b[36mnvidia-cublas-cu12\u001b[39m\u001b[39m (\u001b[39m\u001b[39;1m12.1.3.1\u001b[39;22m\u001b[39m)\u001b[39m: \u001b[34mDownloading...\u001b[39m \u001b[39;1m0%\u001b[39;22m\n",
            "  \u001b[34;1m-\u001b[39;22m \u001b[39mInstalling \u001b[39m\u001b[36mnvidia-cusparse-cu12\u001b[39m\u001b[39m (\u001b[39m\u001b[39;1m12.1.0.106\u001b[39;22m\u001b[39m)\u001b[39m: \u001b[34mPending...\u001b[39m\n",
            "\u001b[3A\u001b[0J  \u001b[34;1m-\u001b[39;22m \u001b[39mInstalling \u001b[39m\u001b[36mmarkupsafe\u001b[39m\u001b[39m (\u001b[39m\u001b[39;1m2.1.5\u001b[39;22m\u001b[39m)\u001b[39m: \u001b[34mDownloading...\u001b[39m \u001b[39;1m0%\u001b[39;22m\n",
            "  \u001b[34;1m-\u001b[39;22m \u001b[39mInstalling \u001b[39m\u001b[36mmpmath\u001b[39m\u001b[39m (\u001b[39m\u001b[39;1m1.3.0\u001b[39;22m\u001b[39m)\u001b[39m: \u001b[34mDownloading...\u001b[39m \u001b[39;1m0%\u001b[39;22m\n",
            "  \u001b[34;1m-\u001b[39;22m \u001b[39mInstalling \u001b[39m\u001b[36mnvidia-cublas-cu12\u001b[39m\u001b[39m (\u001b[39m\u001b[39;1m12.1.3.1\u001b[39;22m\u001b[39m)\u001b[39m: \u001b[34mDownloading...\u001b[39m \u001b[39;1m0%\u001b[39;22m\n",
            "  \u001b[34;1m-\u001b[39;22m \u001b[39mInstalling \u001b[39m\u001b[36mnvidia-cusparse-cu12\u001b[39m\u001b[39m (\u001b[39m\u001b[39;1m12.1.0.106\u001b[39;22m\u001b[39m)\u001b[39m: \u001b[34mPending...\u001b[39m\n",
            "\u001b[1A\u001b[0J  \u001b[34;1m-\u001b[39;22m \u001b[39mInstalling \u001b[39m\u001b[36mnvidia-cusparse-cu12\u001b[39m\u001b[39m (\u001b[39m\u001b[39;1m12.1.0.106\u001b[39;22m\u001b[39m)\u001b[39m: \u001b[34mDownloading...\u001b[39m \u001b[39;1m0%\u001b[39;22m\n",
            "\u001b[4A\u001b[0J  \u001b[34;1m-\u001b[39;22m \u001b[39mInstalling \u001b[39m\u001b[36mmpmath\u001b[39m\u001b[39m (\u001b[39m\u001b[39;1m1.3.0\u001b[39;22m\u001b[39m)\u001b[39m: \u001b[34mDownloading...\u001b[39m \u001b[39;1m0%\u001b[39;22m\n",
            "  \u001b[34;1m-\u001b[39;22m \u001b[39mInstalling \u001b[39m\u001b[36mnvidia-cublas-cu12\u001b[39m\u001b[39m (\u001b[39m\u001b[39;1m12.1.3.1\u001b[39;22m\u001b[39m)\u001b[39m: \u001b[34mDownloading...\u001b[39m \u001b[39;1m0%\u001b[39;22m\n",
            "  \u001b[34;1m-\u001b[39;22m \u001b[39mInstalling \u001b[39m\u001b[36mnvidia-cusparse-cu12\u001b[39m\u001b[39m (\u001b[39m\u001b[39;1m12.1.0.106\u001b[39;22m\u001b[39m)\u001b[39m: \u001b[34mDownloading...\u001b[39m \u001b[39;1m0%\u001b[39;22m\n",
            "\u001b[3A\u001b[0J  \u001b[34;1m-\u001b[39;22m \u001b[39mInstalling \u001b[39m\u001b[36mmarkupsafe\u001b[39m\u001b[39m (\u001b[39m\u001b[39;1m2.1.5\u001b[39;22m\u001b[39m)\u001b[39m: \u001b[34mDownloading...\u001b[39m \u001b[39;1m100%\u001b[39;22m\n",
            "  \u001b[34;1m-\u001b[39;22m \u001b[39mInstalling \u001b[39m\u001b[36mmpmath\u001b[39m\u001b[39m (\u001b[39m\u001b[39;1m1.3.0\u001b[39;22m\u001b[39m)\u001b[39m: \u001b[34mDownloading...\u001b[39m \u001b[39;1m0%\u001b[39;22m\n",
            "  \u001b[34;1m-\u001b[39;22m \u001b[39mInstalling \u001b[39m\u001b[36mnvidia-cublas-cu12\u001b[39m\u001b[39m (\u001b[39m\u001b[39;1m12.1.3.1\u001b[39;22m\u001b[39m)\u001b[39m: \u001b[34mDownloading...\u001b[39m \u001b[39;1m0%\u001b[39;22m\n",
            "  \u001b[34;1m-\u001b[39;22m \u001b[39mInstalling \u001b[39m\u001b[36mnvidia-cusparse-cu12\u001b[39m\u001b[39m (\u001b[39m\u001b[39;1m12.1.0.106\u001b[39;22m\u001b[39m)\u001b[39m: \u001b[34mDownloading...\u001b[39m \u001b[39;1m0%\u001b[39;22m\n",
            "\u001b[4A\u001b[0J  \u001b[34;1m-\u001b[39;22m \u001b[39mInstalling \u001b[39m\u001b[36mmpmath\u001b[39m\u001b[39m (\u001b[39m\u001b[39;1m1.3.0\u001b[39;22m\u001b[39m)\u001b[39m: \u001b[34mDownloading...\u001b[39m \u001b[39;1m0%\u001b[39;22m\n",
            "  \u001b[34;1m-\u001b[39;22m \u001b[39mInstalling \u001b[39m\u001b[36mnvidia-cublas-cu12\u001b[39m\u001b[39m (\u001b[39m\u001b[39;1m12.1.3.1\u001b[39;22m\u001b[39m)\u001b[39m: \u001b[34mDownloading...\u001b[39m \u001b[39;1m0%\u001b[39;22m\n",
            "  \u001b[34;1m-\u001b[39;22m \u001b[39mInstalling \u001b[39m\u001b[36mnvidia-cusparse-cu12\u001b[39m\u001b[39m (\u001b[39m\u001b[39;1m12.1.0.106\u001b[39;22m\u001b[39m)\u001b[39m: \u001b[34mDownloading...\u001b[39m \u001b[39;1m0%\u001b[39;22m\n",
            "\u001b[3A\u001b[0J  \u001b[34;1m-\u001b[39;22m \u001b[39mInstalling \u001b[39m\u001b[36mmarkupsafe\u001b[39m\u001b[39m (\u001b[39m\u001b[39;1m2.1.5\u001b[39;22m\u001b[39m)\u001b[39m: \u001b[34mInstalling...\u001b[39m\n",
            "  \u001b[34;1m-\u001b[39;22m \u001b[39mInstalling \u001b[39m\u001b[36mmpmath\u001b[39m\u001b[39m (\u001b[39m\u001b[39;1m1.3.0\u001b[39;22m\u001b[39m)\u001b[39m: \u001b[34mDownloading...\u001b[39m \u001b[39;1m0%\u001b[39;22m\n",
            "  \u001b[34;1m-\u001b[39;22m \u001b[39mInstalling \u001b[39m\u001b[36mnvidia-cublas-cu12\u001b[39m\u001b[39m (\u001b[39m\u001b[39;1m12.1.3.1\u001b[39;22m\u001b[39m)\u001b[39m: \u001b[34mDownloading...\u001b[39m \u001b[39;1m0%\u001b[39;22m\n",
            "  \u001b[34;1m-\u001b[39;22m \u001b[39mInstalling \u001b[39m\u001b[36mnvidia-cusparse-cu12\u001b[39m\u001b[39m (\u001b[39m\u001b[39;1m12.1.0.106\u001b[39;22m\u001b[39m)\u001b[39m: \u001b[34mDownloading...\u001b[39m \u001b[39;1m0%\u001b[39;22m\n",
            "\u001b[3A\u001b[0J  \u001b[34;1m-\u001b[39;22m \u001b[39mInstalling \u001b[39m\u001b[36mnvidia-cublas-cu12\u001b[39m\u001b[39m (\u001b[39m\u001b[39;1m12.1.3.1\u001b[39;22m\u001b[39m)\u001b[39m: \u001b[34mDownloading...\u001b[39m \u001b[39;1m0%\u001b[39;22m\n",
            "  \u001b[34;1m-\u001b[39;22m \u001b[39mInstalling \u001b[39m\u001b[36mnvidia-cusparse-cu12\u001b[39m\u001b[39m (\u001b[39m\u001b[39;1m12.1.0.106\u001b[39;22m\u001b[39m)\u001b[39m: \u001b[34mDownloading...\u001b[39m \u001b[39;1m0%\u001b[39;22m\n",
            "\u001b[2A\u001b[0J  \u001b[34;1m-\u001b[39;22m \u001b[39mInstalling \u001b[39m\u001b[36mmpmath\u001b[39m\u001b[39m (\u001b[39m\u001b[39;1m1.3.0\u001b[39;22m\u001b[39m)\u001b[39m: \u001b[34mDownloading...\u001b[39m \u001b[39;1m70%\u001b[39;22m\n",
            "  \u001b[34;1m-\u001b[39;22m \u001b[39mInstalling \u001b[39m\u001b[36mnvidia-cublas-cu12\u001b[39m\u001b[39m (\u001b[39m\u001b[39;1m12.1.3.1\u001b[39;22m\u001b[39m)\u001b[39m: \u001b[34mDownloading...\u001b[39m \u001b[39;1m0%\u001b[39;22m\n",
            "  \u001b[34;1m-\u001b[39;22m \u001b[39mInstalling \u001b[39m\u001b[36mnvidia-cusparse-cu12\u001b[39m\u001b[39m (\u001b[39m\u001b[39;1m12.1.0.106\u001b[39;22m\u001b[39m)\u001b[39m: \u001b[34mDownloading...\u001b[39m \u001b[39;1m0%\u001b[39;22m\n",
            "\u001b[3A\u001b[0J  \u001b[34;1m-\u001b[39;22m \u001b[39mInstalling \u001b[39m\u001b[36mnvidia-cublas-cu12\u001b[39m\u001b[39m (\u001b[39m\u001b[39;1m12.1.3.1\u001b[39;22m\u001b[39m)\u001b[39m: \u001b[34mDownloading...\u001b[39m \u001b[39;1m0%\u001b[39;22m\n",
            "  \u001b[34;1m-\u001b[39;22m \u001b[39mInstalling \u001b[39m\u001b[36mnvidia-cusparse-cu12\u001b[39m\u001b[39m (\u001b[39m\u001b[39;1m12.1.0.106\u001b[39;22m\u001b[39m)\u001b[39m: \u001b[34mDownloading...\u001b[39m \u001b[39;1m0%\u001b[39;22m\n",
            "\u001b[2A\u001b[0J  \u001b[34;1m-\u001b[39;22m \u001b[39mInstalling \u001b[39m\u001b[36mmpmath\u001b[39m\u001b[39m (\u001b[39m\u001b[39;1m1.3.0\u001b[39;22m\u001b[39m)\u001b[39m: \u001b[34mDownloading...\u001b[39m \u001b[39;1m100%\u001b[39;22m\n",
            "  \u001b[34;1m-\u001b[39;22m \u001b[39mInstalling \u001b[39m\u001b[36mnvidia-cublas-cu12\u001b[39m\u001b[39m (\u001b[39m\u001b[39;1m12.1.3.1\u001b[39;22m\u001b[39m)\u001b[39m: \u001b[34mDownloading...\u001b[39m \u001b[39;1m0%\u001b[39;22m\n",
            "  \u001b[34;1m-\u001b[39;22m \u001b[39mInstalling \u001b[39m\u001b[36mnvidia-cusparse-cu12\u001b[39m\u001b[39m (\u001b[39m\u001b[39;1m12.1.0.106\u001b[39;22m\u001b[39m)\u001b[39m: \u001b[34mDownloading...\u001b[39m \u001b[39;1m0%\u001b[39;22m\n",
            "\u001b[3A\u001b[0J  \u001b[34;1m-\u001b[39;22m \u001b[39mInstalling \u001b[39m\u001b[36mnvidia-cublas-cu12\u001b[39m\u001b[39m (\u001b[39m\u001b[39;1m12.1.3.1\u001b[39;22m\u001b[39m)\u001b[39m: \u001b[34mDownloading...\u001b[39m \u001b[39;1m0%\u001b[39;22m\n",
            "  \u001b[34;1m-\u001b[39;22m \u001b[39mInstalling \u001b[39m\u001b[36mnvidia-cusparse-cu12\u001b[39m\u001b[39m (\u001b[39m\u001b[39;1m12.1.0.106\u001b[39;22m\u001b[39m)\u001b[39m: \u001b[34mDownloading...\u001b[39m \u001b[39;1m0%\u001b[39;22m\n",
            "\u001b[2A\u001b[0J  \u001b[34;1m-\u001b[39;22m \u001b[39mInstalling \u001b[39m\u001b[36mmpmath\u001b[39m\u001b[39m (\u001b[39m\u001b[39;1m1.3.0\u001b[39;22m\u001b[39m)\u001b[39m: \u001b[34mInstalling...\u001b[39m\n",
            "  \u001b[34;1m-\u001b[39;22m \u001b[39mInstalling \u001b[39m\u001b[36mnvidia-cublas-cu12\u001b[39m\u001b[39m (\u001b[39m\u001b[39;1m12.1.3.1\u001b[39;22m\u001b[39m)\u001b[39m: \u001b[34mDownloading...\u001b[39m \u001b[39;1m0%\u001b[39;22m\n",
            "  \u001b[34;1m-\u001b[39;22m \u001b[39mInstalling \u001b[39m\u001b[36mnvidia-cusparse-cu12\u001b[39m\u001b[39m (\u001b[39m\u001b[39;1m12.1.0.106\u001b[39;22m\u001b[39m)\u001b[39m: \u001b[34mDownloading...\u001b[39m \u001b[39;1m0%\u001b[39;22m\n",
            "\u001b[5A\u001b[0J  \u001b[34;1m-\u001b[39;22m \u001b[39mInstalling \u001b[39m\u001b[36mmarkupsafe\u001b[39m\u001b[39m (\u001b[39m\u001b[39;1m2.1.5\u001b[39;22m\u001b[39m)\u001b[39m: \u001b[34mInstalling...\u001b[39m\n",
            "  \u001b[34;1m-\u001b[39;22m \u001b[39mInstalling \u001b[39m\u001b[36mmpmath\u001b[39m\u001b[39m (\u001b[39m\u001b[39;1m1.3.0\u001b[39;22m\u001b[39m)\u001b[39m: \u001b[34mInstalling...\u001b[39m\n",
            "  \u001b[34;1m-\u001b[39;22m \u001b[39mInstalling \u001b[39m\u001b[36mnvidia-cublas-cu12\u001b[39m\u001b[39m (\u001b[39m\u001b[39;1m12.1.3.1\u001b[39;22m\u001b[39m)\u001b[39m: \u001b[34mDownloading...\u001b[39m \u001b[39;1m0%\u001b[39;22m\n",
            "  \u001b[34;1m-\u001b[39;22m \u001b[39mInstalling \u001b[39m\u001b[36mnvidia-cusparse-cu12\u001b[39m\u001b[39m (\u001b[39m\u001b[39;1m12.1.0.106\u001b[39;22m\u001b[39m)\u001b[39m: \u001b[34mDownloading...\u001b[39m \u001b[39;1m0%\u001b[39;22m\n",
            "\u001b[4A\u001b[0J  \u001b[32;1m-\u001b[39;22m \u001b[39mInstalling \u001b[39m\u001b[36mfilelock\u001b[39m\u001b[39m (\u001b[39m\u001b[32m3.15.1\u001b[39m\u001b[39m)\u001b[39m\n",
            "  \u001b[34;1m-\u001b[39;22m \u001b[39mInstalling \u001b[39m\u001b[36mmarkupsafe\u001b[39m\u001b[39m (\u001b[39m\u001b[39;1m2.1.5\u001b[39;22m\u001b[39m)\u001b[39m: \u001b[34mInstalling...\u001b[39m\n",
            "  \u001b[34;1m-\u001b[39;22m \u001b[39mInstalling \u001b[39m\u001b[36mmpmath\u001b[39m\u001b[39m (\u001b[39m\u001b[39;1m1.3.0\u001b[39;22m\u001b[39m)\u001b[39m: \u001b[34mInstalling...\u001b[39m\n",
            "  \u001b[34;1m-\u001b[39;22m \u001b[39mInstalling \u001b[39m\u001b[36mnvidia-cublas-cu12\u001b[39m\u001b[39m (\u001b[39m\u001b[39;1m12.1.3.1\u001b[39;22m\u001b[39m)\u001b[39m: \u001b[34mDownloading...\u001b[39m \u001b[39;1m0%\u001b[39;22m\n",
            "  \u001b[34;1m-\u001b[39;22m \u001b[39mInstalling \u001b[39m\u001b[36mnvidia-cusparse-cu12\u001b[39m\u001b[39m (\u001b[39m\u001b[39;1m12.1.0.106\u001b[39;22m\u001b[39m)\u001b[39m: \u001b[34mDownloading...\u001b[39m \u001b[39;1m0%\u001b[39;22m\n",
            "\u001b[4A\u001b[0J  \u001b[34;1m-\u001b[39;22m \u001b[39mInstalling \u001b[39m\u001b[36mmpmath\u001b[39m\u001b[39m (\u001b[39m\u001b[39;1m1.3.0\u001b[39;22m\u001b[39m)\u001b[39m: \u001b[34mInstalling...\u001b[39m\n",
            "  \u001b[34;1m-\u001b[39;22m \u001b[39mInstalling \u001b[39m\u001b[36mnvidia-cublas-cu12\u001b[39m\u001b[39m (\u001b[39m\u001b[39;1m12.1.3.1\u001b[39;22m\u001b[39m)\u001b[39m: \u001b[34mDownloading...\u001b[39m \u001b[39;1m0%\u001b[39;22m\n",
            "  \u001b[34;1m-\u001b[39;22m \u001b[39mInstalling \u001b[39m\u001b[36mnvidia-cusparse-cu12\u001b[39m\u001b[39m (\u001b[39m\u001b[39;1m12.1.0.106\u001b[39;22m\u001b[39m)\u001b[39m: \u001b[34mDownloading...\u001b[39m \u001b[39;1m0%\u001b[39;22m\n",
            "\u001b[3A\u001b[0J  \u001b[32;1m-\u001b[39;22m \u001b[39mInstalling \u001b[39m\u001b[36mmarkupsafe\u001b[39m\u001b[39m (\u001b[39m\u001b[32m2.1.5\u001b[39m\u001b[39m)\u001b[39m\n",
            "  \u001b[34;1m-\u001b[39;22m \u001b[39mInstalling \u001b[39m\u001b[36mmpmath\u001b[39m\u001b[39m (\u001b[39m\u001b[39;1m1.3.0\u001b[39;22m\u001b[39m)\u001b[39m: \u001b[34mInstalling...\u001b[39m\n",
            "  \u001b[34;1m-\u001b[39;22m \u001b[39mInstalling \u001b[39m\u001b[36mnvidia-cublas-cu12\u001b[39m\u001b[39m (\u001b[39m\u001b[39;1m12.1.3.1\u001b[39;22m\u001b[39m)\u001b[39m: \u001b[34mDownloading...\u001b[39m \u001b[39;1m0%\u001b[39;22m\n",
            "  \u001b[34;1m-\u001b[39;22m \u001b[39mInstalling \u001b[39m\u001b[36mnvidia-cusparse-cu12\u001b[39m\u001b[39m (\u001b[39m\u001b[39;1m12.1.0.106\u001b[39;22m\u001b[39m)\u001b[39m: \u001b[34mDownloading...\u001b[39m \u001b[39;1m0%\u001b[39;22m\n",
            "\u001b[2A\u001b[0J  \u001b[34;1m-\u001b[39;22m \u001b[39mInstalling \u001b[39m\u001b[36mnvidia-cusparse-cu12\u001b[39m\u001b[39m (\u001b[39m\u001b[39;1m12.1.0.106\u001b[39;22m\u001b[39m)\u001b[39m: \u001b[34mDownloading...\u001b[39m \u001b[39;1m0%\u001b[39;22m\n",
            "\u001b[1A\u001b[0J  \u001b[34;1m-\u001b[39;22m \u001b[39mInstalling \u001b[39m\u001b[36mnvidia-cublas-cu12\u001b[39m\u001b[39m (\u001b[39m\u001b[39;1m12.1.3.1\u001b[39;22m\u001b[39m)\u001b[39m: \u001b[34mDownloading...\u001b[39m \u001b[39;1m6%\u001b[39;22m\n",
            "  \u001b[34;1m-\u001b[39;22m \u001b[39mInstalling \u001b[39m\u001b[36mnvidia-cusparse-cu12\u001b[39m\u001b[39m (\u001b[39m\u001b[39;1m12.1.0.106\u001b[39;22m\u001b[39m)\u001b[39m: \u001b[34mDownloading...\u001b[39m \u001b[39;1m0%\u001b[39;22m\n",
            "\u001b[1A\u001b[0J  \u001b[34;1m-\u001b[39;22m \u001b[39mInstalling \u001b[39m\u001b[36mnvidia-cusparse-cu12\u001b[39m\u001b[39m (\u001b[39m\u001b[39;1m12.1.0.106\u001b[39;22m\u001b[39m)\u001b[39m: \u001b[34mDownloading...\u001b[39m \u001b[39;1m8%\u001b[39;22m\n",
            "\u001b[2A\u001b[0J  \u001b[34;1m-\u001b[39;22m \u001b[39mInstalling \u001b[39m\u001b[36mnvidia-cusparse-cu12\u001b[39m\u001b[39m (\u001b[39m\u001b[39;1m12.1.0.106\u001b[39;22m\u001b[39m)\u001b[39m: \u001b[34mDownloading...\u001b[39m \u001b[39;1m8%\u001b[39;22m\n",
            "\u001b[1A\u001b[0J  \u001b[34;1m-\u001b[39;22m \u001b[39mInstalling \u001b[39m\u001b[36mnvidia-cublas-cu12\u001b[39m\u001b[39m (\u001b[39m\u001b[39;1m12.1.3.1\u001b[39;22m\u001b[39m)\u001b[39m: \u001b[34mDownloading...\u001b[39m \u001b[39;1m10%\u001b[39;22m\n",
            "  \u001b[34;1m-\u001b[39;22m \u001b[39mInstalling \u001b[39m\u001b[36mnvidia-cusparse-cu12\u001b[39m\u001b[39m (\u001b[39m\u001b[39;1m12.1.0.106\u001b[39;22m\u001b[39m)\u001b[39m: \u001b[34mDownloading...\u001b[39m \u001b[39;1m8%\u001b[39;22m\n",
            "\u001b[1A\u001b[0J  \u001b[34;1m-\u001b[39;22m \u001b[39mInstalling \u001b[39m\u001b[36mnvidia-cusparse-cu12\u001b[39m\u001b[39m (\u001b[39m\u001b[39;1m12.1.0.106\u001b[39;22m\u001b[39m)\u001b[39m: \u001b[34mDownloading...\u001b[39m \u001b[39;1m19%\u001b[39;22m\n",
            "\u001b[2A\u001b[0J  \u001b[34;1m-\u001b[39;22m \u001b[39mInstalling \u001b[39m\u001b[36mnvidia-cusparse-cu12\u001b[39m\u001b[39m (\u001b[39m\u001b[39;1m12.1.0.106\u001b[39;22m\u001b[39m)\u001b[39m: \u001b[34mDownloading...\u001b[39m \u001b[39;1m19%\u001b[39;22m\n",
            "\u001b[1A\u001b[0J  \u001b[34;1m-\u001b[39;22m \u001b[39mInstalling \u001b[39m\u001b[36mnvidia-cublas-cu12\u001b[39m\u001b[39m (\u001b[39m\u001b[39;1m12.1.3.1\u001b[39;22m\u001b[39m)\u001b[39m: \u001b[34mDownloading...\u001b[39m \u001b[39;1m15%\u001b[39;22m\n",
            "  \u001b[34;1m-\u001b[39;22m \u001b[39mInstalling \u001b[39m\u001b[36mnvidia-cusparse-cu12\u001b[39m\u001b[39m (\u001b[39m\u001b[39;1m12.1.0.106\u001b[39;22m\u001b[39m)\u001b[39m: \u001b[34mDownloading...\u001b[39m \u001b[39;1m19%\u001b[39;22m\n",
            "\u001b[3A\u001b[0J  \u001b[34;1m-\u001b[39;22m \u001b[39mInstalling \u001b[39m\u001b[36mnvidia-cublas-cu12\u001b[39m\u001b[39m (\u001b[39m\u001b[39;1m12.1.3.1\u001b[39;22m\u001b[39m)\u001b[39m: \u001b[34mDownloading...\u001b[39m \u001b[39;1m15%\u001b[39;22m\n",
            "  \u001b[34;1m-\u001b[39;22m \u001b[39mInstalling \u001b[39m\u001b[36mnvidia-cusparse-cu12\u001b[39m\u001b[39m (\u001b[39m\u001b[39;1m12.1.0.106\u001b[39;22m\u001b[39m)\u001b[39m: \u001b[34mDownloading...\u001b[39m \u001b[39;1m19%\u001b[39;22m\n",
            "\u001b[2A\u001b[0J  \u001b[32;1m-\u001b[39;22m \u001b[39mInstalling \u001b[39m\u001b[36mmpmath\u001b[39m\u001b[39m (\u001b[39m\u001b[32m1.3.0\u001b[39m\u001b[39m)\u001b[39m\n",
            "  \u001b[34;1m-\u001b[39;22m \u001b[39mInstalling \u001b[39m\u001b[36mnvidia-cublas-cu12\u001b[39m\u001b[39m (\u001b[39m\u001b[39;1m12.1.3.1\u001b[39;22m\u001b[39m)\u001b[39m: \u001b[34mDownloading...\u001b[39m \u001b[39;1m15%\u001b[39;22m\n",
            "  \u001b[34;1m-\u001b[39;22m \u001b[39mInstalling \u001b[39m\u001b[36mnvidia-cusparse-cu12\u001b[39m\u001b[39m (\u001b[39m\u001b[39;1m12.1.0.106\u001b[39;22m\u001b[39m)\u001b[39m: \u001b[34mDownloading...\u001b[39m \u001b[39;1m19%\u001b[39;22m\n",
            "\u001b[1A\u001b[0J  \u001b[34;1m-\u001b[39;22m \u001b[39mInstalling \u001b[39m\u001b[36mnvidia-cusparse-cu12\u001b[39m\u001b[39m (\u001b[39m\u001b[39;1m12.1.0.106\u001b[39;22m\u001b[39m)\u001b[39m: \u001b[34mDownloading...\u001b[39m \u001b[39;1m30%\u001b[39;22m\n",
            "\u001b[2A\u001b[0J  \u001b[34;1m-\u001b[39;22m \u001b[39mInstalling \u001b[39m\u001b[36mnvidia-cusparse-cu12\u001b[39m\u001b[39m (\u001b[39m\u001b[39;1m12.1.0.106\u001b[39;22m\u001b[39m)\u001b[39m: \u001b[34mDownloading...\u001b[39m \u001b[39;1m30%\u001b[39;22m\n",
            "\u001b[1A\u001b[0J  \u001b[34;1m-\u001b[39;22m \u001b[39mInstalling \u001b[39m\u001b[36mnvidia-cublas-cu12\u001b[39m\u001b[39m (\u001b[39m\u001b[39;1m12.1.3.1\u001b[39;22m\u001b[39m)\u001b[39m: \u001b[34mDownloading...\u001b[39m \u001b[39;1m20%\u001b[39;22m\n",
            "  \u001b[34;1m-\u001b[39;22m \u001b[39mInstalling \u001b[39m\u001b[36mnvidia-cusparse-cu12\u001b[39m\u001b[39m (\u001b[39m\u001b[39;1m12.1.0.106\u001b[39;22m\u001b[39m)\u001b[39m: \u001b[34mDownloading...\u001b[39m \u001b[39;1m30%\u001b[39;22m\n",
            "\u001b[1A\u001b[0J  \u001b[34;1m-\u001b[39;22m \u001b[39mInstalling \u001b[39m\u001b[36mnvidia-cusparse-cu12\u001b[39m\u001b[39m (\u001b[39m\u001b[39;1m12.1.0.106\u001b[39;22m\u001b[39m)\u001b[39m: \u001b[34mDownloading...\u001b[39m \u001b[39;1m40%\u001b[39;22m\n",
            "\u001b[2A\u001b[0J  \u001b[34;1m-\u001b[39;22m \u001b[39mInstalling \u001b[39m\u001b[36mnvidia-cusparse-cu12\u001b[39m\u001b[39m (\u001b[39m\u001b[39;1m12.1.0.106\u001b[39;22m\u001b[39m)\u001b[39m: \u001b[34mDownloading...\u001b[39m \u001b[39;1m40%\u001b[39;22m\n",
            "\u001b[1A\u001b[0J  \u001b[34;1m-\u001b[39;22m \u001b[39mInstalling \u001b[39m\u001b[36mnvidia-cublas-cu12\u001b[39m\u001b[39m (\u001b[39m\u001b[39;1m12.1.3.1\u001b[39;22m\u001b[39m)\u001b[39m: \u001b[34mDownloading...\u001b[39m \u001b[39;1m25%\u001b[39;22m\n",
            "  \u001b[34;1m-\u001b[39;22m \u001b[39mInstalling \u001b[39m\u001b[36mnvidia-cusparse-cu12\u001b[39m\u001b[39m (\u001b[39m\u001b[39;1m12.1.0.106\u001b[39;22m\u001b[39m)\u001b[39m: \u001b[34mDownloading...\u001b[39m \u001b[39;1m40%\u001b[39;22m\n",
            "\u001b[1A\u001b[0J  \u001b[34;1m-\u001b[39;22m \u001b[39mInstalling \u001b[39m\u001b[36mnvidia-cusparse-cu12\u001b[39m\u001b[39m (\u001b[39m\u001b[39;1m12.1.0.106\u001b[39;22m\u001b[39m)\u001b[39m: \u001b[34mDownloading...\u001b[39m \u001b[39;1m50%\u001b[39;22m\n",
            "\u001b[2A\u001b[0J  \u001b[34;1m-\u001b[39;22m \u001b[39mInstalling \u001b[39m\u001b[36mnvidia-cusparse-cu12\u001b[39m\u001b[39m (\u001b[39m\u001b[39;1m12.1.0.106\u001b[39;22m\u001b[39m)\u001b[39m: \u001b[34mDownloading...\u001b[39m \u001b[39;1m50%\u001b[39;22m\n",
            "\u001b[1A\u001b[0J  \u001b[34;1m-\u001b[39;22m \u001b[39mInstalling \u001b[39m\u001b[36mnvidia-cublas-cu12\u001b[39m\u001b[39m (\u001b[39m\u001b[39;1m12.1.3.1\u001b[39;22m\u001b[39m)\u001b[39m: \u001b[34mDownloading...\u001b[39m \u001b[39;1m30%\u001b[39;22m\n",
            "  \u001b[34;1m-\u001b[39;22m \u001b[39mInstalling \u001b[39m\u001b[36mnvidia-cusparse-cu12\u001b[39m\u001b[39m (\u001b[39m\u001b[39;1m12.1.0.106\u001b[39;22m\u001b[39m)\u001b[39m: \u001b[34mDownloading...\u001b[39m \u001b[39;1m50%\u001b[39;22m\n",
            "\u001b[1A\u001b[0J  \u001b[34;1m-\u001b[39;22m \u001b[39mInstalling \u001b[39m\u001b[36mnvidia-cusparse-cu12\u001b[39m\u001b[39m (\u001b[39m\u001b[39;1m12.1.0.106\u001b[39;22m\u001b[39m)\u001b[39m: \u001b[34mDownloading...\u001b[39m \u001b[39;1m60%\u001b[39;22m\n",
            "\u001b[2A\u001b[0J  \u001b[34;1m-\u001b[39;22m \u001b[39mInstalling \u001b[39m\u001b[36mnvidia-cusparse-cu12\u001b[39m\u001b[39m (\u001b[39m\u001b[39;1m12.1.0.106\u001b[39;22m\u001b[39m)\u001b[39m: \u001b[34mDownloading...\u001b[39m \u001b[39;1m60%\u001b[39;22m\n",
            "\u001b[1A\u001b[0J  \u001b[34;1m-\u001b[39;22m \u001b[39mInstalling \u001b[39m\u001b[36mnvidia-cublas-cu12\u001b[39m\u001b[39m (\u001b[39m\u001b[39;1m12.1.3.1\u001b[39;22m\u001b[39m)\u001b[39m: \u001b[34mDownloading...\u001b[39m \u001b[39;1m35%\u001b[39;22m\n",
            "  \u001b[34;1m-\u001b[39;22m \u001b[39mInstalling \u001b[39m\u001b[36mnvidia-cusparse-cu12\u001b[39m\u001b[39m (\u001b[39m\u001b[39;1m12.1.0.106\u001b[39;22m\u001b[39m)\u001b[39m: \u001b[34mDownloading...\u001b[39m \u001b[39;1m60%\u001b[39;22m\n",
            "\u001b[1A\u001b[0J  \u001b[34;1m-\u001b[39;22m \u001b[39mInstalling \u001b[39m\u001b[36mnvidia-cusparse-cu12\u001b[39m\u001b[39m (\u001b[39m\u001b[39;1m12.1.0.106\u001b[39;22m\u001b[39m)\u001b[39m: \u001b[34mDownloading...\u001b[39m \u001b[39;1m70%\u001b[39;22m\n",
            "\u001b[2A\u001b[0J  \u001b[34;1m-\u001b[39;22m \u001b[39mInstalling \u001b[39m\u001b[36mnvidia-cusparse-cu12\u001b[39m\u001b[39m (\u001b[39m\u001b[39;1m12.1.0.106\u001b[39;22m\u001b[39m)\u001b[39m: \u001b[34mDownloading...\u001b[39m \u001b[39;1m70%\u001b[39;22m\n",
            "\u001b[1A\u001b[0J  \u001b[34;1m-\u001b[39;22m \u001b[39mInstalling \u001b[39m\u001b[36mnvidia-cublas-cu12\u001b[39m\u001b[39m (\u001b[39m\u001b[39;1m12.1.3.1\u001b[39;22m\u001b[39m)\u001b[39m: \u001b[34mDownloading...\u001b[39m \u001b[39;1m40%\u001b[39;22m\n",
            "  \u001b[34;1m-\u001b[39;22m \u001b[39mInstalling \u001b[39m\u001b[36mnvidia-cusparse-cu12\u001b[39m\u001b[39m (\u001b[39m\u001b[39;1m12.1.0.106\u001b[39;22m\u001b[39m)\u001b[39m: \u001b[34mDownloading...\u001b[39m \u001b[39;1m70%\u001b[39;22m\n",
            "\u001b[1A\u001b[0J  \u001b[34;1m-\u001b[39;22m \u001b[39mInstalling \u001b[39m\u001b[36mnvidia-cusparse-cu12\u001b[39m\u001b[39m (\u001b[39m\u001b[39;1m12.1.0.106\u001b[39;22m\u001b[39m)\u001b[39m: \u001b[34mDownloading...\u001b[39m \u001b[39;1m80%\u001b[39;22m\n",
            "\u001b[2A\u001b[0J  \u001b[34;1m-\u001b[39;22m \u001b[39mInstalling \u001b[39m\u001b[36mnvidia-cusparse-cu12\u001b[39m\u001b[39m (\u001b[39m\u001b[39;1m12.1.0.106\u001b[39;22m\u001b[39m)\u001b[39m: \u001b[34mDownloading...\u001b[39m \u001b[39;1m80%\u001b[39;22m\n",
            "\u001b[1A\u001b[0J  \u001b[34;1m-\u001b[39;22m \u001b[39mInstalling \u001b[39m\u001b[36mnvidia-cublas-cu12\u001b[39m\u001b[39m (\u001b[39m\u001b[39;1m12.1.3.1\u001b[39;22m\u001b[39m)\u001b[39m: \u001b[34mDownloading...\u001b[39m \u001b[39;1m46%\u001b[39;22m\n",
            "  \u001b[34;1m-\u001b[39;22m \u001b[39mInstalling \u001b[39m\u001b[36mnvidia-cusparse-cu12\u001b[39m\u001b[39m (\u001b[39m\u001b[39;1m12.1.0.106\u001b[39;22m\u001b[39m)\u001b[39m: \u001b[34mDownloading...\u001b[39m \u001b[39;1m80%\u001b[39;22m\n",
            "\u001b[1A\u001b[0J  \u001b[34;1m-\u001b[39;22m \u001b[39mInstalling \u001b[39m\u001b[36mnvidia-cusparse-cu12\u001b[39m\u001b[39m (\u001b[39m\u001b[39;1m12.1.0.106\u001b[39;22m\u001b[39m)\u001b[39m: \u001b[34mDownloading...\u001b[39m \u001b[39;1m90%\u001b[39;22m\n",
            "\u001b[2A\u001b[0J  \u001b[34;1m-\u001b[39;22m \u001b[39mInstalling \u001b[39m\u001b[36mnvidia-cusparse-cu12\u001b[39m\u001b[39m (\u001b[39m\u001b[39;1m12.1.0.106\u001b[39;22m\u001b[39m)\u001b[39m: \u001b[34mDownloading...\u001b[39m \u001b[39;1m90%\u001b[39;22m\n",
            "\u001b[1A\u001b[0J  \u001b[34;1m-\u001b[39;22m \u001b[39mInstalling \u001b[39m\u001b[36mnvidia-cublas-cu12\u001b[39m\u001b[39m (\u001b[39m\u001b[39;1m12.1.3.1\u001b[39;22m\u001b[39m)\u001b[39m: \u001b[34mDownloading...\u001b[39m \u001b[39;1m50%\u001b[39;22m\n",
            "  \u001b[34;1m-\u001b[39;22m \u001b[39mInstalling \u001b[39m\u001b[36mnvidia-cusparse-cu12\u001b[39m\u001b[39m (\u001b[39m\u001b[39;1m12.1.0.106\u001b[39;22m\u001b[39m)\u001b[39m: \u001b[34mDownloading...\u001b[39m \u001b[39;1m90%\u001b[39;22m\n",
            "\u001b[2A\u001b[0J  \u001b[34;1m-\u001b[39;22m \u001b[39mInstalling \u001b[39m\u001b[36mnvidia-cusparse-cu12\u001b[39m\u001b[39m (\u001b[39m\u001b[39;1m12.1.0.106\u001b[39;22m\u001b[39m)\u001b[39m: \u001b[34mDownloading...\u001b[39m \u001b[39;1m90%\u001b[39;22m\n",
            "\u001b[1A\u001b[0J  \u001b[34;1m-\u001b[39;22m \u001b[39mInstalling \u001b[39m\u001b[36mnvidia-cublas-cu12\u001b[39m\u001b[39m (\u001b[39m\u001b[39;1m12.1.3.1\u001b[39;22m\u001b[39m)\u001b[39m: \u001b[34mDownloading...\u001b[39m \u001b[39;1m53%\u001b[39;22m\n",
            "  \u001b[34;1m-\u001b[39;22m \u001b[39mInstalling \u001b[39m\u001b[36mnvidia-cusparse-cu12\u001b[39m\u001b[39m (\u001b[39m\u001b[39;1m12.1.0.106\u001b[39;22m\u001b[39m)\u001b[39m: \u001b[34mDownloading...\u001b[39m \u001b[39;1m90%\u001b[39;22m\n",
            "\u001b[2A\u001b[0J  \u001b[34;1m-\u001b[39;22m \u001b[39mInstalling \u001b[39m\u001b[36mnvidia-cusparse-cu12\u001b[39m\u001b[39m (\u001b[39m\u001b[39;1m12.1.0.106\u001b[39;22m\u001b[39m)\u001b[39m: \u001b[34mDownloading...\u001b[39m \u001b[39;1m90%\u001b[39;22m\n",
            "\u001b[1A\u001b[0J  \u001b[34;1m-\u001b[39;22m \u001b[39mInstalling \u001b[39m\u001b[36mnvidia-cublas-cu12\u001b[39m\u001b[39m (\u001b[39m\u001b[39;1m12.1.3.1\u001b[39;22m\u001b[39m)\u001b[39m: \u001b[34mDownloading...\u001b[39m \u001b[39;1m60%\u001b[39;22m\n",
            "  \u001b[34;1m-\u001b[39;22m \u001b[39mInstalling \u001b[39m\u001b[36mnvidia-cusparse-cu12\u001b[39m\u001b[39m (\u001b[39m\u001b[39;1m12.1.0.106\u001b[39;22m\u001b[39m)\u001b[39m: \u001b[34mDownloading...\u001b[39m \u001b[39;1m90%\u001b[39;22m\n",
            "\u001b[1A\u001b[0J  \u001b[34;1m-\u001b[39;22m \u001b[39mInstalling \u001b[39m\u001b[36mnvidia-cusparse-cu12\u001b[39m\u001b[39m (\u001b[39m\u001b[39;1m12.1.0.106\u001b[39;22m\u001b[39m)\u001b[39m: \u001b[34mDownloading...\u001b[39m \u001b[39;1m100%\u001b[39;22m\n",
            "\u001b[2A\u001b[0J  \u001b[34;1m-\u001b[39;22m \u001b[39mInstalling \u001b[39m\u001b[36mnvidia-cusparse-cu12\u001b[39m\u001b[39m (\u001b[39m\u001b[39;1m12.1.0.106\u001b[39;22m\u001b[39m)\u001b[39m: \u001b[34mDownloading...\u001b[39m \u001b[39;1m100%\u001b[39;22m\n",
            "\u001b[1A\u001b[0J  \u001b[34;1m-\u001b[39;22m \u001b[39mInstalling \u001b[39m\u001b[36mnvidia-cublas-cu12\u001b[39m\u001b[39m (\u001b[39m\u001b[39;1m12.1.3.1\u001b[39;22m\u001b[39m)\u001b[39m: \u001b[34mDownloading...\u001b[39m \u001b[39;1m66%\u001b[39;22m\n",
            "  \u001b[34;1m-\u001b[39;22m \u001b[39mInstalling \u001b[39m\u001b[36mnvidia-cusparse-cu12\u001b[39m\u001b[39m (\u001b[39m\u001b[39;1m12.1.0.106\u001b[39;22m\u001b[39m)\u001b[39m: \u001b[34mDownloading...\u001b[39m \u001b[39;1m100%\u001b[39;22m\n",
            "\u001b[2A\u001b[0J  \u001b[34;1m-\u001b[39;22m \u001b[39mInstalling \u001b[39m\u001b[36mnvidia-cusparse-cu12\u001b[39m\u001b[39m (\u001b[39m\u001b[39;1m12.1.0.106\u001b[39;22m\u001b[39m)\u001b[39m: \u001b[34mDownloading...\u001b[39m \u001b[39;1m100%\u001b[39;22m\n",
            "\u001b[1A\u001b[0J  \u001b[34;1m-\u001b[39;22m \u001b[39mInstalling \u001b[39m\u001b[36mnvidia-cublas-cu12\u001b[39m\u001b[39m (\u001b[39m\u001b[39;1m12.1.3.1\u001b[39;22m\u001b[39m)\u001b[39m: \u001b[34mDownloading...\u001b[39m \u001b[39;1m70%\u001b[39;22m\n",
            "  \u001b[34;1m-\u001b[39;22m \u001b[39mInstalling \u001b[39m\u001b[36mnvidia-cusparse-cu12\u001b[39m\u001b[39m (\u001b[39m\u001b[39;1m12.1.0.106\u001b[39;22m\u001b[39m)\u001b[39m: \u001b[34mDownloading...\u001b[39m \u001b[39;1m100%\u001b[39;22m\n",
            "\u001b[2A\u001b[0J  \u001b[34;1m-\u001b[39;22m \u001b[39mInstalling \u001b[39m\u001b[36mnvidia-cusparse-cu12\u001b[39m\u001b[39m (\u001b[39m\u001b[39;1m12.1.0.106\u001b[39;22m\u001b[39m)\u001b[39m: \u001b[34mDownloading...\u001b[39m \u001b[39;1m100%\u001b[39;22m\n",
            "\u001b[1A\u001b[0J  \u001b[34;1m-\u001b[39;22m \u001b[39mInstalling \u001b[39m\u001b[36mnvidia-cublas-cu12\u001b[39m\u001b[39m (\u001b[39m\u001b[39;1m12.1.3.1\u001b[39;22m\u001b[39m)\u001b[39m: \u001b[34mDownloading...\u001b[39m \u001b[39;1m78%\u001b[39;22m\n",
            "  \u001b[34;1m-\u001b[39;22m \u001b[39mInstalling \u001b[39m\u001b[36mnvidia-cusparse-cu12\u001b[39m\u001b[39m (\u001b[39m\u001b[39;1m12.1.0.106\u001b[39;22m\u001b[39m)\u001b[39m: \u001b[34mDownloading...\u001b[39m \u001b[39;1m100%\u001b[39;22m\n",
            "\u001b[2A\u001b[0J  \u001b[34;1m-\u001b[39;22m \u001b[39mInstalling \u001b[39m\u001b[36mnvidia-cusparse-cu12\u001b[39m\u001b[39m (\u001b[39m\u001b[39;1m12.1.0.106\u001b[39;22m\u001b[39m)\u001b[39m: \u001b[34mDownloading...\u001b[39m \u001b[39;1m100%\u001b[39;22m\n",
            "\u001b[1A\u001b[0J  \u001b[34;1m-\u001b[39;22m \u001b[39mInstalling \u001b[39m\u001b[36mnvidia-cublas-cu12\u001b[39m\u001b[39m (\u001b[39m\u001b[39;1m12.1.3.1\u001b[39;22m\u001b[39m)\u001b[39m: \u001b[34mDownloading...\u001b[39m \u001b[39;1m80%\u001b[39;22m\n",
            "  \u001b[34;1m-\u001b[39;22m \u001b[39mInstalling \u001b[39m\u001b[36mnvidia-cusparse-cu12\u001b[39m\u001b[39m (\u001b[39m\u001b[39;1m12.1.0.106\u001b[39;22m\u001b[39m)\u001b[39m: \u001b[34mDownloading...\u001b[39m \u001b[39;1m100%\u001b[39;22m\n",
            "\u001b[1A\u001b[0J  \u001b[34;1m-\u001b[39;22m \u001b[39mInstalling \u001b[39m\u001b[36mnvidia-cusparse-cu12\u001b[39m\u001b[39m (\u001b[39m\u001b[39;1m12.1.0.106\u001b[39;22m\u001b[39m)\u001b[39m: \u001b[34mInstalling...\u001b[39m\n",
            "\u001b[33mInstalling /content/gdrive/MyDrive/test-poetry/.venv/lib/python3.10/site-packages/nvidia/__init__.py over existing file\u001b[39m\n",
            "\u001b[2A\u001b[0J  \u001b[34;1m-\u001b[39;22m \u001b[39mInstalling \u001b[39m\u001b[36mnvidia-cusparse-cu12\u001b[39m\u001b[39m (\u001b[39m\u001b[39;1m12.1.0.106\u001b[39;22m\u001b[39m)\u001b[39m: \u001b[34mInstalling...\u001b[39m\n",
            "\u001b[1A\u001b[0J  \u001b[34;1m-\u001b[39;22m \u001b[39mInstalling \u001b[39m\u001b[36mnvidia-cublas-cu12\u001b[39m\u001b[39m (\u001b[39m\u001b[39;1m12.1.3.1\u001b[39;22m\u001b[39m)\u001b[39m: \u001b[34mDownloading...\u001b[39m \u001b[39;1m86%\u001b[39;22m\n",
            "  \u001b[34;1m-\u001b[39;22m \u001b[39mInstalling \u001b[39m\u001b[36mnvidia-cusparse-cu12\u001b[39m\u001b[39m (\u001b[39m\u001b[39;1m12.1.0.106\u001b[39;22m\u001b[39m)\u001b[39m: \u001b[34mInstalling...\u001b[39m\n",
            "\u001b[2A\u001b[0J  \u001b[34;1m-\u001b[39;22m \u001b[39mInstalling \u001b[39m\u001b[36mnvidia-cusparse-cu12\u001b[39m\u001b[39m (\u001b[39m\u001b[39;1m12.1.0.106\u001b[39;22m\u001b[39m)\u001b[39m: \u001b[34mInstalling...\u001b[39m\n",
            "\u001b[1A\u001b[0J  \u001b[34;1m-\u001b[39;22m \u001b[39mInstalling \u001b[39m\u001b[36mnvidia-cublas-cu12\u001b[39m\u001b[39m (\u001b[39m\u001b[39;1m12.1.3.1\u001b[39;22m\u001b[39m)\u001b[39m: \u001b[34mDownloading...\u001b[39m \u001b[39;1m90%\u001b[39;22m\n",
            "  \u001b[34;1m-\u001b[39;22m \u001b[39mInstalling \u001b[39m\u001b[36mnvidia-cusparse-cu12\u001b[39m\u001b[39m (\u001b[39m\u001b[39;1m12.1.0.106\u001b[39;22m\u001b[39m)\u001b[39m: \u001b[34mInstalling...\u001b[39m\n",
            "\u001b[2A\u001b[0J  \u001b[34;1m-\u001b[39;22m \u001b[39mInstalling \u001b[39m\u001b[36mnvidia-cusparse-cu12\u001b[39m\u001b[39m (\u001b[39m\u001b[39;1m12.1.0.106\u001b[39;22m\u001b[39m)\u001b[39m: \u001b[34mInstalling...\u001b[39m\n",
            "\u001b[1A\u001b[0J  \u001b[34;1m-\u001b[39;22m \u001b[39mInstalling \u001b[39m\u001b[36mnvidia-cublas-cu12\u001b[39m\u001b[39m (\u001b[39m\u001b[39;1m12.1.3.1\u001b[39;22m\u001b[39m)\u001b[39m: \u001b[34mDownloading...\u001b[39m \u001b[39;1m95%\u001b[39;22m\n",
            "  \u001b[34;1m-\u001b[39;22m \u001b[39mInstalling \u001b[39m\u001b[36mnvidia-cusparse-cu12\u001b[39m\u001b[39m (\u001b[39m\u001b[39;1m12.1.0.106\u001b[39;22m\u001b[39m)\u001b[39m: \u001b[34mInstalling...\u001b[39m\n",
            "\u001b[2A\u001b[0J  \u001b[34;1m-\u001b[39;22m \u001b[39mInstalling \u001b[39m\u001b[36mnvidia-cusparse-cu12\u001b[39m\u001b[39m (\u001b[39m\u001b[39;1m12.1.0.106\u001b[39;22m\u001b[39m)\u001b[39m: \u001b[34mInstalling...\u001b[39m\n",
            "\u001b[1A\u001b[0J  \u001b[34;1m-\u001b[39;22m \u001b[39mInstalling \u001b[39m\u001b[36mnvidia-cublas-cu12\u001b[39m\u001b[39m (\u001b[39m\u001b[39;1m12.1.3.1\u001b[39;22m\u001b[39m)\u001b[39m: \u001b[34mDownloading...\u001b[39m \u001b[39;1m100%\u001b[39;22m\n",
            "  \u001b[34;1m-\u001b[39;22m \u001b[39mInstalling \u001b[39m\u001b[36mnvidia-cusparse-cu12\u001b[39m\u001b[39m (\u001b[39m\u001b[39;1m12.1.0.106\u001b[39;22m\u001b[39m)\u001b[39m: \u001b[34mInstalling...\u001b[39m\n",
            "\u001b[2A\u001b[0J  \u001b[34;1m-\u001b[39;22m \u001b[39mInstalling \u001b[39m\u001b[36mnvidia-cusparse-cu12\u001b[39m\u001b[39m (\u001b[39m\u001b[39;1m12.1.0.106\u001b[39;22m\u001b[39m)\u001b[39m: \u001b[34mInstalling...\u001b[39m\n",
            "\u001b[1A\u001b[0J  \u001b[34;1m-\u001b[39;22m \u001b[39mInstalling \u001b[39m\u001b[36mnvidia-cublas-cu12\u001b[39m\u001b[39m (\u001b[39m\u001b[39;1m12.1.3.1\u001b[39;22m\u001b[39m)\u001b[39m: \u001b[34mInstalling...\u001b[39m\n",
            "  \u001b[34;1m-\u001b[39;22m \u001b[39mInstalling \u001b[39m\u001b[36mnvidia-cusparse-cu12\u001b[39m\u001b[39m (\u001b[39m\u001b[39;1m12.1.0.106\u001b[39;22m\u001b[39m)\u001b[39m: \u001b[34mInstalling...\u001b[39m\n",
            "\u001b[33mInstalling /content/gdrive/MyDrive/test-poetry/.venv/lib/python3.10/site-packages/nvidia/__init__.py over existing file\u001b[39m\n",
            "\u001b[1A\u001b[0J  \u001b[32;1m-\u001b[39;22m \u001b[39mInstalling \u001b[39m\u001b[36mnvidia-cusparse-cu12\u001b[39m\u001b[39m (\u001b[39m\u001b[32m12.1.0.106\u001b[39m\u001b[39m)\u001b[39m\n",
            "\u001b[2A\u001b[0J  \u001b[32;1m-\u001b[39;22m \u001b[39mInstalling \u001b[39m\u001b[36mnvidia-cusparse-cu12\u001b[39m\u001b[39m (\u001b[39m\u001b[32m12.1.0.106\u001b[39m\u001b[39m)\u001b[39m\n",
            "\u001b[1A\u001b[0J  \u001b[32;1m-\u001b[39;22m \u001b[39mInstalling \u001b[39m\u001b[36mnvidia-cublas-cu12\u001b[39m\u001b[39m (\u001b[39m\u001b[32m12.1.3.1\u001b[39m\u001b[39m)\u001b[39m\n",
            "  \u001b[32;1m-\u001b[39;22m \u001b[39mInstalling \u001b[39m\u001b[36mnvidia-cusparse-cu12\u001b[39m\u001b[39m (\u001b[39m\u001b[32m12.1.0.106\u001b[39m\u001b[39m)\u001b[39m\n",
            "  \u001b[34;1m-\u001b[39;22m \u001b[39mInstalling \u001b[39m\u001b[36mfsspec\u001b[39m\u001b[39m (\u001b[39m\u001b[39;1m2024.6.0\u001b[39;22m\u001b[39m)\u001b[39m: \u001b[34mPending...\u001b[39m\n",
            "  \u001b[34;1m-\u001b[39;22m \u001b[39mInstalling \u001b[39m\u001b[36mjinja2\u001b[39m\u001b[39m (\u001b[39m\u001b[39;1m3.1.4\u001b[39;22m\u001b[39m)\u001b[39m: \u001b[34mPending...\u001b[39m\n",
            "  \u001b[34;1m-\u001b[39;22m \u001b[39mInstalling \u001b[39m\u001b[36mnetworkx\u001b[39m\u001b[39m (\u001b[39m\u001b[39;1m3.3\u001b[39;22m\u001b[39m)\u001b[39m: \u001b[34mPending...\u001b[39m\n",
            "  \u001b[34;1m-\u001b[39;22m \u001b[39mInstalling \u001b[39m\u001b[36mnvidia-cuda-cupti-cu12\u001b[39m\u001b[39m (\u001b[39m\u001b[39;1m12.1.105\u001b[39;22m\u001b[39m)\u001b[39m: \u001b[34mPending...\u001b[39m\n",
            "  \u001b[34;1m-\u001b[39;22m \u001b[39mInstalling \u001b[39m\u001b[36mnvidia-cuda-nvrtc-cu12\u001b[39m\u001b[39m (\u001b[39m\u001b[39;1m12.1.105\u001b[39;22m\u001b[39m)\u001b[39m: \u001b[34mPending...\u001b[39m\n",
            "  \u001b[34;1m-\u001b[39;22m \u001b[39mInstalling \u001b[39m\u001b[36mnvidia-cuda-runtime-cu12\u001b[39m\u001b[39m (\u001b[39m\u001b[39;1m12.1.105\u001b[39;22m\u001b[39m)\u001b[39m: \u001b[34mPending...\u001b[39m\n",
            "\u001b[2A\u001b[0J  \u001b[34;1m-\u001b[39;22m \u001b[39mInstalling \u001b[39m\u001b[36mnvidia-cuda-runtime-cu12\u001b[39m\u001b[39m (\u001b[39m\u001b[39;1m12.1.105\u001b[39;22m\u001b[39m)\u001b[39m: \u001b[34mPending...\u001b[39m\n",
            "\u001b[1A\u001b[0J  \u001b[34;1m-\u001b[39;22m \u001b[39mInstalling \u001b[39m\u001b[36mnvidia-cuda-nvrtc-cu12\u001b[39m\u001b[39m (\u001b[39m\u001b[39;1m12.1.105\u001b[39;22m\u001b[39m)\u001b[39m: \u001b[34mDownloading...\u001b[39m \u001b[39;1m0%\u001b[39;22m\n",
            "  \u001b[34;1m-\u001b[39;22m \u001b[39mInstalling \u001b[39m\u001b[36mnvidia-cuda-runtime-cu12\u001b[39m\u001b[39m (\u001b[39m\u001b[39;1m12.1.105\u001b[39;22m\u001b[39m)\u001b[39m: \u001b[34mPending...\u001b[39m\n",
            "\u001b[4A\u001b[0J  \u001b[34;1m-\u001b[39;22m \u001b[39mInstalling \u001b[39m\u001b[36mnvidia-cuda-cupti-cu12\u001b[39m\u001b[39m (\u001b[39m\u001b[39;1m12.1.105\u001b[39;22m\u001b[39m)\u001b[39m: \u001b[34mPending...\u001b[39m\n",
            "  \u001b[34;1m-\u001b[39;22m \u001b[39mInstalling \u001b[39m\u001b[36mnvidia-cuda-nvrtc-cu12\u001b[39m\u001b[39m (\u001b[39m\u001b[39;1m12.1.105\u001b[39;22m\u001b[39m)\u001b[39m: \u001b[34mDownloading...\u001b[39m \u001b[39;1m0%\u001b[39;22m\n",
            "  \u001b[34;1m-\u001b[39;22m \u001b[39mInstalling \u001b[39m\u001b[36mnvidia-cuda-runtime-cu12\u001b[39m\u001b[39m (\u001b[39m\u001b[39;1m12.1.105\u001b[39;22m\u001b[39m)\u001b[39m: \u001b[34mPending...\u001b[39m\n",
            "\u001b[3A\u001b[0J  \u001b[34;1m-\u001b[39;22m \u001b[39mInstalling \u001b[39m\u001b[36mnetworkx\u001b[39m\u001b[39m (\u001b[39m\u001b[39;1m3.3\u001b[39;22m\u001b[39m)\u001b[39m: \u001b[34mDownloading...\u001b[39m \u001b[39;1m0%\u001b[39;22m\n",
            "  \u001b[34;1m-\u001b[39;22m \u001b[39mInstalling \u001b[39m\u001b[36mnvidia-cuda-cupti-cu12\u001b[39m\u001b[39m (\u001b[39m\u001b[39;1m12.1.105\u001b[39;22m\u001b[39m)\u001b[39m: \u001b[34mPending...\u001b[39m\n",
            "  \u001b[34;1m-\u001b[39;22m \u001b[39mInstalling \u001b[39m\u001b[36mnvidia-cuda-nvrtc-cu12\u001b[39m\u001b[39m (\u001b[39m\u001b[39;1m12.1.105\u001b[39;22m\u001b[39m)\u001b[39m: \u001b[34mDownloading...\u001b[39m \u001b[39;1m0%\u001b[39;22m\n",
            "  \u001b[34;1m-\u001b[39;22m \u001b[39mInstalling \u001b[39m\u001b[36mnvidia-cuda-runtime-cu12\u001b[39m\u001b[39m (\u001b[39m\u001b[39;1m12.1.105\u001b[39;22m\u001b[39m)\u001b[39m: \u001b[34mPending...\u001b[39m\n",
            "\u001b[3A\u001b[0J  \u001b[34;1m-\u001b[39;22m \u001b[39mInstalling \u001b[39m\u001b[36mnvidia-cuda-nvrtc-cu12\u001b[39m\u001b[39m (\u001b[39m\u001b[39;1m12.1.105\u001b[39;22m\u001b[39m)\u001b[39m: \u001b[34mDownloading...\u001b[39m \u001b[39;1m0%\u001b[39;22m\n",
            "  \u001b[34;1m-\u001b[39;22m \u001b[39mInstalling \u001b[39m\u001b[36mnvidia-cuda-runtime-cu12\u001b[39m\u001b[39m (\u001b[39m\u001b[39;1m12.1.105\u001b[39;22m\u001b[39m)\u001b[39m: \u001b[34mPending...\u001b[39m\n",
            "\u001b[2A\u001b[0J  \u001b[34;1m-\u001b[39;22m \u001b[39mInstalling \u001b[39m\u001b[36mnvidia-cuda-cupti-cu12\u001b[39m\u001b[39m (\u001b[39m\u001b[39;1m12.1.105\u001b[39;22m\u001b[39m)\u001b[39m: \u001b[34mDownloading...\u001b[39m \u001b[39;1m0%\u001b[39;22m\n",
            "  \u001b[34;1m-\u001b[39;22m \u001b[39mInstalling \u001b[39m\u001b[36mnvidia-cuda-nvrtc-cu12\u001b[39m\u001b[39m (\u001b[39m\u001b[39;1m12.1.105\u001b[39;22m\u001b[39m)\u001b[39m: \u001b[34mDownloading...\u001b[39m \u001b[39;1m0%\u001b[39;22m\n",
            "  \u001b[34;1m-\u001b[39;22m \u001b[39mInstalling \u001b[39m\u001b[36mnvidia-cuda-runtime-cu12\u001b[39m\u001b[39m (\u001b[39m\u001b[39;1m12.1.105\u001b[39;22m\u001b[39m)\u001b[39m: \u001b[34mPending...\u001b[39m\n",
            "\u001b[6A\u001b[0J  \u001b[34;1m-\u001b[39;22m \u001b[39mInstalling \u001b[39m\u001b[36mjinja2\u001b[39m\u001b[39m (\u001b[39m\u001b[39;1m3.1.4\u001b[39;22m\u001b[39m)\u001b[39m: \u001b[34mPending...\u001b[39m\n",
            "  \u001b[34;1m-\u001b[39;22m \u001b[39mInstalling \u001b[39m\u001b[36mnetworkx\u001b[39m\u001b[39m (\u001b[39m\u001b[39;1m3.3\u001b[39;22m\u001b[39m)\u001b[39m: \u001b[34mDownloading...\u001b[39m \u001b[39;1m0%\u001b[39;22m\n",
            "  \u001b[34;1m-\u001b[39;22m \u001b[39mInstalling \u001b[39m\u001b[36mnvidia-cuda-cupti-cu12\u001b[39m\u001b[39m (\u001b[39m\u001b[39;1m12.1.105\u001b[39;22m\u001b[39m)\u001b[39m: \u001b[34mDownloading...\u001b[39m \u001b[39;1m0%\u001b[39;22m\n",
            "  \u001b[34;1m-\u001b[39;22m \u001b[39mInstalling \u001b[39m\u001b[36mnvidia-cuda-nvrtc-cu12\u001b[39m\u001b[39m (\u001b[39m\u001b[39;1m12.1.105\u001b[39;22m\u001b[39m)\u001b[39m: \u001b[34mDownloading...\u001b[39m \u001b[39;1m0%\u001b[39;22m\n",
            "  \u001b[34;1m-\u001b[39;22m \u001b[39mInstalling \u001b[39m\u001b[36mnvidia-cuda-runtime-cu12\u001b[39m\u001b[39m (\u001b[39m\u001b[39;1m12.1.105\u001b[39;22m\u001b[39m)\u001b[39m: \u001b[34mPending...\u001b[39m\n",
            "\u001b[5A\u001b[0J  \u001b[34;1m-\u001b[39;22m \u001b[39mInstalling \u001b[39m\u001b[36mfsspec\u001b[39m\u001b[39m (\u001b[39m\u001b[39;1m2024.6.0\u001b[39;22m\u001b[39m)\u001b[39m: \u001b[34mDownloading...\u001b[39m \u001b[39;1m0%\u001b[39;22m\n",
            "  \u001b[34;1m-\u001b[39;22m \u001b[39mInstalling \u001b[39m\u001b[36mjinja2\u001b[39m\u001b[39m (\u001b[39m\u001b[39;1m3.1.4\u001b[39;22m\u001b[39m)\u001b[39m: \u001b[34mPending...\u001b[39m\n",
            "  \u001b[34;1m-\u001b[39;22m \u001b[39mInstalling \u001b[39m\u001b[36mnetworkx\u001b[39m\u001b[39m (\u001b[39m\u001b[39;1m3.3\u001b[39;22m\u001b[39m)\u001b[39m: \u001b[34mDownloading...\u001b[39m \u001b[39;1m0%\u001b[39;22m\n",
            "  \u001b[34;1m-\u001b[39;22m \u001b[39mInstalling \u001b[39m\u001b[36mnvidia-cuda-cupti-cu12\u001b[39m\u001b[39m (\u001b[39m\u001b[39;1m12.1.105\u001b[39;22m\u001b[39m)\u001b[39m: \u001b[34mDownloading...\u001b[39m \u001b[39;1m0%\u001b[39;22m\n",
            "  \u001b[34;1m-\u001b[39;22m \u001b[39mInstalling \u001b[39m\u001b[36mnvidia-cuda-nvrtc-cu12\u001b[39m\u001b[39m (\u001b[39m\u001b[39;1m12.1.105\u001b[39;22m\u001b[39m)\u001b[39m: \u001b[34mDownloading...\u001b[39m \u001b[39;1m0%\u001b[39;22m\n",
            "  \u001b[34;1m-\u001b[39;22m \u001b[39mInstalling \u001b[39m\u001b[36mnvidia-cuda-runtime-cu12\u001b[39m\u001b[39m (\u001b[39m\u001b[39;1m12.1.105\u001b[39;22m\u001b[39m)\u001b[39m: \u001b[34mPending...\u001b[39m\n",
            "\u001b[6A\u001b[0J  \u001b[34;1m-\u001b[39;22m \u001b[39mInstalling \u001b[39m\u001b[36mjinja2\u001b[39m\u001b[39m (\u001b[39m\u001b[39;1m3.1.4\u001b[39;22m\u001b[39m)\u001b[39m: \u001b[34mPending...\u001b[39m\n",
            "  \u001b[34;1m-\u001b[39;22m \u001b[39mInstalling \u001b[39m\u001b[36mnetworkx\u001b[39m\u001b[39m (\u001b[39m\u001b[39;1m3.3\u001b[39;22m\u001b[39m)\u001b[39m: \u001b[34mDownloading...\u001b[39m \u001b[39;1m0%\u001b[39;22m\n",
            "  \u001b[34;1m-\u001b[39;22m \u001b[39mInstalling \u001b[39m\u001b[36mnvidia-cuda-cupti-cu12\u001b[39m\u001b[39m (\u001b[39m\u001b[39;1m12.1.105\u001b[39;22m\u001b[39m)\u001b[39m: \u001b[34mDownloading...\u001b[39m \u001b[39;1m0%\u001b[39;22m\n",
            "  \u001b[34;1m-\u001b[39;22m \u001b[39mInstalling \u001b[39m\u001b[36mnvidia-cuda-nvrtc-cu12\u001b[39m\u001b[39m (\u001b[39m\u001b[39;1m12.1.105\u001b[39;22m\u001b[39m)\u001b[39m: \u001b[34mDownloading...\u001b[39m \u001b[39;1m0%\u001b[39;22m\n",
            "  \u001b[34;1m-\u001b[39;22m \u001b[39mInstalling \u001b[39m\u001b[36mnvidia-cuda-runtime-cu12\u001b[39m\u001b[39m (\u001b[39m\u001b[39;1m12.1.105\u001b[39;22m\u001b[39m)\u001b[39m: \u001b[34mPending...\u001b[39m\n",
            "\u001b[5A\u001b[0J  \u001b[34;1m-\u001b[39;22m \u001b[39mInstalling \u001b[39m\u001b[36mfsspec\u001b[39m\u001b[39m (\u001b[39m\u001b[39;1m2024.6.0\u001b[39;22m\u001b[39m)\u001b[39m: \u001b[34mDownloading...\u001b[39m \u001b[39;1m100%\u001b[39;22m\n",
            "  \u001b[34;1m-\u001b[39;22m \u001b[39mInstalling \u001b[39m\u001b[36mjinja2\u001b[39m\u001b[39m (\u001b[39m\u001b[39;1m3.1.4\u001b[39;22m\u001b[39m)\u001b[39m: \u001b[34mPending...\u001b[39m\n",
            "  \u001b[34;1m-\u001b[39;22m \u001b[39mInstalling \u001b[39m\u001b[36mnetworkx\u001b[39m\u001b[39m (\u001b[39m\u001b[39;1m3.3\u001b[39;22m\u001b[39m)\u001b[39m: \u001b[34mDownloading...\u001b[39m \u001b[39;1m0%\u001b[39;22m\n",
            "  \u001b[34;1m-\u001b[39;22m \u001b[39mInstalling \u001b[39m\u001b[36mnvidia-cuda-cupti-cu12\u001b[39m\u001b[39m (\u001b[39m\u001b[39;1m12.1.105\u001b[39;22m\u001b[39m)\u001b[39m: \u001b[34mDownloading...\u001b[39m \u001b[39;1m0%\u001b[39;22m\n",
            "  \u001b[34;1m-\u001b[39;22m \u001b[39mInstalling \u001b[39m\u001b[36mnvidia-cuda-nvrtc-cu12\u001b[39m\u001b[39m (\u001b[39m\u001b[39;1m12.1.105\u001b[39;22m\u001b[39m)\u001b[39m: \u001b[34mDownloading...\u001b[39m \u001b[39;1m0%\u001b[39;22m\n",
            "  \u001b[34;1m-\u001b[39;22m \u001b[39mInstalling \u001b[39m\u001b[36mnvidia-cuda-runtime-cu12\u001b[39m\u001b[39m (\u001b[39m\u001b[39;1m12.1.105\u001b[39;22m\u001b[39m)\u001b[39m: \u001b[34mPending...\u001b[39m\n",
            "\u001b[6A\u001b[0J  \u001b[34;1m-\u001b[39;22m \u001b[39mInstalling \u001b[39m\u001b[36mjinja2\u001b[39m\u001b[39m (\u001b[39m\u001b[39;1m3.1.4\u001b[39;22m\u001b[39m)\u001b[39m: \u001b[34mPending...\u001b[39m\n",
            "  \u001b[34;1m-\u001b[39;22m \u001b[39mInstalling \u001b[39m\u001b[36mnetworkx\u001b[39m\u001b[39m (\u001b[39m\u001b[39;1m3.3\u001b[39;22m\u001b[39m)\u001b[39m: \u001b[34mDownloading...\u001b[39m \u001b[39;1m0%\u001b[39;22m\n",
            "  \u001b[34;1m-\u001b[39;22m \u001b[39mInstalling \u001b[39m\u001b[36mnvidia-cuda-cupti-cu12\u001b[39m\u001b[39m (\u001b[39m\u001b[39;1m12.1.105\u001b[39;22m\u001b[39m)\u001b[39m: \u001b[34mDownloading...\u001b[39m \u001b[39;1m0%\u001b[39;22m\n",
            "  \u001b[34;1m-\u001b[39;22m \u001b[39mInstalling \u001b[39m\u001b[36mnvidia-cuda-nvrtc-cu12\u001b[39m\u001b[39m (\u001b[39m\u001b[39;1m12.1.105\u001b[39;22m\u001b[39m)\u001b[39m: \u001b[34mDownloading...\u001b[39m \u001b[39;1m0%\u001b[39;22m\n",
            "  \u001b[34;1m-\u001b[39;22m \u001b[39mInstalling \u001b[39m\u001b[36mnvidia-cuda-runtime-cu12\u001b[39m\u001b[39m (\u001b[39m\u001b[39;1m12.1.105\u001b[39;22m\u001b[39m)\u001b[39m: \u001b[34mPending...\u001b[39m\n",
            "\u001b[5A\u001b[0J  \u001b[34;1m-\u001b[39;22m \u001b[39mInstalling \u001b[39m\u001b[36mfsspec\u001b[39m\u001b[39m (\u001b[39m\u001b[39;1m2024.6.0\u001b[39;22m\u001b[39m)\u001b[39m: \u001b[34mInstalling...\u001b[39m\n",
            "  \u001b[34;1m-\u001b[39;22m \u001b[39mInstalling \u001b[39m\u001b[36mjinja2\u001b[39m\u001b[39m (\u001b[39m\u001b[39;1m3.1.4\u001b[39;22m\u001b[39m)\u001b[39m: \u001b[34mPending...\u001b[39m\n",
            "  \u001b[34;1m-\u001b[39;22m \u001b[39mInstalling \u001b[39m\u001b[36mnetworkx\u001b[39m\u001b[39m (\u001b[39m\u001b[39;1m3.3\u001b[39;22m\u001b[39m)\u001b[39m: \u001b[34mDownloading...\u001b[39m \u001b[39;1m0%\u001b[39;22m\n",
            "  \u001b[34;1m-\u001b[39;22m \u001b[39mInstalling \u001b[39m\u001b[36mnvidia-cuda-cupti-cu12\u001b[39m\u001b[39m (\u001b[39m\u001b[39;1m12.1.105\u001b[39;22m\u001b[39m)\u001b[39m: \u001b[34mDownloading...\u001b[39m \u001b[39;1m0%\u001b[39;22m\n",
            "  \u001b[34;1m-\u001b[39;22m \u001b[39mInstalling \u001b[39m\u001b[36mnvidia-cuda-nvrtc-cu12\u001b[39m\u001b[39m (\u001b[39m\u001b[39;1m12.1.105\u001b[39;22m\u001b[39m)\u001b[39m: \u001b[34mDownloading...\u001b[39m \u001b[39;1m0%\u001b[39;22m\n",
            "  \u001b[34;1m-\u001b[39;22m \u001b[39mInstalling \u001b[39m\u001b[36mnvidia-cuda-runtime-cu12\u001b[39m\u001b[39m (\u001b[39m\u001b[39;1m12.1.105\u001b[39;22m\u001b[39m)\u001b[39m: \u001b[34mPending...\u001b[39m\n",
            "\u001b[4A\u001b[0J  \u001b[34;1m-\u001b[39;22m \u001b[39mInstalling \u001b[39m\u001b[36mnvidia-cuda-cupti-cu12\u001b[39m\u001b[39m (\u001b[39m\u001b[39;1m12.1.105\u001b[39;22m\u001b[39m)\u001b[39m: \u001b[34mDownloading...\u001b[39m \u001b[39;1m0%\u001b[39;22m\n",
            "  \u001b[34;1m-\u001b[39;22m \u001b[39mInstalling \u001b[39m\u001b[36mnvidia-cuda-nvrtc-cu12\u001b[39m\u001b[39m (\u001b[39m\u001b[39;1m12.1.105\u001b[39;22m\u001b[39m)\u001b[39m: \u001b[34mDownloading...\u001b[39m \u001b[39;1m0%\u001b[39;22m\n",
            "  \u001b[34;1m-\u001b[39;22m \u001b[39mInstalling \u001b[39m\u001b[36mnvidia-cuda-runtime-cu12\u001b[39m\u001b[39m (\u001b[39m\u001b[39;1m12.1.105\u001b[39;22m\u001b[39m)\u001b[39m: \u001b[34mPending...\u001b[39m\n",
            "\u001b[3A\u001b[0J  \u001b[34;1m-\u001b[39;22m \u001b[39mInstalling \u001b[39m\u001b[36mnetworkx\u001b[39m\u001b[39m (\u001b[39m\u001b[39;1m3.3\u001b[39;22m\u001b[39m)\u001b[39m: \u001b[34mDownloading...\u001b[39m \u001b[39;1m50%\u001b[39;22m\n",
            "  \u001b[34;1m-\u001b[39;22m \u001b[39mInstalling \u001b[39m\u001b[36mnvidia-cuda-cupti-cu12\u001b[39m\u001b[39m (\u001b[39m\u001b[39;1m12.1.105\u001b[39;22m\u001b[39m)\u001b[39m: \u001b[34mDownloading...\u001b[39m \u001b[39;1m0%\u001b[39;22m\n",
            "  \u001b[34;1m-\u001b[39;22m \u001b[39mInstalling \u001b[39m\u001b[36mnvidia-cuda-nvrtc-cu12\u001b[39m\u001b[39m (\u001b[39m\u001b[39;1m12.1.105\u001b[39;22m\u001b[39m)\u001b[39m: \u001b[34mDownloading...\u001b[39m \u001b[39;1m0%\u001b[39;22m\n",
            "  \u001b[34;1m-\u001b[39;22m \u001b[39mInstalling \u001b[39m\u001b[36mnvidia-cuda-runtime-cu12\u001b[39m\u001b[39m (\u001b[39m\u001b[39;1m12.1.105\u001b[39;22m\u001b[39m)\u001b[39m: \u001b[34mPending...\u001b[39m\n",
            "\u001b[3A\u001b[0J  \u001b[34;1m-\u001b[39;22m \u001b[39mInstalling \u001b[39m\u001b[36mnvidia-cuda-nvrtc-cu12\u001b[39m\u001b[39m (\u001b[39m\u001b[39;1m12.1.105\u001b[39;22m\u001b[39m)\u001b[39m: \u001b[34mDownloading...\u001b[39m \u001b[39;1m0%\u001b[39;22m\n",
            "  \u001b[34;1m-\u001b[39;22m \u001b[39mInstalling \u001b[39m\u001b[36mnvidia-cuda-runtime-cu12\u001b[39m\u001b[39m (\u001b[39m\u001b[39;1m12.1.105\u001b[39;22m\u001b[39m)\u001b[39m: \u001b[34mPending...\u001b[39m\n",
            "\u001b[2A\u001b[0J  \u001b[34;1m-\u001b[39;22m \u001b[39mInstalling \u001b[39m\u001b[36mnvidia-cuda-cupti-cu12\u001b[39m\u001b[39m (\u001b[39m\u001b[39;1m12.1.105\u001b[39;22m\u001b[39m)\u001b[39m: \u001b[34mDownloading...\u001b[39m \u001b[39;1m10%\u001b[39;22m\n",
            "  \u001b[34;1m-\u001b[39;22m \u001b[39mInstalling \u001b[39m\u001b[36mnvidia-cuda-nvrtc-cu12\u001b[39m\u001b[39m (\u001b[39m\u001b[39;1m12.1.105\u001b[39;22m\u001b[39m)\u001b[39m: \u001b[34mDownloading...\u001b[39m \u001b[39;1m0%\u001b[39;22m\n",
            "  \u001b[34;1m-\u001b[39;22m \u001b[39mInstalling \u001b[39m\u001b[36mnvidia-cuda-runtime-cu12\u001b[39m\u001b[39m (\u001b[39m\u001b[39;1m12.1.105\u001b[39;22m\u001b[39m)\u001b[39m: \u001b[34mPending...\u001b[39m\n",
            "\u001b[4A\u001b[0J  \u001b[34;1m-\u001b[39;22m \u001b[39mInstalling \u001b[39m\u001b[36mnvidia-cuda-cupti-cu12\u001b[39m\u001b[39m (\u001b[39m\u001b[39;1m12.1.105\u001b[39;22m\u001b[39m)\u001b[39m: \u001b[34mDownloading...\u001b[39m \u001b[39;1m10%\u001b[39;22m\n",
            "  \u001b[34;1m-\u001b[39;22m \u001b[39mInstalling \u001b[39m\u001b[36mnvidia-cuda-nvrtc-cu12\u001b[39m\u001b[39m (\u001b[39m\u001b[39;1m12.1.105\u001b[39;22m\u001b[39m)\u001b[39m: \u001b[34mDownloading...\u001b[39m \u001b[39;1m0%\u001b[39;22m\n",
            "  \u001b[34;1m-\u001b[39;22m \u001b[39mInstalling \u001b[39m\u001b[36mnvidia-cuda-runtime-cu12\u001b[39m\u001b[39m (\u001b[39m\u001b[39;1m12.1.105\u001b[39;22m\u001b[39m)\u001b[39m: \u001b[34mPending...\u001b[39m\n",
            "\u001b[3A\u001b[0J  \u001b[34;1m-\u001b[39;22m \u001b[39mInstalling \u001b[39m\u001b[36mnetworkx\u001b[39m\u001b[39m (\u001b[39m\u001b[39;1m3.3\u001b[39;22m\u001b[39m)\u001b[39m: \u001b[34mDownloading...\u001b[39m \u001b[39;1m100%\u001b[39;22m\n",
            "  \u001b[34;1m-\u001b[39;22m \u001b[39mInstalling \u001b[39m\u001b[36mnvidia-cuda-cupti-cu12\u001b[39m\u001b[39m (\u001b[39m\u001b[39;1m12.1.105\u001b[39;22m\u001b[39m)\u001b[39m: \u001b[34mDownloading...\u001b[39m \u001b[39;1m10%\u001b[39;22m\n",
            "  \u001b[34;1m-\u001b[39;22m \u001b[39mInstalling \u001b[39m\u001b[36mnvidia-cuda-nvrtc-cu12\u001b[39m\u001b[39m (\u001b[39m\u001b[39;1m12.1.105\u001b[39;22m\u001b[39m)\u001b[39m: \u001b[34mDownloading...\u001b[39m \u001b[39;1m0%\u001b[39;22m\n",
            "  \u001b[34;1m-\u001b[39;22m \u001b[39mInstalling \u001b[39m\u001b[36mnvidia-cuda-runtime-cu12\u001b[39m\u001b[39m (\u001b[39m\u001b[39;1m12.1.105\u001b[39;22m\u001b[39m)\u001b[39m: \u001b[34mPending...\u001b[39m\n",
            "\u001b[2A\u001b[0J  \u001b[34;1m-\u001b[39;22m \u001b[39mInstalling \u001b[39m\u001b[36mnvidia-cuda-runtime-cu12\u001b[39m\u001b[39m (\u001b[39m\u001b[39;1m12.1.105\u001b[39;22m\u001b[39m)\u001b[39m: \u001b[34mPending...\u001b[39m\n",
            "\u001b[1A\u001b[0J  \u001b[34;1m-\u001b[39;22m \u001b[39mInstalling \u001b[39m\u001b[36mnvidia-cuda-nvrtc-cu12\u001b[39m\u001b[39m (\u001b[39m\u001b[39;1m12.1.105\u001b[39;22m\u001b[39m)\u001b[39m: \u001b[34mDownloading...\u001b[39m \u001b[39;1m10%\u001b[39;22m\n",
            "  \u001b[34;1m-\u001b[39;22m \u001b[39mInstalling \u001b[39m\u001b[36mnvidia-cuda-runtime-cu12\u001b[39m\u001b[39m (\u001b[39m\u001b[39;1m12.1.105\u001b[39;22m\u001b[39m)\u001b[39m: \u001b[34mPending...\u001b[39m\n",
            "\u001b[4A\u001b[0J  \u001b[34;1m-\u001b[39;22m \u001b[39mInstalling \u001b[39m\u001b[36mnvidia-cuda-cupti-cu12\u001b[39m\u001b[39m (\u001b[39m\u001b[39;1m12.1.105\u001b[39;22m\u001b[39m)\u001b[39m: \u001b[34mDownloading...\u001b[39m \u001b[39;1m10%\u001b[39;22m\n",
            "  \u001b[34;1m-\u001b[39;22m \u001b[39mInstalling \u001b[39m\u001b[36mnvidia-cuda-nvrtc-cu12\u001b[39m\u001b[39m (\u001b[39m\u001b[39;1m12.1.105\u001b[39;22m\u001b[39m)\u001b[39m: \u001b[34mDownloading...\u001b[39m \u001b[39;1m10%\u001b[39;22m\n",
            "  \u001b[34;1m-\u001b[39;22m \u001b[39mInstalling \u001b[39m\u001b[36mnvidia-cuda-runtime-cu12\u001b[39m\u001b[39m (\u001b[39m\u001b[39;1m12.1.105\u001b[39;22m\u001b[39m)\u001b[39m: \u001b[34mPending...\u001b[39m\n",
            "\u001b[3A\u001b[0J  \u001b[34;1m-\u001b[39;22m \u001b[39mInstalling \u001b[39m\u001b[36mnetworkx\u001b[39m\u001b[39m (\u001b[39m\u001b[39;1m3.3\u001b[39;22m\u001b[39m)\u001b[39m: \u001b[34mInstalling...\u001b[39m\n",
            "  \u001b[34;1m-\u001b[39;22m \u001b[39mInstalling \u001b[39m\u001b[36mnvidia-cuda-cupti-cu12\u001b[39m\u001b[39m (\u001b[39m\u001b[39;1m12.1.105\u001b[39;22m\u001b[39m)\u001b[39m: \u001b[34mDownloading...\u001b[39m \u001b[39;1m10%\u001b[39;22m\n",
            "  \u001b[34;1m-\u001b[39;22m \u001b[39mInstalling \u001b[39m\u001b[36mnvidia-cuda-nvrtc-cu12\u001b[39m\u001b[39m (\u001b[39m\u001b[39;1m12.1.105\u001b[39;22m\u001b[39m)\u001b[39m: \u001b[34mDownloading...\u001b[39m \u001b[39;1m10%\u001b[39;22m\n",
            "  \u001b[34;1m-\u001b[39;22m \u001b[39mInstalling \u001b[39m\u001b[36mnvidia-cuda-runtime-cu12\u001b[39m\u001b[39m (\u001b[39m\u001b[39;1m12.1.105\u001b[39;22m\u001b[39m)\u001b[39m: \u001b[34mPending...\u001b[39m\n",
            "\u001b[3A\u001b[0J  \u001b[34;1m-\u001b[39;22m \u001b[39mInstalling \u001b[39m\u001b[36mnvidia-cuda-nvrtc-cu12\u001b[39m\u001b[39m (\u001b[39m\u001b[39;1m12.1.105\u001b[39;22m\u001b[39m)\u001b[39m: \u001b[34mDownloading...\u001b[39m \u001b[39;1m10%\u001b[39;22m\n",
            "  \u001b[34;1m-\u001b[39;22m \u001b[39mInstalling \u001b[39m\u001b[36mnvidia-cuda-runtime-cu12\u001b[39m\u001b[39m (\u001b[39m\u001b[39;1m12.1.105\u001b[39;22m\u001b[39m)\u001b[39m: \u001b[34mPending...\u001b[39m\n",
            "\u001b[2A\u001b[0J  \u001b[34;1m-\u001b[39;22m \u001b[39mInstalling \u001b[39m\u001b[36mnvidia-cuda-cupti-cu12\u001b[39m\u001b[39m (\u001b[39m\u001b[39;1m12.1.105\u001b[39;22m\u001b[39m)\u001b[39m: \u001b[34mDownloading...\u001b[39m \u001b[39;1m20%\u001b[39;22m\n",
            "  \u001b[34;1m-\u001b[39;22m \u001b[39mInstalling \u001b[39m\u001b[36mnvidia-cuda-nvrtc-cu12\u001b[39m\u001b[39m (\u001b[39m\u001b[39;1m12.1.105\u001b[39;22m\u001b[39m)\u001b[39m: \u001b[34mDownloading...\u001b[39m \u001b[39;1m10%\u001b[39;22m\n",
            "  \u001b[34;1m-\u001b[39;22m \u001b[39mInstalling \u001b[39m\u001b[36mnvidia-cuda-runtime-cu12\u001b[39m\u001b[39m (\u001b[39m\u001b[39;1m12.1.105\u001b[39;22m\u001b[39m)\u001b[39m: \u001b[34mPending...\u001b[39m\n",
            "\u001b[3A\u001b[0J  \u001b[34;1m-\u001b[39;22m \u001b[39mInstalling \u001b[39m\u001b[36mnvidia-cuda-nvrtc-cu12\u001b[39m\u001b[39m (\u001b[39m\u001b[39;1m12.1.105\u001b[39;22m\u001b[39m)\u001b[39m: \u001b[34mDownloading...\u001b[39m \u001b[39;1m10%\u001b[39;22m\n",
            "  \u001b[34;1m-\u001b[39;22m \u001b[39mInstalling \u001b[39m\u001b[36mnvidia-cuda-runtime-cu12\u001b[39m\u001b[39m (\u001b[39m\u001b[39;1m12.1.105\u001b[39;22m\u001b[39m)\u001b[39m: \u001b[34mPending...\u001b[39m\n",
            "\u001b[2A\u001b[0J  \u001b[34;1m-\u001b[39;22m \u001b[39mInstalling \u001b[39m\u001b[36mnvidia-cuda-cupti-cu12\u001b[39m\u001b[39m (\u001b[39m\u001b[39;1m12.1.105\u001b[39;22m\u001b[39m)\u001b[39m: \u001b[34mDownloading...\u001b[39m \u001b[39;1m30%\u001b[39;22m\n",
            "  \u001b[34;1m-\u001b[39;22m \u001b[39mInstalling \u001b[39m\u001b[36mnvidia-cuda-nvrtc-cu12\u001b[39m\u001b[39m (\u001b[39m\u001b[39;1m12.1.105\u001b[39;22m\u001b[39m)\u001b[39m: \u001b[34mDownloading...\u001b[39m \u001b[39;1m10%\u001b[39;22m\n",
            "  \u001b[34;1m-\u001b[39;22m \u001b[39mInstalling \u001b[39m\u001b[36mnvidia-cuda-runtime-cu12\u001b[39m\u001b[39m (\u001b[39m\u001b[39;1m12.1.105\u001b[39;22m\u001b[39m)\u001b[39m: \u001b[34mPending...\u001b[39m\n",
            "\u001b[2A\u001b[0J  \u001b[34;1m-\u001b[39;22m \u001b[39mInstalling \u001b[39m\u001b[36mnvidia-cuda-runtime-cu12\u001b[39m\u001b[39m (\u001b[39m\u001b[39;1m12.1.105\u001b[39;22m\u001b[39m)\u001b[39m: \u001b[34mPending...\u001b[39m\n",
            "\u001b[1A\u001b[0J  \u001b[34;1m-\u001b[39;22m \u001b[39mInstalling \u001b[39m\u001b[36mnvidia-cuda-nvrtc-cu12\u001b[39m\u001b[39m (\u001b[39m\u001b[39;1m12.1.105\u001b[39;22m\u001b[39m)\u001b[39m: \u001b[34mDownloading...\u001b[39m \u001b[39;1m20%\u001b[39;22m\n",
            "  \u001b[34;1m-\u001b[39;22m \u001b[39mInstalling \u001b[39m\u001b[36mnvidia-cuda-runtime-cu12\u001b[39m\u001b[39m (\u001b[39m\u001b[39;1m12.1.105\u001b[39;22m\u001b[39m)\u001b[39m: \u001b[34mPending...\u001b[39m\n",
            "\u001b[1A\u001b[0J  \u001b[34;1m-\u001b[39;22m \u001b[39mInstalling \u001b[39m\u001b[36mnvidia-cuda-runtime-cu12\u001b[39m\u001b[39m (\u001b[39m\u001b[39;1m12.1.105\u001b[39;22m\u001b[39m)\u001b[39m: \u001b[34mDownloading...\u001b[39m \u001b[39;1m0%\u001b[39;22m\n",
            "\u001b[5A\u001b[0J  \u001b[34;1m-\u001b[39;22m \u001b[39mInstalling \u001b[39m\u001b[36mnetworkx\u001b[39m\u001b[39m (\u001b[39m\u001b[39;1m3.3\u001b[39;22m\u001b[39m)\u001b[39m: \u001b[34mInstalling...\u001b[39m\n",
            "  \u001b[34;1m-\u001b[39;22m \u001b[39mInstalling \u001b[39m\u001b[36mnvidia-cuda-cupti-cu12\u001b[39m\u001b[39m (\u001b[39m\u001b[39;1m12.1.105\u001b[39;22m\u001b[39m)\u001b[39m: \u001b[34mDownloading...\u001b[39m \u001b[39;1m30%\u001b[39;22m\n",
            "  \u001b[34;1m-\u001b[39;22m \u001b[39mInstalling \u001b[39m\u001b[36mnvidia-cuda-nvrtc-cu12\u001b[39m\u001b[39m (\u001b[39m\u001b[39;1m12.1.105\u001b[39;22m\u001b[39m)\u001b[39m: \u001b[34mDownloading...\u001b[39m \u001b[39;1m20%\u001b[39;22m\n",
            "  \u001b[34;1m-\u001b[39;22m \u001b[39mInstalling \u001b[39m\u001b[36mnvidia-cuda-runtime-cu12\u001b[39m\u001b[39m (\u001b[39m\u001b[39;1m12.1.105\u001b[39;22m\u001b[39m)\u001b[39m: \u001b[34mDownloading...\u001b[39m \u001b[39;1m0%\u001b[39;22m\n",
            "\u001b[4A\u001b[0J  \u001b[34;1m-\u001b[39;22m \u001b[39mInstalling \u001b[39m\u001b[36mjinja2\u001b[39m\u001b[39m (\u001b[39m\u001b[39;1m3.1.4\u001b[39;22m\u001b[39m)\u001b[39m: \u001b[34mDownloading...\u001b[39m \u001b[39;1m0%\u001b[39;22m\n",
            "  \u001b[34;1m-\u001b[39;22m \u001b[39mInstalling \u001b[39m\u001b[36mnetworkx\u001b[39m\u001b[39m (\u001b[39m\u001b[39;1m3.3\u001b[39;22m\u001b[39m)\u001b[39m: \u001b[34mInstalling...\u001b[39m\n",
            "  \u001b[34;1m-\u001b[39;22m \u001b[39mInstalling \u001b[39m\u001b[36mnvidia-cuda-cupti-cu12\u001b[39m\u001b[39m (\u001b[39m\u001b[39;1m12.1.105\u001b[39;22m\u001b[39m)\u001b[39m: \u001b[34mDownloading...\u001b[39m \u001b[39;1m30%\u001b[39;22m\n",
            "  \u001b[34;1m-\u001b[39;22m \u001b[39mInstalling \u001b[39m\u001b[36mnvidia-cuda-nvrtc-cu12\u001b[39m\u001b[39m (\u001b[39m\u001b[39;1m12.1.105\u001b[39;22m\u001b[39m)\u001b[39m: \u001b[34mDownloading...\u001b[39m \u001b[39;1m20%\u001b[39;22m\n",
            "  \u001b[34;1m-\u001b[39;22m \u001b[39mInstalling \u001b[39m\u001b[36mnvidia-cuda-runtime-cu12\u001b[39m\u001b[39m (\u001b[39m\u001b[39;1m12.1.105\u001b[39;22m\u001b[39m)\u001b[39m: \u001b[34mDownloading...\u001b[39m \u001b[39;1m0%\u001b[39;22m\n",
            "\u001b[3A\u001b[0J  \u001b[34;1m-\u001b[39;22m \u001b[39mInstalling \u001b[39m\u001b[36mnvidia-cuda-nvrtc-cu12\u001b[39m\u001b[39m (\u001b[39m\u001b[39;1m12.1.105\u001b[39;22m\u001b[39m)\u001b[39m: \u001b[34mDownloading...\u001b[39m \u001b[39;1m20%\u001b[39;22m\n",
            "  \u001b[34;1m-\u001b[39;22m \u001b[39mInstalling \u001b[39m\u001b[36mnvidia-cuda-runtime-cu12\u001b[39m\u001b[39m (\u001b[39m\u001b[39;1m12.1.105\u001b[39;22m\u001b[39m)\u001b[39m: \u001b[34mDownloading...\u001b[39m \u001b[39;1m0%\u001b[39;22m\n",
            "\u001b[2A\u001b[0J  \u001b[34;1m-\u001b[39;22m \u001b[39mInstalling \u001b[39m\u001b[36mnvidia-cuda-cupti-cu12\u001b[39m\u001b[39m (\u001b[39m\u001b[39;1m12.1.105\u001b[39;22m\u001b[39m)\u001b[39m: \u001b[34mDownloading...\u001b[39m \u001b[39;1m40%\u001b[39;22m\n",
            "  \u001b[34;1m-\u001b[39;22m \u001b[39mInstalling \u001b[39m\u001b[36mnvidia-cuda-nvrtc-cu12\u001b[39m\u001b[39m (\u001b[39m\u001b[39;1m12.1.105\u001b[39;22m\u001b[39m)\u001b[39m: \u001b[34mDownloading...\u001b[39m \u001b[39;1m20%\u001b[39;22m\n",
            "  \u001b[34;1m-\u001b[39;22m \u001b[39mInstalling \u001b[39m\u001b[36mnvidia-cuda-runtime-cu12\u001b[39m\u001b[39m (\u001b[39m\u001b[39;1m12.1.105\u001b[39;22m\u001b[39m)\u001b[39m: \u001b[34mDownloading...\u001b[39m \u001b[39;1m0%\u001b[39;22m\n",
            "\u001b[1A\u001b[0J  \u001b[34;1m-\u001b[39;22m \u001b[39mInstalling \u001b[39m\u001b[36mnvidia-cuda-runtime-cu12\u001b[39m\u001b[39m (\u001b[39m\u001b[39;1m12.1.105\u001b[39;22m\u001b[39m)\u001b[39m: \u001b[34mDownloading...\u001b[39m \u001b[39;1m20%\u001b[39;22m\n",
            "\u001b[2A\u001b[0J  \u001b[34;1m-\u001b[39;22m \u001b[39mInstalling \u001b[39m\u001b[36mnvidia-cuda-runtime-cu12\u001b[39m\u001b[39m (\u001b[39m\u001b[39;1m12.1.105\u001b[39;22m\u001b[39m)\u001b[39m: \u001b[34mDownloading...\u001b[39m \u001b[39;1m20%\u001b[39;22m\n",
            "\u001b[1A\u001b[0J  \u001b[34;1m-\u001b[39;22m \u001b[39mInstalling \u001b[39m\u001b[36mnvidia-cuda-nvrtc-cu12\u001b[39m\u001b[39m (\u001b[39m\u001b[39;1m12.1.105\u001b[39;22m\u001b[39m)\u001b[39m: \u001b[34mDownloading...\u001b[39m \u001b[39;1m30%\u001b[39;22m\n",
            "  \u001b[34;1m-\u001b[39;22m \u001b[39mInstalling \u001b[39m\u001b[36mnvidia-cuda-runtime-cu12\u001b[39m\u001b[39m (\u001b[39m\u001b[39;1m12.1.105\u001b[39;22m\u001b[39m)\u001b[39m: \u001b[34mDownloading...\u001b[39m \u001b[39;1m20%\u001b[39;22m\n",
            "\u001b[5A\u001b[0J  \u001b[34;1m-\u001b[39;22m \u001b[39mInstalling \u001b[39m\u001b[36mnetworkx\u001b[39m\u001b[39m (\u001b[39m\u001b[39;1m3.3\u001b[39;22m\u001b[39m)\u001b[39m: \u001b[34mInstalling...\u001b[39m\n",
            "  \u001b[34;1m-\u001b[39;22m \u001b[39mInstalling \u001b[39m\u001b[36mnvidia-cuda-cupti-cu12\u001b[39m\u001b[39m (\u001b[39m\u001b[39;1m12.1.105\u001b[39;22m\u001b[39m)\u001b[39m: \u001b[34mDownloading...\u001b[39m \u001b[39;1m40%\u001b[39;22m\n",
            "  \u001b[34;1m-\u001b[39;22m \u001b[39mInstalling \u001b[39m\u001b[36mnvidia-cuda-nvrtc-cu12\u001b[39m\u001b[39m (\u001b[39m\u001b[39;1m12.1.105\u001b[39;22m\u001b[39m)\u001b[39m: \u001b[34mDownloading...\u001b[39m \u001b[39;1m30%\u001b[39;22m\n",
            "  \u001b[34;1m-\u001b[39;22m \u001b[39mInstalling \u001b[39m\u001b[36mnvidia-cuda-runtime-cu12\u001b[39m\u001b[39m (\u001b[39m\u001b[39;1m12.1.105\u001b[39;22m\u001b[39m)\u001b[39m: \u001b[34mDownloading...\u001b[39m \u001b[39;1m20%\u001b[39;22m\n",
            "\u001b[4A\u001b[0J  \u001b[34;1m-\u001b[39;22m \u001b[39mInstalling \u001b[39m\u001b[36mjinja2\u001b[39m\u001b[39m (\u001b[39m\u001b[39;1m3.1.4\u001b[39;22m\u001b[39m)\u001b[39m: \u001b[34mDownloading...\u001b[39m \u001b[39;1m30%\u001b[39;22m\n",
            "  \u001b[34;1m-\u001b[39;22m \u001b[39mInstalling \u001b[39m\u001b[36mnetworkx\u001b[39m\u001b[39m (\u001b[39m\u001b[39;1m3.3\u001b[39;22m\u001b[39m)\u001b[39m: \u001b[34mInstalling...\u001b[39m\n",
            "  \u001b[34;1m-\u001b[39;22m \u001b[39mInstalling \u001b[39m\u001b[36mnvidia-cuda-cupti-cu12\u001b[39m\u001b[39m (\u001b[39m\u001b[39;1m12.1.105\u001b[39;22m\u001b[39m)\u001b[39m: \u001b[34mDownloading...\u001b[39m \u001b[39;1m40%\u001b[39;22m\n",
            "  \u001b[34;1m-\u001b[39;22m \u001b[39mInstalling \u001b[39m\u001b[36mnvidia-cuda-nvrtc-cu12\u001b[39m\u001b[39m (\u001b[39m\u001b[39;1m12.1.105\u001b[39;22m\u001b[39m)\u001b[39m: \u001b[34mDownloading...\u001b[39m \u001b[39;1m30%\u001b[39;22m\n",
            "  \u001b[34;1m-\u001b[39;22m \u001b[39mInstalling \u001b[39m\u001b[36mnvidia-cuda-runtime-cu12\u001b[39m\u001b[39m (\u001b[39m\u001b[39;1m12.1.105\u001b[39;22m\u001b[39m)\u001b[39m: \u001b[34mDownloading...\u001b[39m \u001b[39;1m20%\u001b[39;22m\n",
            "\u001b[1A\u001b[0J  \u001b[34;1m-\u001b[39;22m \u001b[39mInstalling \u001b[39m\u001b[36mnvidia-cuda-runtime-cu12\u001b[39m\u001b[39m (\u001b[39m\u001b[39;1m12.1.105\u001b[39;22m\u001b[39m)\u001b[39m: \u001b[34mDownloading...\u001b[39m \u001b[39;1m100%\u001b[39;22m\n",
            "\u001b[5A\u001b[0J  \u001b[34;1m-\u001b[39;22m \u001b[39mInstalling \u001b[39m\u001b[36mnetworkx\u001b[39m\u001b[39m (\u001b[39m\u001b[39;1m3.3\u001b[39;22m\u001b[39m)\u001b[39m: \u001b[34mInstalling...\u001b[39m\n",
            "  \u001b[34;1m-\u001b[39;22m \u001b[39mInstalling \u001b[39m\u001b[36mnvidia-cuda-cupti-cu12\u001b[39m\u001b[39m (\u001b[39m\u001b[39;1m12.1.105\u001b[39;22m\u001b[39m)\u001b[39m: \u001b[34mDownloading...\u001b[39m \u001b[39;1m40%\u001b[39;22m\n",
            "  \u001b[34;1m-\u001b[39;22m \u001b[39mInstalling \u001b[39m\u001b[36mnvidia-cuda-nvrtc-cu12\u001b[39m\u001b[39m (\u001b[39m\u001b[39;1m12.1.105\u001b[39;22m\u001b[39m)\u001b[39m: \u001b[34mDownloading...\u001b[39m \u001b[39;1m30%\u001b[39;22m\n",
            "  \u001b[34;1m-\u001b[39;22m \u001b[39mInstalling \u001b[39m\u001b[36mnvidia-cuda-runtime-cu12\u001b[39m\u001b[39m (\u001b[39m\u001b[39;1m12.1.105\u001b[39;22m\u001b[39m)\u001b[39m: \u001b[34mDownloading...\u001b[39m \u001b[39;1m100%\u001b[39;22m\n",
            "\u001b[4A\u001b[0J  \u001b[34;1m-\u001b[39;22m \u001b[39mInstalling \u001b[39m\u001b[36mjinja2\u001b[39m\u001b[39m (\u001b[39m\u001b[39;1m3.1.4\u001b[39;22m\u001b[39m)\u001b[39m: \u001b[34mDownloading...\u001b[39m \u001b[39;1m100%\u001b[39;22m\n",
            "  \u001b[34;1m-\u001b[39;22m \u001b[39mInstalling \u001b[39m\u001b[36mnetworkx\u001b[39m\u001b[39m (\u001b[39m\u001b[39;1m3.3\u001b[39;22m\u001b[39m)\u001b[39m: \u001b[34mInstalling...\u001b[39m\n",
            "  \u001b[34;1m-\u001b[39;22m \u001b[39mInstalling \u001b[39m\u001b[36mnvidia-cuda-cupti-cu12\u001b[39m\u001b[39m (\u001b[39m\u001b[39;1m12.1.105\u001b[39;22m\u001b[39m)\u001b[39m: \u001b[34mDownloading...\u001b[39m \u001b[39;1m40%\u001b[39;22m\n",
            "  \u001b[34;1m-\u001b[39;22m \u001b[39mInstalling \u001b[39m\u001b[36mnvidia-cuda-nvrtc-cu12\u001b[39m\u001b[39m (\u001b[39m\u001b[39;1m12.1.105\u001b[39;22m\u001b[39m)\u001b[39m: \u001b[34mDownloading...\u001b[39m \u001b[39;1m30%\u001b[39;22m\n",
            "  \u001b[34;1m-\u001b[39;22m \u001b[39mInstalling \u001b[39m\u001b[36mnvidia-cuda-runtime-cu12\u001b[39m\u001b[39m (\u001b[39m\u001b[39;1m12.1.105\u001b[39;22m\u001b[39m)\u001b[39m: \u001b[34mDownloading...\u001b[39m \u001b[39;1m100%\u001b[39;22m\n",
            "\u001b[3A\u001b[0J  \u001b[34;1m-\u001b[39;22m \u001b[39mInstalling \u001b[39m\u001b[36mnvidia-cuda-nvrtc-cu12\u001b[39m\u001b[39m (\u001b[39m\u001b[39;1m12.1.105\u001b[39;22m\u001b[39m)\u001b[39m: \u001b[34mDownloading...\u001b[39m \u001b[39;1m30%\u001b[39;22m\n",
            "  \u001b[34;1m-\u001b[39;22m \u001b[39mInstalling \u001b[39m\u001b[36mnvidia-cuda-runtime-cu12\u001b[39m\u001b[39m (\u001b[39m\u001b[39;1m12.1.105\u001b[39;22m\u001b[39m)\u001b[39m: \u001b[34mDownloading...\u001b[39m \u001b[39;1m100%\u001b[39;22m\n",
            "\u001b[2A\u001b[0J  \u001b[34;1m-\u001b[39;22m \u001b[39mInstalling \u001b[39m\u001b[36mnvidia-cuda-cupti-cu12\u001b[39m\u001b[39m (\u001b[39m\u001b[39;1m12.1.105\u001b[39;22m\u001b[39m)\u001b[39m: \u001b[34mDownloading...\u001b[39m \u001b[39;1m50%\u001b[39;22m\n",
            "  \u001b[34;1m-\u001b[39;22m \u001b[39mInstalling \u001b[39m\u001b[36mnvidia-cuda-nvrtc-cu12\u001b[39m\u001b[39m (\u001b[39m\u001b[39;1m12.1.105\u001b[39;22m\u001b[39m)\u001b[39m: \u001b[34mDownloading...\u001b[39m \u001b[39;1m30%\u001b[39;22m\n",
            "  \u001b[34;1m-\u001b[39;22m \u001b[39mInstalling \u001b[39m\u001b[36mnvidia-cuda-runtime-cu12\u001b[39m\u001b[39m (\u001b[39m\u001b[39;1m12.1.105\u001b[39;22m\u001b[39m)\u001b[39m: \u001b[34mDownloading...\u001b[39m \u001b[39;1m100%\u001b[39;22m\n",
            "\u001b[5A\u001b[0J  \u001b[34;1m-\u001b[39;22m \u001b[39mInstalling \u001b[39m\u001b[36mnetworkx\u001b[39m\u001b[39m (\u001b[39m\u001b[39;1m3.3\u001b[39;22m\u001b[39m)\u001b[39m: \u001b[34mInstalling...\u001b[39m\n",
            "  \u001b[34;1m-\u001b[39;22m \u001b[39mInstalling \u001b[39m\u001b[36mnvidia-cuda-cupti-cu12\u001b[39m\u001b[39m (\u001b[39m\u001b[39;1m12.1.105\u001b[39;22m\u001b[39m)\u001b[39m: \u001b[34mDownloading...\u001b[39m \u001b[39;1m50%\u001b[39;22m\n",
            "  \u001b[34;1m-\u001b[39;22m \u001b[39mInstalling \u001b[39m\u001b[36mnvidia-cuda-nvrtc-cu12\u001b[39m\u001b[39m (\u001b[39m\u001b[39;1m12.1.105\u001b[39;22m\u001b[39m)\u001b[39m: \u001b[34mDownloading...\u001b[39m \u001b[39;1m30%\u001b[39;22m\n",
            "  \u001b[34;1m-\u001b[39;22m \u001b[39mInstalling \u001b[39m\u001b[36mnvidia-cuda-runtime-cu12\u001b[39m\u001b[39m (\u001b[39m\u001b[39;1m12.1.105\u001b[39;22m\u001b[39m)\u001b[39m: \u001b[34mDownloading...\u001b[39m \u001b[39;1m100%\u001b[39;22m\n",
            "\u001b[4A\u001b[0J  \u001b[34;1m-\u001b[39;22m \u001b[39mInstalling \u001b[39m\u001b[36mjinja2\u001b[39m\u001b[39m (\u001b[39m\u001b[39;1m3.1.4\u001b[39;22m\u001b[39m)\u001b[39m: \u001b[34mInstalling...\u001b[39m\n",
            "  \u001b[34;1m-\u001b[39;22m \u001b[39mInstalling \u001b[39m\u001b[36mnetworkx\u001b[39m\u001b[39m (\u001b[39m\u001b[39;1m3.3\u001b[39;22m\u001b[39m)\u001b[39m: \u001b[34mInstalling...\u001b[39m\n",
            "  \u001b[34;1m-\u001b[39;22m \u001b[39mInstalling \u001b[39m\u001b[36mnvidia-cuda-cupti-cu12\u001b[39m\u001b[39m (\u001b[39m\u001b[39;1m12.1.105\u001b[39;22m\u001b[39m)\u001b[39m: \u001b[34mDownloading...\u001b[39m \u001b[39;1m50%\u001b[39;22m\n",
            "  \u001b[34;1m-\u001b[39;22m \u001b[39mInstalling \u001b[39m\u001b[36mnvidia-cuda-nvrtc-cu12\u001b[39m\u001b[39m (\u001b[39m\u001b[39;1m12.1.105\u001b[39;22m\u001b[39m)\u001b[39m: \u001b[34mDownloading...\u001b[39m \u001b[39;1m30%\u001b[39;22m\n",
            "  \u001b[34;1m-\u001b[39;22m \u001b[39mInstalling \u001b[39m\u001b[36mnvidia-cuda-runtime-cu12\u001b[39m\u001b[39m (\u001b[39m\u001b[39;1m12.1.105\u001b[39;22m\u001b[39m)\u001b[39m: \u001b[34mDownloading...\u001b[39m \u001b[39;1m100%\u001b[39;22m\n",
            "\u001b[1A\u001b[0J  \u001b[34;1m-\u001b[39;22m \u001b[39mInstalling \u001b[39m\u001b[36mnvidia-cuda-runtime-cu12\u001b[39m\u001b[39m (\u001b[39m\u001b[39;1m12.1.105\u001b[39;22m\u001b[39m)\u001b[39m: \u001b[34mInstalling...\u001b[39m\n",
            "\u001b[33mInstalling /content/gdrive/MyDrive/test-poetry/.venv/lib/python3.10/site-packages/nvidia/__init__.py over existing file\u001b[39m\n",
            "\u001b[3A\u001b[0J  \u001b[34;1m-\u001b[39;22m \u001b[39mInstalling \u001b[39m\u001b[36mnvidia-cuda-nvrtc-cu12\u001b[39m\u001b[39m (\u001b[39m\u001b[39;1m12.1.105\u001b[39;22m\u001b[39m)\u001b[39m: \u001b[34mDownloading...\u001b[39m \u001b[39;1m30%\u001b[39;22m\n",
            "  \u001b[34;1m-\u001b[39;22m \u001b[39mInstalling \u001b[39m\u001b[36mnvidia-cuda-runtime-cu12\u001b[39m\u001b[39m (\u001b[39m\u001b[39;1m12.1.105\u001b[39;22m\u001b[39m)\u001b[39m: \u001b[34mInstalling...\u001b[39m\n",
            "\u001b[2A\u001b[0J  \u001b[34;1m-\u001b[39;22m \u001b[39mInstalling \u001b[39m\u001b[36mnvidia-cuda-cupti-cu12\u001b[39m\u001b[39m (\u001b[39m\u001b[39;1m12.1.105\u001b[39;22m\u001b[39m)\u001b[39m: \u001b[34mDownloading...\u001b[39m \u001b[39;1m60%\u001b[39;22m\n",
            "  \u001b[34;1m-\u001b[39;22m \u001b[39mInstalling \u001b[39m\u001b[36mnvidia-cuda-nvrtc-cu12\u001b[39m\u001b[39m (\u001b[39m\u001b[39;1m12.1.105\u001b[39;22m\u001b[39m)\u001b[39m: \u001b[34mDownloading...\u001b[39m \u001b[39;1m30%\u001b[39;22m\n",
            "  \u001b[34;1m-\u001b[39;22m \u001b[39mInstalling \u001b[39m\u001b[36mnvidia-cuda-runtime-cu12\u001b[39m\u001b[39m (\u001b[39m\u001b[39;1m12.1.105\u001b[39;22m\u001b[39m)\u001b[39m: \u001b[34mInstalling...\u001b[39m\n",
            "\u001b[2A\u001b[0J  \u001b[34;1m-\u001b[39;22m \u001b[39mInstalling \u001b[39m\u001b[36mnvidia-cuda-runtime-cu12\u001b[39m\u001b[39m (\u001b[39m\u001b[39;1m12.1.105\u001b[39;22m\u001b[39m)\u001b[39m: \u001b[34mInstalling...\u001b[39m\n",
            "\u001b[1A\u001b[0J  \u001b[34;1m-\u001b[39;22m \u001b[39mInstalling \u001b[39m\u001b[36mnvidia-cuda-nvrtc-cu12\u001b[39m\u001b[39m (\u001b[39m\u001b[39;1m12.1.105\u001b[39;22m\u001b[39m)\u001b[39m: \u001b[34mDownloading...\u001b[39m \u001b[39;1m40%\u001b[39;22m\n",
            "  \u001b[34;1m-\u001b[39;22m \u001b[39mInstalling \u001b[39m\u001b[36mnvidia-cuda-runtime-cu12\u001b[39m\u001b[39m (\u001b[39m\u001b[39;1m12.1.105\u001b[39;22m\u001b[39m)\u001b[39m: \u001b[34mInstalling...\u001b[39m\n",
            "\u001b[3A\u001b[0J  \u001b[34;1m-\u001b[39;22m \u001b[39mInstalling \u001b[39m\u001b[36mnvidia-cuda-nvrtc-cu12\u001b[39m\u001b[39m (\u001b[39m\u001b[39;1m12.1.105\u001b[39;22m\u001b[39m)\u001b[39m: \u001b[34mDownloading...\u001b[39m \u001b[39;1m40%\u001b[39;22m\n",
            "  \u001b[34;1m-\u001b[39;22m \u001b[39mInstalling \u001b[39m\u001b[36mnvidia-cuda-runtime-cu12\u001b[39m\u001b[39m (\u001b[39m\u001b[39;1m12.1.105\u001b[39;22m\u001b[39m)\u001b[39m: \u001b[34mInstalling...\u001b[39m\n",
            "\u001b[2A\u001b[0J  \u001b[34;1m-\u001b[39;22m \u001b[39mInstalling \u001b[39m\u001b[36mnvidia-cuda-cupti-cu12\u001b[39m\u001b[39m (\u001b[39m\u001b[39;1m12.1.105\u001b[39;22m\u001b[39m)\u001b[39m: \u001b[34mDownloading...\u001b[39m \u001b[39;1m70%\u001b[39;22m\n",
            "  \u001b[34;1m-\u001b[39;22m \u001b[39mInstalling \u001b[39m\u001b[36mnvidia-cuda-nvrtc-cu12\u001b[39m\u001b[39m (\u001b[39m\u001b[39;1m12.1.105\u001b[39;22m\u001b[39m)\u001b[39m: \u001b[34mDownloading...\u001b[39m \u001b[39;1m40%\u001b[39;22m\n",
            "  \u001b[34;1m-\u001b[39;22m \u001b[39mInstalling \u001b[39m\u001b[36mnvidia-cuda-runtime-cu12\u001b[39m\u001b[39m (\u001b[39m\u001b[39;1m12.1.105\u001b[39;22m\u001b[39m)\u001b[39m: \u001b[34mInstalling...\u001b[39m\n",
            "\u001b[2A\u001b[0J  \u001b[34;1m-\u001b[39;22m \u001b[39mInstalling \u001b[39m\u001b[36mnvidia-cuda-runtime-cu12\u001b[39m\u001b[39m (\u001b[39m\u001b[39;1m12.1.105\u001b[39;22m\u001b[39m)\u001b[39m: \u001b[34mInstalling...\u001b[39m\n",
            "\u001b[1A\u001b[0J  \u001b[34;1m-\u001b[39;22m \u001b[39mInstalling \u001b[39m\u001b[36mnvidia-cuda-nvrtc-cu12\u001b[39m\u001b[39m (\u001b[39m\u001b[39;1m12.1.105\u001b[39;22m\u001b[39m)\u001b[39m: \u001b[34mDownloading...\u001b[39m \u001b[39;1m50%\u001b[39;22m\n",
            "  \u001b[34;1m-\u001b[39;22m \u001b[39mInstalling \u001b[39m\u001b[36mnvidia-cuda-runtime-cu12\u001b[39m\u001b[39m (\u001b[39m\u001b[39;1m12.1.105\u001b[39;22m\u001b[39m)\u001b[39m: \u001b[34mInstalling...\u001b[39m\n",
            "\u001b[3A\u001b[0J  \u001b[34;1m-\u001b[39;22m \u001b[39mInstalling \u001b[39m\u001b[36mnvidia-cuda-nvrtc-cu12\u001b[39m\u001b[39m (\u001b[39m\u001b[39;1m12.1.105\u001b[39;22m\u001b[39m)\u001b[39m: \u001b[34mDownloading...\u001b[39m \u001b[39;1m50%\u001b[39;22m\n",
            "  \u001b[34;1m-\u001b[39;22m \u001b[39mInstalling \u001b[39m\u001b[36mnvidia-cuda-runtime-cu12\u001b[39m\u001b[39m (\u001b[39m\u001b[39;1m12.1.105\u001b[39;22m\u001b[39m)\u001b[39m: \u001b[34mInstalling...\u001b[39m\n",
            "\u001b[2A\u001b[0J  \u001b[34;1m-\u001b[39;22m \u001b[39mInstalling \u001b[39m\u001b[36mnvidia-cuda-cupti-cu12\u001b[39m\u001b[39m (\u001b[39m\u001b[39;1m12.1.105\u001b[39;22m\u001b[39m)\u001b[39m: \u001b[34mDownloading...\u001b[39m \u001b[39;1m90%\u001b[39;22m\n",
            "  \u001b[34;1m-\u001b[39;22m \u001b[39mInstalling \u001b[39m\u001b[36mnvidia-cuda-nvrtc-cu12\u001b[39m\u001b[39m (\u001b[39m\u001b[39;1m12.1.105\u001b[39;22m\u001b[39m)\u001b[39m: \u001b[34mDownloading...\u001b[39m \u001b[39;1m50%\u001b[39;22m\n",
            "  \u001b[34;1m-\u001b[39;22m \u001b[39mInstalling \u001b[39m\u001b[36mnvidia-cuda-runtime-cu12\u001b[39m\u001b[39m (\u001b[39m\u001b[39;1m12.1.105\u001b[39;22m\u001b[39m)\u001b[39m: \u001b[34mInstalling...\u001b[39m\n",
            "\u001b[2A\u001b[0J  \u001b[34;1m-\u001b[39;22m \u001b[39mInstalling \u001b[39m\u001b[36mnvidia-cuda-runtime-cu12\u001b[39m\u001b[39m (\u001b[39m\u001b[39;1m12.1.105\u001b[39;22m\u001b[39m)\u001b[39m: \u001b[34mInstalling...\u001b[39m\n",
            "\u001b[1A\u001b[0J  \u001b[34;1m-\u001b[39;22m \u001b[39mInstalling \u001b[39m\u001b[36mnvidia-cuda-nvrtc-cu12\u001b[39m\u001b[39m (\u001b[39m\u001b[39;1m12.1.105\u001b[39;22m\u001b[39m)\u001b[39m: \u001b[34mDownloading...\u001b[39m \u001b[39;1m60%\u001b[39;22m\n",
            "  \u001b[34;1m-\u001b[39;22m \u001b[39mInstalling \u001b[39m\u001b[36mnvidia-cuda-runtime-cu12\u001b[39m\u001b[39m (\u001b[39m\u001b[39;1m12.1.105\u001b[39;22m\u001b[39m)\u001b[39m: \u001b[34mInstalling...\u001b[39m\n",
            "\u001b[2A\u001b[0J  \u001b[34;1m-\u001b[39;22m \u001b[39mInstalling \u001b[39m\u001b[36mnvidia-cuda-runtime-cu12\u001b[39m\u001b[39m (\u001b[39m\u001b[39;1m12.1.105\u001b[39;22m\u001b[39m)\u001b[39m: \u001b[34mInstalling...\u001b[39m\n",
            "\u001b[1A\u001b[0J  \u001b[34;1m-\u001b[39;22m \u001b[39mInstalling \u001b[39m\u001b[36mnvidia-cuda-nvrtc-cu12\u001b[39m\u001b[39m (\u001b[39m\u001b[39;1m12.1.105\u001b[39;22m\u001b[39m)\u001b[39m: \u001b[34mDownloading...\u001b[39m \u001b[39;1m70%\u001b[39;22m\n",
            "  \u001b[34;1m-\u001b[39;22m \u001b[39mInstalling \u001b[39m\u001b[36mnvidia-cuda-runtime-cu12\u001b[39m\u001b[39m (\u001b[39m\u001b[39;1m12.1.105\u001b[39;22m\u001b[39m)\u001b[39m: \u001b[34mInstalling...\u001b[39m\n",
            "\u001b[3A\u001b[0J  \u001b[34;1m-\u001b[39;22m \u001b[39mInstalling \u001b[39m\u001b[36mnvidia-cuda-nvrtc-cu12\u001b[39m\u001b[39m (\u001b[39m\u001b[39;1m12.1.105\u001b[39;22m\u001b[39m)\u001b[39m: \u001b[34mDownloading...\u001b[39m \u001b[39;1m70%\u001b[39;22m\n",
            "  \u001b[34;1m-\u001b[39;22m \u001b[39mInstalling \u001b[39m\u001b[36mnvidia-cuda-runtime-cu12\u001b[39m\u001b[39m (\u001b[39m\u001b[39;1m12.1.105\u001b[39;22m\u001b[39m)\u001b[39m: \u001b[34mInstalling...\u001b[39m\n",
            "\u001b[2A\u001b[0J  \u001b[34;1m-\u001b[39;22m \u001b[39mInstalling \u001b[39m\u001b[36mnvidia-cuda-cupti-cu12\u001b[39m\u001b[39m (\u001b[39m\u001b[39;1m12.1.105\u001b[39;22m\u001b[39m)\u001b[39m: \u001b[34mDownloading...\u001b[39m \u001b[39;1m100%\u001b[39;22m\n",
            "  \u001b[34;1m-\u001b[39;22m \u001b[39mInstalling \u001b[39m\u001b[36mnvidia-cuda-nvrtc-cu12\u001b[39m\u001b[39m (\u001b[39m\u001b[39;1m12.1.105\u001b[39;22m\u001b[39m)\u001b[39m: \u001b[34mDownloading...\u001b[39m \u001b[39;1m70%\u001b[39;22m\n",
            "  \u001b[34;1m-\u001b[39;22m \u001b[39mInstalling \u001b[39m\u001b[36mnvidia-cuda-runtime-cu12\u001b[39m\u001b[39m (\u001b[39m\u001b[39;1m12.1.105\u001b[39;22m\u001b[39m)\u001b[39m: \u001b[34mInstalling...\u001b[39m\n",
            "\u001b[2A\u001b[0J  \u001b[34;1m-\u001b[39;22m \u001b[39mInstalling \u001b[39m\u001b[36mnvidia-cuda-runtime-cu12\u001b[39m\u001b[39m (\u001b[39m\u001b[39;1m12.1.105\u001b[39;22m\u001b[39m)\u001b[39m: \u001b[34mInstalling...\u001b[39m\n",
            "\u001b[1A\u001b[0J  \u001b[34;1m-\u001b[39;22m \u001b[39mInstalling \u001b[39m\u001b[36mnvidia-cuda-nvrtc-cu12\u001b[39m\u001b[39m (\u001b[39m\u001b[39;1m12.1.105\u001b[39;22m\u001b[39m)\u001b[39m: \u001b[34mDownloading...\u001b[39m \u001b[39;1m80%\u001b[39;22m\n",
            "  \u001b[34;1m-\u001b[39;22m \u001b[39mInstalling \u001b[39m\u001b[36mnvidia-cuda-runtime-cu12\u001b[39m\u001b[39m (\u001b[39m\u001b[39;1m12.1.105\u001b[39;22m\u001b[39m)\u001b[39m: \u001b[34mInstalling...\u001b[39m\n",
            "\u001b[3A\u001b[0J  \u001b[34;1m-\u001b[39;22m \u001b[39mInstalling \u001b[39m\u001b[36mnvidia-cuda-nvrtc-cu12\u001b[39m\u001b[39m (\u001b[39m\u001b[39;1m12.1.105\u001b[39;22m\u001b[39m)\u001b[39m: \u001b[34mDownloading...\u001b[39m \u001b[39;1m80%\u001b[39;22m\n",
            "  \u001b[34;1m-\u001b[39;22m \u001b[39mInstalling \u001b[39m\u001b[36mnvidia-cuda-runtime-cu12\u001b[39m\u001b[39m (\u001b[39m\u001b[39;1m12.1.105\u001b[39;22m\u001b[39m)\u001b[39m: \u001b[34mInstalling...\u001b[39m\n",
            "\u001b[2A\u001b[0J  \u001b[34;1m-\u001b[39;22m \u001b[39mInstalling \u001b[39m\u001b[36mnvidia-cuda-cupti-cu12\u001b[39m\u001b[39m (\u001b[39m\u001b[39;1m12.1.105\u001b[39;22m\u001b[39m)\u001b[39m: \u001b[34mInstalling...\u001b[39m\n",
            "  \u001b[34;1m-\u001b[39;22m \u001b[39mInstalling \u001b[39m\u001b[36mnvidia-cuda-nvrtc-cu12\u001b[39m\u001b[39m (\u001b[39m\u001b[39;1m12.1.105\u001b[39;22m\u001b[39m)\u001b[39m: \u001b[34mDownloading...\u001b[39m \u001b[39;1m80%\u001b[39;22m\n",
            "  \u001b[34;1m-\u001b[39;22m \u001b[39mInstalling \u001b[39m\u001b[36mnvidia-cuda-runtime-cu12\u001b[39m\u001b[39m (\u001b[39m\u001b[39;1m12.1.105\u001b[39;22m\u001b[39m)\u001b[39m: \u001b[34mInstalling...\u001b[39m\n",
            "\u001b[2A\u001b[0J  \u001b[34;1m-\u001b[39;22m \u001b[39mInstalling \u001b[39m\u001b[36mnvidia-cuda-runtime-cu12\u001b[39m\u001b[39m (\u001b[39m\u001b[39;1m12.1.105\u001b[39;22m\u001b[39m)\u001b[39m: \u001b[34mInstalling...\u001b[39m\n",
            "\u001b[1A\u001b[0J  \u001b[34;1m-\u001b[39;22m \u001b[39mInstalling \u001b[39m\u001b[36mnvidia-cuda-nvrtc-cu12\u001b[39m\u001b[39m (\u001b[39m\u001b[39;1m12.1.105\u001b[39;22m\u001b[39m)\u001b[39m: \u001b[34mDownloading...\u001b[39m \u001b[39;1m100%\u001b[39;22m\n",
            "  \u001b[34;1m-\u001b[39;22m \u001b[39mInstalling \u001b[39m\u001b[36mnvidia-cuda-runtime-cu12\u001b[39m\u001b[39m (\u001b[39m\u001b[39;1m12.1.105\u001b[39;22m\u001b[39m)\u001b[39m: \u001b[34mInstalling...\u001b[39m\n",
            "\u001b[33mInstalling /content/gdrive/MyDrive/test-poetry/.venv/lib/python3.10/site-packages/nvidia/__init__.py over existing file\u001b[39m\n",
            "\u001b[2A\u001b[0J  \u001b[34;1m-\u001b[39;22m \u001b[39mInstalling \u001b[39m\u001b[36mnvidia-cuda-runtime-cu12\u001b[39m\u001b[39m (\u001b[39m\u001b[39;1m12.1.105\u001b[39;22m\u001b[39m)\u001b[39m: \u001b[34mInstalling...\u001b[39m\n",
            "\u001b[1A\u001b[0J  \u001b[34;1m-\u001b[39;22m \u001b[39mInstalling \u001b[39m\u001b[36mnvidia-cuda-nvrtc-cu12\u001b[39m\u001b[39m (\u001b[39m\u001b[39;1m12.1.105\u001b[39;22m\u001b[39m)\u001b[39m: \u001b[34mInstalling...\u001b[39m\n",
            "  \u001b[34;1m-\u001b[39;22m \u001b[39mInstalling \u001b[39m\u001b[36mnvidia-cuda-runtime-cu12\u001b[39m\u001b[39m (\u001b[39m\u001b[39;1m12.1.105\u001b[39;22m\u001b[39m)\u001b[39m: \u001b[34mInstalling...\u001b[39m\n",
            "\u001b[33mInstalling /content/gdrive/MyDrive/test-poetry/.venv/lib/python3.10/site-packages/nvidia/__init__.py over existing file\u001b[39m\n",
            "\u001b[5A\u001b[0J  \u001b[34;1m-\u001b[39;22m \u001b[39mInstalling \u001b[39m\u001b[36mnetworkx\u001b[39m\u001b[39m (\u001b[39m\u001b[39;1m3.3\u001b[39;22m\u001b[39m)\u001b[39m: \u001b[34mInstalling...\u001b[39m\n",
            "  \u001b[34;1m-\u001b[39;22m \u001b[39mInstalling \u001b[39m\u001b[36mnvidia-cuda-cupti-cu12\u001b[39m\u001b[39m (\u001b[39m\u001b[39;1m12.1.105\u001b[39;22m\u001b[39m)\u001b[39m: \u001b[34mInstalling...\u001b[39m\n",
            "  \u001b[34;1m-\u001b[39;22m \u001b[39mInstalling \u001b[39m\u001b[36mnvidia-cuda-nvrtc-cu12\u001b[39m\u001b[39m (\u001b[39m\u001b[39;1m12.1.105\u001b[39;22m\u001b[39m)\u001b[39m: \u001b[34mInstalling...\u001b[39m\n",
            "  \u001b[34;1m-\u001b[39;22m \u001b[39mInstalling \u001b[39m\u001b[36mnvidia-cuda-runtime-cu12\u001b[39m\u001b[39m (\u001b[39m\u001b[39;1m12.1.105\u001b[39;22m\u001b[39m)\u001b[39m: \u001b[34mInstalling...\u001b[39m\n",
            "\u001b[4A\u001b[0J  \u001b[32;1m-\u001b[39;22m \u001b[39mInstalling \u001b[39m\u001b[36mjinja2\u001b[39m\u001b[39m (\u001b[39m\u001b[32m3.1.4\u001b[39m\u001b[39m)\u001b[39m\n",
            "  \u001b[34;1m-\u001b[39;22m \u001b[39mInstalling \u001b[39m\u001b[36mnetworkx\u001b[39m\u001b[39m (\u001b[39m\u001b[39;1m3.3\u001b[39;22m\u001b[39m)\u001b[39m: \u001b[34mInstalling...\u001b[39m\n",
            "  \u001b[34;1m-\u001b[39;22m \u001b[39mInstalling \u001b[39m\u001b[36mnvidia-cuda-cupti-cu12\u001b[39m\u001b[39m (\u001b[39m\u001b[39;1m12.1.105\u001b[39;22m\u001b[39m)\u001b[39m: \u001b[34mInstalling...\u001b[39m\n",
            "  \u001b[34;1m-\u001b[39;22m \u001b[39mInstalling \u001b[39m\u001b[36mnvidia-cuda-nvrtc-cu12\u001b[39m\u001b[39m (\u001b[39m\u001b[39;1m12.1.105\u001b[39;22m\u001b[39m)\u001b[39m: \u001b[34mInstalling...\u001b[39m\n",
            "  \u001b[34;1m-\u001b[39;22m \u001b[39mInstalling \u001b[39m\u001b[36mnvidia-cuda-runtime-cu12\u001b[39m\u001b[39m (\u001b[39m\u001b[39;1m12.1.105\u001b[39;22m\u001b[39m)\u001b[39m: \u001b[34mInstalling...\u001b[39m\n",
            "  \u001b[34;1m-\u001b[39;22m \u001b[39mInstalling \u001b[39m\u001b[36mnvidia-cudnn-cu12\u001b[39m\u001b[39m (\u001b[39m\u001b[39;1m8.9.2.26\u001b[39;22m\u001b[39m)\u001b[39m: \u001b[34mPending...\u001b[39m\n",
            "\u001b[1A\u001b[0J  \u001b[34;1m-\u001b[39;22m \u001b[39mInstalling \u001b[39m\u001b[36mnvidia-cudnn-cu12\u001b[39m\u001b[39m (\u001b[39m\u001b[39;1m8.9.2.26\u001b[39;22m\u001b[39m)\u001b[39m: \u001b[34mDownloading...\u001b[39m \u001b[39;1m0%\u001b[39;22m\n",
            "\u001b[7A\u001b[0J  \u001b[32;1m-\u001b[39;22m \u001b[39mInstalling \u001b[39m\u001b[36mjinja2\u001b[39m\u001b[39m (\u001b[39m\u001b[32m3.1.4\u001b[39m\u001b[39m)\u001b[39m\n",
            "  \u001b[34;1m-\u001b[39;22m \u001b[39mInstalling \u001b[39m\u001b[36mnetworkx\u001b[39m\u001b[39m (\u001b[39m\u001b[39;1m3.3\u001b[39;22m\u001b[39m)\u001b[39m: \u001b[34mInstalling...\u001b[39m\n",
            "  \u001b[34;1m-\u001b[39;22m \u001b[39mInstalling \u001b[39m\u001b[36mnvidia-cuda-cupti-cu12\u001b[39m\u001b[39m (\u001b[39m\u001b[39;1m12.1.105\u001b[39;22m\u001b[39m)\u001b[39m: \u001b[34mInstalling...\u001b[39m\n",
            "  \u001b[34;1m-\u001b[39;22m \u001b[39mInstalling \u001b[39m\u001b[36mnvidia-cuda-nvrtc-cu12\u001b[39m\u001b[39m (\u001b[39m\u001b[39;1m12.1.105\u001b[39;22m\u001b[39m)\u001b[39m: \u001b[34mInstalling...\u001b[39m\n",
            "  \u001b[34;1m-\u001b[39;22m \u001b[39mInstalling \u001b[39m\u001b[36mnvidia-cuda-runtime-cu12\u001b[39m\u001b[39m (\u001b[39m\u001b[39;1m12.1.105\u001b[39;22m\u001b[39m)\u001b[39m: \u001b[34mInstalling...\u001b[39m\n",
            "  \u001b[34;1m-\u001b[39;22m \u001b[39mInstalling \u001b[39m\u001b[36mnvidia-cudnn-cu12\u001b[39m\u001b[39m (\u001b[39m\u001b[39;1m8.9.2.26\u001b[39;22m\u001b[39m)\u001b[39m: \u001b[34mDownloading...\u001b[39m \u001b[39;1m0%\u001b[39;22m\n",
            "\u001b[6A\u001b[0J  \u001b[32;1m-\u001b[39;22m \u001b[39mInstalling \u001b[39m\u001b[36mfsspec\u001b[39m\u001b[39m (\u001b[39m\u001b[32m2024.6.0\u001b[39m\u001b[39m)\u001b[39m\n",
            "  \u001b[32;1m-\u001b[39;22m \u001b[39mInstalling \u001b[39m\u001b[36mjinja2\u001b[39m\u001b[39m (\u001b[39m\u001b[32m3.1.4\u001b[39m\u001b[39m)\u001b[39m\n",
            "  \u001b[34;1m-\u001b[39;22m \u001b[39mInstalling \u001b[39m\u001b[36mnetworkx\u001b[39m\u001b[39m (\u001b[39m\u001b[39;1m3.3\u001b[39;22m\u001b[39m)\u001b[39m: \u001b[34mInstalling...\u001b[39m\n",
            "  \u001b[34;1m-\u001b[39;22m \u001b[39mInstalling \u001b[39m\u001b[36mnvidia-cuda-cupti-cu12\u001b[39m\u001b[39m (\u001b[39m\u001b[39;1m12.1.105\u001b[39;22m\u001b[39m)\u001b[39m: \u001b[34mInstalling...\u001b[39m\n",
            "  \u001b[34;1m-\u001b[39;22m \u001b[39mInstalling \u001b[39m\u001b[36mnvidia-cuda-nvrtc-cu12\u001b[39m\u001b[39m (\u001b[39m\u001b[39;1m12.1.105\u001b[39;22m\u001b[39m)\u001b[39m: \u001b[34mInstalling...\u001b[39m\n",
            "  \u001b[34;1m-\u001b[39;22m \u001b[39mInstalling \u001b[39m\u001b[36mnvidia-cuda-runtime-cu12\u001b[39m\u001b[39m (\u001b[39m\u001b[39;1m12.1.105\u001b[39;22m\u001b[39m)\u001b[39m: \u001b[34mInstalling...\u001b[39m\n",
            "  \u001b[34;1m-\u001b[39;22m \u001b[39mInstalling \u001b[39m\u001b[36mnvidia-cudnn-cu12\u001b[39m\u001b[39m (\u001b[39m\u001b[39;1m8.9.2.26\u001b[39;22m\u001b[39m)\u001b[39m: \u001b[34mDownloading...\u001b[39m \u001b[39;1m0%\u001b[39;22m\n",
            "  \u001b[34;1m-\u001b[39;22m \u001b[39mInstalling \u001b[39m\u001b[36mnvidia-cufft-cu12\u001b[39m\u001b[39m (\u001b[39m\u001b[39;1m11.0.2.54\u001b[39;22m\u001b[39m)\u001b[39m: \u001b[34mPending...\u001b[39m\n",
            "\u001b[1A\u001b[0J  \u001b[34;1m-\u001b[39;22m \u001b[39mInstalling \u001b[39m\u001b[36mnvidia-cufft-cu12\u001b[39m\u001b[39m (\u001b[39m\u001b[39;1m11.0.2.54\u001b[39;22m\u001b[39m)\u001b[39m: \u001b[34mDownloading...\u001b[39m \u001b[39;1m0%\u001b[39;22m\n",
            "\u001b[2A\u001b[0J  \u001b[34;1m-\u001b[39;22m \u001b[39mInstalling \u001b[39m\u001b[36mnvidia-cufft-cu12\u001b[39m\u001b[39m (\u001b[39m\u001b[39;1m11.0.2.54\u001b[39;22m\u001b[39m)\u001b[39m: \u001b[34mDownloading...\u001b[39m \u001b[39;1m0%\u001b[39;22m\n",
            "\u001b[1A\u001b[0J  \u001b[34;1m-\u001b[39;22m \u001b[39mInstalling \u001b[39m\u001b[36mnvidia-cudnn-cu12\u001b[39m\u001b[39m (\u001b[39m\u001b[39;1m8.9.2.26\u001b[39;22m\u001b[39m)\u001b[39m: \u001b[34mDownloading...\u001b[39m \u001b[39;1m2%\u001b[39;22m\n",
            "  \u001b[34;1m-\u001b[39;22m \u001b[39mInstalling \u001b[39m\u001b[36mnvidia-cufft-cu12\u001b[39m\u001b[39m (\u001b[39m\u001b[39;1m11.0.2.54\u001b[39;22m\u001b[39m)\u001b[39m: \u001b[34mDownloading...\u001b[39m \u001b[39;1m0%\u001b[39;22m\n",
            "\u001b[1A\u001b[0J  \u001b[34;1m-\u001b[39;22m \u001b[39mInstalling \u001b[39m\u001b[36mnvidia-cufft-cu12\u001b[39m\u001b[39m (\u001b[39m\u001b[39;1m11.0.2.54\u001b[39;22m\u001b[39m)\u001b[39m: \u001b[34mDownloading...\u001b[39m \u001b[39;1m8%\u001b[39;22m\n",
            "\u001b[1A\u001b[0J  \u001b[34;1m-\u001b[39;22m \u001b[39mInstalling \u001b[39m\u001b[36mnvidia-cufft-cu12\u001b[39m\u001b[39m (\u001b[39m\u001b[39;1m11.0.2.54\u001b[39;22m\u001b[39m)\u001b[39m: \u001b[34mDownloading...\u001b[39m \u001b[39;1m10%\u001b[39;22m\n",
            "\u001b[2A\u001b[0J  \u001b[34;1m-\u001b[39;22m \u001b[39mInstalling \u001b[39m\u001b[36mnvidia-cufft-cu12\u001b[39m\u001b[39m (\u001b[39m\u001b[39;1m11.0.2.54\u001b[39;22m\u001b[39m)\u001b[39m: \u001b[34mDownloading...\u001b[39m \u001b[39;1m10%\u001b[39;22m\n",
            "\u001b[1A\u001b[0J  \u001b[34;1m-\u001b[39;22m \u001b[39mInstalling \u001b[39m\u001b[36mnvidia-cudnn-cu12\u001b[39m\u001b[39m (\u001b[39m\u001b[39;1m8.9.2.26\u001b[39;22m\u001b[39m)\u001b[39m: \u001b[34mDownloading...\u001b[39m \u001b[39;1m4%\u001b[39;22m\n",
            "  \u001b[34;1m-\u001b[39;22m \u001b[39mInstalling \u001b[39m\u001b[36mnvidia-cufft-cu12\u001b[39m\u001b[39m (\u001b[39m\u001b[39;1m11.0.2.54\u001b[39;22m\u001b[39m)\u001b[39m: \u001b[34mDownloading...\u001b[39m \u001b[39;1m10%\u001b[39;22m\n",
            "\u001b[1A\u001b[0J  \u001b[34;1m-\u001b[39;22m \u001b[39mInstalling \u001b[39m\u001b[36mnvidia-cufft-cu12\u001b[39m\u001b[39m (\u001b[39m\u001b[39;1m11.0.2.54\u001b[39;22m\u001b[39m)\u001b[39m: \u001b[34mDownloading...\u001b[39m \u001b[39;1m20%\u001b[39;22m\n",
            "\u001b[2A\u001b[0J  \u001b[34;1m-\u001b[39;22m \u001b[39mInstalling \u001b[39m\u001b[36mnvidia-cufft-cu12\u001b[39m\u001b[39m (\u001b[39m\u001b[39;1m11.0.2.54\u001b[39;22m\u001b[39m)\u001b[39m: \u001b[34mDownloading...\u001b[39m \u001b[39;1m20%\u001b[39;22m\n",
            "\u001b[1A\u001b[0J  \u001b[34;1m-\u001b[39;22m \u001b[39mInstalling \u001b[39m\u001b[36mnvidia-cudnn-cu12\u001b[39m\u001b[39m (\u001b[39m\u001b[39;1m8.9.2.26\u001b[39;22m\u001b[39m)\u001b[39m: \u001b[34mDownloading...\u001b[39m \u001b[39;1m6%\u001b[39;22m\n",
            "  \u001b[34;1m-\u001b[39;22m \u001b[39mInstalling \u001b[39m\u001b[36mnvidia-cufft-cu12\u001b[39m\u001b[39m (\u001b[39m\u001b[39;1m11.0.2.54\u001b[39;22m\u001b[39m)\u001b[39m: \u001b[34mDownloading...\u001b[39m \u001b[39;1m20%\u001b[39;22m\n",
            "\u001b[1A\u001b[0J  \u001b[34;1m-\u001b[39;22m \u001b[39mInstalling \u001b[39m\u001b[36mnvidia-cufft-cu12\u001b[39m\u001b[39m (\u001b[39m\u001b[39;1m11.0.2.54\u001b[39;22m\u001b[39m)\u001b[39m: \u001b[34mDownloading...\u001b[39m \u001b[39;1m29%\u001b[39;22m\n",
            "\u001b[1A\u001b[0J  \u001b[34;1m-\u001b[39;22m \u001b[39mInstalling \u001b[39m\u001b[36mnvidia-cufft-cu12\u001b[39m\u001b[39m (\u001b[39m\u001b[39;1m11.0.2.54\u001b[39;22m\u001b[39m)\u001b[39m: \u001b[34mDownloading...\u001b[39m \u001b[39;1m40%\u001b[39;22m\n",
            "\u001b[2A\u001b[0J  \u001b[34;1m-\u001b[39;22m \u001b[39mInstalling \u001b[39m\u001b[36mnvidia-cufft-cu12\u001b[39m\u001b[39m (\u001b[39m\u001b[39;1m11.0.2.54\u001b[39;22m\u001b[39m)\u001b[39m: \u001b[34mDownloading...\u001b[39m \u001b[39;1m40%\u001b[39;22m\n",
            "\u001b[1A\u001b[0J  \u001b[34;1m-\u001b[39;22m \u001b[39mInstalling \u001b[39m\u001b[36mnvidia-cudnn-cu12\u001b[39m\u001b[39m (\u001b[39m\u001b[39;1m8.9.2.26\u001b[39;22m\u001b[39m)\u001b[39m: \u001b[34mDownloading...\u001b[39m \u001b[39;1m8%\u001b[39;22m\n",
            "  \u001b[34;1m-\u001b[39;22m \u001b[39mInstalling \u001b[39m\u001b[36mnvidia-cufft-cu12\u001b[39m\u001b[39m (\u001b[39m\u001b[39;1m11.0.2.54\u001b[39;22m\u001b[39m)\u001b[39m: \u001b[34mDownloading...\u001b[39m \u001b[39;1m40%\u001b[39;22m\n",
            "\u001b[3A\u001b[0J  \u001b[34;1m-\u001b[39;22m \u001b[39mInstalling \u001b[39m\u001b[36mnvidia-cudnn-cu12\u001b[39m\u001b[39m (\u001b[39m\u001b[39;1m8.9.2.26\u001b[39;22m\u001b[39m)\u001b[39m: \u001b[34mDownloading...\u001b[39m \u001b[39;1m8%\u001b[39;22m\n",
            "  \u001b[34;1m-\u001b[39;22m \u001b[39mInstalling \u001b[39m\u001b[36mnvidia-cufft-cu12\u001b[39m\u001b[39m (\u001b[39m\u001b[39;1m11.0.2.54\u001b[39;22m\u001b[39m)\u001b[39m: \u001b[34mDownloading...\u001b[39m \u001b[39;1m40%\u001b[39;22m\n",
            "\u001b[2A\u001b[0J  \u001b[32;1m-\u001b[39;22m \u001b[39mInstalling \u001b[39m\u001b[36mnvidia-cuda-runtime-cu12\u001b[39m\u001b[39m (\u001b[39m\u001b[32m12.1.105\u001b[39m\u001b[39m)\u001b[39m\n",
            "  \u001b[34;1m-\u001b[39;22m \u001b[39mInstalling \u001b[39m\u001b[36mnvidia-cudnn-cu12\u001b[39m\u001b[39m (\u001b[39m\u001b[39;1m8.9.2.26\u001b[39;22m\u001b[39m)\u001b[39m: \u001b[34mDownloading...\u001b[39m \u001b[39;1m8%\u001b[39;22m\n",
            "  \u001b[34;1m-\u001b[39;22m \u001b[39mInstalling \u001b[39m\u001b[36mnvidia-cufft-cu12\u001b[39m\u001b[39m (\u001b[39m\u001b[39;1m11.0.2.54\u001b[39;22m\u001b[39m)\u001b[39m: \u001b[34mDownloading...\u001b[39m \u001b[39;1m40%\u001b[39;22m\n",
            "  \u001b[34;1m-\u001b[39;22m \u001b[39mInstalling \u001b[39m\u001b[36mnvidia-curand-cu12\u001b[39m\u001b[39m (\u001b[39m\u001b[39;1m10.3.2.106\u001b[39;22m\u001b[39m)\u001b[39m: \u001b[34mPending...\u001b[39m\n",
            "\u001b[1A\u001b[0J  \u001b[34;1m-\u001b[39;22m \u001b[39mInstalling \u001b[39m\u001b[36mnvidia-curand-cu12\u001b[39m\u001b[39m (\u001b[39m\u001b[39;1m10.3.2.106\u001b[39;22m\u001b[39m)\u001b[39m: \u001b[34mDownloading...\u001b[39m \u001b[39;1m0%\u001b[39;22m\n",
            "\u001b[2A\u001b[0J  \u001b[34;1m-\u001b[39;22m \u001b[39mInstalling \u001b[39m\u001b[36mnvidia-curand-cu12\u001b[39m\u001b[39m (\u001b[39m\u001b[39;1m10.3.2.106\u001b[39;22m\u001b[39m)\u001b[39m: \u001b[34mDownloading...\u001b[39m \u001b[39;1m0%\u001b[39;22m\n",
            "\u001b[1A\u001b[0J  \u001b[34;1m-\u001b[39;22m \u001b[39mInstalling \u001b[39m\u001b[36mnvidia-cufft-cu12\u001b[39m\u001b[39m (\u001b[39m\u001b[39;1m11.0.2.54\u001b[39;22m\u001b[39m)\u001b[39m: \u001b[34mDownloading...\u001b[39m \u001b[39;1m48%\u001b[39;22m\n",
            "  \u001b[34;1m-\u001b[39;22m \u001b[39mInstalling \u001b[39m\u001b[36mnvidia-curand-cu12\u001b[39m\u001b[39m (\u001b[39m\u001b[39;1m10.3.2.106\u001b[39;22m\u001b[39m)\u001b[39m: \u001b[34mDownloading...\u001b[39m \u001b[39;1m0%\u001b[39;22m\n",
            "\u001b[3A\u001b[0J  \u001b[34;1m-\u001b[39;22m \u001b[39mInstalling \u001b[39m\u001b[36mnvidia-cufft-cu12\u001b[39m\u001b[39m (\u001b[39m\u001b[39;1m11.0.2.54\u001b[39;22m\u001b[39m)\u001b[39m: \u001b[34mDownloading...\u001b[39m \u001b[39;1m48%\u001b[39;22m\n",
            "  \u001b[34;1m-\u001b[39;22m \u001b[39mInstalling \u001b[39m\u001b[36mnvidia-curand-cu12\u001b[39m\u001b[39m (\u001b[39m\u001b[39;1m10.3.2.106\u001b[39;22m\u001b[39m)\u001b[39m: \u001b[34mDownloading...\u001b[39m \u001b[39;1m0%\u001b[39;22m\n",
            "\u001b[2A\u001b[0J  \u001b[34;1m-\u001b[39;22m \u001b[39mInstalling \u001b[39m\u001b[36mnvidia-cudnn-cu12\u001b[39m\u001b[39m (\u001b[39m\u001b[39;1m8.9.2.26\u001b[39;22m\u001b[39m)\u001b[39m: \u001b[34mDownloading...\u001b[39m \u001b[39;1m9%\u001b[39;22m\n",
            "  \u001b[34;1m-\u001b[39;22m \u001b[39mInstalling \u001b[39m\u001b[36mnvidia-cufft-cu12\u001b[39m\u001b[39m (\u001b[39m\u001b[39;1m11.0.2.54\u001b[39;22m\u001b[39m)\u001b[39m: \u001b[34mDownloading...\u001b[39m \u001b[39;1m48%\u001b[39;22m\n",
            "  \u001b[34;1m-\u001b[39;22m \u001b[39mInstalling \u001b[39m\u001b[36mnvidia-curand-cu12\u001b[39m\u001b[39m (\u001b[39m\u001b[39;1m10.3.2.106\u001b[39;22m\u001b[39m)\u001b[39m: \u001b[34mDownloading...\u001b[39m \u001b[39;1m0%\u001b[39;22m\n",
            "\u001b[2A\u001b[0J  \u001b[34;1m-\u001b[39;22m \u001b[39mInstalling \u001b[39m\u001b[36mnvidia-curand-cu12\u001b[39m\u001b[39m (\u001b[39m\u001b[39;1m10.3.2.106\u001b[39;22m\u001b[39m)\u001b[39m: \u001b[34mDownloading...\u001b[39m \u001b[39;1m0%\u001b[39;22m\n",
            "\u001b[1A\u001b[0J  \u001b[34;1m-\u001b[39;22m \u001b[39mInstalling \u001b[39m\u001b[36mnvidia-cufft-cu12\u001b[39m\u001b[39m (\u001b[39m\u001b[39;1m11.0.2.54\u001b[39;22m\u001b[39m)\u001b[39m: \u001b[34mDownloading...\u001b[39m \u001b[39;1m50%\u001b[39;22m\n",
            "  \u001b[34;1m-\u001b[39;22m \u001b[39mInstalling \u001b[39m\u001b[36mnvidia-curand-cu12\u001b[39m\u001b[39m (\u001b[39m\u001b[39;1m10.3.2.106\u001b[39;22m\u001b[39m)\u001b[39m: \u001b[34mDownloading...\u001b[39m \u001b[39;1m0%\u001b[39;22m\n",
            "\u001b[3A\u001b[0J  \u001b[34;1m-\u001b[39;22m \u001b[39mInstalling \u001b[39m\u001b[36mnvidia-cufft-cu12\u001b[39m\u001b[39m (\u001b[39m\u001b[39;1m11.0.2.54\u001b[39;22m\u001b[39m)\u001b[39m: \u001b[34mDownloading...\u001b[39m \u001b[39;1m50%\u001b[39;22m\n",
            "  \u001b[34;1m-\u001b[39;22m \u001b[39mInstalling \u001b[39m\u001b[36mnvidia-curand-cu12\u001b[39m\u001b[39m (\u001b[39m\u001b[39;1m10.3.2.106\u001b[39;22m\u001b[39m)\u001b[39m: \u001b[34mDownloading...\u001b[39m \u001b[39;1m0%\u001b[39;22m\n",
            "\u001b[2A\u001b[0J  \u001b[34;1m-\u001b[39;22m \u001b[39mInstalling \u001b[39m\u001b[36mnvidia-cudnn-cu12\u001b[39m\u001b[39m (\u001b[39m\u001b[39;1m8.9.2.26\u001b[39;22m\u001b[39m)\u001b[39m: \u001b[34mDownloading...\u001b[39m \u001b[39;1m10%\u001b[39;22m\n",
            "  \u001b[34;1m-\u001b[39;22m \u001b[39mInstalling \u001b[39m\u001b[36mnvidia-cufft-cu12\u001b[39m\u001b[39m (\u001b[39m\u001b[39;1m11.0.2.54\u001b[39;22m\u001b[39m)\u001b[39m: \u001b[34mDownloading...\u001b[39m \u001b[39;1m50%\u001b[39;22m\n",
            "  \u001b[34;1m-\u001b[39;22m \u001b[39mInstalling \u001b[39m\u001b[36mnvidia-curand-cu12\u001b[39m\u001b[39m (\u001b[39m\u001b[39;1m10.3.2.106\u001b[39;22m\u001b[39m)\u001b[39m: \u001b[34mDownloading...\u001b[39m \u001b[39;1m0%\u001b[39;22m\n",
            "\u001b[1A\u001b[0J  \u001b[34;1m-\u001b[39;22m \u001b[39mInstalling \u001b[39m\u001b[36mnvidia-curand-cu12\u001b[39m\u001b[39m (\u001b[39m\u001b[39;1m10.3.2.106\u001b[39;22m\u001b[39m)\u001b[39m: \u001b[34mDownloading...\u001b[39m \u001b[39;1m10%\u001b[39;22m\n",
            "\u001b[1A\u001b[0J  \u001b[34;1m-\u001b[39;22m \u001b[39mInstalling \u001b[39m\u001b[36mnvidia-curand-cu12\u001b[39m\u001b[39m (\u001b[39m\u001b[39;1m10.3.2.106\u001b[39;22m\u001b[39m)\u001b[39m: \u001b[34mDownloading...\u001b[39m \u001b[39;1m20%\u001b[39;22m\n",
            "\u001b[2A\u001b[0J  \u001b[34;1m-\u001b[39;22m \u001b[39mInstalling \u001b[39m\u001b[36mnvidia-curand-cu12\u001b[39m\u001b[39m (\u001b[39m\u001b[39;1m10.3.2.106\u001b[39;22m\u001b[39m)\u001b[39m: \u001b[34mDownloading...\u001b[39m \u001b[39;1m20%\u001b[39;22m\n",
            "\u001b[1A\u001b[0J  \u001b[34;1m-\u001b[39;22m \u001b[39mInstalling \u001b[39m\u001b[36mnvidia-cufft-cu12\u001b[39m\u001b[39m (\u001b[39m\u001b[39;1m11.0.2.54\u001b[39;22m\u001b[39m)\u001b[39m: \u001b[34mDownloading...\u001b[39m \u001b[39;1m59%\u001b[39;22m\n",
            "  \u001b[34;1m-\u001b[39;22m \u001b[39mInstalling \u001b[39m\u001b[36mnvidia-curand-cu12\u001b[39m\u001b[39m (\u001b[39m\u001b[39;1m10.3.2.106\u001b[39;22m\u001b[39m)\u001b[39m: \u001b[34mDownloading...\u001b[39m \u001b[39;1m20%\u001b[39;22m\n",
            "\u001b[3A\u001b[0J  \u001b[34;1m-\u001b[39;22m \u001b[39mInstalling \u001b[39m\u001b[36mnvidia-cufft-cu12\u001b[39m\u001b[39m (\u001b[39m\u001b[39;1m11.0.2.54\u001b[39;22m\u001b[39m)\u001b[39m: \u001b[34mDownloading...\u001b[39m \u001b[39;1m59%\u001b[39;22m\n",
            "  \u001b[34;1m-\u001b[39;22m \u001b[39mInstalling \u001b[39m\u001b[36mnvidia-curand-cu12\u001b[39m\u001b[39m (\u001b[39m\u001b[39;1m10.3.2.106\u001b[39;22m\u001b[39m)\u001b[39m: \u001b[34mDownloading...\u001b[39m \u001b[39;1m20%\u001b[39;22m\n",
            "\u001b[2A\u001b[0J  \u001b[34;1m-\u001b[39;22m \u001b[39mInstalling \u001b[39m\u001b[36mnvidia-cudnn-cu12\u001b[39m\u001b[39m (\u001b[39m\u001b[39;1m8.9.2.26\u001b[39;22m\u001b[39m)\u001b[39m: \u001b[34mDownloading...\u001b[39m \u001b[39;1m11%\u001b[39;22m\n",
            "  \u001b[34;1m-\u001b[39;22m \u001b[39mInstalling \u001b[39m\u001b[36mnvidia-cufft-cu12\u001b[39m\u001b[39m (\u001b[39m\u001b[39;1m11.0.2.54\u001b[39;22m\u001b[39m)\u001b[39m: \u001b[34mDownloading...\u001b[39m \u001b[39;1m59%\u001b[39;22m\n",
            "  \u001b[34;1m-\u001b[39;22m \u001b[39mInstalling \u001b[39m\u001b[36mnvidia-curand-cu12\u001b[39m\u001b[39m (\u001b[39m\u001b[39;1m10.3.2.106\u001b[39;22m\u001b[39m)\u001b[39m: \u001b[34mDownloading...\u001b[39m \u001b[39;1m20%\u001b[39;22m\n",
            "\u001b[1A\u001b[0J  \u001b[34;1m-\u001b[39;22m \u001b[39mInstalling \u001b[39m\u001b[36mnvidia-curand-cu12\u001b[39m\u001b[39m (\u001b[39m\u001b[39;1m10.3.2.106\u001b[39;22m\u001b[39m)\u001b[39m: \u001b[34mDownloading...\u001b[39m \u001b[39;1m30%\u001b[39;22m\n",
            "\u001b[1A\u001b[0J  \u001b[34;1m-\u001b[39;22m \u001b[39mInstalling \u001b[39m\u001b[36mnvidia-curand-cu12\u001b[39m\u001b[39m (\u001b[39m\u001b[39;1m10.3.2.106\u001b[39;22m\u001b[39m)\u001b[39m: \u001b[34mDownloading...\u001b[39m \u001b[39;1m40%\u001b[39;22m\n",
            "\u001b[2A\u001b[0J  \u001b[34;1m-\u001b[39;22m \u001b[39mInstalling \u001b[39m\u001b[36mnvidia-curand-cu12\u001b[39m\u001b[39m (\u001b[39m\u001b[39;1m10.3.2.106\u001b[39;22m\u001b[39m)\u001b[39m: \u001b[34mDownloading...\u001b[39m \u001b[39;1m40%\u001b[39;22m\n",
            "\u001b[1A\u001b[0J  \u001b[34;1m-\u001b[39;22m \u001b[39mInstalling \u001b[39m\u001b[36mnvidia-cufft-cu12\u001b[39m\u001b[39m (\u001b[39m\u001b[39;1m11.0.2.54\u001b[39;22m\u001b[39m)\u001b[39m: \u001b[34mDownloading...\u001b[39m \u001b[39;1m67%\u001b[39;22m\n",
            "  \u001b[34;1m-\u001b[39;22m \u001b[39mInstalling \u001b[39m\u001b[36mnvidia-curand-cu12\u001b[39m\u001b[39m (\u001b[39m\u001b[39;1m10.3.2.106\u001b[39;22m\u001b[39m)\u001b[39m: \u001b[34mDownloading...\u001b[39m \u001b[39;1m40%\u001b[39;22m\n",
            "\u001b[3A\u001b[0J  \u001b[34;1m-\u001b[39;22m \u001b[39mInstalling \u001b[39m\u001b[36mnvidia-cufft-cu12\u001b[39m\u001b[39m (\u001b[39m\u001b[39;1m11.0.2.54\u001b[39;22m\u001b[39m)\u001b[39m: \u001b[34mDownloading...\u001b[39m \u001b[39;1m67%\u001b[39;22m\n",
            "  \u001b[34;1m-\u001b[39;22m \u001b[39mInstalling \u001b[39m\u001b[36mnvidia-curand-cu12\u001b[39m\u001b[39m (\u001b[39m\u001b[39;1m10.3.2.106\u001b[39;22m\u001b[39m)\u001b[39m: \u001b[34mDownloading...\u001b[39m \u001b[39;1m40%\u001b[39;22m\n",
            "\u001b[2A\u001b[0J  \u001b[34;1m-\u001b[39;22m \u001b[39mInstalling \u001b[39m\u001b[36mnvidia-cudnn-cu12\u001b[39m\u001b[39m (\u001b[39m\u001b[39;1m8.9.2.26\u001b[39;22m\u001b[39m)\u001b[39m: \u001b[34mDownloading...\u001b[39m \u001b[39;1m12%\u001b[39;22m\n",
            "  \u001b[34;1m-\u001b[39;22m \u001b[39mInstalling \u001b[39m\u001b[36mnvidia-cufft-cu12\u001b[39m\u001b[39m (\u001b[39m\u001b[39;1m11.0.2.54\u001b[39;22m\u001b[39m)\u001b[39m: \u001b[34mDownloading...\u001b[39m \u001b[39;1m67%\u001b[39;22m\n",
            "  \u001b[34;1m-\u001b[39;22m \u001b[39mInstalling \u001b[39m\u001b[36mnvidia-curand-cu12\u001b[39m\u001b[39m (\u001b[39m\u001b[39;1m10.3.2.106\u001b[39;22m\u001b[39m)\u001b[39m: \u001b[34mDownloading...\u001b[39m \u001b[39;1m40%\u001b[39;22m\n",
            "\u001b[2A\u001b[0J  \u001b[34;1m-\u001b[39;22m \u001b[39mInstalling \u001b[39m\u001b[36mnvidia-curand-cu12\u001b[39m\u001b[39m (\u001b[39m\u001b[39;1m10.3.2.106\u001b[39;22m\u001b[39m)\u001b[39m: \u001b[34mDownloading...\u001b[39m \u001b[39;1m40%\u001b[39;22m\n",
            "\u001b[1A\u001b[0J  \u001b[34;1m-\u001b[39;22m \u001b[39mInstalling \u001b[39m\u001b[36mnvidia-cufft-cu12\u001b[39m\u001b[39m (\u001b[39m\u001b[39;1m11.0.2.54\u001b[39;22m\u001b[39m)\u001b[39m: \u001b[34mDownloading...\u001b[39m \u001b[39;1m70%\u001b[39;22m\n",
            "  \u001b[34;1m-\u001b[39;22m \u001b[39mInstalling \u001b[39m\u001b[36mnvidia-curand-cu12\u001b[39m\u001b[39m (\u001b[39m\u001b[39;1m10.3.2.106\u001b[39;22m\u001b[39m)\u001b[39m: \u001b[34mDownloading...\u001b[39m \u001b[39;1m40%\u001b[39;22m\n",
            "\u001b[1A\u001b[0J  \u001b[34;1m-\u001b[39;22m \u001b[39mInstalling \u001b[39m\u001b[36mnvidia-curand-cu12\u001b[39m\u001b[39m (\u001b[39m\u001b[39;1m10.3.2.106\u001b[39;22m\u001b[39m)\u001b[39m: \u001b[34mDownloading...\u001b[39m \u001b[39;1m50%\u001b[39;22m\n",
            "\u001b[1A\u001b[0J  \u001b[34;1m-\u001b[39;22m \u001b[39mInstalling \u001b[39m\u001b[36mnvidia-curand-cu12\u001b[39m\u001b[39m (\u001b[39m\u001b[39;1m10.3.2.106\u001b[39;22m\u001b[39m)\u001b[39m: \u001b[34mDownloading...\u001b[39m \u001b[39;1m60%\u001b[39;22m\n",
            "\u001b[6A\u001b[0J  \u001b[34;1m-\u001b[39;22m \u001b[39mInstalling \u001b[39m\u001b[36mnvidia-cuda-nvrtc-cu12\u001b[39m\u001b[39m (\u001b[39m\u001b[39;1m12.1.105\u001b[39;22m\u001b[39m)\u001b[39m: \u001b[34mInstalling...\u001b[39m\n",
            "  \u001b[32;1m-\u001b[39;22m \u001b[39mInstalling \u001b[39m\u001b[36mnvidia-cuda-runtime-cu12\u001b[39m\u001b[39m (\u001b[39m\u001b[32m12.1.105\u001b[39m\u001b[39m)\u001b[39m\n",
            "  \u001b[34;1m-\u001b[39;22m \u001b[39mInstalling \u001b[39m\u001b[36mnvidia-cudnn-cu12\u001b[39m\u001b[39m (\u001b[39m\u001b[39;1m8.9.2.26\u001b[39;22m\u001b[39m)\u001b[39m: \u001b[34mDownloading...\u001b[39m \u001b[39;1m12%\u001b[39;22m\n",
            "  \u001b[34;1m-\u001b[39;22m \u001b[39mInstalling \u001b[39m\u001b[36mnvidia-cufft-cu12\u001b[39m\u001b[39m (\u001b[39m\u001b[39;1m11.0.2.54\u001b[39;22m\u001b[39m)\u001b[39m: \u001b[34mDownloading...\u001b[39m \u001b[39;1m70%\u001b[39;22m\n",
            "  \u001b[34;1m-\u001b[39;22m \u001b[39mInstalling \u001b[39m\u001b[36mnvidia-curand-cu12\u001b[39m\u001b[39m (\u001b[39m\u001b[39;1m10.3.2.106\u001b[39;22m\u001b[39m)\u001b[39m: \u001b[34mDownloading...\u001b[39m \u001b[39;1m60%\u001b[39;22m\n",
            "\u001b[5A\u001b[0J  \u001b[32;1m-\u001b[39;22m \u001b[39mInstalling \u001b[39m\u001b[36mnvidia-cuda-cupti-cu12\u001b[39m\u001b[39m (\u001b[39m\u001b[32m12.1.105\u001b[39m\u001b[39m)\u001b[39m\n",
            "  \u001b[34;1m-\u001b[39;22m \u001b[39mInstalling \u001b[39m\u001b[36mnvidia-cuda-nvrtc-cu12\u001b[39m\u001b[39m (\u001b[39m\u001b[39;1m12.1.105\u001b[39;22m\u001b[39m)\u001b[39m: \u001b[34mInstalling...\u001b[39m\n",
            "  \u001b[32;1m-\u001b[39;22m \u001b[39mInstalling \u001b[39m\u001b[36mnvidia-cuda-runtime-cu12\u001b[39m\u001b[39m (\u001b[39m\u001b[32m12.1.105\u001b[39m\u001b[39m)\u001b[39m\n",
            "  \u001b[34;1m-\u001b[39;22m \u001b[39mInstalling \u001b[39m\u001b[36mnvidia-cudnn-cu12\u001b[39m\u001b[39m (\u001b[39m\u001b[39;1m8.9.2.26\u001b[39;22m\u001b[39m)\u001b[39m: \u001b[34mDownloading...\u001b[39m \u001b[39;1m12%\u001b[39;22m\n",
            "  \u001b[34;1m-\u001b[39;22m \u001b[39mInstalling \u001b[39m\u001b[36mnvidia-cufft-cu12\u001b[39m\u001b[39m (\u001b[39m\u001b[39;1m11.0.2.54\u001b[39;22m\u001b[39m)\u001b[39m: \u001b[34mDownloading...\u001b[39m \u001b[39;1m70%\u001b[39;22m\n",
            "  \u001b[34;1m-\u001b[39;22m \u001b[39mInstalling \u001b[39m\u001b[36mnvidia-curand-cu12\u001b[39m\u001b[39m (\u001b[39m\u001b[39;1m10.3.2.106\u001b[39;22m\u001b[39m)\u001b[39m: \u001b[34mDownloading...\u001b[39m \u001b[39;1m60%\u001b[39;22m\n",
            "  \u001b[34;1m-\u001b[39;22m \u001b[39mInstalling \u001b[39m\u001b[36mnvidia-cusolver-cu12\u001b[39m\u001b[39m (\u001b[39m\u001b[39;1m11.4.5.107\u001b[39;22m\u001b[39m)\u001b[39m: \u001b[34mPending...\u001b[39m\n",
            "\u001b[1A\u001b[0J  \u001b[34;1m-\u001b[39;22m \u001b[39mInstalling \u001b[39m\u001b[36mnvidia-cusolver-cu12\u001b[39m\u001b[39m (\u001b[39m\u001b[39;1m11.4.5.107\u001b[39;22m\u001b[39m)\u001b[39m: \u001b[34mDownloading...\u001b[39m \u001b[39;1m0%\u001b[39;22m\n",
            "\u001b[4A\u001b[0J  \u001b[34;1m-\u001b[39;22m \u001b[39mInstalling \u001b[39m\u001b[36mnvidia-cufft-cu12\u001b[39m\u001b[39m (\u001b[39m\u001b[39;1m11.0.2.54\u001b[39;22m\u001b[39m)\u001b[39m: \u001b[34mDownloading...\u001b[39m \u001b[39;1m70%\u001b[39;22m\n",
            "  \u001b[34;1m-\u001b[39;22m \u001b[39mInstalling \u001b[39m\u001b[36mnvidia-curand-cu12\u001b[39m\u001b[39m (\u001b[39m\u001b[39;1m10.3.2.106\u001b[39;22m\u001b[39m)\u001b[39m: \u001b[34mDownloading...\u001b[39m \u001b[39;1m60%\u001b[39;22m\n",
            "  \u001b[34;1m-\u001b[39;22m \u001b[39mInstalling \u001b[39m\u001b[36mnvidia-cusolver-cu12\u001b[39m\u001b[39m (\u001b[39m\u001b[39;1m11.4.5.107\u001b[39;22m\u001b[39m)\u001b[39m: \u001b[34mDownloading...\u001b[39m \u001b[39;1m0%\u001b[39;22m\n",
            "\u001b[3A\u001b[0J  \u001b[34;1m-\u001b[39;22m \u001b[39mInstalling \u001b[39m\u001b[36mnvidia-cudnn-cu12\u001b[39m\u001b[39m (\u001b[39m\u001b[39;1m8.9.2.26\u001b[39;22m\u001b[39m)\u001b[39m: \u001b[34mDownloading...\u001b[39m \u001b[39;1m14%\u001b[39;22m\n",
            "  \u001b[34;1m-\u001b[39;22m \u001b[39mInstalling \u001b[39m\u001b[36mnvidia-cufft-cu12\u001b[39m\u001b[39m (\u001b[39m\u001b[39;1m11.0.2.54\u001b[39;22m\u001b[39m)\u001b[39m: \u001b[34mDownloading...\u001b[39m \u001b[39;1m70%\u001b[39;22m\n",
            "  \u001b[34;1m-\u001b[39;22m \u001b[39mInstalling \u001b[39m\u001b[36mnvidia-curand-cu12\u001b[39m\u001b[39m (\u001b[39m\u001b[39;1m10.3.2.106\u001b[39;22m\u001b[39m)\u001b[39m: \u001b[34mDownloading...\u001b[39m \u001b[39;1m60%\u001b[39;22m\n",
            "  \u001b[34;1m-\u001b[39;22m \u001b[39mInstalling \u001b[39m\u001b[36mnvidia-cusolver-cu12\u001b[39m\u001b[39m (\u001b[39m\u001b[39;1m11.4.5.107\u001b[39;22m\u001b[39m)\u001b[39m: \u001b[34mDownloading...\u001b[39m \u001b[39;1m0%\u001b[39;22m\n",
            "\u001b[3A\u001b[0J  \u001b[34;1m-\u001b[39;22m \u001b[39mInstalling \u001b[39m\u001b[36mnvidia-curand-cu12\u001b[39m\u001b[39m (\u001b[39m\u001b[39;1m10.3.2.106\u001b[39;22m\u001b[39m)\u001b[39m: \u001b[34mDownloading...\u001b[39m \u001b[39;1m60%\u001b[39;22m\n",
            "  \u001b[34;1m-\u001b[39;22m \u001b[39mInstalling \u001b[39m\u001b[36mnvidia-cusolver-cu12\u001b[39m\u001b[39m (\u001b[39m\u001b[39;1m11.4.5.107\u001b[39;22m\u001b[39m)\u001b[39m: \u001b[34mDownloading...\u001b[39m \u001b[39;1m0%\u001b[39;22m\n",
            "\u001b[2A\u001b[0J  \u001b[34;1m-\u001b[39;22m \u001b[39mInstalling \u001b[39m\u001b[36mnvidia-cufft-cu12\u001b[39m\u001b[39m (\u001b[39m\u001b[39;1m11.0.2.54\u001b[39;22m\u001b[39m)\u001b[39m: \u001b[34mDownloading...\u001b[39m \u001b[39;1m77%\u001b[39;22m\n",
            "  \u001b[34;1m-\u001b[39;22m \u001b[39mInstalling \u001b[39m\u001b[36mnvidia-curand-cu12\u001b[39m\u001b[39m (\u001b[39m\u001b[39;1m10.3.2.106\u001b[39;22m\u001b[39m)\u001b[39m: \u001b[34mDownloading...\u001b[39m \u001b[39;1m60%\u001b[39;22m\n",
            "  \u001b[34;1m-\u001b[39;22m \u001b[39mInstalling \u001b[39m\u001b[36mnvidia-cusolver-cu12\u001b[39m\u001b[39m (\u001b[39m\u001b[39;1m11.4.5.107\u001b[39;22m\u001b[39m)\u001b[39m: \u001b[34mDownloading...\u001b[39m \u001b[39;1m0%\u001b[39;22m\n",
            "\u001b[3A\u001b[0J  \u001b[34;1m-\u001b[39;22m \u001b[39mInstalling \u001b[39m\u001b[36mnvidia-curand-cu12\u001b[39m\u001b[39m (\u001b[39m\u001b[39;1m10.3.2.106\u001b[39;22m\u001b[39m)\u001b[39m: \u001b[34mDownloading...\u001b[39m \u001b[39;1m60%\u001b[39;22m\n",
            "  \u001b[34;1m-\u001b[39;22m \u001b[39mInstalling \u001b[39m\u001b[36mnvidia-cusolver-cu12\u001b[39m\u001b[39m (\u001b[39m\u001b[39;1m11.4.5.107\u001b[39;22m\u001b[39m)\u001b[39m: \u001b[34mDownloading...\u001b[39m \u001b[39;1m0%\u001b[39;22m\n",
            "\u001b[2A\u001b[0J  \u001b[34;1m-\u001b[39;22m \u001b[39mInstalling \u001b[39m\u001b[36mnvidia-cufft-cu12\u001b[39m\u001b[39m (\u001b[39m\u001b[39;1m11.0.2.54\u001b[39;22m\u001b[39m)\u001b[39m: \u001b[34mDownloading...\u001b[39m \u001b[39;1m80%\u001b[39;22m\n",
            "  \u001b[34;1m-\u001b[39;22m \u001b[39mInstalling \u001b[39m\u001b[36mnvidia-curand-cu12\u001b[39m\u001b[39m (\u001b[39m\u001b[39;1m10.3.2.106\u001b[39;22m\u001b[39m)\u001b[39m: \u001b[34mDownloading...\u001b[39m \u001b[39;1m60%\u001b[39;22m\n",
            "  \u001b[34;1m-\u001b[39;22m \u001b[39mInstalling \u001b[39m\u001b[36mnvidia-cusolver-cu12\u001b[39m\u001b[39m (\u001b[39m\u001b[39;1m11.4.5.107\u001b[39;22m\u001b[39m)\u001b[39m: \u001b[34mDownloading...\u001b[39m \u001b[39;1m0%\u001b[39;22m\n",
            "\u001b[2A\u001b[0J  \u001b[34;1m-\u001b[39;22m \u001b[39mInstalling \u001b[39m\u001b[36mnvidia-cusolver-cu12\u001b[39m\u001b[39m (\u001b[39m\u001b[39;1m11.4.5.107\u001b[39;22m\u001b[39m)\u001b[39m: \u001b[34mDownloading...\u001b[39m \u001b[39;1m0%\u001b[39;22m\n",
            "\u001b[1A\u001b[0J  \u001b[34;1m-\u001b[39;22m \u001b[39mInstalling \u001b[39m\u001b[36mnvidia-curand-cu12\u001b[39m\u001b[39m (\u001b[39m\u001b[39;1m10.3.2.106\u001b[39;22m\u001b[39m)\u001b[39m: \u001b[34mDownloading...\u001b[39m \u001b[39;1m70%\u001b[39;22m\n",
            "  \u001b[34;1m-\u001b[39;22m \u001b[39mInstalling \u001b[39m\u001b[36mnvidia-cusolver-cu12\u001b[39m\u001b[39m (\u001b[39m\u001b[39;1m11.4.5.107\u001b[39;22m\u001b[39m)\u001b[39m: \u001b[34mDownloading...\u001b[39m \u001b[39;1m0%\u001b[39;22m\n",
            "\u001b[1A\u001b[0J  \u001b[34;1m-\u001b[39;22m \u001b[39mInstalling \u001b[39m\u001b[36mnvidia-cusolver-cu12\u001b[39m\u001b[39m (\u001b[39m\u001b[39;1m11.4.5.107\u001b[39;22m\u001b[39m)\u001b[39m: \u001b[34mDownloading...\u001b[39m \u001b[39;1m5%\u001b[39;22m\n",
            "\u001b[4A\u001b[0J  \u001b[34;1m-\u001b[39;22m \u001b[39mInstalling \u001b[39m\u001b[36mnvidia-cufft-cu12\u001b[39m\u001b[39m (\u001b[39m\u001b[39;1m11.0.2.54\u001b[39;22m\u001b[39m)\u001b[39m: \u001b[34mDownloading...\u001b[39m \u001b[39;1m80%\u001b[39;22m\n",
            "  \u001b[34;1m-\u001b[39;22m \u001b[39mInstalling \u001b[39m\u001b[36mnvidia-curand-cu12\u001b[39m\u001b[39m (\u001b[39m\u001b[39;1m10.3.2.106\u001b[39;22m\u001b[39m)\u001b[39m: \u001b[34mDownloading...\u001b[39m \u001b[39;1m70%\u001b[39;22m\n",
            "  \u001b[34;1m-\u001b[39;22m \u001b[39mInstalling \u001b[39m\u001b[36mnvidia-cusolver-cu12\u001b[39m\u001b[39m (\u001b[39m\u001b[39;1m11.4.5.107\u001b[39;22m\u001b[39m)\u001b[39m: \u001b[34mDownloading...\u001b[39m \u001b[39;1m5%\u001b[39;22m\n",
            "\u001b[3A\u001b[0J  \u001b[34;1m-\u001b[39;22m \u001b[39mInstalling \u001b[39m\u001b[36mnvidia-cudnn-cu12\u001b[39m\u001b[39m (\u001b[39m\u001b[39;1m8.9.2.26\u001b[39;22m\u001b[39m)\u001b[39m: \u001b[34mDownloading...\u001b[39m \u001b[39;1m15%\u001b[39;22m\n",
            "  \u001b[34;1m-\u001b[39;22m \u001b[39mInstalling \u001b[39m\u001b[36mnvidia-cufft-cu12\u001b[39m\u001b[39m (\u001b[39m\u001b[39;1m11.0.2.54\u001b[39;22m\u001b[39m)\u001b[39m: \u001b[34mDownloading...\u001b[39m \u001b[39;1m80%\u001b[39;22m\n",
            "  \u001b[34;1m-\u001b[39;22m \u001b[39mInstalling \u001b[39m\u001b[36mnvidia-curand-cu12\u001b[39m\u001b[39m (\u001b[39m\u001b[39;1m10.3.2.106\u001b[39;22m\u001b[39m)\u001b[39m: \u001b[34mDownloading...\u001b[39m \u001b[39;1m70%\u001b[39;22m\n",
            "  \u001b[34;1m-\u001b[39;22m \u001b[39mInstalling \u001b[39m\u001b[36mnvidia-cusolver-cu12\u001b[39m\u001b[39m (\u001b[39m\u001b[39;1m11.4.5.107\u001b[39;22m\u001b[39m)\u001b[39m: \u001b[34mDownloading...\u001b[39m \u001b[39;1m5%\u001b[39;22m\n",
            "\u001b[3A\u001b[0J  \u001b[34;1m-\u001b[39;22m \u001b[39mInstalling \u001b[39m\u001b[36mnvidia-curand-cu12\u001b[39m\u001b[39m (\u001b[39m\u001b[39;1m10.3.2.106\u001b[39;22m\u001b[39m)\u001b[39m: \u001b[34mDownloading...\u001b[39m \u001b[39;1m70%\u001b[39;22m\n",
            "  \u001b[34;1m-\u001b[39;22m \u001b[39mInstalling \u001b[39m\u001b[36mnvidia-cusolver-cu12\u001b[39m\u001b[39m (\u001b[39m\u001b[39;1m11.4.5.107\u001b[39;22m\u001b[39m)\u001b[39m: \u001b[34mDownloading...\u001b[39m \u001b[39;1m5%\u001b[39;22m\n",
            "\u001b[2A\u001b[0J  \u001b[34;1m-\u001b[39;22m \u001b[39mInstalling \u001b[39m\u001b[36mnvidia-cufft-cu12\u001b[39m\u001b[39m (\u001b[39m\u001b[39;1m11.0.2.54\u001b[39;22m\u001b[39m)\u001b[39m: \u001b[34mDownloading...\u001b[39m \u001b[39;1m84%\u001b[39;22m\n",
            "  \u001b[34;1m-\u001b[39;22m \u001b[39mInstalling \u001b[39m\u001b[36mnvidia-curand-cu12\u001b[39m\u001b[39m (\u001b[39m\u001b[39;1m10.3.2.106\u001b[39;22m\u001b[39m)\u001b[39m: \u001b[34mDownloading...\u001b[39m \u001b[39;1m70%\u001b[39;22m\n",
            "  \u001b[34;1m-\u001b[39;22m \u001b[39mInstalling \u001b[39m\u001b[36mnvidia-cusolver-cu12\u001b[39m\u001b[39m (\u001b[39m\u001b[39;1m11.4.5.107\u001b[39;22m\u001b[39m)\u001b[39m: \u001b[34mDownloading...\u001b[39m \u001b[39;1m5%\u001b[39;22m\n",
            "\u001b[2A\u001b[0J  \u001b[34;1m-\u001b[39;22m \u001b[39mInstalling \u001b[39m\u001b[36mnvidia-cusolver-cu12\u001b[39m\u001b[39m (\u001b[39m\u001b[39;1m11.4.5.107\u001b[39;22m\u001b[39m)\u001b[39m: \u001b[34mDownloading...\u001b[39m \u001b[39;1m5%\u001b[39;22m\n",
            "\u001b[1A\u001b[0J  \u001b[34;1m-\u001b[39;22m \u001b[39mInstalling \u001b[39m\u001b[36mnvidia-curand-cu12\u001b[39m\u001b[39m (\u001b[39m\u001b[39;1m10.3.2.106\u001b[39;22m\u001b[39m)\u001b[39m: \u001b[34mDownloading...\u001b[39m \u001b[39;1m80%\u001b[39;22m\n",
            "  \u001b[34;1m-\u001b[39;22m \u001b[39mInstalling \u001b[39m\u001b[36mnvidia-cusolver-cu12\u001b[39m\u001b[39m (\u001b[39m\u001b[39;1m11.4.5.107\u001b[39;22m\u001b[39m)\u001b[39m: \u001b[34mDownloading...\u001b[39m \u001b[39;1m5%\u001b[39;22m\n",
            "\u001b[1A\u001b[0J  \u001b[34;1m-\u001b[39;22m \u001b[39mInstalling \u001b[39m\u001b[36mnvidia-cusolver-cu12\u001b[39m\u001b[39m (\u001b[39m\u001b[39;1m11.4.5.107\u001b[39;22m\u001b[39m)\u001b[39m: \u001b[34mDownloading...\u001b[39m \u001b[39;1m10%\u001b[39;22m\n",
            "\u001b[4A\u001b[0J  \u001b[34;1m-\u001b[39;22m \u001b[39mInstalling \u001b[39m\u001b[36mnvidia-cufft-cu12\u001b[39m\u001b[39m (\u001b[39m\u001b[39;1m11.0.2.54\u001b[39;22m\u001b[39m)\u001b[39m: \u001b[34mDownloading...\u001b[39m \u001b[39;1m84%\u001b[39;22m\n",
            "  \u001b[34;1m-\u001b[39;22m \u001b[39mInstalling \u001b[39m\u001b[36mnvidia-curand-cu12\u001b[39m\u001b[39m (\u001b[39m\u001b[39;1m10.3.2.106\u001b[39;22m\u001b[39m)\u001b[39m: \u001b[34mDownloading...\u001b[39m \u001b[39;1m80%\u001b[39;22m\n",
            "  \u001b[34;1m-\u001b[39;22m \u001b[39mInstalling \u001b[39m\u001b[36mnvidia-cusolver-cu12\u001b[39m\u001b[39m (\u001b[39m\u001b[39;1m11.4.5.107\u001b[39;22m\u001b[39m)\u001b[39m: \u001b[34mDownloading...\u001b[39m \u001b[39;1m10%\u001b[39;22m\n",
            "\u001b[3A\u001b[0J  \u001b[34;1m-\u001b[39;22m \u001b[39mInstalling \u001b[39m\u001b[36mnvidia-cudnn-cu12\u001b[39m\u001b[39m (\u001b[39m\u001b[39;1m8.9.2.26\u001b[39;22m\u001b[39m)\u001b[39m: \u001b[34mDownloading...\u001b[39m \u001b[39;1m16%\u001b[39;22m\n",
            "  \u001b[34;1m-\u001b[39;22m \u001b[39mInstalling \u001b[39m\u001b[36mnvidia-cufft-cu12\u001b[39m\u001b[39m (\u001b[39m\u001b[39;1m11.0.2.54\u001b[39;22m\u001b[39m)\u001b[39m: \u001b[34mDownloading...\u001b[39m \u001b[39;1m84%\u001b[39;22m\n",
            "  \u001b[34;1m-\u001b[39;22m \u001b[39mInstalling \u001b[39m\u001b[36mnvidia-curand-cu12\u001b[39m\u001b[39m (\u001b[39m\u001b[39;1m10.3.2.106\u001b[39;22m\u001b[39m)\u001b[39m: \u001b[34mDownloading...\u001b[39m \u001b[39;1m80%\u001b[39;22m\n",
            "  \u001b[34;1m-\u001b[39;22m \u001b[39mInstalling \u001b[39m\u001b[36mnvidia-cusolver-cu12\u001b[39m\u001b[39m (\u001b[39m\u001b[39;1m11.4.5.107\u001b[39;22m\u001b[39m)\u001b[39m: \u001b[34mDownloading...\u001b[39m \u001b[39;1m10%\u001b[39;22m\n",
            "\u001b[2A\u001b[0J  \u001b[34;1m-\u001b[39;22m \u001b[39mInstalling \u001b[39m\u001b[36mnvidia-cusolver-cu12\u001b[39m\u001b[39m (\u001b[39m\u001b[39;1m11.4.5.107\u001b[39;22m\u001b[39m)\u001b[39m: \u001b[34mDownloading...\u001b[39m \u001b[39;1m10%\u001b[39;22m\n",
            "\u001b[1A\u001b[0J  \u001b[34;1m-\u001b[39;22m \u001b[39mInstalling \u001b[39m\u001b[36mnvidia-curand-cu12\u001b[39m\u001b[39m (\u001b[39m\u001b[39;1m10.3.2.106\u001b[39;22m\u001b[39m)\u001b[39m: \u001b[34mDownloading...\u001b[39m \u001b[39;1m90%\u001b[39;22m\n",
            "  \u001b[34;1m-\u001b[39;22m \u001b[39mInstalling \u001b[39m\u001b[36mnvidia-cusolver-cu12\u001b[39m\u001b[39m (\u001b[39m\u001b[39;1m11.4.5.107\u001b[39;22m\u001b[39m)\u001b[39m: \u001b[34mDownloading...\u001b[39m \u001b[39;1m10%\u001b[39;22m\n",
            "\u001b[3A\u001b[0J  \u001b[34;1m-\u001b[39;22m \u001b[39mInstalling \u001b[39m\u001b[36mnvidia-curand-cu12\u001b[39m\u001b[39m (\u001b[39m\u001b[39;1m10.3.2.106\u001b[39;22m\u001b[39m)\u001b[39m: \u001b[34mDownloading...\u001b[39m \u001b[39;1m90%\u001b[39;22m\n",
            "  \u001b[34;1m-\u001b[39;22m \u001b[39mInstalling \u001b[39m\u001b[36mnvidia-cusolver-cu12\u001b[39m\u001b[39m (\u001b[39m\u001b[39;1m11.4.5.107\u001b[39;22m\u001b[39m)\u001b[39m: \u001b[34mDownloading...\u001b[39m \u001b[39;1m10%\u001b[39;22m\n",
            "\u001b[2A\u001b[0J  \u001b[34;1m-\u001b[39;22m \u001b[39mInstalling \u001b[39m\u001b[36mnvidia-cufft-cu12\u001b[39m\u001b[39m (\u001b[39m\u001b[39;1m11.0.2.54\u001b[39;22m\u001b[39m)\u001b[39m: \u001b[34mDownloading...\u001b[39m \u001b[39;1m90%\u001b[39;22m\n",
            "  \u001b[34;1m-\u001b[39;22m \u001b[39mInstalling \u001b[39m\u001b[36mnvidia-curand-cu12\u001b[39m\u001b[39m (\u001b[39m\u001b[39;1m10.3.2.106\u001b[39;22m\u001b[39m)\u001b[39m: \u001b[34mDownloading...\u001b[39m \u001b[39;1m90%\u001b[39;22m\n",
            "  \u001b[34;1m-\u001b[39;22m \u001b[39mInstalling \u001b[39m\u001b[36mnvidia-cusolver-cu12\u001b[39m\u001b[39m (\u001b[39m\u001b[39;1m11.4.5.107\u001b[39;22m\u001b[39m)\u001b[39m: \u001b[34mDownloading...\u001b[39m \u001b[39;1m10%\u001b[39;22m\n",
            "\u001b[6A\u001b[0J  \u001b[32;1m-\u001b[39;22m \u001b[39mInstalling \u001b[39m\u001b[36mnvidia-cuda-runtime-cu12\u001b[39m\u001b[39m (\u001b[39m\u001b[32m12.1.105\u001b[39m\u001b[39m)\u001b[39m\n",
            "  \u001b[34;1m-\u001b[39;22m \u001b[39mInstalling \u001b[39m\u001b[36mnvidia-cudnn-cu12\u001b[39m\u001b[39m (\u001b[39m\u001b[39;1m8.9.2.26\u001b[39;22m\u001b[39m)\u001b[39m: \u001b[34mDownloading...\u001b[39m \u001b[39;1m16%\u001b[39;22m\n",
            "  \u001b[34;1m-\u001b[39;22m \u001b[39mInstalling \u001b[39m\u001b[36mnvidia-cufft-cu12\u001b[39m\u001b[39m (\u001b[39m\u001b[39;1m11.0.2.54\u001b[39;22m\u001b[39m)\u001b[39m: \u001b[34mDownloading...\u001b[39m \u001b[39;1m90%\u001b[39;22m\n",
            "  \u001b[34;1m-\u001b[39;22m \u001b[39mInstalling \u001b[39m\u001b[36mnvidia-curand-cu12\u001b[39m\u001b[39m (\u001b[39m\u001b[39;1m10.3.2.106\u001b[39;22m\u001b[39m)\u001b[39m: \u001b[34mDownloading...\u001b[39m \u001b[39;1m90%\u001b[39;22m\n",
            "  \u001b[34;1m-\u001b[39;22m \u001b[39mInstalling \u001b[39m\u001b[36mnvidia-cusolver-cu12\u001b[39m\u001b[39m (\u001b[39m\u001b[39;1m11.4.5.107\u001b[39;22m\u001b[39m)\u001b[39m: \u001b[34mDownloading...\u001b[39m \u001b[39;1m10%\u001b[39;22m\n",
            "\u001b[5A\u001b[0J  \u001b[32;1m-\u001b[39;22m \u001b[39mInstalling \u001b[39m\u001b[36mnvidia-cuda-nvrtc-cu12\u001b[39m\u001b[39m (\u001b[39m\u001b[32m12.1.105\u001b[39m\u001b[39m)\u001b[39m\n",
            "  \u001b[32;1m-\u001b[39;22m \u001b[39mInstalling \u001b[39m\u001b[36mnvidia-cuda-runtime-cu12\u001b[39m\u001b[39m (\u001b[39m\u001b[32m12.1.105\u001b[39m\u001b[39m)\u001b[39m\n",
            "  \u001b[34;1m-\u001b[39;22m \u001b[39mInstalling \u001b[39m\u001b[36mnvidia-cudnn-cu12\u001b[39m\u001b[39m (\u001b[39m\u001b[39;1m8.9.2.26\u001b[39;22m\u001b[39m)\u001b[39m: \u001b[34mDownloading...\u001b[39m \u001b[39;1m16%\u001b[39;22m\n",
            "  \u001b[34;1m-\u001b[39;22m \u001b[39mInstalling \u001b[39m\u001b[36mnvidia-cufft-cu12\u001b[39m\u001b[39m (\u001b[39m\u001b[39;1m11.0.2.54\u001b[39;22m\u001b[39m)\u001b[39m: \u001b[34mDownloading...\u001b[39m \u001b[39;1m90%\u001b[39;22m\n",
            "  \u001b[34;1m-\u001b[39;22m \u001b[39mInstalling \u001b[39m\u001b[36mnvidia-curand-cu12\u001b[39m\u001b[39m (\u001b[39m\u001b[39;1m10.3.2.106\u001b[39;22m\u001b[39m)\u001b[39m: \u001b[34mDownloading...\u001b[39m \u001b[39;1m90%\u001b[39;22m\n",
            "  \u001b[34;1m-\u001b[39;22m \u001b[39mInstalling \u001b[39m\u001b[36mnvidia-cusolver-cu12\u001b[39m\u001b[39m (\u001b[39m\u001b[39;1m11.4.5.107\u001b[39;22m\u001b[39m)\u001b[39m: \u001b[34mDownloading...\u001b[39m \u001b[39;1m10%\u001b[39;22m\n",
            "  \u001b[34;1m-\u001b[39;22m \u001b[39mInstalling \u001b[39m\u001b[36mnvidia-nccl-cu12\u001b[39m\u001b[39m (\u001b[39m\u001b[39;1m2.20.5\u001b[39;22m\u001b[39m)\u001b[39m: \u001b[34mPending...\u001b[39m\n",
            "\u001b[1A\u001b[0J  \u001b[34;1m-\u001b[39;22m \u001b[39mInstalling \u001b[39m\u001b[36mnvidia-nccl-cu12\u001b[39m\u001b[39m (\u001b[39m\u001b[39;1m2.20.5\u001b[39;22m\u001b[39m)\u001b[39m: \u001b[34mDownloading...\u001b[39m \u001b[39;1m0%\u001b[39;22m\n",
            "\u001b[2A\u001b[0J  \u001b[34;1m-\u001b[39;22m \u001b[39mInstalling \u001b[39m\u001b[36mnvidia-nccl-cu12\u001b[39m\u001b[39m (\u001b[39m\u001b[39;1m2.20.5\u001b[39;22m\u001b[39m)\u001b[39m: \u001b[34mDownloading...\u001b[39m \u001b[39;1m0%\u001b[39;22m\n",
            "\u001b[1A\u001b[0J  \u001b[34;1m-\u001b[39;22m \u001b[39mInstalling \u001b[39m\u001b[36mnvidia-cusolver-cu12\u001b[39m\u001b[39m (\u001b[39m\u001b[39;1m11.4.5.107\u001b[39;22m\u001b[39m)\u001b[39m: \u001b[34mDownloading...\u001b[39m \u001b[39;1m17%\u001b[39;22m\n",
            "  \u001b[34;1m-\u001b[39;22m \u001b[39mInstalling \u001b[39m\u001b[36mnvidia-nccl-cu12\u001b[39m\u001b[39m (\u001b[39m\u001b[39;1m2.20.5\u001b[39;22m\u001b[39m)\u001b[39m: \u001b[34mDownloading...\u001b[39m \u001b[39;1m0%\u001b[39;22m\n",
            "\u001b[5A\u001b[0J  \u001b[34;1m-\u001b[39;22m \u001b[39mInstalling \u001b[39m\u001b[36mnvidia-cufft-cu12\u001b[39m\u001b[39m (\u001b[39m\u001b[39;1m11.0.2.54\u001b[39;22m\u001b[39m)\u001b[39m: \u001b[34mDownloading...\u001b[39m \u001b[39;1m90%\u001b[39;22m\n",
            "  \u001b[34;1m-\u001b[39;22m \u001b[39mInstalling \u001b[39m\u001b[36mnvidia-curand-cu12\u001b[39m\u001b[39m (\u001b[39m\u001b[39;1m10.3.2.106\u001b[39;22m\u001b[39m)\u001b[39m: \u001b[34mDownloading...\u001b[39m \u001b[39;1m90%\u001b[39;22m\n",
            "  \u001b[34;1m-\u001b[39;22m \u001b[39mInstalling \u001b[39m\u001b[36mnvidia-cusolver-cu12\u001b[39m\u001b[39m (\u001b[39m\u001b[39;1m11.4.5.107\u001b[39;22m\u001b[39m)\u001b[39m: \u001b[34mDownloading...\u001b[39m \u001b[39;1m17%\u001b[39;22m\n",
            "  \u001b[34;1m-\u001b[39;22m \u001b[39mInstalling \u001b[39m\u001b[36mnvidia-nccl-cu12\u001b[39m\u001b[39m (\u001b[39m\u001b[39;1m2.20.5\u001b[39;22m\u001b[39m)\u001b[39m: \u001b[34mDownloading...\u001b[39m \u001b[39;1m0%\u001b[39;22m\n",
            "\u001b[4A\u001b[0J  \u001b[34;1m-\u001b[39;22m \u001b[39mInstalling \u001b[39m\u001b[36mnvidia-cudnn-cu12\u001b[39m\u001b[39m (\u001b[39m\u001b[39;1m8.9.2.26\u001b[39;22m\u001b[39m)\u001b[39m: \u001b[34mDownloading...\u001b[39m \u001b[39;1m17%\u001b[39;22m\n",
            "  \u001b[34;1m-\u001b[39;22m \u001b[39mInstalling \u001b[39m\u001b[36mnvidia-cufft-cu12\u001b[39m\u001b[39m (\u001b[39m\u001b[39;1m11.0.2.54\u001b[39;22m\u001b[39m)\u001b[39m: \u001b[34mDownloading...\u001b[39m \u001b[39;1m90%\u001b[39;22m\n",
            "  \u001b[34;1m-\u001b[39;22m \u001b[39mInstalling \u001b[39m\u001b[36mnvidia-curand-cu12\u001b[39m\u001b[39m (\u001b[39m\u001b[39;1m10.3.2.106\u001b[39;22m\u001b[39m)\u001b[39m: \u001b[34mDownloading...\u001b[39m \u001b[39;1m90%\u001b[39;22m\n",
            "  \u001b[34;1m-\u001b[39;22m \u001b[39mInstalling \u001b[39m\u001b[36mnvidia-cusolver-cu12\u001b[39m\u001b[39m (\u001b[39m\u001b[39;1m11.4.5.107\u001b[39;22m\u001b[39m)\u001b[39m: \u001b[34mDownloading...\u001b[39m \u001b[39;1m17%\u001b[39;22m\n",
            "  \u001b[34;1m-\u001b[39;22m \u001b[39mInstalling \u001b[39m\u001b[36mnvidia-nccl-cu12\u001b[39m\u001b[39m (\u001b[39m\u001b[39;1m2.20.5\u001b[39;22m\u001b[39m)\u001b[39m: \u001b[34mDownloading...\u001b[39m \u001b[39;1m0%\u001b[39;22m\n",
            "\u001b[4A\u001b[0J  \u001b[34;1m-\u001b[39;22m \u001b[39mInstalling \u001b[39m\u001b[36mnvidia-curand-cu12\u001b[39m\u001b[39m (\u001b[39m\u001b[39;1m10.3.2.106\u001b[39;22m\u001b[39m)\u001b[39m: \u001b[34mDownloading...\u001b[39m \u001b[39;1m90%\u001b[39;22m\n",
            "  \u001b[34;1m-\u001b[39;22m \u001b[39mInstalling \u001b[39m\u001b[36mnvidia-cusolver-cu12\u001b[39m\u001b[39m (\u001b[39m\u001b[39;1m11.4.5.107\u001b[39;22m\u001b[39m)\u001b[39m: \u001b[34mDownloading...\u001b[39m \u001b[39;1m17%\u001b[39;22m\n",
            "  \u001b[34;1m-\u001b[39;22m \u001b[39mInstalling \u001b[39m\u001b[36mnvidia-nccl-cu12\u001b[39m\u001b[39m (\u001b[39m\u001b[39;1m2.20.5\u001b[39;22m\u001b[39m)\u001b[39m: \u001b[34mDownloading...\u001b[39m \u001b[39;1m0%\u001b[39;22m\n",
            "\u001b[3A\u001b[0J  \u001b[34;1m-\u001b[39;22m \u001b[39mInstalling \u001b[39m\u001b[36mnvidia-cufft-cu12\u001b[39m\u001b[39m (\u001b[39m\u001b[39;1m11.0.2.54\u001b[39;22m\u001b[39m)\u001b[39m: \u001b[34mDownloading...\u001b[39m \u001b[39;1m95%\u001b[39;22m\n",
            "  \u001b[34;1m-\u001b[39;22m \u001b[39mInstalling \u001b[39m\u001b[36mnvidia-curand-cu12\u001b[39m\u001b[39m (\u001b[39m\u001b[39;1m10.3.2.106\u001b[39;22m\u001b[39m)\u001b[39m: \u001b[34mDownloading...\u001b[39m \u001b[39;1m90%\u001b[39;22m\n",
            "  \u001b[34;1m-\u001b[39;22m \u001b[39mInstalling \u001b[39m\u001b[36mnvidia-cusolver-cu12\u001b[39m\u001b[39m (\u001b[39m\u001b[39;1m11.4.5.107\u001b[39;22m\u001b[39m)\u001b[39m: \u001b[34mDownloading...\u001b[39m \u001b[39;1m17%\u001b[39;22m\n",
            "  \u001b[34;1m-\u001b[39;22m \u001b[39mInstalling \u001b[39m\u001b[36mnvidia-nccl-cu12\u001b[39m\u001b[39m (\u001b[39m\u001b[39;1m2.20.5\u001b[39;22m\u001b[39m)\u001b[39m: \u001b[34mDownloading...\u001b[39m \u001b[39;1m0%\u001b[39;22m\n",
            "\u001b[2A\u001b[0J  \u001b[34;1m-\u001b[39;22m \u001b[39mInstalling \u001b[39m\u001b[36mnvidia-nccl-cu12\u001b[39m\u001b[39m (\u001b[39m\u001b[39;1m2.20.5\u001b[39;22m\u001b[39m)\u001b[39m: \u001b[34mDownloading...\u001b[39m \u001b[39;1m0%\u001b[39;22m\n",
            "\u001b[1A\u001b[0J  \u001b[34;1m-\u001b[39;22m \u001b[39mInstalling \u001b[39m\u001b[36mnvidia-cusolver-cu12\u001b[39m\u001b[39m (\u001b[39m\u001b[39;1m11.4.5.107\u001b[39;22m\u001b[39m)\u001b[39m: \u001b[34mDownloading...\u001b[39m \u001b[39;1m20%\u001b[39;22m\n",
            "  \u001b[34;1m-\u001b[39;22m \u001b[39mInstalling \u001b[39m\u001b[36mnvidia-nccl-cu12\u001b[39m\u001b[39m (\u001b[39m\u001b[39;1m2.20.5\u001b[39;22m\u001b[39m)\u001b[39m: \u001b[34mDownloading...\u001b[39m \u001b[39;1m0%\u001b[39;22m\n",
            "\u001b[1A\u001b[0J  \u001b[34;1m-\u001b[39;22m \u001b[39mInstalling \u001b[39m\u001b[36mnvidia-nccl-cu12\u001b[39m\u001b[39m (\u001b[39m\u001b[39;1m2.20.5\u001b[39;22m\u001b[39m)\u001b[39m: \u001b[34mDownloading...\u001b[39m \u001b[39;1m2%\u001b[39;22m\n",
            "\u001b[5A\u001b[0J  \u001b[34;1m-\u001b[39;22m \u001b[39mInstalling \u001b[39m\u001b[36mnvidia-cufft-cu12\u001b[39m\u001b[39m (\u001b[39m\u001b[39;1m11.0.2.54\u001b[39;22m\u001b[39m)\u001b[39m: \u001b[34mDownloading...\u001b[39m \u001b[39;1m95%\u001b[39;22m\n",
            "  \u001b[34;1m-\u001b[39;22m \u001b[39mInstalling \u001b[39m\u001b[36mnvidia-curand-cu12\u001b[39m\u001b[39m (\u001b[39m\u001b[39;1m10.3.2.106\u001b[39;22m\u001b[39m)\u001b[39m: \u001b[34mDownloading...\u001b[39m \u001b[39;1m90%\u001b[39;22m\n",
            "  \u001b[34;1m-\u001b[39;22m \u001b[39mInstalling \u001b[39m\u001b[36mnvidia-cusolver-cu12\u001b[39m\u001b[39m (\u001b[39m\u001b[39;1m11.4.5.107\u001b[39;22m\u001b[39m)\u001b[39m: \u001b[34mDownloading...\u001b[39m \u001b[39;1m20%\u001b[39;22m\n",
            "  \u001b[34;1m-\u001b[39;22m \u001b[39mInstalling \u001b[39m\u001b[36mnvidia-nccl-cu12\u001b[39m\u001b[39m (\u001b[39m\u001b[39;1m2.20.5\u001b[39;22m\u001b[39m)\u001b[39m: \u001b[34mDownloading...\u001b[39m \u001b[39;1m2%\u001b[39;22m\n",
            "\u001b[4A\u001b[0J  \u001b[34;1m-\u001b[39;22m \u001b[39mInstalling \u001b[39m\u001b[36mnvidia-cudnn-cu12\u001b[39m\u001b[39m (\u001b[39m\u001b[39;1m8.9.2.26\u001b[39;22m\u001b[39m)\u001b[39m: \u001b[34mDownloading...\u001b[39m \u001b[39;1m18%\u001b[39;22m\n",
            "  \u001b[34;1m-\u001b[39;22m \u001b[39mInstalling \u001b[39m\u001b[36mnvidia-cufft-cu12\u001b[39m\u001b[39m (\u001b[39m\u001b[39;1m11.0.2.54\u001b[39;22m\u001b[39m)\u001b[39m: \u001b[34mDownloading...\u001b[39m \u001b[39;1m95%\u001b[39;22m\n",
            "  \u001b[34;1m-\u001b[39;22m \u001b[39mInstalling \u001b[39m\u001b[36mnvidia-curand-cu12\u001b[39m\u001b[39m (\u001b[39m\u001b[39;1m10.3.2.106\u001b[39;22m\u001b[39m)\u001b[39m: \u001b[34mDownloading...\u001b[39m \u001b[39;1m90%\u001b[39;22m\n",
            "  \u001b[34;1m-\u001b[39;22m \u001b[39mInstalling \u001b[39m\u001b[36mnvidia-cusolver-cu12\u001b[39m\u001b[39m (\u001b[39m\u001b[39;1m11.4.5.107\u001b[39;22m\u001b[39m)\u001b[39m: \u001b[34mDownloading...\u001b[39m \u001b[39;1m20%\u001b[39;22m\n",
            "  \u001b[34;1m-\u001b[39;22m \u001b[39mInstalling \u001b[39m\u001b[36mnvidia-nccl-cu12\u001b[39m\u001b[39m (\u001b[39m\u001b[39;1m2.20.5\u001b[39;22m\u001b[39m)\u001b[39m: \u001b[34mDownloading...\u001b[39m \u001b[39;1m2%\u001b[39;22m\n",
            "\u001b[1A\u001b[0J  \u001b[34;1m-\u001b[39;22m \u001b[39mInstalling \u001b[39m\u001b[36mnvidia-nccl-cu12\u001b[39m\u001b[39m (\u001b[39m\u001b[39;1m2.20.5\u001b[39;22m\u001b[39m)\u001b[39m: \u001b[34mDownloading...\u001b[39m \u001b[39;1m4%\u001b[39;22m\n",
            "\u001b[2A\u001b[0J  \u001b[34;1m-\u001b[39;22m \u001b[39mInstalling \u001b[39m\u001b[36mnvidia-nccl-cu12\u001b[39m\u001b[39m (\u001b[39m\u001b[39;1m2.20.5\u001b[39;22m\u001b[39m)\u001b[39m: \u001b[34mDownloading...\u001b[39m \u001b[39;1m4%\u001b[39;22m\n",
            "\u001b[1A\u001b[0J  \u001b[34;1m-\u001b[39;22m \u001b[39mInstalling \u001b[39m\u001b[36mnvidia-cusolver-cu12\u001b[39m\u001b[39m (\u001b[39m\u001b[39;1m11.4.5.107\u001b[39;22m\u001b[39m)\u001b[39m: \u001b[34mDownloading...\u001b[39m \u001b[39;1m23%\u001b[39;22m\n",
            "  \u001b[34;1m-\u001b[39;22m \u001b[39mInstalling \u001b[39m\u001b[36mnvidia-nccl-cu12\u001b[39m\u001b[39m (\u001b[39m\u001b[39;1m2.20.5\u001b[39;22m\u001b[39m)\u001b[39m: \u001b[34mDownloading...\u001b[39m \u001b[39;1m4%\u001b[39;22m\n",
            "\u001b[3A\u001b[0J  \u001b[34;1m-\u001b[39;22m \u001b[39mInstalling \u001b[39m\u001b[36mnvidia-cusolver-cu12\u001b[39m\u001b[39m (\u001b[39m\u001b[39;1m11.4.5.107\u001b[39;22m\u001b[39m)\u001b[39m: \u001b[34mDownloading...\u001b[39m \u001b[39;1m23%\u001b[39;22m\n",
            "  \u001b[34;1m-\u001b[39;22m \u001b[39mInstalling \u001b[39m\u001b[36mnvidia-nccl-cu12\u001b[39m\u001b[39m (\u001b[39m\u001b[39;1m2.20.5\u001b[39;22m\u001b[39m)\u001b[39m: \u001b[34mDownloading...\u001b[39m \u001b[39;1m4%\u001b[39;22m\n",
            "\u001b[2A\u001b[0J  \u001b[34;1m-\u001b[39;22m \u001b[39mInstalling \u001b[39m\u001b[36mnvidia-curand-cu12\u001b[39m\u001b[39m (\u001b[39m\u001b[39;1m10.3.2.106\u001b[39;22m\u001b[39m)\u001b[39m: \u001b[34mDownloading...\u001b[39m \u001b[39;1m100%\u001b[39;22m\n",
            "  \u001b[34;1m-\u001b[39;22m \u001b[39mInstalling \u001b[39m\u001b[36mnvidia-cusolver-cu12\u001b[39m\u001b[39m (\u001b[39m\u001b[39;1m11.4.5.107\u001b[39;22m\u001b[39m)\u001b[39m: \u001b[34mDownloading...\u001b[39m \u001b[39;1m23%\u001b[39;22m\n",
            "  \u001b[34;1m-\u001b[39;22m \u001b[39mInstalling \u001b[39m\u001b[36mnvidia-nccl-cu12\u001b[39m\u001b[39m (\u001b[39m\u001b[39;1m2.20.5\u001b[39;22m\u001b[39m)\u001b[39m: \u001b[34mDownloading...\u001b[39m \u001b[39;1m4%\u001b[39;22m\n",
            "\u001b[2A\u001b[0J  \u001b[34;1m-\u001b[39;22m \u001b[39mInstalling \u001b[39m\u001b[36mnvidia-nccl-cu12\u001b[39m\u001b[39m (\u001b[39m\u001b[39;1m2.20.5\u001b[39;22m\u001b[39m)\u001b[39m: \u001b[34mDownloading...\u001b[39m \u001b[39;1m4%\u001b[39;22m\n",
            "\u001b[1A\u001b[0J  \u001b[34;1m-\u001b[39;22m \u001b[39mInstalling \u001b[39m\u001b[36mnvidia-cusolver-cu12\u001b[39m\u001b[39m (\u001b[39m\u001b[39;1m11.4.5.107\u001b[39;22m\u001b[39m)\u001b[39m: \u001b[34mDownloading...\u001b[39m \u001b[39;1m30%\u001b[39;22m\n",
            "  \u001b[34;1m-\u001b[39;22m \u001b[39mInstalling \u001b[39m\u001b[36mnvidia-nccl-cu12\u001b[39m\u001b[39m (\u001b[39m\u001b[39;1m2.20.5\u001b[39;22m\u001b[39m)\u001b[39m: \u001b[34mDownloading...\u001b[39m \u001b[39;1m4%\u001b[39;22m\n",
            "\u001b[5A\u001b[0J  \u001b[34;1m-\u001b[39;22m \u001b[39mInstalling \u001b[39m\u001b[36mnvidia-cufft-cu12\u001b[39m\u001b[39m (\u001b[39m\u001b[39;1m11.0.2.54\u001b[39;22m\u001b[39m)\u001b[39m: \u001b[34mDownloading...\u001b[39m \u001b[39;1m95%\u001b[39;22m\n",
            "  \u001b[34;1m-\u001b[39;22m \u001b[39mInstalling \u001b[39m\u001b[36mnvidia-curand-cu12\u001b[39m\u001b[39m (\u001b[39m\u001b[39;1m10.3.2.106\u001b[39;22m\u001b[39m)\u001b[39m: \u001b[34mDownloading...\u001b[39m \u001b[39;1m100%\u001b[39;22m\n",
            "  \u001b[34;1m-\u001b[39;22m \u001b[39mInstalling \u001b[39m\u001b[36mnvidia-cusolver-cu12\u001b[39m\u001b[39m (\u001b[39m\u001b[39;1m11.4.5.107\u001b[39;22m\u001b[39m)\u001b[39m: \u001b[34mDownloading...\u001b[39m \u001b[39;1m30%\u001b[39;22m\n",
            "  \u001b[34;1m-\u001b[39;22m \u001b[39mInstalling \u001b[39m\u001b[36mnvidia-nccl-cu12\u001b[39m\u001b[39m (\u001b[39m\u001b[39;1m2.20.5\u001b[39;22m\u001b[39m)\u001b[39m: \u001b[34mDownloading...\u001b[39m \u001b[39;1m4%\u001b[39;22m\n",
            "\u001b[4A\u001b[0J  \u001b[34;1m-\u001b[39;22m \u001b[39mInstalling \u001b[39m\u001b[36mnvidia-cudnn-cu12\u001b[39m\u001b[39m (\u001b[39m\u001b[39;1m8.9.2.26\u001b[39;22m\u001b[39m)\u001b[39m: \u001b[34mDownloading...\u001b[39m \u001b[39;1m19%\u001b[39;22m\n",
            "  \u001b[34;1m-\u001b[39;22m \u001b[39mInstalling \u001b[39m\u001b[36mnvidia-cufft-cu12\u001b[39m\u001b[39m (\u001b[39m\u001b[39;1m11.0.2.54\u001b[39;22m\u001b[39m)\u001b[39m: \u001b[34mDownloading...\u001b[39m \u001b[39;1m95%\u001b[39;22m\n",
            "  \u001b[34;1m-\u001b[39;22m \u001b[39mInstalling \u001b[39m\u001b[36mnvidia-curand-cu12\u001b[39m\u001b[39m (\u001b[39m\u001b[39;1m10.3.2.106\u001b[39;22m\u001b[39m)\u001b[39m: \u001b[34mDownloading...\u001b[39m \u001b[39;1m100%\u001b[39;22m\n",
            "  \u001b[34;1m-\u001b[39;22m \u001b[39mInstalling \u001b[39m\u001b[36mnvidia-cusolver-cu12\u001b[39m\u001b[39m (\u001b[39m\u001b[39;1m11.4.5.107\u001b[39;22m\u001b[39m)\u001b[39m: \u001b[34mDownloading...\u001b[39m \u001b[39;1m30%\u001b[39;22m\n",
            "  \u001b[34;1m-\u001b[39;22m \u001b[39mInstalling \u001b[39m\u001b[36mnvidia-nccl-cu12\u001b[39m\u001b[39m (\u001b[39m\u001b[39;1m2.20.5\u001b[39;22m\u001b[39m)\u001b[39m: \u001b[34mDownloading...\u001b[39m \u001b[39;1m4%\u001b[39;22m\n",
            "\u001b[1A\u001b[0J  \u001b[34;1m-\u001b[39;22m \u001b[39mInstalling \u001b[39m\u001b[36mnvidia-nccl-cu12\u001b[39m\u001b[39m (\u001b[39m\u001b[39;1m2.20.5\u001b[39;22m\u001b[39m)\u001b[39m: \u001b[34mDownloading...\u001b[39m \u001b[39;1m9%\u001b[39;22m\n",
            "\u001b[1A\u001b[0J  \u001b[34;1m-\u001b[39;22m \u001b[39mInstalling \u001b[39m\u001b[36mnvidia-nccl-cu12\u001b[39m\u001b[39m (\u001b[39m\u001b[39;1m2.20.5\u001b[39;22m\u001b[39m)\u001b[39m: \u001b[34mDownloading...\u001b[39m \u001b[39;1m10%\u001b[39;22m\n",
            "\u001b[4A\u001b[0J  \u001b[34;1m-\u001b[39;22m \u001b[39mInstalling \u001b[39m\u001b[36mnvidia-curand-cu12\u001b[39m\u001b[39m (\u001b[39m\u001b[39;1m10.3.2.106\u001b[39;22m\u001b[39m)\u001b[39m: \u001b[34mDownloading...\u001b[39m \u001b[39;1m100%\u001b[39;22m\n",
            "  \u001b[34;1m-\u001b[39;22m \u001b[39mInstalling \u001b[39m\u001b[36mnvidia-cusolver-cu12\u001b[39m\u001b[39m (\u001b[39m\u001b[39;1m11.4.5.107\u001b[39;22m\u001b[39m)\u001b[39m: \u001b[34mDownloading...\u001b[39m \u001b[39;1m30%\u001b[39;22m\n",
            "  \u001b[34;1m-\u001b[39;22m \u001b[39mInstalling \u001b[39m\u001b[36mnvidia-nccl-cu12\u001b[39m\u001b[39m (\u001b[39m\u001b[39;1m2.20.5\u001b[39;22m\u001b[39m)\u001b[39m: \u001b[34mDownloading...\u001b[39m \u001b[39;1m10%\u001b[39;22m\n",
            "\u001b[3A\u001b[0J  \u001b[34;1m-\u001b[39;22m \u001b[39mInstalling \u001b[39m\u001b[36mnvidia-cufft-cu12\u001b[39m\u001b[39m (\u001b[39m\u001b[39;1m11.0.2.54\u001b[39;22m\u001b[39m)\u001b[39m: \u001b[34mDownloading...\u001b[39m \u001b[39;1m100%\u001b[39;22m\n",
            "  \u001b[34;1m-\u001b[39;22m \u001b[39mInstalling \u001b[39m\u001b[36mnvidia-curand-cu12\u001b[39m\u001b[39m (\u001b[39m\u001b[39;1m10.3.2.106\u001b[39;22m\u001b[39m)\u001b[39m: \u001b[34mDownloading...\u001b[39m \u001b[39;1m100%\u001b[39;22m\n",
            "  \u001b[34;1m-\u001b[39;22m \u001b[39mInstalling \u001b[39m\u001b[36mnvidia-cusolver-cu12\u001b[39m\u001b[39m (\u001b[39m\u001b[39;1m11.4.5.107\u001b[39;22m\u001b[39m)\u001b[39m: \u001b[34mDownloading...\u001b[39m \u001b[39;1m30%\u001b[39;22m\n",
            "  \u001b[34;1m-\u001b[39;22m \u001b[39mInstalling \u001b[39m\u001b[36mnvidia-nccl-cu12\u001b[39m\u001b[39m (\u001b[39m\u001b[39;1m2.20.5\u001b[39;22m\u001b[39m)\u001b[39m: \u001b[34mDownloading...\u001b[39m \u001b[39;1m10%\u001b[39;22m\n",
            "\u001b[5A\u001b[0J  \u001b[34;1m-\u001b[39;22m \u001b[39mInstalling \u001b[39m\u001b[36mnvidia-cufft-cu12\u001b[39m\u001b[39m (\u001b[39m\u001b[39;1m11.0.2.54\u001b[39;22m\u001b[39m)\u001b[39m: \u001b[34mDownloading...\u001b[39m \u001b[39;1m100%\u001b[39;22m\n",
            "  \u001b[34;1m-\u001b[39;22m \u001b[39mInstalling \u001b[39m\u001b[36mnvidia-curand-cu12\u001b[39m\u001b[39m (\u001b[39m\u001b[39;1m10.3.2.106\u001b[39;22m\u001b[39m)\u001b[39m: \u001b[34mDownloading...\u001b[39m \u001b[39;1m100%\u001b[39;22m\n",
            "  \u001b[34;1m-\u001b[39;22m \u001b[39mInstalling \u001b[39m\u001b[36mnvidia-cusolver-cu12\u001b[39m\u001b[39m (\u001b[39m\u001b[39;1m11.4.5.107\u001b[39;22m\u001b[39m)\u001b[39m: \u001b[34mDownloading...\u001b[39m \u001b[39;1m30%\u001b[39;22m\n",
            "  \u001b[34;1m-\u001b[39;22m \u001b[39mInstalling \u001b[39m\u001b[36mnvidia-nccl-cu12\u001b[39m\u001b[39m (\u001b[39m\u001b[39;1m2.20.5\u001b[39;22m\u001b[39m)\u001b[39m: \u001b[34mDownloading...\u001b[39m \u001b[39;1m10%\u001b[39;22m\n",
            "\u001b[4A\u001b[0J  \u001b[34;1m-\u001b[39;22m \u001b[39mInstalling \u001b[39m\u001b[36mnvidia-cudnn-cu12\u001b[39m\u001b[39m (\u001b[39m\u001b[39;1m8.9.2.26\u001b[39;22m\u001b[39m)\u001b[39m: \u001b[34mDownloading...\u001b[39m \u001b[39;1m20%\u001b[39;22m\n",
            "  \u001b[34;1m-\u001b[39;22m \u001b[39mInstalling \u001b[39m\u001b[36mnvidia-cufft-cu12\u001b[39m\u001b[39m (\u001b[39m\u001b[39;1m11.0.2.54\u001b[39;22m\u001b[39m)\u001b[39m: \u001b[34mDownloading...\u001b[39m \u001b[39;1m100%\u001b[39;22m\n",
            "  \u001b[34;1m-\u001b[39;22m \u001b[39mInstalling \u001b[39m\u001b[36mnvidia-curand-cu12\u001b[39m\u001b[39m (\u001b[39m\u001b[39;1m10.3.2.106\u001b[39;22m\u001b[39m)\u001b[39m: \u001b[34mDownloading...\u001b[39m \u001b[39;1m100%\u001b[39;22m\n",
            "  \u001b[34;1m-\u001b[39;22m \u001b[39mInstalling \u001b[39m\u001b[36mnvidia-cusolver-cu12\u001b[39m\u001b[39m (\u001b[39m\u001b[39;1m11.4.5.107\u001b[39;22m\u001b[39m)\u001b[39m: \u001b[34mDownloading...\u001b[39m \u001b[39;1m30%\u001b[39;22m\n",
            "  \u001b[34;1m-\u001b[39;22m \u001b[39mInstalling \u001b[39m\u001b[36mnvidia-nccl-cu12\u001b[39m\u001b[39m (\u001b[39m\u001b[39;1m2.20.5\u001b[39;22m\u001b[39m)\u001b[39m: \u001b[34mDownloading...\u001b[39m \u001b[39;1m10%\u001b[39;22m\n",
            "\u001b[2A\u001b[0J  \u001b[34;1m-\u001b[39;22m \u001b[39mInstalling \u001b[39m\u001b[36mnvidia-nccl-cu12\u001b[39m\u001b[39m (\u001b[39m\u001b[39;1m2.20.5\u001b[39;22m\u001b[39m)\u001b[39m: \u001b[34mDownloading...\u001b[39m \u001b[39;1m10%\u001b[39;22m\n",
            "\u001b[1A\u001b[0J  \u001b[34;1m-\u001b[39;22m \u001b[39mInstalling \u001b[39m\u001b[36mnvidia-cusolver-cu12\u001b[39m\u001b[39m (\u001b[39m\u001b[39;1m11.4.5.107\u001b[39;22m\u001b[39m)\u001b[39m: \u001b[34mDownloading...\u001b[39m \u001b[39;1m34%\u001b[39;22m\n",
            "  \u001b[34;1m-\u001b[39;22m \u001b[39mInstalling \u001b[39m\u001b[36mnvidia-nccl-cu12\u001b[39m\u001b[39m (\u001b[39m\u001b[39;1m2.20.5\u001b[39;22m\u001b[39m)\u001b[39m: \u001b[34mDownloading...\u001b[39m \u001b[39;1m10%\u001b[39;22m\n",
            "\u001b[1A\u001b[0J  \u001b[34;1m-\u001b[39;22m \u001b[39mInstalling \u001b[39m\u001b[36mnvidia-nccl-cu12\u001b[39m\u001b[39m (\u001b[39m\u001b[39;1m2.20.5\u001b[39;22m\u001b[39m)\u001b[39m: \u001b[34mDownloading...\u001b[39m \u001b[39;1m12%\u001b[39;22m\n",
            "\u001b[2A\u001b[0J  \u001b[34;1m-\u001b[39;22m \u001b[39mInstalling \u001b[39m\u001b[36mnvidia-nccl-cu12\u001b[39m\u001b[39m (\u001b[39m\u001b[39;1m2.20.5\u001b[39;22m\u001b[39m)\u001b[39m: \u001b[34mDownloading...\u001b[39m \u001b[39;1m12%\u001b[39;22m\n",
            "\u001b[1A\u001b[0J  \u001b[34;1m-\u001b[39;22m \u001b[39mInstalling \u001b[39m\u001b[36mnvidia-cusolver-cu12\u001b[39m\u001b[39m (\u001b[39m\u001b[39;1m11.4.5.107\u001b[39;22m\u001b[39m)\u001b[39m: \u001b[34mDownloading...\u001b[39m \u001b[39;1m38%\u001b[39;22m\n",
            "  \u001b[34;1m-\u001b[39;22m \u001b[39mInstalling \u001b[39m\u001b[36mnvidia-nccl-cu12\u001b[39m\u001b[39m (\u001b[39m\u001b[39;1m2.20.5\u001b[39;22m\u001b[39m)\u001b[39m: \u001b[34mDownloading...\u001b[39m \u001b[39;1m12%\u001b[39;22m\n",
            "\u001b[3A\u001b[0J  \u001b[34;1m-\u001b[39;22m \u001b[39mInstalling \u001b[39m\u001b[36mnvidia-cusolver-cu12\u001b[39m\u001b[39m (\u001b[39m\u001b[39;1m11.4.5.107\u001b[39;22m\u001b[39m)\u001b[39m: \u001b[34mDownloading...\u001b[39m \u001b[39;1m38%\u001b[39;22m\n",
            "  \u001b[34;1m-\u001b[39;22m \u001b[39mInstalling \u001b[39m\u001b[36mnvidia-nccl-cu12\u001b[39m\u001b[39m (\u001b[39m\u001b[39;1m2.20.5\u001b[39;22m\u001b[39m)\u001b[39m: \u001b[34mDownloading...\u001b[39m \u001b[39;1m12%\u001b[39;22m\n",
            "\u001b[2A\u001b[0J  \u001b[34;1m-\u001b[39;22m \u001b[39mInstalling \u001b[39m\u001b[36mnvidia-curand-cu12\u001b[39m\u001b[39m (\u001b[39m\u001b[39;1m10.3.2.106\u001b[39;22m\u001b[39m)\u001b[39m: \u001b[34mInstalling...\u001b[39m\n",
            "  \u001b[34;1m-\u001b[39;22m \u001b[39mInstalling \u001b[39m\u001b[36mnvidia-cusolver-cu12\u001b[39m\u001b[39m (\u001b[39m\u001b[39;1m11.4.5.107\u001b[39;22m\u001b[39m)\u001b[39m: \u001b[34mDownloading...\u001b[39m \u001b[39;1m38%\u001b[39;22m\n",
            "  \u001b[34;1m-\u001b[39;22m \u001b[39mInstalling \u001b[39m\u001b[36mnvidia-nccl-cu12\u001b[39m\u001b[39m (\u001b[39m\u001b[39;1m2.20.5\u001b[39;22m\u001b[39m)\u001b[39m: \u001b[34mDownloading...\u001b[39m \u001b[39;1m12%\u001b[39;22m\n",
            "\u001b[33mInstalling /content/gdrive/MyDrive/test-poetry/.venv/lib/python3.10/site-packages/nvidia/__init__.py over existing file\u001b[39m\n",
            "\u001b[2A\u001b[0J  \u001b[34;1m-\u001b[39;22m \u001b[39mInstalling \u001b[39m\u001b[36mnvidia-nccl-cu12\u001b[39m\u001b[39m (\u001b[39m\u001b[39;1m2.20.5\u001b[39;22m\u001b[39m)\u001b[39m: \u001b[34mDownloading...\u001b[39m \u001b[39;1m12%\u001b[39;22m\n",
            "\u001b[1A\u001b[0J  \u001b[34;1m-\u001b[39;22m \u001b[39mInstalling \u001b[39m\u001b[36mnvidia-cusolver-cu12\u001b[39m\u001b[39m (\u001b[39m\u001b[39;1m11.4.5.107\u001b[39;22m\u001b[39m)\u001b[39m: \u001b[34mDownloading...\u001b[39m \u001b[39;1m40%\u001b[39;22m\n",
            "  \u001b[34;1m-\u001b[39;22m \u001b[39mInstalling \u001b[39m\u001b[36mnvidia-nccl-cu12\u001b[39m\u001b[39m (\u001b[39m\u001b[39;1m2.20.5\u001b[39;22m\u001b[39m)\u001b[39m: \u001b[34mDownloading...\u001b[39m \u001b[39;1m12%\u001b[39;22m\n",
            "\u001b[1A\u001b[0J  \u001b[34;1m-\u001b[39;22m \u001b[39mInstalling \u001b[39m\u001b[36mnvidia-nccl-cu12\u001b[39m\u001b[39m (\u001b[39m\u001b[39;1m2.20.5\u001b[39;22m\u001b[39m)\u001b[39m: \u001b[34mDownloading...\u001b[39m \u001b[39;1m15%\u001b[39;22m\n",
            "\u001b[5A\u001b[0J  \u001b[34;1m-\u001b[39;22m \u001b[39mInstalling \u001b[39m\u001b[36mnvidia-cufft-cu12\u001b[39m\u001b[39m (\u001b[39m\u001b[39;1m11.0.2.54\u001b[39;22m\u001b[39m)\u001b[39m: \u001b[34mDownloading...\u001b[39m \u001b[39;1m100%\u001b[39;22m\n",
            "  \u001b[34;1m-\u001b[39;22m \u001b[39mInstalling \u001b[39m\u001b[36mnvidia-curand-cu12\u001b[39m\u001b[39m (\u001b[39m\u001b[39;1m10.3.2.106\u001b[39;22m\u001b[39m)\u001b[39m: \u001b[34mInstalling...\u001b[39m\n",
            "  \u001b[34;1m-\u001b[39;22m \u001b[39mInstalling \u001b[39m\u001b[36mnvidia-cusolver-cu12\u001b[39m\u001b[39m (\u001b[39m\u001b[39;1m11.4.5.107\u001b[39;22m\u001b[39m)\u001b[39m: \u001b[34mDownloading...\u001b[39m \u001b[39;1m40%\u001b[39;22m\n",
            "  \u001b[34;1m-\u001b[39;22m \u001b[39mInstalling \u001b[39m\u001b[36mnvidia-nccl-cu12\u001b[39m\u001b[39m (\u001b[39m\u001b[39;1m2.20.5\u001b[39;22m\u001b[39m)\u001b[39m: \u001b[34mDownloading...\u001b[39m \u001b[39;1m15%\u001b[39;22m\n",
            "\u001b[4A\u001b[0J  \u001b[34;1m-\u001b[39;22m \u001b[39mInstalling \u001b[39m\u001b[36mnvidia-cudnn-cu12\u001b[39m\u001b[39m (\u001b[39m\u001b[39;1m8.9.2.26\u001b[39;22m\u001b[39m)\u001b[39m: \u001b[34mDownloading...\u001b[39m \u001b[39;1m21%\u001b[39;22m\n",
            "  \u001b[34;1m-\u001b[39;22m \u001b[39mInstalling \u001b[39m\u001b[36mnvidia-cufft-cu12\u001b[39m\u001b[39m (\u001b[39m\u001b[39;1m11.0.2.54\u001b[39;22m\u001b[39m)\u001b[39m: \u001b[34mDownloading...\u001b[39m \u001b[39;1m100%\u001b[39;22m\n",
            "  \u001b[34;1m-\u001b[39;22m \u001b[39mInstalling \u001b[39m\u001b[36mnvidia-curand-cu12\u001b[39m\u001b[39m (\u001b[39m\u001b[39;1m10.3.2.106\u001b[39;22m\u001b[39m)\u001b[39m: \u001b[34mInstalling...\u001b[39m\n",
            "  \u001b[34;1m-\u001b[39;22m \u001b[39mInstalling \u001b[39m\u001b[36mnvidia-cusolver-cu12\u001b[39m\u001b[39m (\u001b[39m\u001b[39;1m11.4.5.107\u001b[39;22m\u001b[39m)\u001b[39m: \u001b[34mDownloading...\u001b[39m \u001b[39;1m40%\u001b[39;22m\n",
            "  \u001b[34;1m-\u001b[39;22m \u001b[39mInstalling \u001b[39m\u001b[36mnvidia-nccl-cu12\u001b[39m\u001b[39m (\u001b[39m\u001b[39;1m2.20.5\u001b[39;22m\u001b[39m)\u001b[39m: \u001b[34mDownloading...\u001b[39m \u001b[39;1m15%\u001b[39;22m\n",
            "\u001b[2A\u001b[0J  \u001b[34;1m-\u001b[39;22m \u001b[39mInstalling \u001b[39m\u001b[36mnvidia-nccl-cu12\u001b[39m\u001b[39m (\u001b[39m\u001b[39;1m2.20.5\u001b[39;22m\u001b[39m)\u001b[39m: \u001b[34mDownloading...\u001b[39m \u001b[39;1m15%\u001b[39;22m\n",
            "\u001b[1A\u001b[0J  \u001b[34;1m-\u001b[39;22m \u001b[39mInstalling \u001b[39m\u001b[36mnvidia-cusolver-cu12\u001b[39m\u001b[39m (\u001b[39m\u001b[39;1m11.4.5.107\u001b[39;22m\u001b[39m)\u001b[39m: \u001b[34mDownloading...\u001b[39m \u001b[39;1m44%\u001b[39;22m\n",
            "  \u001b[34;1m-\u001b[39;22m \u001b[39mInstalling \u001b[39m\u001b[36mnvidia-nccl-cu12\u001b[39m\u001b[39m (\u001b[39m\u001b[39;1m2.20.5\u001b[39;22m\u001b[39m)\u001b[39m: \u001b[34mDownloading...\u001b[39m \u001b[39;1m15%\u001b[39;22m\n",
            "\u001b[1A\u001b[0J  \u001b[34;1m-\u001b[39;22m \u001b[39mInstalling \u001b[39m\u001b[36mnvidia-nccl-cu12\u001b[39m\u001b[39m (\u001b[39m\u001b[39;1m2.20.5\u001b[39;22m\u001b[39m)\u001b[39m: \u001b[34mDownloading...\u001b[39m \u001b[39;1m19%\u001b[39;22m\n",
            "\u001b[1A\u001b[0J  \u001b[34;1m-\u001b[39;22m \u001b[39mInstalling \u001b[39m\u001b[36mnvidia-nccl-cu12\u001b[39m\u001b[39m (\u001b[39m\u001b[39;1m2.20.5\u001b[39;22m\u001b[39m)\u001b[39m: \u001b[34mDownloading...\u001b[39m \u001b[39;1m20%\u001b[39;22m\n",
            "\u001b[2A\u001b[0J  \u001b[34;1m-\u001b[39;22m \u001b[39mInstalling \u001b[39m\u001b[36mnvidia-nccl-cu12\u001b[39m\u001b[39m (\u001b[39m\u001b[39;1m2.20.5\u001b[39;22m\u001b[39m)\u001b[39m: \u001b[34mDownloading...\u001b[39m \u001b[39;1m20%\u001b[39;22m\n",
            "\u001b[1A\u001b[0J  \u001b[34;1m-\u001b[39;22m \u001b[39mInstalling \u001b[39m\u001b[36mnvidia-cusolver-cu12\u001b[39m\u001b[39m (\u001b[39m\u001b[39;1m11.4.5.107\u001b[39;22m\u001b[39m)\u001b[39m: \u001b[34mDownloading...\u001b[39m \u001b[39;1m50%\u001b[39;22m\n",
            "  \u001b[34;1m-\u001b[39;22m \u001b[39mInstalling \u001b[39m\u001b[36mnvidia-nccl-cu12\u001b[39m\u001b[39m (\u001b[39m\u001b[39;1m2.20.5\u001b[39;22m\u001b[39m)\u001b[39m: \u001b[34mDownloading...\u001b[39m \u001b[39;1m20%\u001b[39;22m\n",
            "\u001b[5A\u001b[0J  \u001b[34;1m-\u001b[39;22m \u001b[39mInstalling \u001b[39m\u001b[36mnvidia-cufft-cu12\u001b[39m\u001b[39m (\u001b[39m\u001b[39;1m11.0.2.54\u001b[39;22m\u001b[39m)\u001b[39m: \u001b[34mDownloading...\u001b[39m \u001b[39;1m100%\u001b[39;22m\n",
            "  \u001b[34;1m-\u001b[39;22m \u001b[39mInstalling \u001b[39m\u001b[36mnvidia-curand-cu12\u001b[39m\u001b[39m (\u001b[39m\u001b[39;1m10.3.2.106\u001b[39;22m\u001b[39m)\u001b[39m: \u001b[34mInstalling...\u001b[39m\n",
            "  \u001b[34;1m-\u001b[39;22m \u001b[39mInstalling \u001b[39m\u001b[36mnvidia-cusolver-cu12\u001b[39m\u001b[39m (\u001b[39m\u001b[39;1m11.4.5.107\u001b[39;22m\u001b[39m)\u001b[39m: \u001b[34mDownloading...\u001b[39m \u001b[39;1m50%\u001b[39;22m\n",
            "  \u001b[34;1m-\u001b[39;22m \u001b[39mInstalling \u001b[39m\u001b[36mnvidia-nccl-cu12\u001b[39m\u001b[39m (\u001b[39m\u001b[39;1m2.20.5\u001b[39;22m\u001b[39m)\u001b[39m: \u001b[34mDownloading...\u001b[39m \u001b[39;1m20%\u001b[39;22m\n",
            "\u001b[4A\u001b[0J  \u001b[34;1m-\u001b[39;22m \u001b[39mInstalling \u001b[39m\u001b[36mnvidia-cudnn-cu12\u001b[39m\u001b[39m (\u001b[39m\u001b[39;1m8.9.2.26\u001b[39;22m\u001b[39m)\u001b[39m: \u001b[34mDownloading...\u001b[39m \u001b[39;1m22%\u001b[39;22m\n",
            "  \u001b[34;1m-\u001b[39;22m \u001b[39mInstalling \u001b[39m\u001b[36mnvidia-cufft-cu12\u001b[39m\u001b[39m (\u001b[39m\u001b[39;1m11.0.2.54\u001b[39;22m\u001b[39m)\u001b[39m: \u001b[34mDownloading...\u001b[39m \u001b[39;1m100%\u001b[39;22m\n",
            "  \u001b[34;1m-\u001b[39;22m \u001b[39mInstalling \u001b[39m\u001b[36mnvidia-curand-cu12\u001b[39m\u001b[39m (\u001b[39m\u001b[39;1m10.3.2.106\u001b[39;22m\u001b[39m)\u001b[39m: \u001b[34mInstalling...\u001b[39m\n",
            "  \u001b[34;1m-\u001b[39;22m \u001b[39mInstalling \u001b[39m\u001b[36mnvidia-cusolver-cu12\u001b[39m\u001b[39m (\u001b[39m\u001b[39;1m11.4.5.107\u001b[39;22m\u001b[39m)\u001b[39m: \u001b[34mDownloading...\u001b[39m \u001b[39;1m50%\u001b[39;22m\n",
            "  \u001b[34;1m-\u001b[39;22m \u001b[39mInstalling \u001b[39m\u001b[36mnvidia-nccl-cu12\u001b[39m\u001b[39m (\u001b[39m\u001b[39;1m2.20.5\u001b[39;22m\u001b[39m)\u001b[39m: \u001b[34mDownloading...\u001b[39m \u001b[39;1m20%\u001b[39;22m\n",
            "\u001b[1A\u001b[0J  \u001b[34;1m-\u001b[39;22m \u001b[39mInstalling \u001b[39m\u001b[36mnvidia-nccl-cu12\u001b[39m\u001b[39m (\u001b[39m\u001b[39;1m2.20.5\u001b[39;22m\u001b[39m)\u001b[39m: \u001b[34mDownloading...\u001b[39m \u001b[39;1m24%\u001b[39;22m\n",
            "\u001b[2A\u001b[0J  \u001b[34;1m-\u001b[39;22m \u001b[39mInstalling \u001b[39m\u001b[36mnvidia-nccl-cu12\u001b[39m\u001b[39m (\u001b[39m\u001b[39;1m2.20.5\u001b[39;22m\u001b[39m)\u001b[39m: \u001b[34mDownloading...\u001b[39m \u001b[39;1m24%\u001b[39;22m\n",
            "\u001b[1A\u001b[0J  \u001b[34;1m-\u001b[39;22m \u001b[39mInstalling \u001b[39m\u001b[36mnvidia-cusolver-cu12\u001b[39m\u001b[39m (\u001b[39m\u001b[39;1m11.4.5.107\u001b[39;22m\u001b[39m)\u001b[39m: \u001b[34mDownloading...\u001b[39m \u001b[39;1m56%\u001b[39;22m\n",
            "  \u001b[34;1m-\u001b[39;22m \u001b[39mInstalling \u001b[39m\u001b[36mnvidia-nccl-cu12\u001b[39m\u001b[39m (\u001b[39m\u001b[39;1m2.20.5\u001b[39;22m\u001b[39m)\u001b[39m: \u001b[34mDownloading...\u001b[39m \u001b[39;1m24%\u001b[39;22m\n",
            "\u001b[5A\u001b[0J  \u001b[34;1m-\u001b[39;22m \u001b[39mInstalling \u001b[39m\u001b[36mnvidia-cufft-cu12\u001b[39m\u001b[39m (\u001b[39m\u001b[39;1m11.0.2.54\u001b[39;22m\u001b[39m)\u001b[39m: \u001b[34mDownloading...\u001b[39m \u001b[39;1m100%\u001b[39;22m\n",
            "  \u001b[34;1m-\u001b[39;22m \u001b[39mInstalling \u001b[39m\u001b[36mnvidia-curand-cu12\u001b[39m\u001b[39m (\u001b[39m\u001b[39;1m10.3.2.106\u001b[39;22m\u001b[39m)\u001b[39m: \u001b[34mInstalling...\u001b[39m\n",
            "  \u001b[34;1m-\u001b[39;22m \u001b[39mInstalling \u001b[39m\u001b[36mnvidia-cusolver-cu12\u001b[39m\u001b[39m (\u001b[39m\u001b[39;1m11.4.5.107\u001b[39;22m\u001b[39m)\u001b[39m: \u001b[34mDownloading...\u001b[39m \u001b[39;1m56%\u001b[39;22m\n",
            "  \u001b[34;1m-\u001b[39;22m \u001b[39mInstalling \u001b[39m\u001b[36mnvidia-nccl-cu12\u001b[39m\u001b[39m (\u001b[39m\u001b[39;1m2.20.5\u001b[39;22m\u001b[39m)\u001b[39m: \u001b[34mDownloading...\u001b[39m \u001b[39;1m24%\u001b[39;22m\n",
            "\u001b[4A\u001b[0J  \u001b[34;1m-\u001b[39;22m \u001b[39mInstalling \u001b[39m\u001b[36mnvidia-cudnn-cu12\u001b[39m\u001b[39m (\u001b[39m\u001b[39;1m8.9.2.26\u001b[39;22m\u001b[39m)\u001b[39m: \u001b[34mDownloading...\u001b[39m \u001b[39;1m23%\u001b[39;22m\n",
            "  \u001b[34;1m-\u001b[39;22m \u001b[39mInstalling \u001b[39m\u001b[36mnvidia-cufft-cu12\u001b[39m\u001b[39m (\u001b[39m\u001b[39;1m11.0.2.54\u001b[39;22m\u001b[39m)\u001b[39m: \u001b[34mDownloading...\u001b[39m \u001b[39;1m100%\u001b[39;22m\n",
            "  \u001b[34;1m-\u001b[39;22m \u001b[39mInstalling \u001b[39m\u001b[36mnvidia-curand-cu12\u001b[39m\u001b[39m (\u001b[39m\u001b[39;1m10.3.2.106\u001b[39;22m\u001b[39m)\u001b[39m: \u001b[34mInstalling...\u001b[39m\n",
            "  \u001b[34;1m-\u001b[39;22m \u001b[39mInstalling \u001b[39m\u001b[36mnvidia-cusolver-cu12\u001b[39m\u001b[39m (\u001b[39m\u001b[39;1m11.4.5.107\u001b[39;22m\u001b[39m)\u001b[39m: \u001b[34mDownloading...\u001b[39m \u001b[39;1m56%\u001b[39;22m\n",
            "  \u001b[34;1m-\u001b[39;22m \u001b[39mInstalling \u001b[39m\u001b[36mnvidia-nccl-cu12\u001b[39m\u001b[39m (\u001b[39m\u001b[39;1m2.20.5\u001b[39;22m\u001b[39m)\u001b[39m: \u001b[34mDownloading...\u001b[39m \u001b[39;1m24%\u001b[39;22m\n",
            "\u001b[4A\u001b[0J  \u001b[34;1m-\u001b[39;22m \u001b[39mInstalling \u001b[39m\u001b[36mnvidia-curand-cu12\u001b[39m\u001b[39m (\u001b[39m\u001b[39;1m10.3.2.106\u001b[39;22m\u001b[39m)\u001b[39m: \u001b[34mInstalling...\u001b[39m\n",
            "  \u001b[34;1m-\u001b[39;22m \u001b[39mInstalling \u001b[39m\u001b[36mnvidia-cusolver-cu12\u001b[39m\u001b[39m (\u001b[39m\u001b[39;1m11.4.5.107\u001b[39;22m\u001b[39m)\u001b[39m: \u001b[34mDownloading...\u001b[39m \u001b[39;1m56%\u001b[39;22m\n",
            "  \u001b[34;1m-\u001b[39;22m \u001b[39mInstalling \u001b[39m\u001b[36mnvidia-nccl-cu12\u001b[39m\u001b[39m (\u001b[39m\u001b[39;1m2.20.5\u001b[39;22m\u001b[39m)\u001b[39m: \u001b[34mDownloading...\u001b[39m \u001b[39;1m24%\u001b[39;22m\n",
            "\u001b[3A\u001b[0J  \u001b[34;1m-\u001b[39;22m \u001b[39mInstalling \u001b[39m\u001b[36mnvidia-cufft-cu12\u001b[39m\u001b[39m (\u001b[39m\u001b[39;1m11.0.2.54\u001b[39;22m\u001b[39m)\u001b[39m: \u001b[34mInstalling...\u001b[39m\n",
            "  \u001b[34;1m-\u001b[39;22m \u001b[39mInstalling \u001b[39m\u001b[36mnvidia-curand-cu12\u001b[39m\u001b[39m (\u001b[39m\u001b[39;1m10.3.2.106\u001b[39;22m\u001b[39m)\u001b[39m: \u001b[34mInstalling...\u001b[39m\n",
            "  \u001b[34;1m-\u001b[39;22m \u001b[39mInstalling \u001b[39m\u001b[36mnvidia-cusolver-cu12\u001b[39m\u001b[39m (\u001b[39m\u001b[39;1m11.4.5.107\u001b[39;22m\u001b[39m)\u001b[39m: \u001b[34mDownloading...\u001b[39m \u001b[39;1m56%\u001b[39;22m\n",
            "  \u001b[34;1m-\u001b[39;22m \u001b[39mInstalling \u001b[39m\u001b[36mnvidia-nccl-cu12\u001b[39m\u001b[39m (\u001b[39m\u001b[39;1m2.20.5\u001b[39;22m\u001b[39m)\u001b[39m: \u001b[34mDownloading...\u001b[39m \u001b[39;1m24%\u001b[39;22m\n",
            "\u001b[2A\u001b[0J  \u001b[34;1m-\u001b[39;22m \u001b[39mInstalling \u001b[39m\u001b[36mnvidia-nccl-cu12\u001b[39m\u001b[39m (\u001b[39m\u001b[39;1m2.20.5\u001b[39;22m\u001b[39m)\u001b[39m: \u001b[34mDownloading...\u001b[39m \u001b[39;1m24%\u001b[39;22m\n",
            "\u001b[1A\u001b[0J  \u001b[34;1m-\u001b[39;22m \u001b[39mInstalling \u001b[39m\u001b[36mnvidia-cusolver-cu12\u001b[39m\u001b[39m (\u001b[39m\u001b[39;1m11.4.5.107\u001b[39;22m\u001b[39m)\u001b[39m: \u001b[34mDownloading...\u001b[39m \u001b[39;1m60%\u001b[39;22m\n",
            "  \u001b[34;1m-\u001b[39;22m \u001b[39mInstalling \u001b[39m\u001b[36mnvidia-nccl-cu12\u001b[39m\u001b[39m (\u001b[39m\u001b[39;1m2.20.5\u001b[39;22m\u001b[39m)\u001b[39m: \u001b[34mDownloading...\u001b[39m \u001b[39;1m24%\u001b[39;22m\n",
            "\u001b[1A\u001b[0J  \u001b[34;1m-\u001b[39;22m \u001b[39mInstalling \u001b[39m\u001b[36mnvidia-nccl-cu12\u001b[39m\u001b[39m (\u001b[39m\u001b[39;1m2.20.5\u001b[39;22m\u001b[39m)\u001b[39m: \u001b[34mDownloading...\u001b[39m \u001b[39;1m30%\u001b[39;22m\n",
            "\u001b[33mInstalling /content/gdrive/MyDrive/test-poetry/.venv/lib/python3.10/site-packages/nvidia/__init__.py over existing file\u001b[39m\n",
            "\u001b[5A\u001b[0J  \u001b[34;1m-\u001b[39;22m \u001b[39mInstalling \u001b[39m\u001b[36mnvidia-cufft-cu12\u001b[39m\u001b[39m (\u001b[39m\u001b[39;1m11.0.2.54\u001b[39;22m\u001b[39m)\u001b[39m: \u001b[34mInstalling...\u001b[39m\n",
            "  \u001b[34;1m-\u001b[39;22m \u001b[39mInstalling \u001b[39m\u001b[36mnvidia-curand-cu12\u001b[39m\u001b[39m (\u001b[39m\u001b[39;1m10.3.2.106\u001b[39;22m\u001b[39m)\u001b[39m: \u001b[34mInstalling...\u001b[39m\n",
            "  \u001b[34;1m-\u001b[39;22m \u001b[39mInstalling \u001b[39m\u001b[36mnvidia-cusolver-cu12\u001b[39m\u001b[39m (\u001b[39m\u001b[39;1m11.4.5.107\u001b[39;22m\u001b[39m)\u001b[39m: \u001b[34mDownloading...\u001b[39m \u001b[39;1m60%\u001b[39;22m\n",
            "  \u001b[34;1m-\u001b[39;22m \u001b[39mInstalling \u001b[39m\u001b[36mnvidia-nccl-cu12\u001b[39m\u001b[39m (\u001b[39m\u001b[39;1m2.20.5\u001b[39;22m\u001b[39m)\u001b[39m: \u001b[34mDownloading...\u001b[39m \u001b[39;1m30%\u001b[39;22m\n",
            "\u001b[4A\u001b[0J  \u001b[34;1m-\u001b[39;22m \u001b[39mInstalling \u001b[39m\u001b[36mnvidia-cudnn-cu12\u001b[39m\u001b[39m (\u001b[39m\u001b[39;1m8.9.2.26\u001b[39;22m\u001b[39m)\u001b[39m: \u001b[34mDownloading...\u001b[39m \u001b[39;1m24%\u001b[39;22m\n",
            "  \u001b[34;1m-\u001b[39;22m \u001b[39mInstalling \u001b[39m\u001b[36mnvidia-cufft-cu12\u001b[39m\u001b[39m (\u001b[39m\u001b[39;1m11.0.2.54\u001b[39;22m\u001b[39m)\u001b[39m: \u001b[34mInstalling...\u001b[39m\n",
            "  \u001b[34;1m-\u001b[39;22m \u001b[39mInstalling \u001b[39m\u001b[36mnvidia-curand-cu12\u001b[39m\u001b[39m (\u001b[39m\u001b[39;1m10.3.2.106\u001b[39;22m\u001b[39m)\u001b[39m: \u001b[34mInstalling...\u001b[39m\n",
            "  \u001b[34;1m-\u001b[39;22m \u001b[39mInstalling \u001b[39m\u001b[36mnvidia-cusolver-cu12\u001b[39m\u001b[39m (\u001b[39m\u001b[39;1m11.4.5.107\u001b[39;22m\u001b[39m)\u001b[39m: \u001b[34mDownloading...\u001b[39m \u001b[39;1m60%\u001b[39;22m\n",
            "  \u001b[34;1m-\u001b[39;22m \u001b[39mInstalling \u001b[39m\u001b[36mnvidia-nccl-cu12\u001b[39m\u001b[39m (\u001b[39m\u001b[39;1m2.20.5\u001b[39;22m\u001b[39m)\u001b[39m: \u001b[34mDownloading...\u001b[39m \u001b[39;1m30%\u001b[39;22m\n",
            "\u001b[2A\u001b[0J  \u001b[34;1m-\u001b[39;22m \u001b[39mInstalling \u001b[39m\u001b[36mnvidia-nccl-cu12\u001b[39m\u001b[39m (\u001b[39m\u001b[39;1m2.20.5\u001b[39;22m\u001b[39m)\u001b[39m: \u001b[34mDownloading...\u001b[39m \u001b[39;1m30%\u001b[39;22m\n",
            "\u001b[1A\u001b[0J  \u001b[34;1m-\u001b[39;22m \u001b[39mInstalling \u001b[39m\u001b[36mnvidia-cusolver-cu12\u001b[39m\u001b[39m (\u001b[39m\u001b[39;1m11.4.5.107\u001b[39;22m\u001b[39m)\u001b[39m: \u001b[34mDownloading...\u001b[39m \u001b[39;1m67%\u001b[39;22m\n",
            "  \u001b[34;1m-\u001b[39;22m \u001b[39mInstalling \u001b[39m\u001b[36mnvidia-nccl-cu12\u001b[39m\u001b[39m (\u001b[39m\u001b[39;1m2.20.5\u001b[39;22m\u001b[39m)\u001b[39m: \u001b[34mDownloading...\u001b[39m \u001b[39;1m30%\u001b[39;22m\n",
            "\u001b[1A\u001b[0J  \u001b[34;1m-\u001b[39;22m \u001b[39mInstalling \u001b[39m\u001b[36mnvidia-nccl-cu12\u001b[39m\u001b[39m (\u001b[39m\u001b[39;1m2.20.5\u001b[39;22m\u001b[39m)\u001b[39m: \u001b[34mDownloading...\u001b[39m \u001b[39;1m35%\u001b[39;22m\n",
            "\u001b[2A\u001b[0J  \u001b[34;1m-\u001b[39;22m \u001b[39mInstalling \u001b[39m\u001b[36mnvidia-nccl-cu12\u001b[39m\u001b[39m (\u001b[39m\u001b[39;1m2.20.5\u001b[39;22m\u001b[39m)\u001b[39m: \u001b[34mDownloading...\u001b[39m \u001b[39;1m35%\u001b[39;22m\n",
            "\u001b[1A\u001b[0J  \u001b[34;1m-\u001b[39;22m \u001b[39mInstalling \u001b[39m\u001b[36mnvidia-cusolver-cu12\u001b[39m\u001b[39m (\u001b[39m\u001b[39;1m11.4.5.107\u001b[39;22m\u001b[39m)\u001b[39m: \u001b[34mDownloading...\u001b[39m \u001b[39;1m70%\u001b[39;22m\n",
            "  \u001b[34;1m-\u001b[39;22m \u001b[39mInstalling \u001b[39m\u001b[36mnvidia-nccl-cu12\u001b[39m\u001b[39m (\u001b[39m\u001b[39;1m2.20.5\u001b[39;22m\u001b[39m)\u001b[39m: \u001b[34mDownloading...\u001b[39m \u001b[39;1m35%\u001b[39;22m\n",
            "\u001b[5A\u001b[0J  \u001b[34;1m-\u001b[39;22m \u001b[39mInstalling \u001b[39m\u001b[36mnvidia-cufft-cu12\u001b[39m\u001b[39m (\u001b[39m\u001b[39;1m11.0.2.54\u001b[39;22m\u001b[39m)\u001b[39m: \u001b[34mInstalling...\u001b[39m\n",
            "  \u001b[34;1m-\u001b[39;22m \u001b[39mInstalling \u001b[39m\u001b[36mnvidia-curand-cu12\u001b[39m\u001b[39m (\u001b[39m\u001b[39;1m10.3.2.106\u001b[39;22m\u001b[39m)\u001b[39m: \u001b[34mInstalling...\u001b[39m\n",
            "  \u001b[34;1m-\u001b[39;22m \u001b[39mInstalling \u001b[39m\u001b[36mnvidia-cusolver-cu12\u001b[39m\u001b[39m (\u001b[39m\u001b[39;1m11.4.5.107\u001b[39;22m\u001b[39m)\u001b[39m: \u001b[34mDownloading...\u001b[39m \u001b[39;1m70%\u001b[39;22m\n",
            "  \u001b[34;1m-\u001b[39;22m \u001b[39mInstalling \u001b[39m\u001b[36mnvidia-nccl-cu12\u001b[39m\u001b[39m (\u001b[39m\u001b[39;1m2.20.5\u001b[39;22m\u001b[39m)\u001b[39m: \u001b[34mDownloading...\u001b[39m \u001b[39;1m35%\u001b[39;22m\n",
            "\u001b[4A\u001b[0J  \u001b[34;1m-\u001b[39;22m \u001b[39mInstalling \u001b[39m\u001b[36mnvidia-cudnn-cu12\u001b[39m\u001b[39m (\u001b[39m\u001b[39;1m8.9.2.26\u001b[39;22m\u001b[39m)\u001b[39m: \u001b[34mDownloading...\u001b[39m \u001b[39;1m25%\u001b[39;22m\n",
            "  \u001b[34;1m-\u001b[39;22m \u001b[39mInstalling \u001b[39m\u001b[36mnvidia-cufft-cu12\u001b[39m\u001b[39m (\u001b[39m\u001b[39;1m11.0.2.54\u001b[39;22m\u001b[39m)\u001b[39m: \u001b[34mInstalling...\u001b[39m\n",
            "  \u001b[34;1m-\u001b[39;22m \u001b[39mInstalling \u001b[39m\u001b[36mnvidia-curand-cu12\u001b[39m\u001b[39m (\u001b[39m\u001b[39;1m10.3.2.106\u001b[39;22m\u001b[39m)\u001b[39m: \u001b[34mInstalling...\u001b[39m\n",
            "  \u001b[34;1m-\u001b[39;22m \u001b[39mInstalling \u001b[39m\u001b[36mnvidia-cusolver-cu12\u001b[39m\u001b[39m (\u001b[39m\u001b[39;1m11.4.5.107\u001b[39;22m\u001b[39m)\u001b[39m: \u001b[34mDownloading...\u001b[39m \u001b[39;1m70%\u001b[39;22m\n",
            "  \u001b[34;1m-\u001b[39;22m \u001b[39mInstalling \u001b[39m\u001b[36mnvidia-nccl-cu12\u001b[39m\u001b[39m (\u001b[39m\u001b[39;1m2.20.5\u001b[39;22m\u001b[39m)\u001b[39m: \u001b[34mDownloading...\u001b[39m \u001b[39;1m35%\u001b[39;22m\n",
            "\u001b[1A\u001b[0J  \u001b[34;1m-\u001b[39;22m \u001b[39mInstalling \u001b[39m\u001b[36mnvidia-nccl-cu12\u001b[39m\u001b[39m (\u001b[39m\u001b[39;1m2.20.5\u001b[39;22m\u001b[39m)\u001b[39m: \u001b[34mDownloading...\u001b[39m \u001b[39;1m39%\u001b[39;22m\n",
            "\u001b[2A\u001b[0J  \u001b[34;1m-\u001b[39;22m \u001b[39mInstalling \u001b[39m\u001b[36mnvidia-nccl-cu12\u001b[39m\u001b[39m (\u001b[39m\u001b[39;1m2.20.5\u001b[39;22m\u001b[39m)\u001b[39m: \u001b[34mDownloading...\u001b[39m \u001b[39;1m39%\u001b[39;22m\n",
            "\u001b[1A\u001b[0J  \u001b[34;1m-\u001b[39;22m \u001b[39mInstalling \u001b[39m\u001b[36mnvidia-cusolver-cu12\u001b[39m\u001b[39m (\u001b[39m\u001b[39;1m11.4.5.107\u001b[39;22m\u001b[39m)\u001b[39m: \u001b[34mDownloading...\u001b[39m \u001b[39;1m76%\u001b[39;22m\n",
            "  \u001b[34;1m-\u001b[39;22m \u001b[39mInstalling \u001b[39m\u001b[36mnvidia-nccl-cu12\u001b[39m\u001b[39m (\u001b[39m\u001b[39;1m2.20.5\u001b[39;22m\u001b[39m)\u001b[39m: \u001b[34mDownloading...\u001b[39m \u001b[39;1m39%\u001b[39;22m\n",
            "\u001b[5A\u001b[0J  \u001b[34;1m-\u001b[39;22m \u001b[39mInstalling \u001b[39m\u001b[36mnvidia-cufft-cu12\u001b[39m\u001b[39m (\u001b[39m\u001b[39;1m11.0.2.54\u001b[39;22m\u001b[39m)\u001b[39m: \u001b[34mInstalling...\u001b[39m\n",
            "  \u001b[34;1m-\u001b[39;22m \u001b[39mInstalling \u001b[39m\u001b[36mnvidia-curand-cu12\u001b[39m\u001b[39m (\u001b[39m\u001b[39;1m10.3.2.106\u001b[39;22m\u001b[39m)\u001b[39m: \u001b[34mInstalling...\u001b[39m\n",
            "  \u001b[34;1m-\u001b[39;22m \u001b[39mInstalling \u001b[39m\u001b[36mnvidia-cusolver-cu12\u001b[39m\u001b[39m (\u001b[39m\u001b[39;1m11.4.5.107\u001b[39;22m\u001b[39m)\u001b[39m: \u001b[34mDownloading...\u001b[39m \u001b[39;1m76%\u001b[39;22m\n",
            "  \u001b[34;1m-\u001b[39;22m \u001b[39mInstalling \u001b[39m\u001b[36mnvidia-nccl-cu12\u001b[39m\u001b[39m (\u001b[39m\u001b[39;1m2.20.5\u001b[39;22m\u001b[39m)\u001b[39m: \u001b[34mDownloading...\u001b[39m \u001b[39;1m39%\u001b[39;22m\n",
            "\u001b[4A\u001b[0J  \u001b[34;1m-\u001b[39;22m \u001b[39mInstalling \u001b[39m\u001b[36mnvidia-cudnn-cu12\u001b[39m\u001b[39m (\u001b[39m\u001b[39;1m8.9.2.26\u001b[39;22m\u001b[39m)\u001b[39m: \u001b[34mDownloading...\u001b[39m \u001b[39;1m26%\u001b[39;22m\n",
            "  \u001b[34;1m-\u001b[39;22m \u001b[39mInstalling \u001b[39m\u001b[36mnvidia-cufft-cu12\u001b[39m\u001b[39m (\u001b[39m\u001b[39;1m11.0.2.54\u001b[39;22m\u001b[39m)\u001b[39m: \u001b[34mInstalling...\u001b[39m\n",
            "  \u001b[34;1m-\u001b[39;22m \u001b[39mInstalling \u001b[39m\u001b[36mnvidia-curand-cu12\u001b[39m\u001b[39m (\u001b[39m\u001b[39;1m10.3.2.106\u001b[39;22m\u001b[39m)\u001b[39m: \u001b[34mInstalling...\u001b[39m\n",
            "  \u001b[34;1m-\u001b[39;22m \u001b[39mInstalling \u001b[39m\u001b[36mnvidia-cusolver-cu12\u001b[39m\u001b[39m (\u001b[39m\u001b[39;1m11.4.5.107\u001b[39;22m\u001b[39m)\u001b[39m: \u001b[34mDownloading...\u001b[39m \u001b[39;1m76%\u001b[39;22m\n",
            "  \u001b[34;1m-\u001b[39;22m \u001b[39mInstalling \u001b[39m\u001b[36mnvidia-nccl-cu12\u001b[39m\u001b[39m (\u001b[39m\u001b[39;1m2.20.5\u001b[39;22m\u001b[39m)\u001b[39m: \u001b[34mDownloading...\u001b[39m \u001b[39;1m39%\u001b[39;22m\n",
            "\u001b[2A\u001b[0J  \u001b[34;1m-\u001b[39;22m \u001b[39mInstalling \u001b[39m\u001b[36mnvidia-nccl-cu12\u001b[39m\u001b[39m (\u001b[39m\u001b[39;1m2.20.5\u001b[39;22m\u001b[39m)\u001b[39m: \u001b[34mDownloading...\u001b[39m \u001b[39;1m39%\u001b[39;22m\n",
            "\u001b[1A\u001b[0J  \u001b[34;1m-\u001b[39;22m \u001b[39mInstalling \u001b[39m\u001b[36mnvidia-cusolver-cu12\u001b[39m\u001b[39m (\u001b[39m\u001b[39;1m11.4.5.107\u001b[39;22m\u001b[39m)\u001b[39m: \u001b[34mDownloading...\u001b[39m \u001b[39;1m80%\u001b[39;22m\n",
            "  \u001b[34;1m-\u001b[39;22m \u001b[39mInstalling \u001b[39m\u001b[36mnvidia-nccl-cu12\u001b[39m\u001b[39m (\u001b[39m\u001b[39;1m2.20.5\u001b[39;22m\u001b[39m)\u001b[39m: \u001b[34mDownloading...\u001b[39m \u001b[39;1m39%\u001b[39;22m\n",
            "\u001b[1A\u001b[0J  \u001b[34;1m-\u001b[39;22m \u001b[39mInstalling \u001b[39m\u001b[36mnvidia-nccl-cu12\u001b[39m\u001b[39m (\u001b[39m\u001b[39;1m2.20.5\u001b[39;22m\u001b[39m)\u001b[39m: \u001b[34mDownloading...\u001b[39m \u001b[39;1m43%\u001b[39;22m\n",
            "\u001b[5A\u001b[0J  \u001b[34;1m-\u001b[39;22m \u001b[39mInstalling \u001b[39m\u001b[36mnvidia-cufft-cu12\u001b[39m\u001b[39m (\u001b[39m\u001b[39;1m11.0.2.54\u001b[39;22m\u001b[39m)\u001b[39m: \u001b[34mInstalling...\u001b[39m\n",
            "  \u001b[34;1m-\u001b[39;22m \u001b[39mInstalling \u001b[39m\u001b[36mnvidia-curand-cu12\u001b[39m\u001b[39m (\u001b[39m\u001b[39;1m10.3.2.106\u001b[39;22m\u001b[39m)\u001b[39m: \u001b[34mInstalling...\u001b[39m\n",
            "  \u001b[34;1m-\u001b[39;22m \u001b[39mInstalling \u001b[39m\u001b[36mnvidia-cusolver-cu12\u001b[39m\u001b[39m (\u001b[39m\u001b[39;1m11.4.5.107\u001b[39;22m\u001b[39m)\u001b[39m: \u001b[34mDownloading...\u001b[39m \u001b[39;1m80%\u001b[39;22m\n",
            "  \u001b[34;1m-\u001b[39;22m \u001b[39mInstalling \u001b[39m\u001b[36mnvidia-nccl-cu12\u001b[39m\u001b[39m (\u001b[39m\u001b[39;1m2.20.5\u001b[39;22m\u001b[39m)\u001b[39m: \u001b[34mDownloading...\u001b[39m \u001b[39;1m43%\u001b[39;22m\n",
            "\u001b[4A\u001b[0J  \u001b[34;1m-\u001b[39;22m \u001b[39mInstalling \u001b[39m\u001b[36mnvidia-cudnn-cu12\u001b[39m\u001b[39m (\u001b[39m\u001b[39;1m8.9.2.26\u001b[39;22m\u001b[39m)\u001b[39m: \u001b[34mDownloading...\u001b[39m \u001b[39;1m27%\u001b[39;22m\n",
            "  \u001b[34;1m-\u001b[39;22m \u001b[39mInstalling \u001b[39m\u001b[36mnvidia-cufft-cu12\u001b[39m\u001b[39m (\u001b[39m\u001b[39;1m11.0.2.54\u001b[39;22m\u001b[39m)\u001b[39m: \u001b[34mInstalling...\u001b[39m\n",
            "  \u001b[34;1m-\u001b[39;22m \u001b[39mInstalling \u001b[39m\u001b[36mnvidia-curand-cu12\u001b[39m\u001b[39m (\u001b[39m\u001b[39;1m10.3.2.106\u001b[39;22m\u001b[39m)\u001b[39m: \u001b[34mInstalling...\u001b[39m\n",
            "  \u001b[34;1m-\u001b[39;22m \u001b[39mInstalling \u001b[39m\u001b[36mnvidia-cusolver-cu12\u001b[39m\u001b[39m (\u001b[39m\u001b[39;1m11.4.5.107\u001b[39;22m\u001b[39m)\u001b[39m: \u001b[34mDownloading...\u001b[39m \u001b[39;1m80%\u001b[39;22m\n",
            "  \u001b[34;1m-\u001b[39;22m \u001b[39mInstalling \u001b[39m\u001b[36mnvidia-nccl-cu12\u001b[39m\u001b[39m (\u001b[39m\u001b[39;1m2.20.5\u001b[39;22m\u001b[39m)\u001b[39m: \u001b[34mDownloading...\u001b[39m \u001b[39;1m43%\u001b[39;22m\n",
            "\u001b[2A\u001b[0J  \u001b[34;1m-\u001b[39;22m \u001b[39mInstalling \u001b[39m\u001b[36mnvidia-nccl-cu12\u001b[39m\u001b[39m (\u001b[39m\u001b[39;1m2.20.5\u001b[39;22m\u001b[39m)\u001b[39m: \u001b[34mDownloading...\u001b[39m \u001b[39;1m43%\u001b[39;22m\n",
            "\u001b[1A\u001b[0J  \u001b[34;1m-\u001b[39;22m \u001b[39mInstalling \u001b[39m\u001b[36mnvidia-cusolver-cu12\u001b[39m\u001b[39m (\u001b[39m\u001b[39;1m11.4.5.107\u001b[39;22m\u001b[39m)\u001b[39m: \u001b[34mDownloading...\u001b[39m \u001b[39;1m86%\u001b[39;22m\n",
            "  \u001b[34;1m-\u001b[39;22m \u001b[39mInstalling \u001b[39m\u001b[36mnvidia-nccl-cu12\u001b[39m\u001b[39m (\u001b[39m\u001b[39;1m2.20.5\u001b[39;22m\u001b[39m)\u001b[39m: \u001b[34mDownloading...\u001b[39m \u001b[39;1m43%\u001b[39;22m\n",
            "\u001b[1A\u001b[0J  \u001b[34;1m-\u001b[39;22m \u001b[39mInstalling \u001b[39m\u001b[36mnvidia-nccl-cu12\u001b[39m\u001b[39m (\u001b[39m\u001b[39;1m2.20.5\u001b[39;22m\u001b[39m)\u001b[39m: \u001b[34mDownloading...\u001b[39m \u001b[39;1m47%\u001b[39;22m\n",
            "\u001b[1A\u001b[0J  \u001b[34;1m-\u001b[39;22m \u001b[39mInstalling \u001b[39m\u001b[36mnvidia-nccl-cu12\u001b[39m\u001b[39m (\u001b[39m\u001b[39;1m2.20.5\u001b[39;22m\u001b[39m)\u001b[39m: \u001b[34mDownloading...\u001b[39m \u001b[39;1m50%\u001b[39;22m\n",
            "\u001b[2A\u001b[0J  \u001b[34;1m-\u001b[39;22m \u001b[39mInstalling \u001b[39m\u001b[36mnvidia-nccl-cu12\u001b[39m\u001b[39m (\u001b[39m\u001b[39;1m2.20.5\u001b[39;22m\u001b[39m)\u001b[39m: \u001b[34mDownloading...\u001b[39m \u001b[39;1m50%\u001b[39;22m\n",
            "\u001b[1A\u001b[0J  \u001b[34;1m-\u001b[39;22m \u001b[39mInstalling \u001b[39m\u001b[36mnvidia-cusolver-cu12\u001b[39m\u001b[39m (\u001b[39m\u001b[39;1m11.4.5.107\u001b[39;22m\u001b[39m)\u001b[39m: \u001b[34mDownloading...\u001b[39m \u001b[39;1m90%\u001b[39;22m\n",
            "  \u001b[34;1m-\u001b[39;22m \u001b[39mInstalling \u001b[39m\u001b[36mnvidia-nccl-cu12\u001b[39m\u001b[39m (\u001b[39m\u001b[39;1m2.20.5\u001b[39;22m\u001b[39m)\u001b[39m: \u001b[34mDownloading...\u001b[39m \u001b[39;1m50%\u001b[39;22m\n",
            "\u001b[5A\u001b[0J  \u001b[34;1m-\u001b[39;22m \u001b[39mInstalling \u001b[39m\u001b[36mnvidia-cufft-cu12\u001b[39m\u001b[39m (\u001b[39m\u001b[39;1m11.0.2.54\u001b[39;22m\u001b[39m)\u001b[39m: \u001b[34mInstalling...\u001b[39m\n",
            "  \u001b[34;1m-\u001b[39;22m \u001b[39mInstalling \u001b[39m\u001b[36mnvidia-curand-cu12\u001b[39m\u001b[39m (\u001b[39m\u001b[39;1m10.3.2.106\u001b[39;22m\u001b[39m)\u001b[39m: \u001b[34mInstalling...\u001b[39m\n",
            "  \u001b[34;1m-\u001b[39;22m \u001b[39mInstalling \u001b[39m\u001b[36mnvidia-cusolver-cu12\u001b[39m\u001b[39m (\u001b[39m\u001b[39;1m11.4.5.107\u001b[39;22m\u001b[39m)\u001b[39m: \u001b[34mDownloading...\u001b[39m \u001b[39;1m90%\u001b[39;22m\n",
            "  \u001b[34;1m-\u001b[39;22m \u001b[39mInstalling \u001b[39m\u001b[36mnvidia-nccl-cu12\u001b[39m\u001b[39m (\u001b[39m\u001b[39;1m2.20.5\u001b[39;22m\u001b[39m)\u001b[39m: \u001b[34mDownloading...\u001b[39m \u001b[39;1m50%\u001b[39;22m\n",
            "\u001b[4A\u001b[0J  \u001b[34;1m-\u001b[39;22m \u001b[39mInstalling \u001b[39m\u001b[36mnvidia-cudnn-cu12\u001b[39m\u001b[39m (\u001b[39m\u001b[39;1m8.9.2.26\u001b[39;22m\u001b[39m)\u001b[39m: \u001b[34mDownloading...\u001b[39m \u001b[39;1m28%\u001b[39;22m\n",
            "  \u001b[34;1m-\u001b[39;22m \u001b[39mInstalling \u001b[39m\u001b[36mnvidia-cufft-cu12\u001b[39m\u001b[39m (\u001b[39m\u001b[39;1m11.0.2.54\u001b[39;22m\u001b[39m)\u001b[39m: \u001b[34mInstalling...\u001b[39m\n",
            "  \u001b[34;1m-\u001b[39;22m \u001b[39mInstalling \u001b[39m\u001b[36mnvidia-curand-cu12\u001b[39m\u001b[39m (\u001b[39m\u001b[39;1m10.3.2.106\u001b[39;22m\u001b[39m)\u001b[39m: \u001b[34mInstalling...\u001b[39m\n",
            "  \u001b[34;1m-\u001b[39;22m \u001b[39mInstalling \u001b[39m\u001b[36mnvidia-cusolver-cu12\u001b[39m\u001b[39m (\u001b[39m\u001b[39;1m11.4.5.107\u001b[39;22m\u001b[39m)\u001b[39m: \u001b[34mDownloading...\u001b[39m \u001b[39;1m90%\u001b[39;22m\n",
            "  \u001b[34;1m-\u001b[39;22m \u001b[39mInstalling \u001b[39m\u001b[36mnvidia-nccl-cu12\u001b[39m\u001b[39m (\u001b[39m\u001b[39;1m2.20.5\u001b[39;22m\u001b[39m)\u001b[39m: \u001b[34mDownloading...\u001b[39m \u001b[39;1m50%\u001b[39;22m\n",
            "\u001b[1A\u001b[0J  \u001b[34;1m-\u001b[39;22m \u001b[39mInstalling \u001b[39m\u001b[36mnvidia-nccl-cu12\u001b[39m\u001b[39m (\u001b[39m\u001b[39;1m2.20.5\u001b[39;22m\u001b[39m)\u001b[39m: \u001b[34mDownloading...\u001b[39m \u001b[39;1m53%\u001b[39;22m\n",
            "\u001b[2A\u001b[0J  \u001b[34;1m-\u001b[39;22m \u001b[39mInstalling \u001b[39m\u001b[36mnvidia-nccl-cu12\u001b[39m\u001b[39m (\u001b[39m\u001b[39;1m2.20.5\u001b[39;22m\u001b[39m)\u001b[39m: \u001b[34mDownloading...\u001b[39m \u001b[39;1m53%\u001b[39;22m\n",
            "\u001b[1A\u001b[0J  \u001b[34;1m-\u001b[39;22m \u001b[39mInstalling \u001b[39m\u001b[36mnvidia-cusolver-cu12\u001b[39m\u001b[39m (\u001b[39m\u001b[39;1m11.4.5.107\u001b[39;22m\u001b[39m)\u001b[39m: \u001b[34mDownloading...\u001b[39m \u001b[39;1m94%\u001b[39;22m\n",
            "  \u001b[34;1m-\u001b[39;22m \u001b[39mInstalling \u001b[39m\u001b[36mnvidia-nccl-cu12\u001b[39m\u001b[39m (\u001b[39m\u001b[39;1m2.20.5\u001b[39;22m\u001b[39m)\u001b[39m: \u001b[34mDownloading...\u001b[39m \u001b[39;1m53%\u001b[39;22m\n",
            "\u001b[5A\u001b[0J  \u001b[34;1m-\u001b[39;22m \u001b[39mInstalling \u001b[39m\u001b[36mnvidia-cufft-cu12\u001b[39m\u001b[39m (\u001b[39m\u001b[39;1m11.0.2.54\u001b[39;22m\u001b[39m)\u001b[39m: \u001b[34mInstalling...\u001b[39m\n",
            "  \u001b[34;1m-\u001b[39;22m \u001b[39mInstalling \u001b[39m\u001b[36mnvidia-curand-cu12\u001b[39m\u001b[39m (\u001b[39m\u001b[39;1m10.3.2.106\u001b[39;22m\u001b[39m)\u001b[39m: \u001b[34mInstalling...\u001b[39m\n",
            "  \u001b[34;1m-\u001b[39;22m \u001b[39mInstalling \u001b[39m\u001b[36mnvidia-cusolver-cu12\u001b[39m\u001b[39m (\u001b[39m\u001b[39;1m11.4.5.107\u001b[39;22m\u001b[39m)\u001b[39m: \u001b[34mDownloading...\u001b[39m \u001b[39;1m94%\u001b[39;22m\n",
            "  \u001b[34;1m-\u001b[39;22m \u001b[39mInstalling \u001b[39m\u001b[36mnvidia-nccl-cu12\u001b[39m\u001b[39m (\u001b[39m\u001b[39;1m2.20.5\u001b[39;22m\u001b[39m)\u001b[39m: \u001b[34mDownloading...\u001b[39m \u001b[39;1m53%\u001b[39;22m\n",
            "\u001b[4A\u001b[0J  \u001b[34;1m-\u001b[39;22m \u001b[39mInstalling \u001b[39m\u001b[36mnvidia-cudnn-cu12\u001b[39m\u001b[39m (\u001b[39m\u001b[39;1m8.9.2.26\u001b[39;22m\u001b[39m)\u001b[39m: \u001b[34mDownloading...\u001b[39m \u001b[39;1m29%\u001b[39;22m\n",
            "  \u001b[34;1m-\u001b[39;22m \u001b[39mInstalling \u001b[39m\u001b[36mnvidia-cufft-cu12\u001b[39m\u001b[39m (\u001b[39m\u001b[39;1m11.0.2.54\u001b[39;22m\u001b[39m)\u001b[39m: \u001b[34mInstalling...\u001b[39m\n",
            "  \u001b[34;1m-\u001b[39;22m \u001b[39mInstalling \u001b[39m\u001b[36mnvidia-curand-cu12\u001b[39m\u001b[39m (\u001b[39m\u001b[39;1m10.3.2.106\u001b[39;22m\u001b[39m)\u001b[39m: \u001b[34mInstalling...\u001b[39m\n",
            "  \u001b[34;1m-\u001b[39;22m \u001b[39mInstalling \u001b[39m\u001b[36mnvidia-cusolver-cu12\u001b[39m\u001b[39m (\u001b[39m\u001b[39;1m11.4.5.107\u001b[39;22m\u001b[39m)\u001b[39m: \u001b[34mDownloading...\u001b[39m \u001b[39;1m94%\u001b[39;22m\n",
            "  \u001b[34;1m-\u001b[39;22m \u001b[39mInstalling \u001b[39m\u001b[36mnvidia-nccl-cu12\u001b[39m\u001b[39m (\u001b[39m\u001b[39;1m2.20.5\u001b[39;22m\u001b[39m)\u001b[39m: \u001b[34mDownloading...\u001b[39m \u001b[39;1m53%\u001b[39;22m\n",
            "\u001b[5A\u001b[0J  \u001b[34;1m-\u001b[39;22m \u001b[39mInstalling \u001b[39m\u001b[36mnvidia-cufft-cu12\u001b[39m\u001b[39m (\u001b[39m\u001b[39;1m11.0.2.54\u001b[39;22m\u001b[39m)\u001b[39m: \u001b[34mInstalling...\u001b[39m\n",
            "  \u001b[34;1m-\u001b[39;22m \u001b[39mInstalling \u001b[39m\u001b[36mnvidia-curand-cu12\u001b[39m\u001b[39m (\u001b[39m\u001b[39;1m10.3.2.106\u001b[39;22m\u001b[39m)\u001b[39m: \u001b[34mInstalling...\u001b[39m\n",
            "  \u001b[34;1m-\u001b[39;22m \u001b[39mInstalling \u001b[39m\u001b[36mnvidia-cusolver-cu12\u001b[39m\u001b[39m (\u001b[39m\u001b[39;1m11.4.5.107\u001b[39;22m\u001b[39m)\u001b[39m: \u001b[34mDownloading...\u001b[39m \u001b[39;1m94%\u001b[39;22m\n",
            "  \u001b[34;1m-\u001b[39;22m \u001b[39mInstalling \u001b[39m\u001b[36mnvidia-nccl-cu12\u001b[39m\u001b[39m (\u001b[39m\u001b[39;1m2.20.5\u001b[39;22m\u001b[39m)\u001b[39m: \u001b[34mDownloading...\u001b[39m \u001b[39;1m53%\u001b[39;22m\n",
            "\u001b[4A\u001b[0J  \u001b[34;1m-\u001b[39;22m \u001b[39mInstalling \u001b[39m\u001b[36mnvidia-cudnn-cu12\u001b[39m\u001b[39m (\u001b[39m\u001b[39;1m8.9.2.26\u001b[39;22m\u001b[39m)\u001b[39m: \u001b[34mDownloading...\u001b[39m \u001b[39;1m30%\u001b[39;22m\n",
            "  \u001b[34;1m-\u001b[39;22m \u001b[39mInstalling \u001b[39m\u001b[36mnvidia-cufft-cu12\u001b[39m\u001b[39m (\u001b[39m\u001b[39;1m11.0.2.54\u001b[39;22m\u001b[39m)\u001b[39m: \u001b[34mInstalling...\u001b[39m\n",
            "  \u001b[34;1m-\u001b[39;22m \u001b[39mInstalling \u001b[39m\u001b[36mnvidia-curand-cu12\u001b[39m\u001b[39m (\u001b[39m\u001b[39;1m10.3.2.106\u001b[39;22m\u001b[39m)\u001b[39m: \u001b[34mInstalling...\u001b[39m\n",
            "  \u001b[34;1m-\u001b[39;22m \u001b[39mInstalling \u001b[39m\u001b[36mnvidia-cusolver-cu12\u001b[39m\u001b[39m (\u001b[39m\u001b[39;1m11.4.5.107\u001b[39;22m\u001b[39m)\u001b[39m: \u001b[34mDownloading...\u001b[39m \u001b[39;1m94%\u001b[39;22m\n",
            "  \u001b[34;1m-\u001b[39;22m \u001b[39mInstalling \u001b[39m\u001b[36mnvidia-nccl-cu12\u001b[39m\u001b[39m (\u001b[39m\u001b[39;1m2.20.5\u001b[39;22m\u001b[39m)\u001b[39m: \u001b[34mDownloading...\u001b[39m \u001b[39;1m53%\u001b[39;22m\n",
            "\u001b[1A\u001b[0J  \u001b[34;1m-\u001b[39;22m \u001b[39mInstalling \u001b[39m\u001b[36mnvidia-nccl-cu12\u001b[39m\u001b[39m (\u001b[39m\u001b[39;1m2.20.5\u001b[39;22m\u001b[39m)\u001b[39m: \u001b[34mDownloading...\u001b[39m \u001b[39;1m57%\u001b[39;22m\n",
            "\u001b[1A\u001b[0J  \u001b[34;1m-\u001b[39;22m \u001b[39mInstalling \u001b[39m\u001b[36mnvidia-nccl-cu12\u001b[39m\u001b[39m (\u001b[39m\u001b[39;1m2.20.5\u001b[39;22m\u001b[39m)\u001b[39m: \u001b[34mDownloading...\u001b[39m \u001b[39;1m60%\u001b[39;22m\n",
            "\u001b[1A\u001b[0J  \u001b[34;1m-\u001b[39;22m \u001b[39mInstalling \u001b[39m\u001b[36mnvidia-nccl-cu12\u001b[39m\u001b[39m (\u001b[39m\u001b[39;1m2.20.5\u001b[39;22m\u001b[39m)\u001b[39m: \u001b[34mDownloading...\u001b[39m \u001b[39;1m64%\u001b[39;22m\n",
            "\u001b[5A\u001b[0J  \u001b[34;1m-\u001b[39;22m \u001b[39mInstalling \u001b[39m\u001b[36mnvidia-cufft-cu12\u001b[39m\u001b[39m (\u001b[39m\u001b[39;1m11.0.2.54\u001b[39;22m\u001b[39m)\u001b[39m: \u001b[34mInstalling...\u001b[39m\n",
            "  \u001b[34;1m-\u001b[39;22m \u001b[39mInstalling \u001b[39m\u001b[36mnvidia-curand-cu12\u001b[39m\u001b[39m (\u001b[39m\u001b[39;1m10.3.2.106\u001b[39;22m\u001b[39m)\u001b[39m: \u001b[34mInstalling...\u001b[39m\n",
            "  \u001b[34;1m-\u001b[39;22m \u001b[39mInstalling \u001b[39m\u001b[36mnvidia-cusolver-cu12\u001b[39m\u001b[39m (\u001b[39m\u001b[39;1m11.4.5.107\u001b[39;22m\u001b[39m)\u001b[39m: \u001b[34mDownloading...\u001b[39m \u001b[39;1m94%\u001b[39;22m\n",
            "  \u001b[34;1m-\u001b[39;22m \u001b[39mInstalling \u001b[39m\u001b[36mnvidia-nccl-cu12\u001b[39m\u001b[39m (\u001b[39m\u001b[39;1m2.20.5\u001b[39;22m\u001b[39m)\u001b[39m: \u001b[34mDownloading...\u001b[39m \u001b[39;1m64%\u001b[39;22m\n",
            "\u001b[4A\u001b[0J  \u001b[34;1m-\u001b[39;22m \u001b[39mInstalling \u001b[39m\u001b[36mnvidia-cudnn-cu12\u001b[39m\u001b[39m (\u001b[39m\u001b[39;1m8.9.2.26\u001b[39;22m\u001b[39m)\u001b[39m: \u001b[34mDownloading...\u001b[39m \u001b[39;1m31%\u001b[39;22m\n",
            "  \u001b[34;1m-\u001b[39;22m \u001b[39mInstalling \u001b[39m\u001b[36mnvidia-cufft-cu12\u001b[39m\u001b[39m (\u001b[39m\u001b[39;1m11.0.2.54\u001b[39;22m\u001b[39m)\u001b[39m: \u001b[34mInstalling...\u001b[39m\n",
            "  \u001b[34;1m-\u001b[39;22m \u001b[39mInstalling \u001b[39m\u001b[36mnvidia-curand-cu12\u001b[39m\u001b[39m (\u001b[39m\u001b[39;1m10.3.2.106\u001b[39;22m\u001b[39m)\u001b[39m: \u001b[34mInstalling...\u001b[39m\n",
            "  \u001b[34;1m-\u001b[39;22m \u001b[39mInstalling \u001b[39m\u001b[36mnvidia-cusolver-cu12\u001b[39m\u001b[39m (\u001b[39m\u001b[39;1m11.4.5.107\u001b[39;22m\u001b[39m)\u001b[39m: \u001b[34mDownloading...\u001b[39m \u001b[39;1m94%\u001b[39;22m\n",
            "  \u001b[34;1m-\u001b[39;22m \u001b[39mInstalling \u001b[39m\u001b[36mnvidia-nccl-cu12\u001b[39m\u001b[39m (\u001b[39m\u001b[39;1m2.20.5\u001b[39;22m\u001b[39m)\u001b[39m: \u001b[34mDownloading...\u001b[39m \u001b[39;1m64%\u001b[39;22m\n",
            "\u001b[2A\u001b[0J  \u001b[34;1m-\u001b[39;22m \u001b[39mInstalling \u001b[39m\u001b[36mnvidia-nccl-cu12\u001b[39m\u001b[39m (\u001b[39m\u001b[39;1m2.20.5\u001b[39;22m\u001b[39m)\u001b[39m: \u001b[34mDownloading...\u001b[39m \u001b[39;1m64%\u001b[39;22m\n",
            "\u001b[1A\u001b[0J  \u001b[34;1m-\u001b[39;22m \u001b[39mInstalling \u001b[39m\u001b[36mnvidia-cusolver-cu12\u001b[39m\u001b[39m (\u001b[39m\u001b[39;1m11.4.5.107\u001b[39;22m\u001b[39m)\u001b[39m: \u001b[34mDownloading...\u001b[39m \u001b[39;1m100%\u001b[39;22m\n",
            "  \u001b[34;1m-\u001b[39;22m \u001b[39mInstalling \u001b[39m\u001b[36mnvidia-nccl-cu12\u001b[39m\u001b[39m (\u001b[39m\u001b[39;1m2.20.5\u001b[39;22m\u001b[39m)\u001b[39m: \u001b[34mDownloading...\u001b[39m \u001b[39;1m64%\u001b[39;22m\n",
            "\u001b[1A\u001b[0J  \u001b[34;1m-\u001b[39;22m \u001b[39mInstalling \u001b[39m\u001b[36mnvidia-nccl-cu12\u001b[39m\u001b[39m (\u001b[39m\u001b[39;1m2.20.5\u001b[39;22m\u001b[39m)\u001b[39m: \u001b[34mDownloading...\u001b[39m \u001b[39;1m70%\u001b[39;22m\n",
            "\u001b[5A\u001b[0J  \u001b[34;1m-\u001b[39;22m \u001b[39mInstalling \u001b[39m\u001b[36mnvidia-cufft-cu12\u001b[39m\u001b[39m (\u001b[39m\u001b[39;1m11.0.2.54\u001b[39;22m\u001b[39m)\u001b[39m: \u001b[34mInstalling...\u001b[39m\n",
            "  \u001b[34;1m-\u001b[39;22m \u001b[39mInstalling \u001b[39m\u001b[36mnvidia-curand-cu12\u001b[39m\u001b[39m (\u001b[39m\u001b[39;1m10.3.2.106\u001b[39;22m\u001b[39m)\u001b[39m: \u001b[34mInstalling...\u001b[39m\n",
            "  \u001b[34;1m-\u001b[39;22m \u001b[39mInstalling \u001b[39m\u001b[36mnvidia-cusolver-cu12\u001b[39m\u001b[39m (\u001b[39m\u001b[39;1m11.4.5.107\u001b[39;22m\u001b[39m)\u001b[39m: \u001b[34mDownloading...\u001b[39m \u001b[39;1m100%\u001b[39;22m\n",
            "  \u001b[34;1m-\u001b[39;22m \u001b[39mInstalling \u001b[39m\u001b[36mnvidia-nccl-cu12\u001b[39m\u001b[39m (\u001b[39m\u001b[39;1m2.20.5\u001b[39;22m\u001b[39m)\u001b[39m: \u001b[34mDownloading...\u001b[39m \u001b[39;1m70%\u001b[39;22m\n",
            "\u001b[4A\u001b[0J  \u001b[34;1m-\u001b[39;22m \u001b[39mInstalling \u001b[39m\u001b[36mnvidia-cudnn-cu12\u001b[39m\u001b[39m (\u001b[39m\u001b[39;1m8.9.2.26\u001b[39;22m\u001b[39m)\u001b[39m: \u001b[34mDownloading...\u001b[39m \u001b[39;1m32%\u001b[39;22m\n",
            "  \u001b[34;1m-\u001b[39;22m \u001b[39mInstalling \u001b[39m\u001b[36mnvidia-cufft-cu12\u001b[39m\u001b[39m (\u001b[39m\u001b[39;1m11.0.2.54\u001b[39;22m\u001b[39m)\u001b[39m: \u001b[34mInstalling...\u001b[39m\n",
            "  \u001b[34;1m-\u001b[39;22m \u001b[39mInstalling \u001b[39m\u001b[36mnvidia-curand-cu12\u001b[39m\u001b[39m (\u001b[39m\u001b[39;1m10.3.2.106\u001b[39;22m\u001b[39m)\u001b[39m: \u001b[34mInstalling...\u001b[39m\n",
            "  \u001b[34;1m-\u001b[39;22m \u001b[39mInstalling \u001b[39m\u001b[36mnvidia-cusolver-cu12\u001b[39m\u001b[39m (\u001b[39m\u001b[39;1m11.4.5.107\u001b[39;22m\u001b[39m)\u001b[39m: \u001b[34mDownloading...\u001b[39m \u001b[39;1m100%\u001b[39;22m\n",
            "  \u001b[34;1m-\u001b[39;22m \u001b[39mInstalling \u001b[39m\u001b[36mnvidia-nccl-cu12\u001b[39m\u001b[39m (\u001b[39m\u001b[39;1m2.20.5\u001b[39;22m\u001b[39m)\u001b[39m: \u001b[34mDownloading...\u001b[39m \u001b[39;1m70%\u001b[39;22m\n",
            "^C\n"
          ]
        }
      ]
    },
    {
      "cell_type": "markdown",
      "source": [
        "3 points:\n",
        "- Since we ran this command for the first time, a virtual environment is created in the project folder. By default, it is called *.venv*;\n",
        "- The version for torch is indicated;\n",
        "- The *poetry.lock* file is created.\n",
        "\n",
        "Let's add `torch = \"^1.13.1\"` in *pyproject.toml* `[tool.poetry.dependencies]` section, after line `python = \"^3.8\"`."
      ],
      "metadata": {
        "id": "WgCw1nxtHEQk"
      }
    },
    {
      "cell_type": "markdown",
      "source": [
        "Let's save the virtual env name and python version in global variables."
      ],
      "metadata": {
        "id": "zv-bkprBHdMN"
      }
    },
    {
      "cell_type": "code",
      "source": [
        "VENV_PATH = \"/content/gdrive/MyDrive/test-poetry/.venv/lib/python3.10/site-packages\""
      ],
      "metadata": {
        "id": "Gm7SuPrYLIVG"
      },
      "execution_count": 15,
      "outputs": []
    },
    {
      "cell_type": "markdown",
      "source": [
        "Let's see the packages installed in the virtual environment."
      ],
      "metadata": {
        "id": "PUp-tfOBHjCu"
      }
    },
    {
      "cell_type": "code",
      "source": [
        "!ls $VENV_PATH"
      ],
      "metadata": {
        "colab": {
          "base_uri": "https://localhost:8080/"
        },
        "id": "akeGX5x0aYWM",
        "outputId": "cb1cafd6-39da-4f47-8a74-7bf503326777"
      },
      "execution_count": 16,
      "outputs": [
        {
          "output_type": "stream",
          "name": "stdout",
          "text": [
            "_distutils_hack\t\t\t       nvidia_cuda_cupti_cu12-12.1.105.dist-info\n",
            "distutils-precedence.pth\t       nvidia_cuda_nvrtc_cu12-12.1.105.dist-info\n",
            "filelock\t\t\t       nvidia_cuda_runtime_cu12-12.1.105.dist-info\n",
            "filelock-3.15.1.dist-info\t       nvidia_cusparse_cu12-12.1.0.106.dist-info\n",
            "fsspec\t\t\t\t       nvidia_nvjitlink_cu12-12.5.40.dist-info\n",
            "fsspec-2024.6.0.dist-info\t       pip\n",
            "jinja2\t\t\t\t       pip-24.0.dist-info\n",
            "jinja2-3.1.4.dist-info\t\t       pip-24.0.virtualenv\n",
            "markupsafe\t\t\t       pkg_resources\n",
            "MarkupSafe-2.1.5.dist-info\t       __pycache__\n",
            "mpmath\t\t\t\t       setuptools\n",
            "mpmath-1.3.0.dist-info\t\t       setuptools-69.5.1.dist-info\n",
            "networkx\t\t\t       setuptools-69.5.1.virtualenv\n",
            "nvidia\t\t\t\t       _virtualenv.pth\n",
            "nvidia_cublas_cu12-12.1.3.1.dist-info  _virtualenv.py\n"
          ]
        }
      ]
    },
    {
      "cell_type": "markdown",
      "source": [
        "`torch` was not installed. So let's run `poetry install --no-ansi`."
      ],
      "metadata": {
        "id": "m5mponbGEz-K"
      }
    },
    {
      "cell_type": "code",
      "source": [
        "!touch README.md"
      ],
      "metadata": {
        "id": "wm-6tsdxtBon"
      },
      "execution_count": 19,
      "outputs": []
    },
    {
      "cell_type": "code",
      "source": [
        "!poetry install --no-ansi"
      ],
      "metadata": {
        "colab": {
          "base_uri": "https://localhost:8080/"
        },
        "id": "b1JDo_sR_ti9",
        "outputId": "e7522b1c-44f4-45e2-b2f9-1cbbebae6f3d"
      },
      "execution_count": 20,
      "outputs": [
        {
          "output_type": "stream",
          "name": "stdout",
          "text": [
            "Installing dependencies from lock file\n",
            "\n",
            "Installing the current project: my-project (0.1.0)\n",
            "\n",
            "Warning: The current project could not be installed: No file/folder found for package my-project\n",
            "If you do not want to install the current project use --no-root.\n",
            "If you want to use Poetry only for dependency management but not for packaging, you can disable package mode by setting package-mode = false in your pyproject.toml file.\n",
            "In a future version of Poetry this warning will become an error!\n"
          ]
        }
      ]
    },
    {
      "cell_type": "markdown",
      "source": [
        "Let's check if the packages were installed:"
      ],
      "metadata": {
        "id": "dXF4_YoeE54I"
      }
    },
    {
      "cell_type": "code",
      "source": [
        "!ls $VENV_PATH"
      ],
      "metadata": {
        "colab": {
          "base_uri": "https://localhost:8080/"
        },
        "id": "RKBHF_R4qNoc",
        "outputId": "c3748672-e1d5-49f5-8da1-3b4c5e0973eb"
      },
      "execution_count": 18,
      "outputs": [
        {
          "output_type": "stream",
          "name": "stdout",
          "text": [
            "_distutils_hack\t\t\t       nvidia_cuda_cupti_cu12-12.1.105.dist-info\n",
            "distutils-precedence.pth\t       nvidia_cuda_nvrtc_cu12-12.1.105.dist-info\n",
            "filelock\t\t\t       nvidia_cuda_runtime_cu12-12.1.105.dist-info\n",
            "filelock-3.15.1.dist-info\t       nvidia_cusparse_cu12-12.1.0.106.dist-info\n",
            "fsspec\t\t\t\t       nvidia_nvjitlink_cu12-12.5.40.dist-info\n",
            "fsspec-2024.6.0.dist-info\t       pip\n",
            "jinja2\t\t\t\t       pip-24.0.dist-info\n",
            "jinja2-3.1.4.dist-info\t\t       pip-24.0.virtualenv\n",
            "markupsafe\t\t\t       pkg_resources\n",
            "MarkupSafe-2.1.5.dist-info\t       __pycache__\n",
            "mpmath\t\t\t\t       setuptools\n",
            "mpmath-1.3.0.dist-info\t\t       setuptools-69.5.1.dist-info\n",
            "networkx\t\t\t       setuptools-69.5.1.virtualenv\n",
            "nvidia\t\t\t\t       _virtualenv.pth\n",
            "nvidia_cublas_cu12-12.1.3.1.dist-info  _virtualenv.py\n"
          ]
        }
      ]
    },
    {
      "cell_type": "markdown",
      "source": [
        "### 1.4 Run project\n",
        "\n",
        "Now, let's add `poetry` virtual environment to python path so that all installed dependencies can be found by the python interpreter."
      ],
      "metadata": {
        "id": "UUvTMpuwFzuu"
      }
    },
    {
      "cell_type": "code",
      "source": [
        "import os, sys\n",
        "\n",
        "LOCAL_VENV_PATH = '/content/venv' # local notebook\n",
        "os.symlink(VENV_PATH, LOCAL_VENV_PATH) # connect to directory in drive\n",
        "sys.path.insert(0, LOCAL_VENV_PATH)"
      ],
      "metadata": {
        "id": "kKMtQjbrcsO4"
      },
      "execution_count": 21,
      "outputs": []
    },
    {
      "cell_type": "code",
      "source": [
        "import torch\n",
        "print(torch.__version__)"
      ],
      "metadata": {
        "colab": {
          "base_uri": "https://localhost:8080/"
        },
        "id": "yZ0VtLNKGNnk",
        "outputId": "24fce656-9332-4328-9f5a-a03a6f6aca91"
      },
      "execution_count": 22,
      "outputs": [
        {
          "output_type": "stream",
          "name": "stdout",
          "text": [
            "2.3.0+cu121\n"
          ]
        }
      ]
    },
    {
      "cell_type": "markdown",
      "source": [
        "Colab has now `torch` installed from `poetry` project."
      ],
      "metadata": {
        "id": "9Cy-DgoBINoy"
      }
    },
    {
      "cell_type": "markdown",
      "source": [
        "## 2. Cloning a `poetry` project\n",
        "---\n",
        "\n",
        "Suppose you need to clone a Github repo with `poetry` dependencies manager."
      ],
      "metadata": {
        "id": "oZU9d4ETIFwB"
      }
    },
    {
      "cell_type": "code",
      "source": [
        "# Move in your Drive\n",
        "%cd /content/gdrive/MyDrive/"
      ],
      "metadata": {
        "colab": {
          "base_uri": "https://localhost:8080/"
        },
        "id": "I39oqKszII-K",
        "outputId": "067f8c8c-4c87-4dd2-fd14-fd595a33237c"
      },
      "execution_count": 23,
      "outputs": [
        {
          "output_type": "stream",
          "name": "stdout",
          "text": [
            "/content/gdrive/MyDrive\n"
          ]
        }
      ]
    },
    {
      "cell_type": "markdown",
      "source": [
        "### 2.1 Clone the repository"
      ],
      "metadata": {
        "id": "BmLg5JtGMs1x"
      }
    },
    {
      "cell_type": "code",
      "source": [
        "# Clone this repository\n",
        "!rm -rf poetry-and-colab/\n",
        "!git clone https://github.com/elise-chin-adway/poetry-and-colab.git"
      ],
      "metadata": {
        "colab": {
          "base_uri": "https://localhost:8080/"
        },
        "id": "iEVJ0W_NKnDp",
        "outputId": "459d7776-3d9e-4e87-c9f0-f5c5f58dfe45"
      },
      "execution_count": null,
      "outputs": [
        {
          "output_type": "stream",
          "name": "stdout",
          "text": [
            "Cloning into 'poetry-and-colab'...\n",
            "remote: Enumerating objects: 16, done.\u001b[K\n",
            "remote: Counting objects: 100% (16/16), done.\u001b[K\n",
            "remote: Compressing objects: 100% (15/15), done.\u001b[K\n",
            "remote: Total 16 (delta 5), reused 0 (delta 0), pack-reused 0\u001b[K\n",
            "Unpacking objects: 100% (16/16), 9.92 KiB | 55.00 KiB/s, done.\n"
          ]
        }
      ]
    },
    {
      "cell_type": "code",
      "source": [
        "%cd poetry-and-colab"
      ],
      "metadata": {
        "colab": {
          "base_uri": "https://localhost:8080/"
        },
        "id": "NBawwY5YMx4A",
        "outputId": "c2ef6f94-b2c0-4c80-c9c3-c4114f7ed121"
      },
      "execution_count": null,
      "outputs": [
        {
          "output_type": "stream",
          "name": "stdout",
          "text": [
            "/content/gdrive/MyDrive/poetry-and-colab\n"
          ]
        }
      ]
    },
    {
      "cell_type": "markdown",
      "source": [
        "### 2.2 Install poetry"
      ],
      "metadata": {
        "id": "8_p102quM4pX"
      }
    },
    {
      "cell_type": "code",
      "source": [
        "# Install poetry from pip\n",
        "!pip install poetry"
      ],
      "metadata": {
        "id": "jR3sw95gM_Do"
      },
      "execution_count": null,
      "outputs": []
    },
    {
      "cell_type": "markdown",
      "source": [
        "If you want poetry not to create the virtual environment in the project folder, then run this command `!poetry config virtualenvs.in-project false`, otherwise, run this command `!poetry config virtualenvs.in-project true`.\n",
        "\n",
        "In this tutorial, we will install the packages permanently in Colab, and for convenience, we will create the virtual environment in the project folder.\n",
        "\n"
      ],
      "metadata": {
        "id": "4StyQxbzdo3Y"
      }
    },
    {
      "cell_type": "code",
      "source": [
        "# Configure poetry to create virtual environments in the project folder\n",
        "!poetry config virtualenvs.in-project true"
      ],
      "metadata": {
        "id": "a6UgmndbNB-u"
      },
      "execution_count": null,
      "outputs": []
    },
    {
      "cell_type": "code",
      "source": [
        "!poetry install --no-ansi"
      ],
      "metadata": {
        "colab": {
          "base_uri": "https://localhost:8080/"
        },
        "id": "KtGPa3pUNH-X",
        "outputId": "87d1e7ea-e228-4cc0-dfc8-23a7204fb90e"
      },
      "execution_count": null,
      "outputs": [
        {
          "output_type": "stream",
          "name": "stdout",
          "text": [
            "Creating virtualenv poetry-and-colab in /content/gdrive/MyDrive/poetry-and-colab/.venv\n",
            "Installing dependencies from lock file\n",
            "\n",
            "Package operations: 6 installs, 1 update, 0 removals\n",
            "\n",
            "  • Updating setuptools (67.1.0 -> 67.0.0)\n",
            "  • Installing nvidia-cublas-cu11 (11.10.3.66)\n",
            "  • Installing nvidia-cuda-nvrtc-cu11 (11.7.99)\n",
            "  • Installing nvidia-cuda-runtime-cu11 (11.7.99)\n",
            "  • Installing nvidia-cudnn-cu11 (8.5.0.96)\n",
            "  • Installing typing-extensions (4.4.0)\n",
            "  • Installing torch (1.13.1)\n",
            "\n",
            "/content/gdrive/MyDrive/poetry-and-colab/poetry_and_colab does not contain any element\n"
          ]
        }
      ]
    },
    {
      "cell_type": "markdown",
      "source": [
        "Then to add a new package and run a project, it is the same steps as 1.3 and 1.4."
      ],
      "metadata": {
        "id": "9LAiFqSMNP9X"
      }
    },
    {
      "cell_type": "markdown",
      "source": [
        "### 2.3 Add a new package\n",
        "\n",
        "Go to [step 1.3](#add-new-package)"
      ],
      "metadata": {
        "id": "IFvmnj5Le6YI"
      }
    },
    {
      "cell_type": "markdown",
      "source": [
        "### 2.4 Run project"
      ],
      "metadata": {
        "id": "qlTHziYKe-ah"
      }
    },
    {
      "cell_type": "code",
      "source": [
        "import os, sys\n",
        "\n",
        "VENV_PATH = \"/content/gdrive/MyDrive/test-poetry/.venv/lib/python3.10/site-packages/test1.py\"\n",
        "LOCAL_VENV_PATH = '/content/venv' # local notebook\n",
        "os.symlink(VENV_PATH, LOCAL_VENV_PATH) # connect to directory in drive\n",
        "sys.path.insert(0, LOCAL_VENV_PATH)"
      ],
      "metadata": {
        "id": "zlva3R9Pe_1T",
        "outputId": "6bc479ad-399e-4f39-dcc3-a5049ef9ade9",
        "colab": {
          "base_uri": "https://localhost:8080/",
          "height": 193
        }
      },
      "execution_count": 27,
      "outputs": [
        {
          "output_type": "error",
          "ename": "FileExistsError",
          "evalue": "[Errno 17] File exists: '/content/gdrive/MyDrive/test-poetry/.venv/lib/python3.10/site-packages/test1.py' -> '/content/venv'",
          "traceback": [
            "\u001b[0;31m---------------------------------------------------------------------------\u001b[0m",
            "\u001b[0;31mFileExistsError\u001b[0m                           Traceback (most recent call last)",
            "\u001b[0;32m<ipython-input-27-63abfde94dc0>\u001b[0m in \u001b[0;36m<cell line: 5>\u001b[0;34m()\u001b[0m\n\u001b[1;32m      3\u001b[0m \u001b[0mVENV_PATH\u001b[0m \u001b[0;34m=\u001b[0m \u001b[0;34m\"/content/gdrive/MyDrive/test-poetry/.venv/lib/python3.10/site-packages/test1.py\"\u001b[0m\u001b[0;34m\u001b[0m\u001b[0;34m\u001b[0m\u001b[0m\n\u001b[1;32m      4\u001b[0m \u001b[0mLOCAL_VENV_PATH\u001b[0m \u001b[0;34m=\u001b[0m \u001b[0;34m'/content/venv'\u001b[0m \u001b[0;31m# local notebook\u001b[0m\u001b[0;34m\u001b[0m\u001b[0;34m\u001b[0m\u001b[0m\n\u001b[0;32m----> 5\u001b[0;31m \u001b[0mos\u001b[0m\u001b[0;34m.\u001b[0m\u001b[0msymlink\u001b[0m\u001b[0;34m(\u001b[0m\u001b[0mVENV_PATH\u001b[0m\u001b[0;34m,\u001b[0m \u001b[0mLOCAL_VENV_PATH\u001b[0m\u001b[0;34m)\u001b[0m \u001b[0;31m# connect to directory in drive\u001b[0m\u001b[0;34m\u001b[0m\u001b[0;34m\u001b[0m\u001b[0m\n\u001b[0m\u001b[1;32m      6\u001b[0m \u001b[0msys\u001b[0m\u001b[0;34m.\u001b[0m\u001b[0mpath\u001b[0m\u001b[0;34m.\u001b[0m\u001b[0minsert\u001b[0m\u001b[0;34m(\u001b[0m\u001b[0;36m0\u001b[0m\u001b[0;34m,\u001b[0m \u001b[0mLOCAL_VENV_PATH\u001b[0m\u001b[0;34m)\u001b[0m\u001b[0;34m\u001b[0m\u001b[0;34m\u001b[0m\u001b[0m\n",
            "\u001b[0;31mFileExistsError\u001b[0m: [Errno 17] File exists: '/content/gdrive/MyDrive/test-poetry/.venv/lib/python3.10/site-packages/test1.py' -> '/content/venv'"
          ]
        }
      ]
    },
    {
      "cell_type": "code",
      "source": [
        "import torch\n",
        "print(torch.__version__)"
      ],
      "metadata": {
        "colab": {
          "base_uri": "https://localhost:8080/"
        },
        "id": "xyz_bbzafp3D",
        "outputId": "d6b8b60d-c84d-420a-813c-13a51d2a365e"
      },
      "execution_count": null,
      "outputs": [
        {
          "output_type": "stream",
          "name": "stdout",
          "text": [
            "1.13.1+cu116\n"
          ]
        }
      ]
    },
    {
      "cell_type": "code",
      "source": [
        "poetry run python test1.py"
      ],
      "metadata": {
        "id": "jZcpGI7xxJI9",
        "outputId": "9f995bf1-b4c5-4b60-a9ce-498b7b896708",
        "colab": {
          "base_uri": "https://localhost:8080/",
          "height": 106
        }
      },
      "execution_count": 28,
      "outputs": [
        {
          "output_type": "error",
          "ename": "SyntaxError",
          "evalue": "invalid syntax (<ipython-input-28-19afdd1ad5f1>, line 1)",
          "traceback": [
            "\u001b[0;36m  File \u001b[0;32m\"<ipython-input-28-19afdd1ad5f1>\"\u001b[0;36m, line \u001b[0;32m1\u001b[0m\n\u001b[0;31m    poetry run python test1.py\u001b[0m\n\u001b[0m           ^\u001b[0m\n\u001b[0;31mSyntaxError\u001b[0m\u001b[0;31m:\u001b[0m invalid syntax\n"
          ]
        }
      ]
    }
  ]
}