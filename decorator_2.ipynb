{
  "nbformat": 4,
  "nbformat_minor": 0,
  "metadata": {
    "colab": {
      "provenance": [],
      "include_colab_link": true
    },
    "kernelspec": {
      "name": "python3",
      "display_name": "Python 3"
    },
    "language_info": {
      "name": "python"
    }
  },
  "cells": [
    {
      "cell_type": "markdown",
      "metadata": {
        "id": "view-in-github",
        "colab_type": "text"
      },
      "source": [
        "<a href=\"https://colab.research.google.com/github/AlinaSabitova/Lectures/blob/main/decorator_2.ipynb\" target=\"_parent\"><img src=\"https://colab.research.google.com/assets/colab-badge.svg\" alt=\"Open In Colab\"/></a>"
      ]
    },
    {
      "cell_type": "markdown",
      "source": [
        "В приведенном ниже примере у нас есть функция с именем `decorated`.\n",
        "Эта функция просто печатает \"This happened\".\n",
        "\n",
        "У нас есть созданный декоратор с именем `inner_decorator()`.\n",
        "\n",
        "Эта функция-декоратор имеет внутри функцию, которая выполняет некоторые операции (для простоты печатает что-то), а затем возвращает возвращаемое значение внутренней функции.\n",
        "\n",
        "Как это работает?\n",
        "\n",
        "a) Вызывается функция `decorated()`.\n",
        "\n",
        "b) Поскольку декоратор `@my_decorator` определен выше `decorated()`, вызывается `my_decorator()`.\n",
        "\n",
        "c) my_decorator() принимает имя функции в качестве аргумента, и, следовательно, `decorated()` передается в качестве аргумента.\n",
        "\n",
        "d) `my_decorator()` выполняет свою работу, и когда она достигает `myfunction()`, вызывает фактическую функцию, т.е. декорированную()\n",
        "\n",
        "e) Как только функция `decorated()` выполнена, она возвращается к `my_decorator()`.\n",
        "\n",
        "f) Следовательно, использование декоратора может кардинально изменить поведение функции, которую вы фактически выполняете.\n"
      ],
      "metadata": {
        "id": "ecS3tH-akJAO"
      }
    },
    {
      "cell_type": "code",
      "source": [],
      "metadata": {
        "id": "bThGOgn3XaZW"
      },
      "execution_count": null,
      "outputs": []
    },
    {
      "cell_type": "code",
      "execution_count": null,
      "metadata": {
        "colab": {
          "base_uri": "https://localhost:8080/",
          "height": 105
        },
        "id": "LNpm4TNwkEha",
        "outputId": "0cbeefb1-842f-4883-aaf3-3936a995cb2d"
      },
      "outputs": [
        {
          "output_type": "stream",
          "name": "stdout",
          "text": [
            "This happened before!\n",
            "This happened!\n",
            "This happens after \n",
            "This happened at the end!\n"
          ]
        },
        {
          "output_type": "execute_result",
          "data": {
            "text/plain": [
              "'\\nO/P-\\nThis happened before!\\nThis happened!\\nThis happens after \\nThis happened at the end!\\n'"
            ],
            "application/vnd.google.colaboratory.intrinsic+json": {
              "type": "string"
            }
          },
          "metadata": {},
          "execution_count": 1
        }
      ],
      "source": [
        "#decorator\n",
        "\n",
        "\n",
        "\n",
        "def my_decorator(my_function):  # <-- (4)\n",
        "    def inner_decorator():  # <-- (5)\n",
        "        print(\"This happened before!\")  # <-- (6)\n",
        "        my_function()  # <-- (7)\n",
        "        print(\"This happens after \")  # <-- (10)\n",
        "        print(\"This happened at the end!\")  # <-- (11)\n",
        "\n",
        "    return inner_decorator\n",
        "    # return None\n",
        "\n",
        "\n",
        "@my_decorator  # <-- (3)\n",
        "def decorated():  # <-- (2) <-- (8)\n",
        "    print(\"This happened!\")  # <-- (9)\n",
        "\n",
        "\n",
        "if __name__ == \"__main__\":\n",
        "    decorated()  # <-- (1)\n",
        "\n",
        "\n",
        "'''\n",
        "O/P-\n",
        "This happened before!\n",
        "This happened!\n",
        "This happens after \n",
        "This happened at the end!\n",
        "'''"
      ]
    },
    {
      "cell_type": "markdown",
      "source": [
        "**Обновленная версия decorator-1**\n",
        "\n",
        "Этот фрагмент кода использует предыдущий пример и добавляет немного больше информации к выходным данным."
      ],
      "metadata": {
        "id": "C2V42dntlDEm"
      }
    },
    {
      "cell_type": "code",
      "source": [
        "import datetime\n",
        "\n",
        "\n",
        "def my_decorator(inner):\n",
        "    def inner_decorator():\n",
        "        print(datetime.datetime.utcnow())\n",
        "        inner()\n",
        "        print(datetime.datetime.utcnow())\n",
        "\n",
        "    return inner_decorator\n",
        "\n",
        "\n",
        "@my_decorator\n",
        "def decorated():\n",
        "    print(\"This happened!\")\n",
        "\n",
        "\n",
        "if __name__ == \"__main__\":\n",
        "    decorated()\n",
        "\n",
        "'''\n",
        "O/P: (NOTE: The time will change of course :P)\n",
        "2023-05-01 09:19:23.556307\n",
        "This happened!\n",
        "2023-05-01 09:19:23.556307\n",
        "'''"
      ],
      "metadata": {
        "colab": {
          "base_uri": "https://localhost:8080/",
          "height": 88
        },
        "id": "nbaf1WRVlCd6",
        "outputId": "8cad5fd4-4893-4d1c-feb3-b20b0d2acbeb"
      },
      "execution_count": null,
      "outputs": [
        {
          "output_type": "stream",
          "name": "stdout",
          "text": [
            "2023-05-01 09:20:05.626440\n",
            "This happened!\n",
            "2023-05-01 09:20:05.627770\n"
          ]
        },
        {
          "output_type": "execute_result",
          "data": {
            "text/plain": [
              "'\\nO/P: (NOTE: The time will change of course :P)\\n2023-05-01 09:19:23.556307\\nThis happened!\\n2023-05-01 09:19:23.556307\\n'"
            ],
            "application/vnd.google.colaboratory.intrinsic+json": {
              "type": "string"
            }
          },
          "metadata": {},
          "execution_count": 3
        }
      ]
    },
    {
      "cell_type": "markdown",
      "source": [
        "**Обновленная версия decorator-2**\n",
        "\n",
        " Здесь функция `decorated()` принимает аргумент и выводит его на терминал.\n",
        " \n",
        " Когда вызывается декоратор `@my_decorator`, он принимает функцию `decorated()` в качестве аргумента, а аргумент `decorated()` в качестве аргумента `inner_decorator()`.\n",
        " \n",
        " Следовательно, аргумент `number` передается в `num_copy`.\n"
      ],
      "metadata": {
        "id": "sAR5KIJ-nnU2"
      }
    },
    {
      "cell_type": "code",
      "source": [
        "import datetime\n",
        "\n",
        "\n",
        "def my_decorator(inner):\n",
        "    def inner_decorator(num_copy):\n",
        "        print(datetime.datetime.utcnow())\n",
        "        inner(int(num_copy) + 1)\n",
        "        print(datetime.datetime.utcnow())\n",
        "\n",
        "    return inner_decorator\n",
        "\n",
        "\n",
        "@my_decorator\n",
        "def decorated(number):\n",
        "    print(\"This happened : \" + str(number))\n",
        "\n",
        "\n",
        "if __name__ == \"__main__\":\n",
        "    decorated(5)\n",
        "\n",
        "'''\n",
        "O/P-\n",
        "2023-05-01 09:24:31.257448\n",
        "This happened : 6\n",
        "2023-05-01 09:24:31.257448\n",
        "'''"
      ],
      "metadata": {
        "colab": {
          "base_uri": "https://localhost:8080/",
          "height": 88
        },
        "id": "3OpLzOuqn0WZ",
        "outputId": "11cf6a53-fb2c-4d72-9a78-2614378a66e0"
      },
      "execution_count": null,
      "outputs": [
        {
          "output_type": "stream",
          "name": "stdout",
          "text": [
            "2023-05-01 09:24:45.048468\n",
            "This happened : 6\n",
            "2023-05-01 09:24:45.049001\n"
          ]
        },
        {
          "output_type": "execute_result",
          "data": {
            "text/plain": [
              "'\\nO/P-\\n2023-05-01 09:24:31.257448\\nThis happened : 6\\n2023-05-01 09:24:31.257448\\n'"
            ],
            "application/vnd.google.colaboratory.intrinsic+json": {
              "type": "string"
            }
          },
          "metadata": {},
          "execution_count": 5
        }
      ]
    },
    {
      "cell_type": "markdown",
      "source": [
        "**декораторы-3**\n",
        "\n",
        "Этот пример основан на предыдущих примерах декораторов.\n",
        "\n",
        "В предыдущем примере декоратор показано, как работать с одним аргументом, переданным в функцию.\n",
        "\n",
        "Этот пример показывает, как можно работать с несколькими аргументами.\n",
        "\n",
        "Напоминание: `args` — это список переданных аргументов, а kwargs — это словарь, переданный в качестве аргументов."
      ],
      "metadata": {
        "id": "JUoTVJVfoVkq"
      }
    },
    {
      "cell_type": "code",
      "source": [
        "def decorator(inner):\n",
        "    def inner_decorator(*args, **kwargs):\n",
        "        print(args, kwargs)\n",
        "\n",
        "    return inner_decorator\n",
        "\n",
        "\n",
        "@decorator\n",
        "def decorated(string_args):\n",
        "    print(\"This happened : \" + string_args)\n",
        "\n",
        "\n",
        "if __name__ == \"__main__\":\n",
        "    decorated(\"Hello, how are you?\")\n",
        "\n",
        "# This prints :\n",
        "# # python 22-decorators-4\n",
        "# ('Hello, how are you?',)"
      ],
      "metadata": {
        "colab": {
          "base_uri": "https://localhost:8080/"
        },
        "id": "KaJ7wKHwoVuV",
        "outputId": "904bdef2-bf59-4c12-fed8-a8a670804383"
      },
      "execution_count": null,
      "outputs": [
        {
          "output_type": "stream",
          "name": "stdout",
          "text": [
            "('Hello, how are you?',) {}\n"
          ]
        }
      ]
    },
    {
      "cell_type": "code",
      "source": [
        "@double_it\n",
        "def get_sum(*args):\n",
        "    return sum(args)\n",
        "\n",
        "res = get_sum(1, 2, 3, 4, 5)\n",
        "print(res) # печатает 30"
      ],
      "metadata": {
        "id": "r8wo2-FFuetb"
      },
      "execution_count": null,
      "outputs": []
    },
    {
      "cell_type": "markdown",
      "source": [
        "ПРИМЕР ИСПОЛЬЗОВАНИЯ декоратора в виде исключения"
      ],
      "metadata": {
        "id": "gLF3Hky65MCd"
      }
    },
    {
      "cell_type": "code",
      "source": [
        "#decorators-4\n",
        "\n",
        "\n",
        "from __future__ import print_function\n",
        "\n",
        "\n",
        "# 2. Decorator function\n",
        "def handle_exceptions(func_name):\n",
        "    def inner(*args, **kwargs):\n",
        "        try:\n",
        "            return func_name(*args, **kwargs)\n",
        "        except Exception:\n",
        "            print(\"An exception was thrown : \", Exception)\n",
        "\n",
        "    return inner\n",
        "\n",
        "\n",
        "# 1. Main function\n",
        "@handle_exceptions\n",
        "def divide(x, y):\n",
        "    return x / y\n",
        "\n",
        "\n",
        "print(divide(8, 0))\n",
        "\n",
        "'''\n",
        "O/P-\n",
        "An exception was thrown :  <class 'Exception'>\n",
        "None\n",
        "'''"
      ],
      "metadata": {
        "colab": {
          "base_uri": "https://localhost:8080/",
          "height": 70
        },
        "id": "Qdmrapm95MKd",
        "outputId": "077d2b7a-fc03-4fe3-f8c3-30dabfbe7e48"
      },
      "execution_count": null,
      "outputs": [
        {
          "output_type": "stream",
          "name": "stdout",
          "text": [
            "An exception was thrown :  <class 'Exception'>\n",
            "None\n"
          ]
        },
        {
          "output_type": "execute_result",
          "data": {
            "text/plain": [
              "\"\\nO/P-\\nAn exception was thrown :  <class 'Exception'>\\nNone\\n\""
            ],
            "application/vnd.google.colaboratory.intrinsic+json": {
              "type": "string"
            }
          },
          "metadata": {},
          "execution_count": 11
        }
      ]
    },
    {
      "cell_type": "code",
      "source": [],
      "metadata": {
        "id": "x4d07q3H5j9o"
      },
      "execution_count": null,
      "outputs": []
    },
    {
      "cell_type": "markdown",
      "source": [
        " Работа с несколькими аргументами"
      ],
      "metadata": {
        "id": "KApuqZ1I5kJf"
      }
    },
    {
      "cell_type": "code",
      "source": [
        "def decorator(inner):\n",
        "    def inner_decorator(*args, **kwargs):\n",
        "        print(\"This function takes \" + str(len(args)) + \" arguments\")\n",
        "        inner(*args)\n",
        "\n",
        "    return inner_decorator\n",
        "\n",
        "\n",
        "@decorator\n",
        "def decorated(string_args):\n",
        "    print(\"This happened: \" + str(string_args))\n",
        "\n",
        "\n",
        "@decorator\n",
        "def alsoDecorated(num1, num2):\n",
        "    print(\"Sum of \" + str(num1) + \"and\" + str(num2) + \": \" + str(num1 + num2))\n",
        "\n",
        "\n",
        "if __name__ == \"__main__\":\n",
        "    decorated(\"Hello\")\n",
        "    alsoDecorated(1, 2)\n",
        "\n",
        "'''\n",
        "O/P-\n",
        "This function takes 1 arguments\n",
        "This happened: Hello\n",
        "This function takes 2 arguments\n",
        "Sum of 1and2: 3\n",
        "'''"
      ],
      "metadata": {
        "colab": {
          "base_uri": "https://localhost:8080/",
          "height": 105
        },
        "id": "HS_hIiPd5kYn",
        "outputId": "4c2a5325-2611-4172-a4bf-f8062ac3a8e2"
      },
      "execution_count": null,
      "outputs": [
        {
          "output_type": "stream",
          "name": "stdout",
          "text": [
            "This function takes 1 arguments\n",
            "This happened: Hello\n",
            "This function takes 2 arguments\n",
            "Sum of 1and2: 3\n"
          ]
        },
        {
          "output_type": "execute_result",
          "data": {
            "text/plain": [
              "'\\nO/P-\\nThis function takes 1 arguments\\nThis happened: Hello\\nThis function takes 2 arguments\\nSum of 1and2: 3\\n'"
            ],
            "application/vnd.google.colaboratory.intrinsic+json": {
              "type": "string"
            }
          },
          "metadata": {},
          "execution_count": 13
        }
      ]
    },
    {
      "cell_type": "markdown",
      "source": [],
      "metadata": {
        "id": "RHVxGT6x5-R6"
      }
    },
    {
      "cell_type": "code",
      "source": [
        "def double(my_func):\n",
        "    def inner_func(a, b):\n",
        "        return 2 * my_func(a, b)\n",
        "\n",
        "    return inner_func\n",
        "\n",
        "\n",
        "@double\n",
        "def adder(a, b):\n",
        "    return a + b\n",
        "\n",
        "\n",
        "@double\n",
        "def subtractor(a, b):\n",
        "    return a - b\n",
        "\n",
        "\n",
        "print(adder(5, 6)) #22\n",
        "print(subtractor(8, 2)) #12"
      ],
      "metadata": {
        "colab": {
          "base_uri": "https://localhost:8080/"
        },
        "id": "cq-kaeuk5-lv",
        "outputId": "49d8ff1d-af87-44c4-b835-f0c6226446b6"
      },
      "execution_count": null,
      "outputs": [
        {
          "output_type": "stream",
          "name": "stdout",
          "text": [
            "22\n",
            "12\n"
          ]
        }
      ]
    },
    {
      "cell_type": "code",
      "source": [],
      "metadata": {
        "id": "ws7778EO6iS-"
      },
      "execution_count": null,
      "outputs": []
    },
    {
      "cell_type": "markdown",
      "source": [
        "#класс-декоратор\n",
        "\t В предыдущих примерах использовались декораторы функций.\n",
        "\n",
        "Но декораторы можно применять и к классам.\n",
        "\n",
        "Этот пример с декораторами классов.\n",
        "\n",
        "**ПРИМЕЧАНИЕ**. Если вы создаете декоратор для класса, вам нужно, чтобы он возвращал класс.\n",
        "\n",
        "**ПРИМЕЧАНИЕ**. Точно так же, если вы создаете декоратор для функции, он понадобится вам для возврата функции.\n"
      ],
      "metadata": {
        "id": "VcOB-OJc6jRe"
      }
    },
    {
      "cell_type": "code",
      "source": [
        "def honirific(cls):\n",
        "    class HonirificCls(cls):\n",
        "        def full_name(self):\n",
        "            return \"Mr.\" + super(HonirificCls, self).full_name()\n",
        "\n",
        "    return HonirificCls\n",
        "\n",
        "\n",
        "@honirific\n",
        "class Name(object):\n",
        "    def __init__(self, first_name, last_name):\n",
        "        self.first_name = first_name\n",
        "        self.last_name = last_name\n",
        "\n",
        "    def full_name(self):\n",
        "        return \" \".join([self.first_name, self.last_name])\n",
        "\n",
        "\n",
        "result = Name(\"Timur\", \"Bosenko\").full_name()\n",
        "print(\"Full name: {0}\".format(result))\n"
      ],
      "metadata": {
        "colab": {
          "base_uri": "https://localhost:8080/"
        },
        "id": "-GnsyLp_6jY5",
        "outputId": "1748efb7-0183-4452-d97c-5802b4d8ae88"
      },
      "execution_count": null,
      "outputs": [
        {
          "output_type": "stream",
          "name": "stdout",
          "text": [
            "Full name: Ms.Shikha Pandey\n"
          ]
        }
      ]
    }
  ]
}