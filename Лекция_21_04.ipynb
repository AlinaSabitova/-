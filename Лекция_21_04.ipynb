{
  "nbformat": 4,
  "nbformat_minor": 0,
  "metadata": {
    "colab": {
      "provenance": [],
      "authorship_tag": "ABX9TyPf/xrbAXyYBtHaj23kBrwa",
      "include_colab_link": true
    },
    "kernelspec": {
      "name": "python3",
      "display_name": "Python 3"
    },
    "language_info": {
      "name": "python"
    }
  },
  "cells": [
    {
      "cell_type": "markdown",
      "metadata": {
        "id": "view-in-github",
        "colab_type": "text"
      },
      "source": [
        "<a href=\"https://colab.research.google.com/github/AlinaSabitova/Lectures/blob/main/%D0%9B%D0%B5%D0%BA%D1%86%D0%B8%D1%8F_21_04.ipynb\" target=\"_parent\"><img src=\"https://colab.research.google.com/assets/colab-badge.svg\" alt=\"Open In Colab\"/></a>"
      ]
    },
    {
      "cell_type": "code",
      "source": [
        "def method_friendly_decorator(method_to_decorate):\n",
        "     def wrapper(self, lie):\n",
        "         lie = lie - 3 \n",
        "         return method_to_decorate(self, lie)\n",
        "     return wrapper\n",
        "\n",
        "class Lucy(object):\n",
        "    def __init__(self):\n",
        "        self.age = 32\n",
        "        \n",
        "    @method_friendly_decorator\n",
        "    def sayYourAge(self, lie):\n",
        "        print(\"Мне %s, а ты бы сколько дал?\" % (self.age + lie))\n",
        "\n",
        "l = Lucy()\n",
        "l.sayYourAge(-3)"
      ],
      "metadata": {
        "colab": {
          "base_uri": "https://localhost:8080/"
        },
        "id": "LkwsrQwS0D8z",
        "outputId": "59c76191-c13e-4b93-fd99-2d1e1090cb26"
      },
      "execution_count": null,
      "outputs": [
        {
          "output_type": "stream",
          "name": "stdout",
          "text": [
            "Мне 26, а ты бы сколько дал?\n"
          ]
        }
      ]
    },
    {
      "cell_type": "code",
      "source": [
        "from datetime import date\n",
        "class Person:\n",
        "  def __init__(self, name, age):\n",
        "    self.name = name\n",
        "    self.age = age\n",
        "\n",
        "  @classmethod\n",
        "  def from_birth_year(cls, name, year):\n",
        "    return cls(name, date.today().year - year)\n",
        "\n",
        "  @staticmethod\n",
        "  def is_adult(age):\n",
        "    return age > 18"
      ],
      "metadata": {
        "id": "Sm8fFWvc5bbx"
      },
      "execution_count": null,
      "outputs": []
    },
    {
      "cell_type": "code",
      "source": [
        "p1 = Person(\"Sarah\", 25)\n",
        "p2 = Person.from_birth_year(\"Rock\", 1994)"
      ],
      "metadata": {
        "id": "CdGC7L_k6Kho"
      },
      "execution_count": null,
      "outputs": []
    },
    {
      "cell_type": "code",
      "source": [
        "p1.name, p1.age"
      ],
      "metadata": {
        "colab": {
          "base_uri": "https://localhost:8080/"
        },
        "id": "KGOCH0k76sbS",
        "outputId": "3b66d767-7120-475e-86a5-9e2a5b36f166"
      },
      "execution_count": null,
      "outputs": [
        {
          "output_type": "execute_result",
          "data": {
            "text/plain": [
              "('Sarah', 25)"
            ]
          },
          "metadata": {},
          "execution_count": 11
        }
      ]
    },
    {
      "cell_type": "code",
      "source": [
        "p2.name, p2.age"
      ],
      "metadata": {
        "colab": {
          "base_uri": "https://localhost:8080/"
        },
        "id": "vUWMHr6z61-5",
        "outputId": "cd5580b6-2e18-4eab-dd2f-6cd2a2fcc26a"
      },
      "execution_count": null,
      "outputs": [
        {
          "output_type": "execute_result",
          "data": {
            "text/plain": [
              "('Rock', 29)"
            ]
          },
          "metadata": {},
          "execution_count": 12
        }
      ]
    },
    {
      "cell_type": "code",
      "source": [
        "Person.is_adult(25)"
      ],
      "metadata": {
        "colab": {
          "base_uri": "https://localhost:8080/"
        },
        "id": "ZF-FDo8b65Fc",
        "outputId": "fda84b15-082b-4f09-ba1c-0857a7b04710"
      },
      "execution_count": null,
      "outputs": [
        {
          "output_type": "execute_result",
          "data": {
            "text/plain": [
              "True"
            ]
          },
          "metadata": {},
          "execution_count": 13
        }
      ]
    },
    {
      "cell_type": "code",
      "source": [
        "from math import pi\n",
        " \n",
        "class Cylinder:\n",
        "  @staticmethod\n",
        "  def make_area(d, h):\n",
        "    circle = pi * d ** 2 / 4\n",
        "    side = pi * d * h\n",
        "    return round(circle*2 + side, 2)\n",
        "  def init(self, diameter, high):\n",
        "    self.dia = diameter\n",
        "    self.h = high\n",
        "    self.area = self.make_area(diameter, high) \n",
        "a = Cylinder(1, 2)\n",
        "print(a.area)\n",
        "print(a.make_area(2, 2))"
      ],
      "metadata": {
        "id": "xG8MEDak6_s6"
      },
      "execution_count": null,
      "outputs": []
    },
    {
      "cell_type": "code",
      "source": [
        "from abc import ABC, abstractmethod\n",
        "class Hero:\n",
        "    def __init__(self):\n",
        "        self.positive_effects = []\n",
        "        self.negative_effects = []\n",
        "        self.stats = {\n",
        "            \"HP\": 128,\n",
        "            \"MP\": 42,\n",
        "            \"SP\": 100,\n",
        "            \"Strength\": 15,\n",
        "            \"Perception\": 4,\n",
        "            \"Endurance\": 8,\n",
        "            \"Charisma\": 2,\n",
        "            \"Intelligence\": 3,\n",
        "            \"Agility\": 8,\n",
        "            \"Luck\": 1\n",
        "        }\n",
        "\n",
        "    def get_positive_effects(self):\n",
        "        return self.positive_effects.copy()\n",
        "\n",
        "    def get_negative_effects(self):\n",
        "        return self.negative_effects.copy()\n",
        "\n",
        "    def get_stats(self):\n",
        "        return self.stats.copy()"
      ],
      "metadata": {
        "id": "KvXZHXyV8MfA"
      },
      "execution_count": 4,
      "outputs": []
    },
    {
      "cell_type": "code",
      "source": [
        "class AbstractEffect(Hero, ABC):\n",
        "  def __init__(self, base):\n",
        "    self.base = base\n",
        "  \n",
        "  @abstractmethod\n",
        "  def get_positive_effects(self):\n",
        "    return self.positive_effects\n",
        "\n",
        "  @abstractmethod\n",
        "  def get_negative_effects(self):\n",
        "    return self.negative_effects\n",
        "  \n",
        "  @abstractmethod\n",
        "  def get_starts(self):\n",
        "    pass\n",
        "\n",
        "class AbstractPositive(AbstractEffect):\n",
        "  def get_negative_effects(self):\n",
        "    return self.base.get_negative_effects()\n",
        "\n",
        "class AbstractNegative(AbstractEffect):\n",
        "  def get_positive_effects(self):\n",
        "    return self.base.get_positive_effects()\n",
        "\n",
        "class Berserk(AbstractPositive):\n",
        "  def get_stats(self):\n",
        "    stats = self.base.get_stats()\n",
        "    stats[\"HP\"] += 50\n",
        "    stats[\"Strength\"] += 7\n",
        "    stats[\"Endurance\"] += 7\n",
        "    stats[\"Agility\"] += 7\n",
        "    stats[\"Luck\"] += 7\n",
        "    stats[\"Perception\"] -= 3\n",
        "    stats[\"Charisma\"] -= 3\n",
        "    stats[\"Intelligence\"] -= 3\n",
        "    return stats\n",
        "\n",
        "    def get_positive_effects(self):\n",
        "        return self.base.get_positive_effects() + [\"Berserk\"]\n",
        "\n",
        "\n",
        "class Blessing(AbstractPositive):    \n",
        "    def get_stats(self):\n",
        "        stats = self.base.get_stats()\n",
        "        stats[\"Strength\"] += 2\n",
        "        stats[\"Endurance\"] += 2\n",
        "        stats[\"Agility\"] += 2\n",
        "        stats[\"Luck\"] += 2\n",
        "        stats[\"Perception\"] += 2\n",
        "        stats[\"Charisma\"] += 2\n",
        "        stats[\"Intelligence\"] += 2\n",
        "        return stats\n",
        "\n",
        "    def get_positive_effects(self):\n",
        "        return self.base.get_positive_effects() + [\"Blessing\"]\n",
        "\n",
        "\n",
        "class Weakness(AbstractNegative):    \n",
        "    def get_stats(self):\n",
        "        stats = self.base.get_stats()\n",
        "        stats[\"Strength\"] -= 4\n",
        "        stats[\"Endurance\"] -= 4\n",
        "        stats[\"Agility\"] -= 4\n",
        "        return stats\n",
        "\n",
        "    def get_negative_effects(self):\n",
        "        return self.base.get_negative_effects() + [\"Weakness\"]\n",
        "\n",
        "\n",
        "class Curse(AbstractNegative):\n",
        "    def get_stats(self):\n",
        "        stats = self.base.get_stats()\n",
        "        stats[\"Strength\"] -= 2\n",
        "        stats[\"Endurance\"] -= 2\n",
        "        stats[\"Agility\"] -= 2\n",
        "        stats[\"Luck\"] -= 2\n",
        "        stats[\"Perception\"] -= 2\n",
        "        stats[\"Charisma\"] -= 2\n",
        "        stats[\"Intelligence\"] -= 2\n",
        "        return stats\n",
        "\n",
        "    def get_negative_effects(self):\n",
        "        return self.base.get_negative_effects() + [\"Curse\"]\n",
        "\n",
        "\n",
        "class EvilEye(AbstractNegative):\n",
        "    def get_stats(self):\n",
        "        stats = self.base.get_stats()\n",
        "        stats[\"Luck\"] -= 10\n",
        "        return stats\n",
        "\n",
        "    def get_negative_effects(self):\n",
        "        return self.base.get_negative_effects() + [\"EvilEye\"]\n",
        "\n"
      ],
      "metadata": {
        "id": "YI1HAjhF9Vzc"
      },
      "execution_count": 8,
      "outputs": []
    }
  ]
}