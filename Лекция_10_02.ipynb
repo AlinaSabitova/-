{
  "nbformat": 4,
  "nbformat_minor": 0,
  "metadata": {
    "colab": {
      "provenance": [],
      "authorship_tag": "ABX9TyOrlMx/E0y+jbgK47sHiAZQ",
      "include_colab_link": true
    },
    "kernelspec": {
      "name": "python3",
      "display_name": "Python 3"
    },
    "language_info": {
      "name": "python"
    }
  },
  "cells": [
    {
      "cell_type": "markdown",
      "metadata": {
        "id": "view-in-github",
        "colab_type": "text"
      },
      "source": [
        "<a href=\"https://colab.research.google.com/github/AlinaSabitova/-/blob/main/%D0%9B%D0%B5%D0%BA%D1%86%D0%B8%D1%8F_10_02.ipynb\" target=\"_parent\"><img src=\"https://colab.research.google.com/assets/colab-badge.svg\" alt=\"Open In Colab\"/></a>"
      ]
    },
    {
      "cell_type": "code",
      "execution_count": 2,
      "metadata": {
        "colab": {
          "base_uri": "https://localhost:8080/"
        },
        "id": "uvDhZC7jUpGC",
        "outputId": "82c088d4-3e6b-48a2-9d06-bff9fe59f639"
      },
      "outputs": [
        {
          "output_type": "stream",
          "name": "stdout",
          "text": [
            "15\n",
            "22\n"
          ]
        }
      ],
      "source": [
        "class A:\n",
        "  x = 15\n",
        "  def print_x(self):\n",
        "    print(self.x)\n",
        "\n",
        "  def sum(self, a, b):\n",
        "    return self.x + a + b\n",
        "\n",
        "a = A()\n",
        "a.print_x()\n",
        "b = a.sum(5,2)\n",
        "print(b)\n",
        "B = A()\n",
        "C =A()"
      ]
    },
    {
      "cell_type": "code",
      "source": [
        "class A:\n",
        "  def hello():\n",
        "    print('Hello, world!')\n",
        "\n",
        "a = A()\n",
        "#a.hello() error: self is absent\n",
        "A.hello()"
      ],
      "metadata": {
        "colab": {
          "base_uri": "https://localhost:8080/"
        },
        "id": "mHidE99RZANF",
        "outputId": "e99e7637-623c-438a-b7b4-9a8baad9cbd1"
      },
      "execution_count": 4,
      "outputs": [
        {
          "output_type": "stream",
          "name": "stdout",
          "text": [
            "Hello, world!\n"
          ]
        }
      ]
    },
    {
      "cell_type": "code",
      "source": [
        "class A:\n",
        "  def __init__(self, x):\n",
        "    self.x = x\n",
        "    print('Hello!')\n",
        "\n",
        "  def __del__(self):\n",
        "    print('Good bye!')\n",
        "\n",
        "#a = A() error: constructor has argument x\n",
        "a = A(15) # Hello!\n",
        "a.x # 15\n",
        "del a # Good bye!"
      ],
      "metadata": {
        "colab": {
          "base_uri": "https://localhost:8080/"
        },
        "id": "v0xdEnP0Zjpd",
        "outputId": "16908864-11c2-40c0-b043-6b728c28f201"
      },
      "execution_count": 7,
      "outputs": [
        {
          "output_type": "stream",
          "name": "stdout",
          "text": [
            "Hello!\n",
            "Good bye!\n"
          ]
        }
      ]
    },
    {
      "cell_type": "code",
      "source": [
        "class A:\n",
        "  def __init__(self):\n",
        "    print('Hello!')\n",
        "  def __del__(self):\n",
        "    print('Good bye!')\n",
        "def create_obj():\n",
        "  a = A()\n",
        "  return a\n",
        "if __name__ == '__main__':\n",
        "  a = create_obj()\n",
        "  print('Program end')\n",
        "  exit(0)\n",
        "  "
      ],
      "metadata": {
        "colab": {
          "base_uri": "https://localhost:8080/"
        },
        "id": "72x_GeSWZk_Y",
        "outputId": "b0f57202-9ae4-4e63-b87d-89cb82fac310"
      },
      "execution_count": 9,
      "outputs": [
        {
          "output_type": "stream",
          "name": "stdout",
          "text": [
            "Hello!\n",
            "Program end\n"
          ]
        }
      ]
    },
    {
      "cell_type": "code",
      "source": [
        "class A:\n",
        "  def __init__(self, bb):\n",
        "    self.b = bb\n",
        "class B:\n",
        "  def __inint__(self):\n",
        "    self.a = A(self)\n",
        "  def __del__(self):\n",
        "    print('Good bye!')\n",
        "\n",
        "def fun():\n",
        "  b = B()\n",
        "  print('fun end')\n",
        "fun()\n",
        "print('Program end')"
      ],
      "metadata": {
        "colab": {
          "base_uri": "https://localhost:8080/"
        },
        "id": "OaWOEPY5bYWU",
        "outputId": "b3a725db-ac7e-4e11-fe31-f132f6c51211"
      },
      "execution_count": 1,
      "outputs": [
        {
          "output_type": "stream",
          "name": "stdout",
          "text": [
            "fun end\n",
            "Good bye!\n",
            "Program end\n"
          ]
        }
      ]
    },
    {
      "cell_type": "code",
      "source": [
        "class Bus:\n",
        "  def __init__(self, passengers = []):\n",
        "    self.passengers = passengers\n",
        "\n",
        "  def pick(self, name):\n",
        "    self.passengers.append(name)\n",
        "\n",
        "  def drop(self, name):\n",
        "    self.passengers.remove(name)\n"
      ],
      "metadata": {
        "id": "TvcVSVcPcYj6"
      },
      "execution_count": 4,
      "outputs": []
    },
    {
      "cell_type": "code",
      "source": [
        "bus1 = Bus(['Alice', 'Bill'])\n",
        "bus1.passengers\n",
        "bus1.pick('Charlie')\n",
        "bus1.drop('Alice')\n",
        "bus1.passengers\n",
        "\n",
        "bus2 = Bus()\n",
        "bus2.pick('Carrie')\n",
        "bus2.passengers\n",
        "\n",
        "bus3 = Bus()\n",
        "bus3.passengers\n",
        "bus2.passengers is bus3.passengers\n",
        "bus1.passengers"
      ],
      "metadata": {
        "colab": {
          "base_uri": "https://localhost:8080/"
        },
        "id": "UwXItE_Dc8G7",
        "outputId": "4b52f3e2-11fe-45a7-9a3a-fcedbf0f56cd"
      },
      "execution_count": 7,
      "outputs": [
        {
          "output_type": "execute_result",
          "data": {
            "text/plain": [
              "['Bill', 'Charlie']"
            ]
          },
          "metadata": {},
          "execution_count": 7
        }
      ]
    },
    {
      "cell_type": "code",
      "source": [
        "class Bus:\n",
        "  def __init__(self, passengers=None):\n",
        "    if passengers is None:\n",
        "      self.passengers = []\n",
        "    else:\n",
        "      self.passengers = passengers"
      ],
      "metadata": {
        "id": "_gEj9ghId_Gb"
      },
      "execution_count": 8,
      "outputs": []
    },
    {
      "cell_type": "code",
      "source": [
        "class A:\n",
        "  x = 10\n",
        "  __x = 1\n",
        "  def __init__(self):\n",
        "    self.y = 5\n",
        "    z = 1\n",
        "\n",
        "a = A()\n",
        "print(a.x)\n",
        "print(a.y)\n",
        "#print(a.z) error\n",
        "#print(a.__x) error: it's private\n",
        "print(A.x)\n",
        "#print(A.y) error: it's instance attribute"
      ],
      "metadata": {
        "colab": {
          "base_uri": "https://localhost:8080/"
        },
        "id": "1VaaoDX0eTCq",
        "outputId": "593618a5-2fdf-4a6e-b573-a035bf40ec5a"
      },
      "execution_count": 12,
      "outputs": [
        {
          "output_type": "stream",
          "name": "stdout",
          "text": [
            "10\n",
            "5\n",
            "10\n"
          ]
        }
      ]
    },
    {
      "cell_type": "code",
      "source": [
        "class A:\n",
        "  x = 10\n",
        "\n",
        "a = A()\n",
        "b = A()\n",
        "a.x\n",
        "b.x\n",
        "A.x\n",
        "\n",
        "a.x = 4\n",
        "a.x\n",
        "b.x\n",
        "A.x"
      ],
      "metadata": {
        "colab": {
          "base_uri": "https://localhost:8080/"
        },
        "id": "5L4iccV1fw4P",
        "outputId": "eee1e88c-a42a-4d65-ac14-cbe2be0dc0d5"
      },
      "execution_count": 13,
      "outputs": [
        {
          "output_type": "execute_result",
          "data": {
            "text/plain": [
              "10"
            ]
          },
          "metadata": {},
          "execution_count": 13
        }
      ]
    },
    {
      "cell_type": "code",
      "source": [
        "class A:\n",
        "  x = 10\n",
        "  \n",
        "a = A()\n",
        "b = A()\n",
        "a.x = 4\n",
        "a.__dict__\n",
        "a.__class__.__dict__\n",
        "b.__class__.__dict__\n",
        "A.__dict__"
      ],
      "metadata": {
        "colab": {
          "base_uri": "https://localhost:8080/"
        },
        "id": "ip6_IbwSgIeY",
        "outputId": "42f76f31-267b-4f2b-de30-3f75670abece"
      },
      "execution_count": 14,
      "outputs": [
        {
          "output_type": "execute_result",
          "data": {
            "text/plain": [
              "mappingproxy({'__module__': '__main__',\n",
              "              'x': 10,\n",
              "              '__dict__': <attribute '__dict__' of 'A' objects>,\n",
              "              '__weakref__': <attribute '__weakref__' of 'A' objects>,\n",
              "              '__doc__': None})"
            ]
          },
          "metadata": {},
          "execution_count": 14
        }
      ]
    }
  ]
}