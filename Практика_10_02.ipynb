{
  "nbformat": 4,
  "nbformat_minor": 0,
  "metadata": {
    "colab": {
      "provenance": [],
      "authorship_tag": "ABX9TyOAmr113ze/6p/Jlds/dpKz",
      "include_colab_link": true
    },
    "kernelspec": {
      "name": "python3",
      "display_name": "Python 3"
    },
    "language_info": {
      "name": "python"
    }
  },
  "cells": [
    {
      "cell_type": "markdown",
      "metadata": {
        "id": "view-in-github",
        "colab_type": "text"
      },
      "source": [
        "<a href=\"https://colab.research.google.com/github/AlinaSabitova/-/blob/main/%D0%9F%D1%80%D0%B0%D0%BA%D1%82%D0%B8%D0%BA%D0%B0_10_02.ipynb\" target=\"_parent\"><img src=\"https://colab.research.google.com/assets/colab-badge.svg\" alt=\"Open In Colab\"/></a>"
      ]
    },
    {
      "cell_type": "code",
      "execution_count": null,
      "metadata": {
        "id": "w599DY7J7f21"
      },
      "outputs": [],
      "source": [
        "class <имя класса>:\n",
        "  <элемент класса 1>\n",
        "  <элемент класса 2>"
      ]
    },
    {
      "cell_type": "markdown",
      "source": [
        "self - указатель на самого себя"
      ],
      "metadata": {
        "id": "cX6aOvav8EA8"
      }
    },
    {
      "cell_type": "code",
      "source": [
        "class human:\n",
        "  def __init__(self, name, age, iq):\n",
        "    self.name = name\n",
        "    self.age = age\n",
        "    if self.age < 0:\n",
        "      print('oops, necromancer detected =)')\n",
        "    self.iq = iq\n",
        "human1=human('Masha', 14, 170)\n",
        "human2=human('Petya', 20, 270)\n",
        "human3=human('Vanya', 27, 235)\n",
        "print(human1.name, human1.age, human1.iq)\n",
        "print(human2.name, human2.age, human2.iq)\n",
        "print(human3.name, human3.age, human3.iq)"
      ],
      "metadata": {
        "colab": {
          "base_uri": "https://localhost:8080/"
        },
        "id": "rnTPURJM8HFa",
        "outputId": "01fe9ba4-83a0-4044-e324-a90ef5c0013b"
      },
      "execution_count": 9,
      "outputs": [
        {
          "output_type": "stream",
          "name": "stdout",
          "text": [
            "Masha 14 170\n",
            "Petya 20 270\n",
            "Vanya 27 235\n"
          ]
        }
      ]
    },
    {
      "cell_type": "code",
      "source": [
        "class Human:\n",
        "  legs = 2\n",
        "  head = 1\n",
        "\n",
        "  def __init__(self, name):\n",
        "    self.name = name"
      ],
      "metadata": {
        "id": "LufrwvdN852r"
      },
      "execution_count": null,
      "outputs": []
    },
    {
      "cell_type": "code",
      "source": [
        "from math import sqrt, pi\n",
        "class Point:\n",
        "  amount = 0\n",
        "\n",
        "  def __init__(self, *args):\n",
        "    if len(args) == 2:\n",
        "      self.x = args[0]\n",
        "      self.y = args[1]\n",
        "    else:\n",
        "      self.x = self.y = 0\n",
        "    Point.amount += 1\n",
        "\n",
        "  def __del__(self):\n",
        "    Point.amount -= 1\n",
        "\n",
        "  def distance(self):\n",
        "    return (self.x ** 2 + self.y ** 2) ** 0.5\n",
        "\n",
        "  def __str__(self):\n",
        "    return '({}; {})'.format(self.x, self.y)\n",
        "\n",
        "p = Point(36, 42)\n",
        "print(p)\n",
        "print(round(p.distance(), 2))"
      ],
      "metadata": {
        "colab": {
          "base_uri": "https://localhost:8080/"
        },
        "id": "HnpKXktb9OCW",
        "outputId": "a8728033-5d96-453d-edb9-68341a4c8ee7"
      },
      "execution_count": 6,
      "outputs": [
        {
          "output_type": "stream",
          "name": "stdout",
          "text": [
            "(36; 42)\n",
            "55.32\n"
          ]
        }
      ]
    },
    {
      "cell_type": "code",
      "source": [
        "from math import sqrt, pi\n",
        "class Circle:\n",
        "  def __init__(self, x, y, radius):\n",
        "    self.center = Point(x, y)\n",
        "    self.radius = radius\n",
        "\n",
        "  def length(self):\n",
        "    return 2 * pi * self.radius\n",
        "  def square(self):\n",
        "    return pi * (self.radius ** 2)\n",
        "\n",
        "  def move(self, x, y):\n",
        "    self.center.x = x\n",
        "    self.center.y = y\n",
        "\n",
        "  def distance(self):\n",
        "    return sqrt(self.center.x ** 2 + self.center.y ** 2)\n",
        "  def __str__(self):\n",
        "    return \"circle: center: {}; radius: {}\"\\\n",
        "                            .format(self.center, self.radius)\n",
        "\n",
        "try:\n",
        "  c = Circle(3, 1, 2)\n",
        "  print(c)\n",
        "  print(c.length())\n",
        "  print(c.square())\n",
        "  print(c.distance())\n",
        "except NameError:\n",
        "  print('Invalid Input. Data is not int/float.')"
      ],
      "metadata": {
        "colab": {
          "base_uri": "https://localhost:8080/"
        },
        "id": "_JY6WtqgJ-Zt",
        "outputId": "1a1f41a1-9c5f-4fd7-a3a0-a445181637f3"
      },
      "execution_count": 26,
      "outputs": [
        {
          "output_type": "stream",
          "name": "stdout",
          "text": [
            "circle: center: (3; 1); radius: 2\n",
            "12.566370614359172\n",
            "12.566370614359172\n",
            "3.1622776601683795\n"
          ]
        }
      ]
    }
  ]
}