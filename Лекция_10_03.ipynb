{
  "nbformat": 4,
  "nbformat_minor": 0,
  "metadata": {
    "colab": {
      "provenance": [],
      "authorship_tag": "ABX9TyPPEZdjZ7FS7Uijn3IO9b5H",
      "include_colab_link": true
    },
    "kernelspec": {
      "name": "python3",
      "display_name": "Python 3"
    },
    "language_info": {
      "name": "python"
    }
  },
  "cells": [
    {
      "cell_type": "markdown",
      "metadata": {
        "id": "view-in-github",
        "colab_type": "text"
      },
      "source": [
        "<a href=\"https://colab.research.google.com/github/AlinaSabitova/Lectures/blob/main/%D0%9B%D0%B5%D0%BA%D1%86%D0%B8%D1%8F_10_03.ipynb\" target=\"_parent\"><img src=\"https://colab.research.google.com/assets/colab-badge.svg\" alt=\"Open In Colab\"/></a>"
      ]
    },
    {
      "cell_type": "code",
      "execution_count": 12,
      "metadata": {
        "id": "GJBzfEu-ZOzL"
      },
      "outputs": [],
      "source": [
        "class Person:\n",
        "  def setName(self, n, s):\n",
        "    self.name = n\n",
        "    self.surname = s"
      ]
    },
    {
      "cell_type": "code",
      "source": [
        "p1 = Person()\n",
        "p1.setName(\"Bill\", \"Ross\")\n",
        "p1.name, p1.surname"
      ],
      "metadata": {
        "colab": {
          "base_uri": "https://localhost:8080/"
        },
        "id": "Bmn0Y_YIhME9",
        "outputId": "440d2664-b6f4-4de1-9714-733562a2b3d2"
      },
      "execution_count": 13,
      "outputs": [
        {
          "output_type": "execute_result",
          "data": {
            "text/plain": [
              "('Bill', 'Ross')"
            ]
          },
          "metadata": {},
          "execution_count": 13
        }
      ]
    },
    {
      "cell_type": "code",
      "source": [
        "class Person2:\n",
        "  def __init__(self, n, s):\n",
        "    self.name = n\n",
        "    self.surname = s"
      ],
      "metadata": {
        "id": "2MuZlb5cfdvp"
      },
      "execution_count": 4,
      "outputs": []
    },
    {
      "cell_type": "code",
      "source": [
        "p1 = Person2(\"Sam\", \"Baker\")\n",
        "print(p1.name, p1.surname)"
      ],
      "metadata": {
        "colab": {
          "base_uri": "https://localhost:8080/"
        },
        "id": "inUDrJKRgIBc",
        "outputId": "4ddd00a6-485d-4753-f097-3bae02fa0b57"
      },
      "execution_count": 6,
      "outputs": [
        {
          "output_type": "stream",
          "name": "stdout",
          "text": [
            "Sam Baker\n"
          ]
        }
      ]
    },
    {
      "cell_type": "code",
      "source": [
        "class Rectangle:\n",
        "  def __init__(self, w = 0.5, h = 1):\n",
        "    self.width = w\n",
        "    self.height = h\n",
        "  def square(self):\n",
        "    return self.width * self.height"
      ],
      "metadata": {
        "id": "lf9VpLMkgZs7"
      },
      "execution_count": 8,
      "outputs": []
    },
    {
      "cell_type": "code",
      "source": [
        "rec1 = Rectangle(5,2)\n",
        "rec2 = Rectangle()\n",
        "rec3 = Rectangle(3)\n",
        "rec4 = Rectangle(h = 4)"
      ],
      "metadata": {
        "id": "1ebAq-hBgzg5"
      },
      "execution_count": 15,
      "outputs": []
    },
    {
      "cell_type": "code",
      "source": [
        "class Person:\n",
        "  def __init__(self, n, s, q = 1):\n",
        "    self.name = n\n",
        "    self.surname = s\n",
        "    self.skill = q\n",
        "  def __del__(self):\n",
        "    print(\"До свидания, мистер\", self.name, self.surname)\n",
        "  def info(self):\n",
        "    return \"{0} {1}, {2}\".format(self.name, self.surname, self.skill)\n",
        "worker = Person(\"И\", \"Котов\", 3)\n",
        "helper = Person(\"Д\", \"Мышев\", 1)\n",
        "maker = Person(\"О\", \"Рисов\", 2)\n",
        "print(worker.info())\n",
        "print(helper.info())\n",
        "print(maker.info())\n",
        "del helper\n",
        "print(\"Конец программы\")\n",
        "input()"
      ],
      "metadata": {
        "colab": {
          "base_uri": "https://localhost:8080/",
          "height": 145
        },
        "id": "OK1ohcKPhY7Z",
        "outputId": "7de0a43f-343d-4fd4-a09e-8d7a602e159f"
      },
      "execution_count": 16,
      "outputs": [
        {
          "name": "stdout",
          "output_type": "stream",
          "text": [
            "И Котов, 3\n",
            "Д Мышев, 1\n",
            "О Рисов, 2\n",
            "До свидания, мистер Д Мышев\n",
            "Конец программы\n",
            "Goodbye\n"
          ]
        },
        {
          "output_type": "execute_result",
          "data": {
            "text/plain": [
              "'Goodbye'"
            ],
            "application/vnd.google.colaboratory.intrinsic+json": {
              "type": "string"
            }
          },
          "metadata": {},
          "execution_count": 16
        }
      ]
    },
    {
      "cell_type": "code",
      "source": [
        "class Person:\n",
        "  def __init__(self, i, u):\n",
        "    self.info = i\n",
        "    self.university = u\n",
        "  def __del__(self):\n",
        "    print(\"Отчислен студент\", self.info, self.university)\n",
        "  def info(self):\n",
        "    return \"{0} {1}, {2}\".format(self.info, self.university, self.)"
      ],
      "metadata": {
        "id": "z3SEY2eLi2Tg"
      },
      "execution_count": null,
      "outputs": []
    },
    {
      "cell_type": "code",
      "source": [
        "class Table:\n",
        "  def __init__(self, l, w, h):\n",
        "    self.length = l\n",
        "    self.width = w\n",
        "    self.height = h\n",
        "class KitchenTable(Table):\n",
        "  def setPlaces(self, p):\n",
        "    self.places = p\n",
        "\n",
        "class DeskTable(Table):\n",
        "  def square(self):\n",
        "    return self.width * self.length\n",
        "\n",
        "t1 = KitchenTable(2, 2, 0.7)\n",
        "t2 = DeskTable(1.5, 0.8, 0.75)\n",
        "t3 = KitchenTable(1, 1.2, 0.8)"
      ],
      "metadata": {
        "id": "Sl6HmBuwjLpR"
      },
      "execution_count": 27,
      "outputs": []
    },
    {
      "cell_type": "code",
      "source": [
        "class ComputerTable(DeskTable):\n",
        "  def square(self, e):\n",
        "    return DeskTable.square(self) - e"
      ],
      "metadata": {
        "id": "daNW9QyjlKgF"
      },
      "execution_count": 22,
      "outputs": []
    },
    {
      "cell_type": "code",
      "source": [
        "ct = ComputerTable(2, 1, 1)\n",
        "ct.square(0.3)"
      ],
      "metadata": {
        "colab": {
          "base_uri": "https://localhost:8080/"
        },
        "id": "nBpcuejallLj",
        "outputId": "7ffa56b7-d62d-471c-ca89-c0a969d67e5f"
      },
      "execution_count": 26,
      "outputs": [
        {
          "output_type": "execute_result",
          "data": {
            "text/plain": [
              "1.7"
            ]
          },
          "metadata": {},
          "execution_count": 26
        }
      ]
    },
    {
      "cell_type": "code",
      "source": [
        "class KitchenTable(Table):\n",
        "  def __init__(self, l, w, h, p):\n",
        "    self.length = l\n",
        "    self.width = w\n",
        "    self.height = h\n",
        "    self.places = p"
      ],
      "metadata": {
        "id": "Y7O8hI4lltFV"
      },
      "execution_count": 28,
      "outputs": []
    },
    {
      "cell_type": "code",
      "source": [
        "class KitchenTable(Table):\n",
        "  def __init__(self, l, w, h, p):\n",
        "    Table.__init__(self, l, w, h)\n",
        "    self.places = p"
      ],
      "metadata": {
        "id": "if3bVP1tmgIR"
      },
      "execution_count": 29,
      "outputs": []
    },
    {
      "cell_type": "code",
      "source": [
        "tk = KitchenTable(2, 1.5, 0.7, 10)\n",
        "print(tk.places)\n",
        "print(tk.width)"
      ],
      "metadata": {
        "colab": {
          "base_uri": "https://localhost:8080/"
        },
        "id": "j2kJxmDcm8Wv",
        "outputId": "1fef226f-8d89-4c50-8f8b-6050132ab80f"
      },
      "execution_count": 31,
      "outputs": [
        {
          "output_type": "stream",
          "name": "stdout",
          "text": [
            "10\n",
            "1.5\n"
          ]
        }
      ]
    },
    {
      "cell_type": "code",
      "source": [
        "from random import randint\n",
        "\n",
        "class Person:\n",
        "  count = 0\n",
        "  def __init__(self, c):\n",
        "    self.id = Person.count\n",
        "    Person.count += 1\n",
        "    self.command = c"
      ],
      "metadata": {
        "id": "bpARAAujnLUm"
      },
      "execution_count": 33,
      "outputs": []
    },
    {
      "cell_type": "code",
      "source": [
        "class Hero(Person):\n",
        "  def __init__(self, c):\n",
        "    Person.__init__(self, c)\n",
        "    self.level = 1\n",
        "  def upLevel(self):\n",
        "    self.level += 1\n",
        "\n",
        "class Soldier(Person):\n",
        "  def __init__(self, c):\n",
        "    Person.__init__(self, c)\n",
        "    self.my_hero = None\n",
        "  def follow(self, hero):\n",
        "    self.my_hero = hero.id"
      ],
      "metadata": {
        "id": "KChCSqrmoJaL"
      },
      "execution_count": 34,
      "outputs": []
    },
    {
      "cell_type": "code",
      "source": [
        "h1 = Hero(1)\n",
        "h2 = Hero(2)\n",
        "army1 = []\n",
        "army2 = []\n",
        "for i in range(20):\n",
        "  n = randint(1, 2)\n",
        "  if n == 1:\n",
        "    army1.append(Soldier(n))\n",
        "  else:\n",
        "    army2.append(Soldier(n))\n",
        "print(len(army1), len(army2))\n",
        "if len(army1) > len(army2):\n",
        "  h1.upLevel()\n",
        "else:\n",
        "  h2.upLevel()\n",
        "\n",
        "army1[0].follow(h1)\n",
        "print(army1[0].id, h1.id)"
      ],
      "metadata": {
        "colab": {
          "base_uri": "https://localhost:8080/"
        },
        "id": "2PkTIc1No8fe",
        "outputId": "59076b60-f3c4-48c9-b574-dd805f95becd"
      },
      "execution_count": 38,
      "outputs": [
        {
          "output_type": "stream",
          "name": "stdout",
          "text": [
            "7 13\n",
            "26 24\n"
          ]
        }
      ]
    }
  ]
}