{
  "nbformat": 4,
  "nbformat_minor": 0,
  "metadata": {
    "colab": {
      "provenance": [],
      "authorship_tag": "ABX9TyPUD//EcMG+AScWbQJ5VHm5",
      "include_colab_link": true
    },
    "kernelspec": {
      "name": "python3",
      "display_name": "Python 3"
    },
    "language_info": {
      "name": "python"
    }
  },
  "cells": [
    {
      "cell_type": "markdown",
      "metadata": {
        "id": "view-in-github",
        "colab_type": "text"
      },
      "source": [
        "<a href=\"https://colab.research.google.com/github/AlinaSabitova/Lectures/blob/main/%D0%98%D0%BD%D0%B4%D0%B8%D0%B2%D0%B8%D0%B4%D1%83%D0%B0%D0%BB%D1%8C%D0%BD%D0%BE%D0%B5_%D0%B7%D0%B0%D0%B4%D0%B0%D0%BD%D0%B8%D0%B5_24.04.ipynb\" target=\"_parent\"><img src=\"https://colab.research.google.com/assets/colab-badge.svg\" alt=\"Open In Colab\"/></a>"
      ]
    },
    {
      "cell_type": "code",
      "source": [
        "class Product:\n",
        "  def __init__(self, price, quantity):\n",
        "    self.price = price\n",
        "    self.quantity = quantity\n",
        "\n",
        "  def presence(self):\n",
        "    print(\"В наличии есть следующие товары: \")\n",
        "\n",
        "class Bike(Product):\n",
        "  def information(self):\n",
        "    return \"{} велосипедов по цене {}\".format(self.quantity, self.price)\n",
        "\n",
        "class Mountain_bike(Bike):\n",
        "  def information(self):\n",
        "    return \"{} горных велосипедов по цене {}\".format(self.quantity, self.price)\n",
        "\n",
        "class Scooter(Product):\n",
        "  def information(self):\n",
        "    return \"{} самокатов по цене {}\".format(self.quantity, self.price)\n",
        "\n",
        "a = Bike(10000, 20)\n",
        "a.presence()\n",
        "b = Mountain_bike(15000, 12)\n",
        "c = Scooter(5000, 15)\n",
        "print(a.information())\n",
        "print(b.information())\n",
        "print(c.information())"
      ],
      "metadata": {
        "colab": {
          "base_uri": "https://localhost:8080/"
        },
        "id": "cfKkWz40WIi9",
        "outputId": "614b4ba7-09be-44fc-c138-88ed4f5335d2"
      },
      "execution_count": 1,
      "outputs": [
        {
          "output_type": "stream",
          "name": "stdout",
          "text": [
            "В наличии есть следующие товары: \n",
            "20 велосипедов по цене 10000\n",
            "12 горных велосипедов по цене 15000\n",
            "15 самокатов по цене 5000\n"
          ]
        }
      ]
    },
    {
      "cell_type": "code",
      "source": [
        "class Product:\n",
        "  def __init__(self, price, quantity):\n",
        "    self.price = price\n",
        "    self.quantity = quantity\n",
        "  def presence(self):\n",
        "    print(\"В наличии есть следующие товары: \")\n",
        "\n",
        "class Bike(Product):\n",
        "  def __init__(self, price, quantity, weight):\n",
        "    super().__init__(price, quantity)\n",
        "    self.weight = weight\n",
        "  def text(self):\n",
        "    return \"{} велосипедов весом {} кг по цене {}\".format(self.quantity, self.weight, self.price)\n",
        "\n",
        "class Mountain_bike(Bike):\n",
        "  def __init__(self, price, quantity, weight, wheel_size):\n",
        "    super().__init__(price, quantity, weight)\n",
        "    self.wheel_size = wheel_size\n",
        "  def text(self):\n",
        "    return \"{} горных велосипедов весом {} кг c размером колес {} по цене {}\".format(self.quantity, self.weight, self.wheel_size, self.price)\n",
        "\n",
        "class Scooter(Product):\n",
        "  def __init__(self, price, quantity, max_load):\n",
        "    super().__init__(price, quantity)\n",
        "    self.max_load = max_load\n",
        "  def text(self):\n",
        "    return \"{} самокатов с максимальной нагрузкой {} кг по цене {}\".format(self.quantity, self.max_load, self.price)\n",
        "\n",
        "a = Bike(10000, 20, 12)\n",
        "a.presence()\n",
        "b = Mountain_bike(15000, 10, 15, 28)\n",
        "c = Scooter(5000, 15, 100)\n",
        "products = [a, b, c]\n",
        "for i in products:\n",
        "  print(i.text())"
      ],
      "metadata": {
        "colab": {
          "base_uri": "https://localhost:8080/"
        },
        "id": "0EqL9evFEPO4",
        "outputId": "2086698b-902a-48d2-94ce-d36bfe0d6773"
      },
      "execution_count": 2,
      "outputs": [
        {
          "output_type": "stream",
          "name": "stdout",
          "text": [
            "В наличии есть следующие товары: \n",
            "20 велосипедов весом 12 кг по цене 10000\n",
            "10 горных велосипедов весом 15 кг c размером колес 28 по цене 15000\n",
            "15 самокатов с максимальной нагрузкой 100 кг по цене 5000\n"
          ]
        }
      ]
    }
  ]
}