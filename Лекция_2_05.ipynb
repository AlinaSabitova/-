{
  "nbformat": 4,
  "nbformat_minor": 0,
  "metadata": {
    "colab": {
      "provenance": [],
      "authorship_tag": "ABX9TyNe//6tdm5PubQA09MFSs/G",
      "include_colab_link": true
    },
    "kernelspec": {
      "name": "python3",
      "display_name": "Python 3"
    },
    "language_info": {
      "name": "python"
    }
  },
  "cells": [
    {
      "cell_type": "markdown",
      "metadata": {
        "id": "view-in-github",
        "colab_type": "text"
      },
      "source": [
        "<a href=\"https://colab.research.google.com/github/AlinaSabitova/Lectures/blob/main/%D0%9B%D0%B5%D0%BA%D1%86%D0%B8%D1%8F_2_05.ipynb\" target=\"_parent\"><img src=\"https://colab.research.google.com/assets/colab-badge.svg\" alt=\"Open In Colab\"/></a>"
      ]
    },
    {
      "cell_type": "markdown",
      "source": [
        "#Декораторы-2"
      ],
      "metadata": {
        "id": "lgrVGR1j2kIx"
      }
    },
    {
      "cell_type": "code",
      "source": [
        "class Cat:\n",
        "  def __init__(self):\n",
        "    self.hungry = True\n",
        "  def eat(self):\n",
        "    if self.hungry:\n",
        "      print(\"I`m hungry...\")\n",
        "      self.hungry = False\n",
        "    else:\n",
        "      print(\"No, thanks!\")"
      ],
      "metadata": {
        "id": "vp6-LGFaA-aB"
      },
      "execution_count": 2,
      "outputs": []
    },
    {
      "cell_type": "code",
      "execution_count": 1,
      "metadata": {
        "colab": {
          "base_uri": "https://localhost:8080/",
          "height": 353
        },
        "id": "sj_MBsHk1ZIA",
        "outputId": "8471361e-48e7-4dad-e03b-8c69f9b2497b"
      },
      "outputs": [
        {
          "output_type": "stream",
          "name": "stdout",
          "text": [
            "Aaaaammm!\n"
          ]
        },
        {
          "output_type": "error",
          "ename": "AttributeError",
          "evalue": "ignored",
          "traceback": [
            "\u001b[0;31m---------------------------------------------------------------------------\u001b[0m",
            "\u001b[0;31mAttributeError\u001b[0m                            Traceback (most recent call last)",
            "\u001b[0;32m<ipython-input-1-19050bb3d150>\u001b[0m in \u001b[0;36m<cell line: 17>\u001b[0;34m()\u001b[0m\n\u001b[1;32m     15\u001b[0m \u001b[0;34m\u001b[0m\u001b[0m\n\u001b[1;32m     16\u001b[0m \u001b[0mbrs\u001b[0m \u001b[0;34m=\u001b[0m \u001b[0mBarsik\u001b[0m\u001b[0;34m(\u001b[0m\u001b[0;34m)\u001b[0m\u001b[0;34m\u001b[0m\u001b[0;34m\u001b[0m\u001b[0m\n\u001b[0;32m---> 17\u001b[0;31m \u001b[0mbrs\u001b[0m\u001b[0;34m.\u001b[0m\u001b[0meat\u001b[0m\u001b[0;34m(\u001b[0m\u001b[0;34m)\u001b[0m\u001b[0;34m\u001b[0m\u001b[0;34m\u001b[0m\u001b[0m\n\u001b[0m",
            "\u001b[0;32m<ipython-input-1-19050bb3d150>\u001b[0m in \u001b[0;36meat\u001b[0;34m(self)\u001b[0m\n\u001b[1;32m      3\u001b[0m     \u001b[0mself\u001b[0m\u001b[0;34m.\u001b[0m\u001b[0mhungry\u001b[0m \u001b[0;34m=\u001b[0m \u001b[0;32mTrue\u001b[0m\u001b[0;34m\u001b[0m\u001b[0;34m\u001b[0m\u001b[0m\n\u001b[1;32m      4\u001b[0m   \u001b[0;32mdef\u001b[0m \u001b[0meat\u001b[0m\u001b[0;34m(\u001b[0m\u001b[0mself\u001b[0m\u001b[0;34m)\u001b[0m\u001b[0;34m:\u001b[0m\u001b[0;34m\u001b[0m\u001b[0;34m\u001b[0m\u001b[0m\n\u001b[0;32m----> 5\u001b[0;31m     \u001b[0;32mif\u001b[0m \u001b[0mself\u001b[0m\u001b[0;34m.\u001b[0m\u001b[0mhungry\u001b[0m\u001b[0;34m:\u001b[0m\u001b[0;34m\u001b[0m\u001b[0;34m\u001b[0m\u001b[0m\n\u001b[0m\u001b[1;32m      6\u001b[0m       \u001b[0mprint\u001b[0m\u001b[0;34m(\u001b[0m\u001b[0;34m\"I`m hungry...\"\u001b[0m\u001b[0;34m)\u001b[0m\u001b[0;34m\u001b[0m\u001b[0;34m\u001b[0m\u001b[0m\n\u001b[1;32m      7\u001b[0m       \u001b[0mself\u001b[0m\u001b[0;34m.\u001b[0m\u001b[0mhungry\u001b[0m \u001b[0;34m=\u001b[0m \u001b[0;32mFalse\u001b[0m\u001b[0;34m\u001b[0m\u001b[0;34m\u001b[0m\u001b[0m\n",
            "\u001b[0;31mAttributeError\u001b[0m: 'Barsik' object has no attribute 'hungry'"
          ]
        }
      ],
      "source": [
        "class Barsik(Cat):\n",
        "  def __init__(self):\n",
        "    self.sound = \"Aaaaammm!\"\n",
        "    print(self.sound)\n",
        "\n",
        "brs = Barsik()\n",
        "brs.eat()\n",
        "\n",
        "#не должен работать!"
      ]
    },
    {
      "cell_type": "code",
      "source": [
        "class Barsik(Cat):\n",
        "  def __init__(self):\n",
        "    Cat.__init__(self)\n",
        "    self.sound = \"Aaaammm\"\n",
        "    print(self.sound)\n",
        "\n",
        "brs = Barsik()\n",
        "brs.eat()"
      ],
      "metadata": {
        "colab": {
          "base_uri": "https://localhost:8080/"
        },
        "id": "RB68-DRUAlkM",
        "outputId": "c0893dad-95a7-4dd3-e914-dbb65da3ac63"
      },
      "execution_count": 4,
      "outputs": [
        {
          "output_type": "stream",
          "name": "stdout",
          "text": [
            "Aaaammm\n",
            "I`m hungry...\n"
          ]
        }
      ]
    },
    {
      "cell_type": "code",
      "source": [
        "__metaclass__ = type\n",
        "\n",
        "class Barsik(Cat):\n",
        "  def __init__(self):\n",
        "    super(Barsik, self).__init__()\n",
        "    self.sound = \"Aaaaammm\"\n",
        "    print(self.sound)\n",
        "\n",
        "brs = Barsik()\n",
        "brs.eat()"
      ],
      "metadata": {
        "colab": {
          "base_uri": "https://localhost:8080/"
        },
        "id": "9LTKv1qRBJYK",
        "outputId": "418443e5-5c62-4bf9-bb9f-2434c9ecf7f7"
      },
      "execution_count": 5,
      "outputs": [
        {
          "output_type": "stream",
          "name": "stdout",
          "text": [
            "Aaaaammm\n",
            "I`m hungry...\n"
          ]
        }
      ]
    },
    {
      "cell_type": "code",
      "source": [
        "class Spam:\n",
        "  numInstances = 0\n",
        "  def __init__(self):\n",
        "    Spam.numInstances = Spam.numInstances + 1\n",
        "\n",
        "def printNumInstances():\n",
        "  print(\"Number of instances created: \", Spam.numInstances)\n",
        "\n",
        "a = Spam()\n",
        "b = Spam()\n",
        "printNumInstances()"
      ],
      "metadata": {
        "colab": {
          "base_uri": "https://localhost:8080/"
        },
        "id": "3_cKtpaoBoR-",
        "outputId": "c9a75f1d-3d7b-4cb8-8f41-aa0637367d7d"
      },
      "execution_count": 9,
      "outputs": [
        {
          "output_type": "stream",
          "name": "stdout",
          "text": [
            "Number of instances created:  2\n"
          ]
        }
      ]
    },
    {
      "cell_type": "code",
      "source": [
        "class Multi:\n",
        "  def imeth(self,x):\n",
        "    print(self,x)\n",
        "  def smeth(x):\n",
        "    print(x) \n",
        "  def cmeth(cls,x):\n",
        "    print(cls,x)\n",
        "  smeth = staticmethod(smeth)\n",
        "  cmeth = classmethod(cmeth)\n",
        "Multi.smeth(3)\n",
        "obj = Multi()\n",
        "obj.smeth(5)"
      ],
      "metadata": {
        "colab": {
          "base_uri": "https://localhost:8080/"
        },
        "id": "AB-OIdwBEImF",
        "outputId": "6905c575-f637-488b-82fc-2f5dc90a0498"
      },
      "execution_count": 12,
      "outputs": [
        {
          "output_type": "stream",
          "name": "stdout",
          "text": [
            "3\n",
            "5\n"
          ]
        }
      ]
    },
    {
      "cell_type": "code",
      "source": [
        "Multi.cmeth(7)\n",
        "obj.cmeth(10)"
      ],
      "metadata": {
        "colab": {
          "base_uri": "https://localhost:8080/"
        },
        "id": "7vXWxqCXDpsj",
        "outputId": "9743b625-a347-432f-f8b6-73e720dcb26d"
      },
      "execution_count": 13,
      "outputs": [
        {
          "output_type": "stream",
          "name": "stdout",
          "text": [
            "<class '__main__.Multi'> 7\n",
            "<class '__main__.Multi'> 10\n"
          ]
        }
      ]
    },
    {
      "cell_type": "code",
      "source": [
        "class Reverse:\n",
        "  def __init__(self, data):\n",
        "    self.data = data\n",
        "    self.index = len(data)\n",
        "  def __iter__(self):\n",
        "    return self\n",
        "  def next(self):\n",
        "    if self.index == 0:\n",
        "      raise StopIteration\n",
        "    self.index = self.index - 1\n",
        "    return self.data[self.index]\n",
        "\n",
        "for char in Reverse(\"12345\"):\n",
        "  print(char)\n",
        "\n",
        "rvr = list(Reverse(\"12345\"))\n",
        "rvr()"
      ],
      "metadata": {
        "colab": {
          "base_uri": "https://localhost:8080/",
          "height": 244
        },
        "id": "LHYF2i-8EC1d",
        "outputId": "c27f44e4-2b71-4f03-8fc8-2e144a996a68"
      },
      "execution_count": 16,
      "outputs": [
        {
          "output_type": "error",
          "ename": "TypeError",
          "evalue": "ignored",
          "traceback": [
            "\u001b[0;31m---------------------------------------------------------------------------\u001b[0m",
            "\u001b[0;31mTypeError\u001b[0m                                 Traceback (most recent call last)",
            "\u001b[0;32m<ipython-input-16-af009eda95e2>\u001b[0m in \u001b[0;36m<cell line: 13>\u001b[0;34m()\u001b[0m\n\u001b[1;32m     11\u001b[0m     \u001b[0;32mreturn\u001b[0m \u001b[0mself\u001b[0m\u001b[0;34m.\u001b[0m\u001b[0mdata\u001b[0m\u001b[0;34m[\u001b[0m\u001b[0mself\u001b[0m\u001b[0;34m.\u001b[0m\u001b[0mindex\u001b[0m\u001b[0;34m]\u001b[0m\u001b[0;34m\u001b[0m\u001b[0;34m\u001b[0m\u001b[0m\n\u001b[1;32m     12\u001b[0m \u001b[0;34m\u001b[0m\u001b[0m\n\u001b[0;32m---> 13\u001b[0;31m \u001b[0;32mfor\u001b[0m \u001b[0mchar\u001b[0m \u001b[0;32min\u001b[0m \u001b[0mReverse\u001b[0m\u001b[0;34m(\u001b[0m\u001b[0;34m\"12345\"\u001b[0m\u001b[0;34m)\u001b[0m\u001b[0;34m:\u001b[0m\u001b[0;34m\u001b[0m\u001b[0;34m\u001b[0m\u001b[0m\n\u001b[0m\u001b[1;32m     14\u001b[0m   \u001b[0mprint\u001b[0m\u001b[0;34m(\u001b[0m\u001b[0mchar\u001b[0m\u001b[0;34m)\u001b[0m\u001b[0;34m\u001b[0m\u001b[0;34m\u001b[0m\u001b[0m\n\u001b[1;32m     15\u001b[0m \u001b[0;34m\u001b[0m\u001b[0m\n",
            "\u001b[0;31mTypeError\u001b[0m: iter() returned non-iterator of type 'Reverse'"
          ]
        }
      ]
    },
    {
      "cell_type": "code",
      "source": [
        "class DateOffset:\n",
        "  def __init__(self):\n",
        "    self.start = 0\n",
        "\n",
        "  def _get_offset(self):\n",
        "    self.start += 5\n",
        "    return(self.start)\n",
        "\n",
        "  offset = property(_get_offset)\n",
        "d = DateOffset()\n",
        "print(d.offset)\n",
        "d.offset"
      ],
      "metadata": {
        "colab": {
          "base_uri": "https://localhost:8080/"
        },
        "id": "ymGkbGGEFPl8",
        "outputId": "be9df6d5-33db-49a4-b7da-bb66701e1532"
      },
      "execution_count": 22,
      "outputs": [
        {
          "output_type": "stream",
          "name": "stdout",
          "text": [
            "5\n"
          ]
        },
        {
          "output_type": "execute_result",
          "data": {
            "text/plain": [
              "10"
            ]
          },
          "metadata": {},
          "execution_count": 22
        }
      ]
    },
    {
      "cell_type": "code",
      "source": [
        "class Singleton(object):\n",
        "  def __new__(cls, *args, **kw):\n",
        "    if not hasattr(cls, \"_instance\"):\n",
        "      orig = super(Singleton, cls)\n",
        "      cls._instance = orig.__new__(cls, *args, **kw)\n",
        "    return cls._instance\n",
        "\n",
        "one = Singleton()\n",
        "two = Singleton()\n",
        "print(id(one))\n",
        "id(two)"
      ],
      "metadata": {
        "colab": {
          "base_uri": "https://localhost:8080/"
        },
        "id": "lWPDIwTSGRhq",
        "outputId": "a67e1051-98f0-40e6-d6fe-46f0a064f556"
      },
      "execution_count": 25,
      "outputs": [
        {
          "output_type": "stream",
          "name": "stdout",
          "text": [
            "140382759378688\n"
          ]
        },
        {
          "output_type": "execute_result",
          "data": {
            "text/plain": [
              "140382759378688"
            ]
          },
          "metadata": {},
          "execution_count": 25
        }
      ]
    },
    {
      "cell_type": "code",
      "source": [
        "class limiter(object):\n",
        "  __slots__ = [\"age\", \"name\", \"job\"]\n",
        "\n",
        "x = limiter()\n",
        "x.age = 20"
      ],
      "metadata": {
        "id": "DHBvnZr1HK0d"
      },
      "execution_count": 27,
      "outputs": []
    }
  ]
}