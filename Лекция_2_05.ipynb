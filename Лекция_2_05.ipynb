{
  "nbformat": 4,
  "nbformat_minor": 0,
  "metadata": {
    "colab": {
      "provenance": [],
      "authorship_tag": "ABX9TyNsC9MebMtXqZ4bhipN3B6G",
      "include_colab_link": true
    },
    "kernelspec": {
      "name": "python3",
      "display_name": "Python 3"
    },
    "language_info": {
      "name": "python"
    }
  },
  "cells": [
    {
      "cell_type": "markdown",
      "metadata": {
        "id": "view-in-github",
        "colab_type": "text"
      },
      "source": [
        "<a href=\"https://colab.research.google.com/github/AlinaSabitova/Lectures/blob/main/%D0%9B%D0%B5%D0%BA%D1%86%D0%B8%D1%8F_2_05.ipynb\" target=\"_parent\"><img src=\"https://colab.research.google.com/assets/colab-badge.svg\" alt=\"Open In Colab\"/></a>"
      ]
    },
    {
      "cell_type": "markdown",
      "source": [
        "#Декораторы-2"
      ],
      "metadata": {
        "id": "lgrVGR1j2kIx"
      }
    },
    {
      "cell_type": "code",
      "source": [
        "class Cat:\n",
        "  def __init__(self):\n",
        "    self.hungry = True\n",
        "  def eat(self):\n",
        "    if self.hungry:\n",
        "      print(\"I`m hungry...\")\n",
        "      self.hungry = False\n",
        "    else:\n",
        "      print(\"No, thanks!\")"
      ],
      "metadata": {
        "id": "vp6-LGFaA-aB"
      },
      "execution_count": null,
      "outputs": []
    },
    {
      "cell_type": "code",
      "execution_count": null,
      "metadata": {
        "colab": {
          "base_uri": "https://localhost:8080/",
          "height": 353
        },
        "id": "sj_MBsHk1ZIA",
        "outputId": "8471361e-48e7-4dad-e03b-8c69f9b2497b"
      },
      "outputs": [
        {
          "output_type": "stream",
          "name": "stdout",
          "text": [
            "Aaaaammm!\n"
          ]
        },
        {
          "output_type": "error",
          "ename": "AttributeError",
          "evalue": "ignored",
          "traceback": [
            "\u001b[0;31m---------------------------------------------------------------------------\u001b[0m",
            "\u001b[0;31mAttributeError\u001b[0m                            Traceback (most recent call last)",
            "\u001b[0;32m<ipython-input-1-19050bb3d150>\u001b[0m in \u001b[0;36m<cell line: 17>\u001b[0;34m()\u001b[0m\n\u001b[1;32m     15\u001b[0m \u001b[0;34m\u001b[0m\u001b[0m\n\u001b[1;32m     16\u001b[0m \u001b[0mbrs\u001b[0m \u001b[0;34m=\u001b[0m \u001b[0mBarsik\u001b[0m\u001b[0;34m(\u001b[0m\u001b[0;34m)\u001b[0m\u001b[0;34m\u001b[0m\u001b[0;34m\u001b[0m\u001b[0m\n\u001b[0;32m---> 17\u001b[0;31m \u001b[0mbrs\u001b[0m\u001b[0;34m.\u001b[0m\u001b[0meat\u001b[0m\u001b[0;34m(\u001b[0m\u001b[0;34m)\u001b[0m\u001b[0;34m\u001b[0m\u001b[0;34m\u001b[0m\u001b[0m\n\u001b[0m",
            "\u001b[0;32m<ipython-input-1-19050bb3d150>\u001b[0m in \u001b[0;36meat\u001b[0;34m(self)\u001b[0m\n\u001b[1;32m      3\u001b[0m     \u001b[0mself\u001b[0m\u001b[0;34m.\u001b[0m\u001b[0mhungry\u001b[0m \u001b[0;34m=\u001b[0m \u001b[0;32mTrue\u001b[0m\u001b[0;34m\u001b[0m\u001b[0;34m\u001b[0m\u001b[0m\n\u001b[1;32m      4\u001b[0m   \u001b[0;32mdef\u001b[0m \u001b[0meat\u001b[0m\u001b[0;34m(\u001b[0m\u001b[0mself\u001b[0m\u001b[0;34m)\u001b[0m\u001b[0;34m:\u001b[0m\u001b[0;34m\u001b[0m\u001b[0;34m\u001b[0m\u001b[0m\n\u001b[0;32m----> 5\u001b[0;31m     \u001b[0;32mif\u001b[0m \u001b[0mself\u001b[0m\u001b[0;34m.\u001b[0m\u001b[0mhungry\u001b[0m\u001b[0;34m:\u001b[0m\u001b[0;34m\u001b[0m\u001b[0;34m\u001b[0m\u001b[0m\n\u001b[0m\u001b[1;32m      6\u001b[0m       \u001b[0mprint\u001b[0m\u001b[0;34m(\u001b[0m\u001b[0;34m\"I`m hungry...\"\u001b[0m\u001b[0;34m)\u001b[0m\u001b[0;34m\u001b[0m\u001b[0;34m\u001b[0m\u001b[0m\n\u001b[1;32m      7\u001b[0m       \u001b[0mself\u001b[0m\u001b[0;34m.\u001b[0m\u001b[0mhungry\u001b[0m \u001b[0;34m=\u001b[0m \u001b[0;32mFalse\u001b[0m\u001b[0;34m\u001b[0m\u001b[0;34m\u001b[0m\u001b[0m\n",
            "\u001b[0;31mAttributeError\u001b[0m: 'Barsik' object has no attribute 'hungry'"
          ]
        }
      ],
      "source": [
        "class Barsik(Cat):\n",
        "  def __init__(self):\n",
        "    self.sound = \"Aaaaammm!\"\n",
        "    print(self.sound)\n",
        "\n",
        "brs = Barsik()\n",
        "brs.eat()\n",
        "\n",
        "#не должен работать!"
      ]
    },
    {
      "cell_type": "code",
      "source": [
        "class Barsik(Cat):\n",
        "  def __init__(self):\n",
        "    Cat.__init__(self)\n",
        "    self.sound = \"Aaaammm\"\n",
        "    print(self.sound)\n",
        "\n",
        "brs = Barsik()\n",
        "brs.eat()"
      ],
      "metadata": {
        "colab": {
          "base_uri": "https://localhost:8080/"
        },
        "id": "RB68-DRUAlkM",
        "outputId": "c0893dad-95a7-4dd3-e914-dbb65da3ac63"
      },
      "execution_count": null,
      "outputs": [
        {
          "output_type": "stream",
          "name": "stdout",
          "text": [
            "Aaaammm\n",
            "I`m hungry...\n"
          ]
        }
      ]
    },
    {
      "cell_type": "code",
      "source": [
        "__metaclass__ = type\n",
        "\n",
        "class Barsik(Cat):\n",
        "  def __init__(self):\n",
        "    super(Barsik, self).__init__()\n",
        "    self.sound = \"Aaaaammm\"\n",
        "    print(self.sound)\n",
        "\n",
        "brs = Barsik()\n",
        "brs.eat()"
      ],
      "metadata": {
        "colab": {
          "base_uri": "https://localhost:8080/"
        },
        "id": "9LTKv1qRBJYK",
        "outputId": "418443e5-5c62-4bf9-bb9f-2434c9ecf7f7"
      },
      "execution_count": null,
      "outputs": [
        {
          "output_type": "stream",
          "name": "stdout",
          "text": [
            "Aaaaammm\n",
            "I`m hungry...\n"
          ]
        }
      ]
    },
    {
      "cell_type": "code",
      "source": [
        "class Spam:\n",
        "  numInstances = 0\n",
        "  def __init__(self):\n",
        "    Spam.numInstances = Spam.numInstances + 1\n",
        "\n",
        "def printNumInstances():\n",
        "  print(\"Number of instances created: \", Spam.numInstances)\n",
        "\n",
        "a = Spam()\n",
        "b = Spam()\n",
        "printNumInstances()"
      ],
      "metadata": {
        "colab": {
          "base_uri": "https://localhost:8080/"
        },
        "id": "3_cKtpaoBoR-",
        "outputId": "c9a75f1d-3d7b-4cb8-8f41-aa0637367d7d"
      },
      "execution_count": null,
      "outputs": [
        {
          "output_type": "stream",
          "name": "stdout",
          "text": [
            "Number of instances created:  2\n"
          ]
        }
      ]
    },
    {
      "cell_type": "code",
      "source": [
        "class Multi:\n",
        "  def imeth(self,x):\n",
        "    print(self,x)\n",
        "  def smeth(x):\n",
        "    print(x) \n",
        "  def cmeth(cls,x):\n",
        "    print(cls,x)\n",
        "  smeth = staticmethod(smeth)\n",
        "  cmeth = classmethod(cmeth)\n",
        "Multi.smeth(3)\n",
        "obj = Multi()\n",
        "obj.smeth(5)"
      ],
      "metadata": {
        "colab": {
          "base_uri": "https://localhost:8080/"
        },
        "id": "AB-OIdwBEImF",
        "outputId": "6905c575-f637-488b-82fc-2f5dc90a0498"
      },
      "execution_count": null,
      "outputs": [
        {
          "output_type": "stream",
          "name": "stdout",
          "text": [
            "3\n",
            "5\n"
          ]
        }
      ]
    },
    {
      "cell_type": "code",
      "source": [
        "Multi.cmeth(7)\n",
        "obj.cmeth(10)"
      ],
      "metadata": {
        "colab": {
          "base_uri": "https://localhost:8080/"
        },
        "id": "7vXWxqCXDpsj",
        "outputId": "9743b625-a347-432f-f8b6-73e720dcb26d"
      },
      "execution_count": null,
      "outputs": [
        {
          "output_type": "stream",
          "name": "stdout",
          "text": [
            "<class '__main__.Multi'> 7\n",
            "<class '__main__.Multi'> 10\n"
          ]
        }
      ]
    },
    {
      "cell_type": "code",
      "source": [
        "class Reverse:\n",
        "  def __init__(self, data):\n",
        "    self.data = data\n",
        "    self.index = len(data)\n",
        "  def __iter__(self):\n",
        "    return self\n",
        "  def next(self):\n",
        "    if self.index == 0:\n",
        "      raise StopIteration\n",
        "    self.index = self.index - 1\n",
        "    return self.data[self.index]\n",
        "\n",
        "for char in Reverse(\"12345\"):\n",
        "  print(char)\n",
        "\n",
        "rvr = list(Reverse(\"12345\"))\n",
        "rvr()"
      ],
      "metadata": {
        "colab": {
          "base_uri": "https://localhost:8080/",
          "height": 371
        },
        "id": "LHYF2i-8EC1d",
        "outputId": "dd57a7c9-3487-40e6-b1ab-df1a3c424217"
      },
      "execution_count": 4,
      "outputs": [
        {
          "output_type": "error",
          "ename": "TypeError",
          "evalue": "ignored",
          "traceback": [
            "\u001b[0;31m---------------------------------------------------------------------------\u001b[0m",
            "\u001b[0;31mTypeError\u001b[0m                                 Traceback (most recent call last)",
            "\u001b[0;32m<ipython-input-4-0f236a8d0a31>\u001b[0m in \u001b[0;36m<cell line: 1>\u001b[0;34m()\u001b[0m\n\u001b[0;32m----> 1\u001b[0;31m \u001b[0;32mclass\u001b[0m \u001b[0mReverse\u001b[0m\u001b[0;34m:\u001b[0m\u001b[0;34m\u001b[0m\u001b[0;34m\u001b[0m\u001b[0m\n\u001b[0m\u001b[1;32m      2\u001b[0m   \u001b[0;32mdef\u001b[0m \u001b[0m__init__\u001b[0m\u001b[0;34m(\u001b[0m\u001b[0mself\u001b[0m\u001b[0;34m,\u001b[0m \u001b[0mdata\u001b[0m\u001b[0;34m)\u001b[0m\u001b[0;34m:\u001b[0m\u001b[0;34m\u001b[0m\u001b[0;34m\u001b[0m\u001b[0m\n\u001b[1;32m      3\u001b[0m     \u001b[0mself\u001b[0m\u001b[0;34m.\u001b[0m\u001b[0mdata\u001b[0m \u001b[0;34m=\u001b[0m \u001b[0mdata\u001b[0m\u001b[0;34m\u001b[0m\u001b[0;34m\u001b[0m\u001b[0m\n\u001b[1;32m      4\u001b[0m     \u001b[0mself\u001b[0m\u001b[0;34m.\u001b[0m\u001b[0mindex\u001b[0m \u001b[0;34m=\u001b[0m \u001b[0mlen\u001b[0m\u001b[0;34m(\u001b[0m\u001b[0mdata\u001b[0m\u001b[0;34m)\u001b[0m\u001b[0;34m\u001b[0m\u001b[0;34m\u001b[0m\u001b[0m\n\u001b[1;32m      5\u001b[0m   \u001b[0;32mdef\u001b[0m \u001b[0m__iter__\u001b[0m\u001b[0;34m(\u001b[0m\u001b[0mself\u001b[0m\u001b[0;34m)\u001b[0m\u001b[0;34m:\u001b[0m\u001b[0;34m\u001b[0m\u001b[0;34m\u001b[0m\u001b[0m\n",
            "\u001b[0;32m<ipython-input-4-0f236a8d0a31>\u001b[0m in \u001b[0;36mReverse\u001b[0;34m()\u001b[0m\n\u001b[1;32m     11\u001b[0m     \u001b[0;32mreturn\u001b[0m \u001b[0mself\u001b[0m\u001b[0;34m.\u001b[0m\u001b[0mdata\u001b[0m\u001b[0;34m[\u001b[0m\u001b[0mself\u001b[0m\u001b[0;34m.\u001b[0m\u001b[0mindex\u001b[0m\u001b[0;34m]\u001b[0m\u001b[0;34m\u001b[0m\u001b[0;34m\u001b[0m\u001b[0m\n\u001b[1;32m     12\u001b[0m \u001b[0;34m\u001b[0m\u001b[0m\n\u001b[0;32m---> 13\u001b[0;31m   \u001b[0;32mfor\u001b[0m \u001b[0mchar\u001b[0m \u001b[0;32min\u001b[0m \u001b[0mReverse\u001b[0m\u001b[0;34m(\u001b[0m\u001b[0;34m\"12345\"\u001b[0m\u001b[0;34m)\u001b[0m\u001b[0;34m:\u001b[0m\u001b[0;34m\u001b[0m\u001b[0;34m\u001b[0m\u001b[0m\n\u001b[0m\u001b[1;32m     14\u001b[0m     \u001b[0mprint\u001b[0m\u001b[0;34m(\u001b[0m\u001b[0mchar\u001b[0m\u001b[0;34m)\u001b[0m\u001b[0;34m\u001b[0m\u001b[0;34m\u001b[0m\u001b[0m\n\u001b[1;32m     15\u001b[0m \u001b[0;34m\u001b[0m\u001b[0m\n",
            "\u001b[0;31mTypeError\u001b[0m: iter() returned non-iterator of type 'Reverse'"
          ]
        }
      ]
    },
    {
      "cell_type": "code",
      "source": [
        "class DateOffset:\n",
        "  def __init__(self):\n",
        "    self.start = 0\n",
        "\n",
        "  def _get_offset(self):\n",
        "    self.start += 5\n",
        "    return(self.start)\n",
        "\n",
        "  offset = property(_get_offset)\n",
        "d = DateOffset()\n",
        "print(d.offset)\n",
        "d.offset"
      ],
      "metadata": {
        "colab": {
          "base_uri": "https://localhost:8080/"
        },
        "id": "ymGkbGGEFPl8",
        "outputId": "be9df6d5-33db-49a4-b7da-bb66701e1532"
      },
      "execution_count": null,
      "outputs": [
        {
          "output_type": "stream",
          "name": "stdout",
          "text": [
            "5\n"
          ]
        },
        {
          "output_type": "execute_result",
          "data": {
            "text/plain": [
              "10"
            ]
          },
          "metadata": {},
          "execution_count": 22
        }
      ]
    },
    {
      "cell_type": "code",
      "source": [
        "class Singleton(object):\n",
        "  def __new__(cls, *args, **kw):\n",
        "    if not hasattr(cls, \"_instance\"):\n",
        "      orig = super(Singleton, cls)\n",
        "      cls._instance = orig.__new__(cls, *args, **kw)\n",
        "    return cls._instance\n",
        "\n",
        "one = Singleton()\n",
        "two = Singleton()\n",
        "print(id(one))\n",
        "id(two)"
      ],
      "metadata": {
        "colab": {
          "base_uri": "https://localhost:8080/"
        },
        "id": "lWPDIwTSGRhq",
        "outputId": "a67e1051-98f0-40e6-d6fe-46f0a064f556"
      },
      "execution_count": null,
      "outputs": [
        {
          "output_type": "stream",
          "name": "stdout",
          "text": [
            "140382759378688\n"
          ]
        },
        {
          "output_type": "execute_result",
          "data": {
            "text/plain": [
              "140382759378688"
            ]
          },
          "metadata": {},
          "execution_count": 25
        }
      ]
    },
    {
      "cell_type": "code",
      "source": [
        "class limiter(object):\n",
        "  __slots__ = [\"age\", \"name\", \"job\"]\n",
        "\n",
        "x = limiter()\n",
        "x.age = 20"
      ],
      "metadata": {
        "id": "DHBvnZr1HK0d"
      },
      "execution_count": 5,
      "outputs": []
    },
    {
      "cell_type": "code",
      "source": [
        "class SortKey:\n",
        "  def __init__(self, *attribute_names):\n",
        "    self.attribute_names = attribute_names\n",
        "  def __call__(self, instance):\n",
        "    values = []\n",
        "    for attribute_name in self.attribute_names:\n",
        "      values.append(getattr(instance, attribute_name))\n",
        "    return values\n",
        "\n",
        "class Person:\n",
        "  def __init__(self, forename, surname, email):\n",
        "    self.forename = forename\n",
        "    self.surname = surname\n",
        "    self.email = email\n",
        "\n",
        "people = []\n",
        "p = Person(\"Petrov\", \"\", \"\")\n",
        "people.append(p)\n",
        "p = Person(\"Sidorov\", \"\", \"\")\n",
        "people.append(p)\n",
        "p = Person(\"Ivanov\", \"\", \"\")\n",
        "people.append(p)\n",
        "for p in people:\n",
        "  print(p.forename)"
      ],
      "metadata": {
        "id": "3usJliy7lKS8",
        "outputId": "a978bcb1-b6bf-4241-b57e-1ff7bf23b79f",
        "colab": {
          "base_uri": "https://localhost:8080/"
        }
      },
      "execution_count": 6,
      "outputs": [
        {
          "output_type": "stream",
          "name": "stdout",
          "text": [
            "Petrov\n",
            "Sidorov\n",
            "Ivanov\n"
          ]
        }
      ]
    },
    {
      "cell_type": "code",
      "source": [
        "people.sort(key = SortKey(\"forename\"))\n",
        "for p in people:\n",
        "  print(p.forename)"
      ],
      "metadata": {
        "id": "I12PMY-xmdpd",
        "outputId": "1c486468-f33f-4c06-d4dc-09efc828d12a",
        "colab": {
          "base_uri": "https://localhost:8080/"
        }
      },
      "execution_count": 7,
      "outputs": [
        {
          "output_type": "stream",
          "name": "stdout",
          "text": [
            "Ivanov\n",
            "Petrov\n",
            "Sidorov\n"
          ]
        }
      ]
    },
    {
      "cell_type": "code",
      "source": [
        "class ExternalStorage:\n",
        "  __slots__ = (\"attridute_name\")\n",
        "  __storage = {}\n",
        "\n",
        "  def __init__(self, attridute_name):\n",
        "    self.attridute_name = attridute_name\n",
        "\n",
        "  def __set__(self, instance, value):\n",
        "    self.__storage[id(instance), self.attridute_name] = value\n",
        "\n",
        "  def __get__(self, instance, owner = None):\n",
        "    if instance is None:\n",
        "      return self\n",
        "    return self.__storage[id(instance), self.attridute_name]\n",
        "\n",
        "class Point:\n",
        "  __slots__ = ()\n",
        "  x = ExternalStorage(\"x\")\n",
        "  y = ExternalStorage(\"y\")\n",
        "  def __init__(self, x = 0, y = 0):\n",
        "    self.x = x\n",
        "    self.y = y\n",
        "\n",
        "p1 = Point(1, 2)\n",
        "p2 = Point(3, 4)"
      ],
      "metadata": {
        "id": "v0X7u7damroR"
      },
      "execution_count": 8,
      "outputs": []
    },
    {
      "cell_type": "code",
      "source": [
        "class MySequence:\n",
        "  def __init__(self, start = 0, step = 1):\n",
        "    self.start = start\n",
        "    self.step = step\n",
        "    self.changed = {}\n",
        "  def __getitem__(self, key):\n",
        "    return self.start + key * self.step\n",
        "  def __setitem__(self, key, value):\n",
        "    self.changed[key] = value\n",
        "\n",
        "s = MySequence(1, 2)\n",
        "print(s[0])\n",
        "print(s[1])\n",
        "print(s[100])"
      ],
      "metadata": {
        "id": "vb8Xzv98oPVB",
        "outputId": "ff3bdd82-c967-4be4-d006-9d9152d95ca8",
        "colab": {
          "base_uri": "https://localhost:8080/"
        }
      },
      "execution_count": 9,
      "outputs": [
        {
          "output_type": "stream",
          "name": "stdout",
          "text": [
            "1\n",
            "3\n",
            "201\n"
          ]
        }
      ]
    },
    {
      "cell_type": "markdown",
      "source": [
        "#Задание 1"
      ],
      "metadata": {
        "id": "5HQiCLnbyPSd"
      }
    },
    {
      "cell_type": "code",
      "source": [
        "class Thing:\n",
        "  pass\n",
        "\n",
        "example = Thing()\n",
        "\n",
        "print(Thing)\n",
        "print(example)"
      ],
      "metadata": {
        "id": "Z9KdKHOtx-Qh",
        "outputId": "e4017b2e-d192-443c-d33f-721ee127d216",
        "colab": {
          "base_uri": "https://localhost:8080/"
        }
      },
      "execution_count": 11,
      "outputs": [
        {
          "output_type": "stream",
          "name": "stdout",
          "text": [
            "<class '__main__.Thing'>\n",
            "<__main__.Thing object at 0x7f69833dbb20>\n"
          ]
        }
      ]
    },
    {
      "cell_type": "code",
      "source": [
        "class Thing2:\n",
        "  letters = \"abc\"\n",
        "\n",
        "print(Thing2.letters)"
      ],
      "metadata": {
        "id": "CKc6k0gMzNbU",
        "outputId": "f97e830a-4ef2-49a0-f621-838a03ae62e8",
        "colab": {
          "base_uri": "https://localhost:8080/"
        }
      },
      "execution_count": 17,
      "outputs": [
        {
          "output_type": "stream",
          "name": "stdout",
          "text": [
            "abc\n"
          ]
        }
      ]
    },
    {
      "cell_type": "code",
      "source": [
        "class Thing3:\n",
        "  letters = \"xyz\"\n",
        "\n",
        "print(Thing3.letters)"
      ],
      "metadata": {
        "id": "UvZX1v2p0IAr",
        "outputId": "2ca6002d-31c3-42c7-dc4c-d4d9d156be0b",
        "colab": {
          "base_uri": "https://localhost:8080/"
        }
      },
      "execution_count": 19,
      "outputs": [
        {
          "output_type": "stream",
          "name": "stdout",
          "text": [
            "xyz\n"
          ]
        }
      ]
    },
    {
      "cell_type": "code",
      "source": [
        "class Element:\n",
        "  def __init__(self, name, symbol, number):\n",
        "    self.name = name\n",
        "    self.symbol = symbol\n",
        "    self.number = number\n",
        "\n",
        "hydrogen = Element(\"Hydrogen\", \"H\", 1)\n",
        "print(hydrogen.name)\n",
        "print(hydrogen.symbol)\n",
        "print(hydrogen.number)"
      ],
      "metadata": {
        "id": "lkAtk_hH0Oxk",
        "outputId": "9efaac3a-9307-418e-be0c-944460fca687",
        "colab": {
          "base_uri": "https://localhost:8080/"
        }
      },
      "execution_count": 24,
      "outputs": [
        {
          "output_type": "stream",
          "name": "stdout",
          "text": [
            "Hydrogen\n",
            "H\n",
            "1\n"
          ]
        }
      ]
    },
    {
      "cell_type": "code",
      "source": [
        "dict = {\"name\": \"Hydrogen\", \"symbol\": \"H\", \"number\": 1 }\n",
        "hydrogen = Element(**dict)\n",
        "print(hydrogen.name)\n",
        "print(hydrogen.symbol)\n",
        "print(hydrogen.number)"
      ],
      "metadata": {
        "id": "igCbrR8i1OXJ",
        "outputId": "22066872-7bea-4ad4-fb71-f6c6281e0b34",
        "colab": {
          "base_uri": "https://localhost:8080/"
        }
      },
      "execution_count": 23,
      "outputs": [
        {
          "output_type": "stream",
          "name": "stdout",
          "text": [
            "Hydrogen\n",
            "H\n",
            "1\n"
          ]
        }
      ]
    }
  ]
}