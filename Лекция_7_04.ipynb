{
  "nbformat": 4,
  "nbformat_minor": 0,
  "metadata": {
    "colab": {
      "provenance": [],
      "authorship_tag": "ABX9TyPdCdaxawbf/JS6LMhklXWx",
      "include_colab_link": true
    },
    "kernelspec": {
      "name": "python3",
      "display_name": "Python 3"
    },
    "language_info": {
      "name": "python"
    }
  },
  "cells": [
    {
      "cell_type": "markdown",
      "metadata": {
        "id": "view-in-github",
        "colab_type": "text"
      },
      "source": [
        "<a href=\"https://colab.research.google.com/github/AlinaSabitova/Lectures/blob/main/%D0%9B%D0%B5%D0%BA%D1%86%D0%B8%D1%8F_7_04.ipynb\" target=\"_parent\"><img src=\"https://colab.research.google.com/assets/colab-badge.svg\" alt=\"Open In Colab\"/></a>"
      ]
    },
    {
      "cell_type": "code",
      "execution_count": 11,
      "metadata": {
        "colab": {
          "base_uri": "https://localhost:8080/"
        },
        "id": "Q3rj8Gviovti",
        "outputId": "5a3e913a-792a-4c2a-d616-c7ee35415c0e"
      },
      "outputs": [
        {
          "output_type": "stream",
          "name": "stdout",
          "text": [
            "48.6\n",
            "47.6\n",
            "Необходимое количество рулонов: 16.2\n"
          ]
        }
      ],
      "source": [
        "class Win_Door:\n",
        "  def __init__(self, x, y):\n",
        "    self.x = x\n",
        "    self.y = y\n",
        "    self.square = self.x * self.y\n",
        "\n",
        "class Room:\n",
        "  def __init__(self, x, y, z):\n",
        "    self.x = x\n",
        "    self.y = y\n",
        "    self.z = z\n",
        "    self.need_square = 2 * self.z * (self.x+self.y)\n",
        "    self.wd = []\n",
        "  def addWD(self, w, h):\n",
        "    self.wd.append(Win_Door(w, h))\n",
        "  def workSurface(self):\n",
        "    new_square = self.need_square\n",
        "    for i in self.wd:\n",
        "      new_square -= i.square\n",
        "      return new_square\n",
        "  def number_of_rolls(self):\n",
        "    self.length_roll = 3\n",
        "    self.width_roll = 1\n",
        "    self.square_roll = self.length_roll * self.width_roll\n",
        "    self.quantity_of_rolls = self.need_square / self.square_roll\n",
        "    return \"Необходимое количество рулонов: {}\".format(self.quantity_of_rolls)\n",
        "\n",
        "r1 = Room(6, 3, 2.7)\n",
        "print(r1.need_square)\n",
        "r1.addWD(1, 1)\n",
        "r1.addWD(1, 1)\n",
        "r1.addWD(1, 2)\n",
        "print(r1.workSurface())\n",
        "print(r1.number_of_rolls())"
      ]
    }
  ]
}