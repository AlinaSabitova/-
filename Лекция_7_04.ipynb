{
  "nbformat": 4,
  "nbformat_minor": 0,
  "metadata": {
    "colab": {
      "provenance": [],
      "authorship_tag": "ABX9TyN/XrV7THXLJYPbOGTB0ccT",
      "include_colab_link": true
    },
    "kernelspec": {
      "name": "python3",
      "display_name": "Python 3"
    },
    "language_info": {
      "name": "python"
    }
  },
  "cells": [
    {
      "cell_type": "markdown",
      "metadata": {
        "id": "view-in-github",
        "colab_type": "text"
      },
      "source": [
        "<a href=\"https://colab.research.google.com/github/AlinaSabitova/Lectures/blob/main/%D0%9B%D0%B5%D0%BA%D1%86%D0%B8%D1%8F_7_04.ipynb\" target=\"_parent\"><img src=\"https://colab.research.google.com/assets/colab-badge.svg\" alt=\"Open In Colab\"/></a>"
      ]
    },
    {
      "cell_type": "code",
      "source": [
        "class Win_Door: \n",
        "  def __init__(self, width, length): \n",
        "    self.width = width \n",
        "    self.length = length \n",
        "    self.square = self.width * self.length \n",
        "\n",
        "class Room:\n",
        "  def __init__(self, width, length, height):\n",
        "    self.width = width\n",
        "    self.length = length\n",
        "    self.height = height\n",
        "    self.wd = []\n",
        "  def addWD(self, w, l):\n",
        "    self.wd.append(Win_Door(w, l))\n",
        "  def workSurface(self):\n",
        "    need_square = 2 * self.height * (self.width + self.length)\n",
        "    for i in self.wd:\n",
        "      need_square -= i.square\n",
        "    return need_square\n",
        "  def number_of_rolls(self):\n",
        "    self.length_roll = 10\n",
        "    self.width_roll = 1\n",
        "    roll_square = self.workSurface()\n",
        "    self.square_roll = self.length_roll * self.width_roll\n",
        "    self.quantity_of_rolls = roll_square / self.square_roll\n",
        "    return \"Необходимое количество рулонов: {}\".format(round(self.quantity_of_rolls))\n",
        "\n",
        "r1 = Room(6, 3, 2.7) \n",
        "print(r1.workSurface()) \n",
        "r1.addWD(1, 1) \n",
        "r1.addWD(1, 1) \n",
        "r1.addWD(1, 2) \n",
        "print(r1.workSurface()) \n",
        "print(r1.number_of_rolls()) "
      ],
      "metadata": {
        "id": "Cw4tgSncdtD2",
        "outputId": "8cda2132-a613-4b4f-c2d7-1d197178ce72",
        "colab": {
          "base_uri": "https://localhost:8080/"
        }
      },
      "execution_count": 32,
      "outputs": [
        {
          "output_type": "stream",
          "name": "stdout",
          "text": [
            "48.6\n",
            "44.6\n",
            "Необходимое количество рулонов: 4\n"
          ]
        }
      ]
    }
  ]
}