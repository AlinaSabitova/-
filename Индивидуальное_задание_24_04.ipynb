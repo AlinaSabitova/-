{
  "nbformat": 4,
  "nbformat_minor": 0,
  "metadata": {
    "colab": {
      "provenance": [],
      "authorship_tag": "ABX9TyNFHJ5ypSPztaoRwgp4LBrM",
      "include_colab_link": true
    },
    "kernelspec": {
      "name": "python3",
      "display_name": "Python 3"
    },
    "language_info": {
      "name": "python"
    }
  },
  "cells": [
    {
      "cell_type": "markdown",
      "metadata": {
        "id": "view-in-github",
        "colab_type": "text"
      },
      "source": [
        "<a href=\"https://colab.research.google.com/github/AlinaSabitova/Lectures/blob/main/%D0%98%D0%BD%D0%B4%D0%B8%D0%B2%D0%B8%D0%B4%D1%83%D0%B0%D0%BB%D1%8C%D0%BD%D0%BE%D0%B5_%D0%B7%D0%B0%D0%B4%D0%B0%D0%BD%D0%B8%D0%B5_24_04.ipynb\" target=\"_parent\"><img src=\"https://colab.research.google.com/assets/colab-badge.svg\" alt=\"Open In Colab\"/></a>"
      ]
    },
    {
      "cell_type": "code",
      "execution_count": 8,
      "metadata": {
        "colab": {
          "base_uri": "https://localhost:8080/"
        },
        "id": "Fw2GJOX9Mj30",
        "outputId": "3026b381-2814-4a10-d455-faf007771193"
      },
      "outputs": [
        {
          "output_type": "stream",
          "name": "stdout",
          "text": [
            "В наличие есть следующие товары: \n",
            "20 велосипедов по цене 5000\n",
            "из которых 8 горных велосипедов по цене 10000\n",
            "15 самокатов по цене 7000\n"
          ]
        }
      ],
      "source": [
        "class Product:\n",
        "  price = \"\"\n",
        "  quantity = \"\"\n",
        "\n",
        "  def presence(self):\n",
        "    print(\"В наличие есть следующие товары: \")\n",
        "\n",
        "class Bike(Product):\n",
        "  def bikes(self):\n",
        "    self.price = 5000\n",
        "    self.quantity = 20\n",
        "    print(\"{} велосипедов по цене {}\".format(self.quantity, self.price))\n",
        "\n",
        "class Mountain_bike(Bike):\n",
        "  def another_bikes(self):\n",
        "    self.price = 10000\n",
        "    self.quantity = 8\n",
        "    print(\"из которых {} горных велосипедов по цене {}\".format(self.quantity, self.price))\n",
        "\n",
        "class Scooter(Product):\n",
        "  def scooters(self):\n",
        "    self.price = 7000\n",
        "    self.quantity = 15\n",
        "    print(\"{} самокатов по цене {}\".format(self.quantity, self.price))\n",
        "\n",
        "a = Mountain_bike()\n",
        "a.presence()\n",
        "a.bikes() \n",
        "a.another_bikes()\n",
        "b = Scooter()\n",
        "b.scooters()"
      ]
    },
    {
      "cell_type": "code",
      "source": [
        "class Product:\n",
        "  def __init__(self, price, quantity):\n",
        "    self.price = price\n",
        "    self.quantity = quantity\n",
        "\n",
        "  def presence(self):\n",
        "    print(\"В наличие есть следующие товары: \")\n",
        "\n",
        "class Bike(Product):\n",
        "  def bikes(self):\n",
        "    print(\"{} велосипедов по цене {}\".format(self.quantity, self.price))\n",
        "\n",
        "class Mountain_bike(Bike):\n",
        "  def another_bikes(self):\n",
        "    print(\"из которых {} горных велосипедов по цене {}\".format(self.quantity, self.price))\n",
        "\n",
        "class Scooter(Product):\n",
        "  def scooters(self):\n",
        "    print(\"{} самокатов по цене {}\".format(self.quantity, self.price))\n",
        "\n",
        "a = Bike(5000, 20)\n",
        "a.presence()\n",
        "a.bikes()\n",
        "b = Mountain_bike(10000, 8)\n",
        "b.another_bikes()\n",
        "c = Scooter(7000, 15)\n",
        "c.scooters()"
      ],
      "metadata": {
        "colab": {
          "base_uri": "https://localhost:8080/"
        },
        "id": "cfKkWz40WIi9",
        "outputId": "8a5a0bc1-3b0a-414a-a87e-6c3b7ea725ec"
      },
      "execution_count": 17,
      "outputs": [
        {
          "output_type": "stream",
          "name": "stdout",
          "text": [
            "В наличие есть следующие товары: \n",
            "20 велосипедов по цене 5000\n",
            "из которых 8 горных велосипедов по цене 10000\n",
            "15 самокатов по цене 7000\n"
          ]
        }
      ]
    }
  ]
}