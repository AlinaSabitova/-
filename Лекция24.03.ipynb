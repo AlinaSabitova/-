{
  "nbformat": 4,
  "nbformat_minor": 0,
  "metadata": {
    "colab": {
      "provenance": [],
      "authorship_tag": "ABX9TyOoSFF2IuGG1dirzJohC6ns",
      "include_colab_link": true
    },
    "kernelspec": {
      "name": "python3",
      "display_name": "Python 3"
    },
    "language_info": {
      "name": "python"
    }
  },
  "cells": [
    {
      "cell_type": "markdown",
      "metadata": {
        "id": "view-in-github",
        "colab_type": "text"
      },
      "source": [
        "<a href=\"https://colab.research.google.com/github/AlinaSabitova/Lectures/blob/main/%D0%9B%D0%B5%D0%BA%D1%86%D0%B8%D1%8F24.03.ipynb\" target=\"_parent\"><img src=\"https://colab.research.google.com/assets/colab-badge.svg\" alt=\"Open In Colab\"/></a>"
      ]
    },
    {
      "cell_type": "code",
      "execution_count": 6,
      "metadata": {
        "colab": {
          "base_uri": "https://localhost:8080/"
        },
        "id": "IdXqpMSrh0l_",
        "outputId": "dcd6fded-1dfb-43c2-d995-d5faf7e58264"
      },
      "outputs": [
        {
          "output_type": "stream",
          "name": "stdout",
          "text": [
            "Hello!\n",
            "Hello  world!\n"
          ]
        }
      ],
      "source": [
        "class A:\n",
        "  def f(self, x):\n",
        "    print(x)\n",
        "\n",
        "class B:\n",
        "  def f(self, x, y):\n",
        "    print(x+y)\n",
        "\n",
        "a = A()\n",
        "a.f(\"Hello!\")\n",
        "b = B()\n",
        "# b.f(\"Hello!\")\n",
        "b.f(\"Hello \",\" world!\")"
      ]
    },
    {
      "cell_type": "code",
      "source": [
        "class A:\n",
        "  def f(self, x):\n",
        "    print(x)\n",
        "\n",
        "class B:\n",
        "  def f(self, x, y=None):\n",
        "    if y is None:\n",
        "      super().f(x)\n",
        "    else:\n",
        "      print(x+y)\n",
        "\n",
        "b = B()\n",
        "# b.f(\"Hello\")\n",
        "b.f(\"Hello \", \"world!\")"
      ],
      "metadata": {
        "colab": {
          "base_uri": "https://localhost:8080/"
        },
        "id": "nqqZMTVwlKL_",
        "outputId": "765c7631-91d6-4863-9d22-5e98047f8e40"
      },
      "execution_count": 9,
      "outputs": [
        {
          "output_type": "stream",
          "name": "stdout",
          "text": [
            "Hello world!\n"
          ]
        }
      ]
    },
    {
      "cell_type": "code",
      "source": [
        "class A:\n",
        "  def __f(self):\n",
        "    return 2\n",
        "  def f_sq(self):\n",
        "    return self.__f()**2\n",
        "\n",
        "class B(A):\n",
        "  def __f(self):\n",
        "    return 5\n",
        "\n",
        "a = A()\n",
        "print(a.f_sq())\n",
        "b = B()\n",
        "print(b.f_sq())"
      ],
      "metadata": {
        "colab": {
          "base_uri": "https://localhost:8080/"
        },
        "id": "y05d3tqal_pj",
        "outputId": "680b8ab4-c020-4e66-f1c5-433d96b712ee"
      },
      "execution_count": 12,
      "outputs": [
        {
          "output_type": "stream",
          "name": "stdout",
          "text": [
            "4\n",
            "4\n"
          ]
        }
      ]
    },
    {
      "cell_type": "code",
      "source": [
        "class Mydict(dict):\n",
        "  def __setitem__(self, key, value):\n",
        "    super().__setitem__(key, [value]*2)\n",
        "\n",
        "a = Mydict(key1 = 1)\n",
        "a[\"key2\"] = 2\n",
        "\n",
        "a.update(key3 = 3)"
      ],
      "metadata": {
        "id": "mJ2D6TsCm_OW"
      },
      "execution_count": 13,
      "outputs": []
    },
    {
      "cell_type": "code",
      "source": [
        "class Base(object):\n",
        "  def virtualMethod(self):\n",
        "    raise NotImplementedError()\n",
        "  def usesVirtualMethod(self):\n",
        "    return self.virtualMethod() + 1\n",
        "\n",
        "class Derived(Base):\n",
        "  def virtualMethod(self):\n",
        "    return 1\n",
        "\n",
        "# Base().usesVirtualMethod()\n",
        "Derived().usesVirtualMethod()"
      ],
      "metadata": {
        "id": "T_k1K_PgnpQP",
        "outputId": "8f256875-8c9b-4c19-bc15-2e8d7ac28cee",
        "colab": {
          "base_uri": "https://localhost:8080/"
        }
      },
      "execution_count": 15,
      "outputs": [
        {
          "output_type": "execute_result",
          "data": {
            "text/plain": [
              "2"
            ]
          },
          "metadata": {},
          "execution_count": 15
        }
      ]
    },
    {
      "cell_type": "code",
      "source": [
        "from abc import ABC, abstractmethod\n",
        "class MyAbstract(ABC):\n",
        "  @abstractmethod\n",
        "  def foo(self):\n",
        "    pass\n",
        "\n",
        "class MyClass(MyAbstract):\n",
        "  def foo(self):\n",
        "    print(\"Hello, world!\")\n",
        "\n",
        "# a = MyAbstract()\n",
        "a = MyClass()"
      ],
      "metadata": {
        "id": "1LJ6p_Bcp5Nk"
      },
      "execution_count": 17,
      "outputs": []
    },
    {
      "cell_type": "code",
      "source": [
        "class A:\n",
        "  def m(self):\n",
        "    print(\"In A\")\n",
        "class B(A):\n",
        "  def m(self):\n",
        "    print(\"In B\")\n",
        "class C(A):\n",
        "  def m(self):\n",
        "    print(\"In С\")\n",
        "class D(B, C):\n",
        "  pass\n",
        "\n",
        "d = D()\n",
        "d.m()"
      ],
      "metadata": {
        "id": "1KwmAKEmqsVE",
        "outputId": "2f5e71bf-5978-446e-d7a5-c59958fc7aa3",
        "colab": {
          "base_uri": "https://localhost:8080/"
        }
      },
      "execution_count": 18,
      "outputs": [
        {
          "output_type": "stream",
          "name": "stdout",
          "text": [
            "In B\n"
          ]
        }
      ]
    },
    {
      "cell_type": "code",
      "source": [
        "class T1:\n",
        "  n = 10\n",
        "  def total(self, N):\n",
        "    self.total = int(self.n) + int(N)\n",
        "\n",
        "class T2:\n",
        "  def total(self, s):\n",
        "    self.total = len(str(s))"
      ],
      "metadata": {
        "id": "nFZJBwTqrKZo"
      },
      "execution_count": 19,
      "outputs": []
    },
    {
      "cell_type": "code",
      "source": [
        "t1 = T1()\n",
        "t2 = T2()\n",
        "t1.total(45)\n",
        "t2.total(45)\n",
        "print(t1.total)\n",
        "print(t2.total)"
      ],
      "metadata": {
        "id": "z09lUFyOrtoS",
        "outputId": "5157b132-df7c-4a2d-b932-76570dc1947d",
        "colab": {
          "base_uri": "https://localhost:8080/"
        }
      },
      "execution_count": 20,
      "outputs": [
        {
          "output_type": "stream",
          "name": "stdout",
          "text": [
            "55\n",
            "2\n"
          ]
        }
      ]
    },
    {
      "cell_type": "code",
      "source": [
        "class Rectangle:\n",
        "  def __init__(self, width, height, sign):\n",
        "    self.w = int(width)\n",
        "    self.h = int(height)\n",
        "    self.s = str(sign)\n",
        "  def __str__(self):\n",
        "    rect = []\n",
        "    for i in range(self.h):\n",
        "      rect.append(self.s * self.w)\n",
        "    rect = '\\n'.join(rect)\n",
        "    return rect\n",
        "  def __add__(self, other):\n",
        "    return Rectangle(self.w + other.w, self.h + other.h, self.s) \n",
        "\n",
        "a = Rectangle(4, 2, 'w')\n",
        "print(a)\n",
        "b = Rectangle(8, 3, \"z\")\n",
        "print(b)\n",
        "print(a + b)\n",
        "print(b + a)"
      ],
      "metadata": {
        "id": "W0i-efwbr-ZA",
        "outputId": "1a10ea87-684f-45e9-cbe4-14146ecbca5c",
        "colab": {
          "base_uri": "https://localhost:8080/"
        }
      },
      "execution_count": 22,
      "outputs": [
        {
          "output_type": "stream",
          "name": "stdout",
          "text": [
            "wwww\n",
            "wwww\n",
            "zzzzzzzz\n",
            "zzzzzzzz\n",
            "zzzzzzzz\n",
            "wwwwwwwwwwww\n",
            "wwwwwwwwwwww\n",
            "wwwwwwwwwwww\n",
            "wwwwwwwwwwww\n",
            "wwwwwwwwwwww\n",
            "zzzzzzzzzzzz\n",
            "zzzzzzzzzzzz\n",
            "zzzzzzzzzzzz\n",
            "zzzzzzzzzzzz\n",
            "zzzzzzzzzzzz\n"
          ]
        }
      ]
    },
    {
      "cell_type": "code",
      "source": [
        "class Product:\n",
        "  def __init__(self, price, quantity):\n",
        "    self.price = price\n",
        "    self.quantity = quantity\n",
        "\n",
        "class Bike(Product):\n",
        "  def  \n",
        "\n",
        "class Mountain_bike(Bike):\n",
        "  def \n",
        "\n",
        "class Scooter(Product):\n",
        "  def "
      ],
      "metadata": {
        "id": "eUuBg0Z7vwPU"
      },
      "execution_count": null,
      "outputs": []
    }
  ]
}