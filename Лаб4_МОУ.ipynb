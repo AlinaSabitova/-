{
  "nbformat": 4,
  "nbformat_minor": 0,
  "metadata": {
    "colab": {
      "provenance": [],
      "authorship_tag": "ABX9TyMmpSsW2dzsCDg/tSeht2xV",
      "include_colab_link": true
    },
    "kernelspec": {
      "name": "python3",
      "display_name": "Python 3"
    },
    "language_info": {
      "name": "python"
    }
  },
  "cells": [
    {
      "cell_type": "markdown",
      "metadata": {
        "id": "view-in-github",
        "colab_type": "text"
      },
      "source": [
        "<a href=\"https://colab.research.google.com/github/AlinaSabitova/Lectures/blob/main/%D0%9B%D0%B0%D0%B14_%D0%9C%D0%9E%D0%A3.ipynb\" target=\"_parent\"><img src=\"https://colab.research.google.com/assets/colab-badge.svg\" alt=\"Open In Colab\"/></a>"
      ]
    },
    {
      "cell_type": "markdown",
      "source": [
        "# Лабораторная работа №4"
      ],
      "metadata": {
        "id": "hG4Kfaf65OZG"
      }
    },
    {
      "cell_type": "markdown",
      "source": [
        "## Пример 1 в gurobi"
      ],
      "metadata": {
        "id": "d-BtzKxE6qC6"
      }
    },
    {
      "cell_type": "code",
      "execution_count": 1,
      "metadata": {
        "colab": {
          "base_uri": "https://localhost:8080/"
        },
        "id": "G8DVwhQJ5E4M",
        "outputId": "cc95c99b-e092-4d47-e9a8-fd8db0b48ff0"
      },
      "outputs": [
        {
          "output_type": "stream",
          "name": "stdout",
          "text": [
            "Collecting gurobipy\n",
            "  Downloading gurobipy-11.0.2-cp310-cp310-manylinux2014_x86_64.manylinux_2_17_x86_64.whl (13.4 MB)\n",
            "\u001b[2K     \u001b[90m━━━━━━━━━━━━━━━━━━━━━━━━━━━━━━━━━━━━━━━━\u001b[0m \u001b[32m13.4/13.4 MB\u001b[0m \u001b[31m32.0 MB/s\u001b[0m eta \u001b[36m0:00:00\u001b[0m\n",
            "\u001b[?25hInstalling collected packages: gurobipy\n",
            "Successfully installed gurobipy-11.0.2\n"
          ]
        }
      ],
      "source": [
        "# Установка GUROBI\n",
        "!pip install gurobipy"
      ]
    },
    {
      "cell_type": "code",
      "source": [
        "# Подключение пакета\n",
        "import gurobipy as op"
      ],
      "metadata": {
        "id": "Y4r-r3WG5gZ6"
      },
      "execution_count": 2,
      "outputs": []
    },
    {
      "cell_type": "code",
      "source": [
        "# Определяем окружение\n",
        "prob = op.Model(\"MyOptProblem\")"
      ],
      "metadata": {
        "colab": {
          "base_uri": "https://localhost:8080/"
        },
        "id": "Rp8R62nB59Jx",
        "outputId": "b403cac5-4aae-4611-a9fa-0571c643b453"
      },
      "execution_count": 3,
      "outputs": [
        {
          "output_type": "stream",
          "name": "stdout",
          "text": [
            "Restricted license - for non-production use only - expires 2025-11-24\n"
          ]
        }
      ]
    },
    {
      "cell_type": "code",
      "source": [
        "# Определим переменные задачи\n",
        "x1 = prob.addVar(vtype=op.GRB.CONTINUOUS, lb=0, name='x1')\n",
        "x2 = prob.addVar(vtype=op.GRB.CONTINUOUS, lb=0, name='x2')"
      ],
      "metadata": {
        "id": "_XRygSzu6Bki"
      },
      "execution_count": 4,
      "outputs": []
    },
    {
      "cell_type": "code",
      "source": [
        "# Добавление целевой функции\n",
        "prob.setObjective(2*x1+3*x2, op.GRB.MAXIMIZE)"
      ],
      "metadata": {
        "id": "RLP8lSK86Ei3"
      },
      "execution_count": 5,
      "outputs": []
    },
    {
      "cell_type": "code",
      "source": [
        "# Добавление ограничений\n",
        "prob.addConstr(x1+x2<=16, \"const1\")\n",
        "prob.addConstr(3*x1<=36, \"const2\")\n",
        "prob.addConstr(2*x2<=20, \"const3\")"
      ],
      "metadata": {
        "colab": {
          "base_uri": "https://localhost:8080/"
        },
        "id": "hsoP0IVK6HG0",
        "outputId": "a7ca083c-f685-4f6b-d8bc-7b6c709e7b98"
      },
      "execution_count": 6,
      "outputs": [
        {
          "output_type": "execute_result",
          "data": {
            "text/plain": [
              "<gurobi.Constr *Awaiting Model Update*>"
            ]
          },
          "metadata": {},
          "execution_count": 6
        }
      ]
    },
    {
      "cell_type": "code",
      "source": [
        "# Вызов процедуры оптимизации\n",
        "prob.optimize()"
      ],
      "metadata": {
        "colab": {
          "base_uri": "https://localhost:8080/"
        },
        "id": "HUDlPAR_6JrF",
        "outputId": "c1965c5b-b59f-4aba-f329-ae84888a972a"
      },
      "execution_count": 7,
      "outputs": [
        {
          "output_type": "stream",
          "name": "stdout",
          "text": [
            "Gurobi Optimizer version 11.0.2 build v11.0.2rc0 (linux64 - \"Ubuntu 22.04.3 LTS\")\n",
            "\n",
            "CPU model: Intel(R) Xeon(R) CPU @ 2.20GHz, instruction set [SSE2|AVX|AVX2]\n",
            "Thread count: 1 physical cores, 2 logical processors, using up to 2 threads\n",
            "\n",
            "Optimize a model with 3 rows, 2 columns and 4 nonzeros\n",
            "Model fingerprint: 0xd52ef52b\n",
            "Coefficient statistics:\n",
            "  Matrix range     [1e+00, 3e+00]\n",
            "  Objective range  [2e+00, 3e+00]\n",
            "  Bounds range     [0e+00, 0e+00]\n",
            "  RHS range        [2e+01, 4e+01]\n",
            "Presolve removed 2 rows and 0 columns\n",
            "Presolve time: 0.01s\n",
            "Presolved: 1 rows, 2 columns, 2 nonzeros\n",
            "\n",
            "Iteration    Objective       Primal Inf.    Dual Inf.      Time\n",
            "       0    4.8000000e+01   3.000000e+00   0.000000e+00      0s\n",
            "       1    4.2000000e+01   0.000000e+00   0.000000e+00      0s\n",
            "\n",
            "Solved in 1 iterations and 0.03 seconds (0.00 work units)\n",
            "Optimal objective  4.200000000e+01\n"
          ]
        }
      ]
    },
    {
      "cell_type": "code",
      "source": [
        "# Вывод оптимальных значений переменных\n",
        "print('Оптимальное решение:')\n",
        "for v in prob.getVars():\n",
        "  print(' %s = %g' % (v.VarName, v.X))"
      ],
      "metadata": {
        "colab": {
          "base_uri": "https://localhost:8080/"
        },
        "id": "1u1EhU686OPl",
        "outputId": "7e9969b9-1dd4-4e87-a8d2-611cb3c931cb"
      },
      "execution_count": 9,
      "outputs": [
        {
          "output_type": "stream",
          "name": "stdout",
          "text": [
            "Оптимальное решение:\n",
            " x1 = 6\n",
            " x2 = 10\n"
          ]
        }
      ]
    },
    {
      "cell_type": "code",
      "source": [
        "# Вывод значения целевой функции\n",
        "print('Целевая функция = %g' % prob.ObjVal)"
      ],
      "metadata": {
        "colab": {
          "base_uri": "https://localhost:8080/"
        },
        "id": "T_i68oJt6WYL",
        "outputId": "fab1130b-92f5-4241-cba8-6f5385a10e16"
      },
      "execution_count": 10,
      "outputs": [
        {
          "output_type": "stream",
          "name": "stdout",
          "text": [
            "Целевая функция = 42\n"
          ]
        }
      ]
    },
    {
      "cell_type": "markdown",
      "source": [
        "## Пример 1 в cplex"
      ],
      "metadata": {
        "id": "lNwUN9_t62lM"
      }
    },
    {
      "cell_type": "code",
      "source": [
        "# Установка пакетов cplex, docplex\n",
        "!pip install cplex\n",
        "!pip install docplex"
      ],
      "metadata": {
        "colab": {
          "base_uri": "https://localhost:8080/"
        },
        "id": "uFnNkq5662Ka",
        "outputId": "e87395b1-b593-4c1d-a510-67b86a8bdd98"
      },
      "execution_count": 11,
      "outputs": [
        {
          "output_type": "stream",
          "name": "stdout",
          "text": [
            "Collecting cplex\n",
            "  Downloading cplex-22.1.1.2-cp310-cp310-manylinux1_x86_64.whl (44.2 MB)\n",
            "\u001b[2K     \u001b[90m━━━━━━━━━━━━━━━━━━━━━━━━━━━━━━━━━━━━━━━━\u001b[0m \u001b[32m44.2/44.2 MB\u001b[0m \u001b[31m17.3 MB/s\u001b[0m eta \u001b[36m0:00:00\u001b[0m\n",
            "\u001b[?25hInstalling collected packages: cplex\n",
            "Successfully installed cplex-22.1.1.2\n",
            "Collecting docplex\n",
            "  Downloading docplex-2.27.239.tar.gz (635 kB)\n",
            "\u001b[2K     \u001b[90m━━━━━━━━━━━━━━━━━━━━━━━━━━━━━━━━━━━━━━━━\u001b[0m \u001b[32m635.6/635.6 kB\u001b[0m \u001b[31m3.2 MB/s\u001b[0m eta \u001b[36m0:00:00\u001b[0m\n",
            "\u001b[?25h  Installing build dependencies ... \u001b[?25l\u001b[?25hdone\n",
            "  Getting requirements to build wheel ... \u001b[?25l\u001b[?25hdone\n",
            "  Installing backend dependencies ... \u001b[?25l\u001b[?25hdone\n",
            "  Preparing metadata (pyproject.toml) ... \u001b[?25l\u001b[?25hdone\n",
            "Requirement already satisfied: six in /usr/local/lib/python3.10/dist-packages (from docplex) (1.16.0)\n",
            "Building wheels for collected packages: docplex\n",
            "  Building wheel for docplex (pyproject.toml) ... \u001b[?25l\u001b[?25hdone\n",
            "  Created wheel for docplex: filename=docplex-2.27.239-py3-none-any.whl size=674503 sha256=35298f226f365fa8f992bffefd292d5b3751db8ee3abc599ee2ac8911064057d\n",
            "  Stored in directory: /root/.cache/pip/wheels/62/7c/db/cef9425e1cedbf45621545097eaaeed5efe07005bd8229dd74\n",
            "Successfully built docplex\n",
            "Installing collected packages: docplex\n",
            "Successfully installed docplex-2.27.239\n"
          ]
        }
      ]
    },
    {
      "cell_type": "code",
      "source": [
        "# подключение\n",
        "import docplex as op\n",
        "from docplex.mp.model import Model"
      ],
      "metadata": {
        "id": "NLYiU0Ve7Gzm"
      },
      "execution_count": 12,
      "outputs": []
    },
    {
      "cell_type": "code",
      "source": [
        "# определяем окружение\n",
        "prob = Model(\"MyOptProblem\")"
      ],
      "metadata": {
        "id": "E9fSb5fT7Q7Z"
      },
      "execution_count": 13,
      "outputs": []
    },
    {
      "cell_type": "code",
      "source": [
        "# переменные задачи\n",
        "x1 = prob.continuous_var(lb=0,ub=None)\n",
        "x2 = prob.continuous_var(lb=0,ub=None)"
      ],
      "metadata": {
        "id": "8VgkD_PD7VwC"
      },
      "execution_count": 14,
      "outputs": []
    },
    {
      "cell_type": "code",
      "source": [
        "# целевая функция\n",
        "prob.set_objective(\"max\", 2*x1+3*x2)"
      ],
      "metadata": {
        "id": "wXpH7Ijn7YI3"
      },
      "execution_count": 15,
      "outputs": []
    },
    {
      "cell_type": "code",
      "source": [
        "# ограничения\n",
        "prob.add_constraint(x1+x2<=16, ctname=\"const1\")\n",
        "prob.add_constraint(3*x1<=36, ctname=\"const2\")\n",
        "prob.add_constraint(2*x2<=20, ctname=\"const3\")"
      ],
      "metadata": {
        "colab": {
          "base_uri": "https://localhost:8080/"
        },
        "id": "p3kcgLXQ7ZIr",
        "outputId": "ac503ac9-ccf4-440c-b339-5cb10459117d"
      },
      "execution_count": 16,
      "outputs": [
        {
          "output_type": "execute_result",
          "data": {
            "text/plain": [
              "docplex.mp.LinearConstraint[const3](2x2,LE,20)"
            ]
          },
          "metadata": {},
          "execution_count": 16
        }
      ]
    },
    {
      "cell_type": "code",
      "source": [
        "# Статус задачи\n",
        "prob.print_information()\n",
        "prob.solve()"
      ],
      "metadata": {
        "colab": {
          "base_uri": "https://localhost:8080/"
        },
        "id": "m7ZrPyb37bjS",
        "outputId": "5600e816-1bfc-4d41-df52-409f84d0d29e"
      },
      "execution_count": 17,
      "outputs": [
        {
          "output_type": "stream",
          "name": "stdout",
          "text": [
            "Model: MyOptProblem\n",
            " - number of variables: 2\n",
            "   - binary=0, integer=0, continuous=2\n",
            " - number of constraints: 3\n",
            "   - linear=3\n",
            " - parameters: defaults\n",
            " - objective: maximize\n",
            " - problem type is: LP\n"
          ]
        },
        {
          "output_type": "execute_result",
          "data": {
            "text/plain": [
              "docplex.mp.solution.SolveSolution(obj=42,values={x1:6,x2:10})"
            ]
          },
          "metadata": {},
          "execution_count": 17
        }
      ]
    },
    {
      "cell_type": "code",
      "source": [
        "# Значения переменных в оптимальном решении\n",
        "prob.print_solution()"
      ],
      "metadata": {
        "colab": {
          "base_uri": "https://localhost:8080/"
        },
        "id": "lFnK5S627fUn",
        "outputId": "f865bc90-87b8-40ff-f870-1a77993a84b3"
      },
      "execution_count": 18,
      "outputs": [
        {
          "output_type": "stream",
          "name": "stdout",
          "text": [
            "objective: 42.000\n",
            "status: OPTIMAL_SOLUTION(2)\n",
            "  x1=6.000\n",
            "  x2=10.000\n"
          ]
        }
      ]
    },
    {
      "cell_type": "code",
      "source": [
        "# ЦФ в оптимальном решении\n",
        "print(\"Целевая функция = \",prob.objective_value)"
      ],
      "metadata": {
        "colab": {
          "base_uri": "https://localhost:8080/"
        },
        "id": "adGsKVhg7hWp",
        "outputId": "a5f4959d-0866-466d-9ba6-42b3b70d19f1"
      },
      "execution_count": 19,
      "outputs": [
        {
          "output_type": "stream",
          "name": "stdout",
          "text": [
            "Целевая функция =  42.0\n"
          ]
        }
      ]
    },
    {
      "cell_type": "markdown",
      "source": [
        "## Пример 1 в pulp"
      ],
      "metadata": {
        "id": "ZfcF69oA7j2h"
      }
    },
    {
      "cell_type": "code",
      "source": [
        "# установка пакета\n",
        "!pip install pulp"
      ],
      "metadata": {
        "colab": {
          "base_uri": "https://localhost:8080/"
        },
        "id": "HGPHHhVC7m7C",
        "outputId": "229adff3-c008-45e5-834c-de01e0f60707"
      },
      "execution_count": 21,
      "outputs": [
        {
          "output_type": "stream",
          "name": "stdout",
          "text": [
            "Collecting pulp\n",
            "  Downloading PuLP-2.8.0-py3-none-any.whl (17.7 MB)\n",
            "\u001b[2K     \u001b[90m━━━━━━━━━━━━━━━━━━━━━━━━━━━━━━━━━━━━━━━━\u001b[0m \u001b[32m17.7/17.7 MB\u001b[0m \u001b[31m29.8 MB/s\u001b[0m eta \u001b[36m0:00:00\u001b[0m\n",
            "\u001b[?25hInstalling collected packages: pulp\n",
            "Successfully installed pulp-2.8.0\n"
          ]
        }
      ]
    },
    {
      "cell_type": "code",
      "source": [
        "import pulp as op"
      ],
      "metadata": {
        "id": "_1kbVM9c7rqw"
      },
      "execution_count": 22,
      "outputs": []
    },
    {
      "cell_type": "code",
      "source": [
        "# Определим окружение и тип оптимизации\n",
        "prob = op.LpProblem(\"MyOptProblem\", op.LpMaximize)"
      ],
      "metadata": {
        "id": "i-L1U9qi7wDZ"
      },
      "execution_count": 23,
      "outputs": []
    },
    {
      "cell_type": "code",
      "source": [
        "# Переменные задачи\n",
        "x1 = op.LpVariable(\"x1\", lowBound = 0, upBound = None, cat='Continuous')\n",
        "x2 = op.LpVariable(\"x2\", lowBound = 0, upBound = None, cat='Continuous')"
      ],
      "metadata": {
        "id": "8hCtI8NW7xf5"
      },
      "execution_count": 24,
      "outputs": []
    },
    {
      "cell_type": "code",
      "source": [
        "# Добавим в окружение целевую функцию\n",
        "prob += 2*x1+3*x2, \"Objective\""
      ],
      "metadata": {
        "id": "CwocRp_R7zwz"
      },
      "execution_count": 25,
      "outputs": []
    },
    {
      "cell_type": "code",
      "source": [
        "# Добавим в окружение ограничения\n",
        "prob += x1+x2<=16, \"Constraint1\"\n",
        "prob += 3*x1<=36, \"Constraint2\"\n",
        "prob += 2*x2<=20, \"Constraint3\""
      ],
      "metadata": {
        "id": "3IT6s3Jo710t"
      },
      "execution_count": 26,
      "outputs": []
    },
    {
      "cell_type": "code",
      "source": [
        "# Решаем задачу\n",
        "prob.solve()"
      ],
      "metadata": {
        "colab": {
          "base_uri": "https://localhost:8080/"
        },
        "id": "d8D-43BV76hJ",
        "outputId": "4d37782f-fd62-449a-d08e-bd5bbcb9fa16"
      },
      "execution_count": 27,
      "outputs": [
        {
          "output_type": "execute_result",
          "data": {
            "text/plain": [
              "1"
            ]
          },
          "metadata": {},
          "execution_count": 27
        }
      ]
    },
    {
      "cell_type": "code",
      "source": [
        "# Вывод статуса задачи\n",
        "print(\"Status:\", op.LpStatus[prob.status])"
      ],
      "metadata": {
        "colab": {
          "base_uri": "https://localhost:8080/"
        },
        "id": "hYyXv5TN7964",
        "outputId": "1ca6ee24-b5b5-431b-e299-18bc22a1da98"
      },
      "execution_count": 28,
      "outputs": [
        {
          "output_type": "stream",
          "name": "stdout",
          "text": [
            "Status: Optimal\n"
          ]
        }
      ]
    },
    {
      "cell_type": "code",
      "source": [
        "# Вывод оптимального решения\n",
        "print(\"Оптимальное решение:\")\n",
        "for variables in prob.variables():\n",
        "  print(variables.name, \"=\", variables.varValue)"
      ],
      "metadata": {
        "colab": {
          "base_uri": "https://localhost:8080/"
        },
        "id": "wNcRzNeU7_Dc",
        "outputId": "298a3e26-bec4-46cb-fb78-bd7da52c18f1"
      },
      "execution_count": 29,
      "outputs": [
        {
          "output_type": "stream",
          "name": "stdout",
          "text": [
            "Оптимальное решение:\n",
            "x1 = 6.0\n",
            "x2 = 10.0\n"
          ]
        }
      ]
    },
    {
      "cell_type": "code",
      "source": [
        "# Вывод значения целевой функции при оптимальном решении\n",
        "print(\"Целевая функция = \", op.value(prob.objective))"
      ],
      "metadata": {
        "colab": {
          "base_uri": "https://localhost:8080/"
        },
        "id": "auyz-4Cc8DNp",
        "outputId": "d69799fa-dd11-4e0b-c8f7-15dd8090db36"
      },
      "execution_count": 30,
      "outputs": [
        {
          "output_type": "stream",
          "name": "stdout",
          "text": [
            "Целевая функция =  42.0\n"
          ]
        }
      ]
    },
    {
      "cell_type": "markdown",
      "source": [
        "## Пример 1 в scipy.optimize"
      ],
      "metadata": {
        "id": "OhnILC2q8Jsq"
      }
    },
    {
      "cell_type": "code",
      "source": [
        "from scipy.optimize import linprog\n",
        "c = [-2,-3] #Функция цели с минусом, поскольку пакет ищет минимум\n",
        "A_ub = [[1, 1],\n",
        "[3, 0], #'матрица коэффициентов с неравенствами <='\n",
        "[0, 2]]\n",
        "b_ub = [16, 36, 20] # правые части ограничений с неравенствами <=\n",
        "#A_eq = [[]] # аналогично можно задать матрицу коэффициентов с равенствами ==\n",
        "#b_eq = [] # правые части ограничений с равенствами\n",
        "Abc=linprog(c, A_ub, b_ub)\n",
        "print ('z=', Abc.fun, '\\nx=',Abc.x)"
      ],
      "metadata": {
        "colab": {
          "base_uri": "https://localhost:8080/"
        },
        "id": "fXUZzM8C8Kxi",
        "outputId": "a887dd53-d578-4b25-94f0-25c013667c2c"
      },
      "execution_count": 31,
      "outputs": [
        {
          "output_type": "stream",
          "name": "stdout",
          "text": [
            "z= -42.0 \n",
            "x= [ 6. 10.]\n"
          ]
        }
      ]
    },
    {
      "cell_type": "markdown",
      "source": [
        "## Пример 2 в gurobi"
      ],
      "metadata": {
        "id": "4CfipgJT8u9E"
      }
    },
    {
      "cell_type": "code",
      "source": [
        "# Установка GUROBI\n",
        "!pip install gurobipy"
      ],
      "metadata": {
        "colab": {
          "base_uri": "https://localhost:8080/"
        },
        "id": "cp_BqMzZ80Oe",
        "outputId": "93ee57d4-cf80-4aea-b02c-96138ef81b18"
      },
      "execution_count": 32,
      "outputs": [
        {
          "output_type": "stream",
          "name": "stdout",
          "text": [
            "Requirement already satisfied: gurobipy in /usr/local/lib/python3.10/dist-packages (11.0.2)\n"
          ]
        }
      ]
    },
    {
      "cell_type": "code",
      "source": [
        "import gurobipy as op"
      ],
      "metadata": {
        "id": "Rd5a_lxP9yYB"
      },
      "execution_count": 33,
      "outputs": []
    },
    {
      "cell_type": "code",
      "source": [
        "pa = ['A1','A2']\n",
        "pb = ['B1','B2','B3']\n",
        "cost = {\n",
        "        ('A1','B1'): 40,\n",
        "        ('A1','B2'): 120,\n",
        "        ('A1','B3'): 190,\n",
        "        ('A2','B1'): 60,\n",
        "        ('A2','B2'): 100,\n",
        "        ('A2','B3'): 140\n",
        "}\n",
        "supply = {\n",
        "        ('A1'): 80,\n",
        "        ('A2'): 50\n",
        "}\n",
        "demand = {\n",
        "        ('B1'): 40,\n",
        "        ('B2'): 60,\n",
        "        ('B3'): 30\n",
        "}"
      ],
      "metadata": {
        "id": "chDxuqqo92ah"
      },
      "execution_count": 34,
      "outputs": []
    },
    {
      "cell_type": "code",
      "source": [
        "# создание новой модели\n",
        "m = op.Model(\"transport_problem_1\")"
      ],
      "metadata": {
        "id": "lLJ1HEaH-NYu"
      },
      "execution_count": 35,
      "outputs": []
    },
    {
      "cell_type": "code",
      "source": [
        "# Блокируем промежуточный вывод\n",
        "m.Params.LogToConsole = 0"
      ],
      "metadata": {
        "id": "aBgyQoxK-P2v"
      },
      "execution_count": 36,
      "outputs": []
    },
    {
      "cell_type": "code",
      "source": [
        "# Создаём переменные модели\n",
        "flow = {}\n",
        "for i in pa:\n",
        "  for j in pb:\n",
        "    flow[i,j] = m.addVar(obj=cost[i,j], name='flow_%s_%s' % (i, j))"
      ],
      "metadata": {
        "id": "GH8tDvzx-SNg"
      },
      "execution_count": 38,
      "outputs": []
    },
    {
      "cell_type": "code",
      "source": [
        "# добавление переменных в модель\n",
        "m.update()"
      ],
      "metadata": {
        "id": "B4-arF_d-Yev"
      },
      "execution_count": 39,
      "outputs": []
    },
    {
      "cell_type": "code",
      "source": [
        "# Ограничения по поставщикам\n",
        "for i in pa:\n",
        "  m.addConstr(op.quicksum(flow[i,j] for j in pb) == supply[i], 'supply_%s' % (i))"
      ],
      "metadata": {
        "id": "l6SR-9FX-axt"
      },
      "execution_count": 41,
      "outputs": []
    },
    {
      "cell_type": "code",
      "source": [
        "# Ограничения по потребителям\n",
        "for j in pb:\n",
        "  m.addConstr(op.quicksum(flow[i,j] for i in pa) == demand[j], 'demand_%s' % (j))"
      ],
      "metadata": {
        "id": "1KKs2Gty-gZR"
      },
      "execution_count": 43,
      "outputs": []
    },
    {
      "cell_type": "code",
      "source": [
        "# Минимизация целевой функции\n",
        "m.optimize()"
      ],
      "metadata": {
        "id": "OUo2laDu-jxj"
      },
      "execution_count": 44,
      "outputs": []
    },
    {
      "cell_type": "code",
      "source": [
        "# Вывод решения\n",
        "if m.status == op.GRB.status.OPTIMAL:\n",
        "  print ('\\nОптимальные перевозки :')\n",
        "  for i in pa:\n",
        "    for j in pb:\n",
        "      print (i, '->', j, ':', flow[i,j].x)\n",
        "  print ('Суммарные затраты =%g'%m.ObjVal)\n",
        "else :\n",
        "  print ('Решение не найдено. Проверьте условия задачи')"
      ],
      "metadata": {
        "colab": {
          "base_uri": "https://localhost:8080/"
        },
        "id": "lfOeZfUf-kw4",
        "outputId": "96d6a9fd-24d6-4b6c-a25f-cf8c8672ecc1"
      },
      "execution_count": 47,
      "outputs": [
        {
          "output_type": "stream",
          "name": "stdout",
          "text": [
            "\n",
            "Оптимальные перевозки :\n",
            "A1 -> B1 : 40.0\n",
            "A1 -> B2 : 40.0\n",
            "A1 -> B3 : 0.0\n",
            "A2 -> B1 : 0.0\n",
            "A2 -> B2 : 20.0\n",
            "A2 -> B3 : 30.0\n",
            "Суммарные затраты =12600\n"
          ]
        }
      ]
    },
    {
      "cell_type": "markdown",
      "source": [
        "## Решение задачи из КР1"
      ],
      "metadata": {
        "id": "t_f5MEcj_E4N"
      }
    },
    {
      "cell_type": "code",
      "source": [],
      "metadata": {
        "id": "Zdq2bIm1_Loi"
      },
      "execution_count": null,
      "outputs": []
    }
  ]
}